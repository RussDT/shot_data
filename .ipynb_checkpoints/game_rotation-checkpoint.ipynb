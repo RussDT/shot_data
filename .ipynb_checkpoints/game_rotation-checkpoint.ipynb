{
 "cells": [
  {
   "cell_type": "code",
   "execution_count": 29,
   "id": "2b9c1631-b185-44af-b065-ff6d11135026",
   "metadata": {},
   "outputs": [
    {
     "data": {
      "application/vnd.plotly.v1+json": {
       "config": {
        "plotlyServerURL": "https://plot.ly"
       },
       "data": [
        {
         "colorbar": {
          "title": {
           "text": "%Played"
          }
         },
         "colorscale": [
          [
           0,
           "rgb(5,48,97)"
          ],
          [
           0.1,
           "rgb(33,102,172)"
          ],
          [
           0.2,
           "rgb(67,147,195)"
          ],
          [
           0.3,
           "rgb(146,197,222)"
          ],
          [
           0.4,
           "rgb(209,229,240)"
          ],
          [
           0.5,
           "rgb(247,247,247)"
          ],
          [
           0.6,
           "rgb(253,219,199)"
          ],
          [
           0.7,
           "rgb(244,165,130)"
          ],
          [
           0.8,
           "rgb(214,96,77)"
          ],
          [
           0.9,
           "rgb(178,24,43)"
          ],
          [
           1,
           "rgb(103,0,31)"
          ]
         ],
         "type": "heatmap",
         "x": [
          0,
          1,
          2,
          3,
          4,
          5,
          6,
          7,
          8,
          9,
          10,
          11,
          12,
          13,
          14,
          15,
          16,
          17,
          18,
          19,
          20,
          21,
          22,
          23,
          24,
          25,
          26,
          27,
          28,
          29,
          30,
          31,
          32,
          33,
          34,
          35,
          36,
          37,
          38,
          39,
          40,
          41,
          42,
          43,
          44,
          45,
          46,
          47
         ],
         "xgap": 3,
         "y": [
          "Mike Muscala",
          "Blake Griffin",
          "Payton Pritchard",
          "Luke Kornet",
          "Robert Williams III",
          "Sam Hauser",
          "Malcolm Brogdon",
          "Al Horford",
          "Marcus Smart",
          "Grant Williams",
          "Derrick White",
          "Jaylen Brown",
          "Jayson Tatum"
         ],
         "ygap": 3,
         "z": [
          [
           4,
           4,
           4,
           4,
           4,
           4,
           4,
           4,
           3,
           5,
           7,
           8,
           12,
           11,
           12,
           11,
           9,
           6,
           4,
           2,
           2,
           3,
           3,
           4,
           5,
           5,
           5,
           5,
           6,
           6,
           6,
           8,
           6,
           7,
           10,
           10,
           13,
           10,
           10,
           9,
           7,
           5,
           8,
           6,
           7,
           7,
           9,
           9
          ],
          [
           16,
           16,
           16,
           16,
           15,
           17,
           15,
           13,
           14,
           13,
           13,
           13,
           16,
           13,
           13,
           12,
           15,
           13,
           13,
           12,
           10,
           9,
           8,
           7,
           16,
           15,
           15,
           14,
           14,
           13,
           10,
           9,
           5,
           8,
           8,
           10,
           16,
           14,
           15,
           13,
           10,
           9,
           9,
           11,
           11,
           9,
           10,
           10
          ],
          [
           3,
           3,
           3,
           3,
           3,
           4,
           4,
           5,
           8,
           13,
           19,
           21,
           30,
           28,
           25,
           22,
           16,
           10,
           6,
           5,
           5,
           4,
           4,
           5,
           9,
           5,
           5,
           6,
           6,
           6,
           6,
           9,
           14,
           21,
           24,
           24,
           31,
           28,
           28,
           25,
           16,
           14,
           13,
           16,
           16,
           17,
           23,
           31
          ],
          [
           0,
           0,
           0,
           0,
           1,
           2,
           6,
           10,
           19,
           33,
           40,
           39,
           41,
           34,
           31,
           26,
           26,
           15,
           10,
           8,
           7,
           7,
           7,
           7,
           11,
           3,
           4,
           5,
           5,
           9,
           14,
           16,
           22,
           27,
           26,
           28,
           31,
           24,
           22,
           21,
           17,
           17,
           17,
           17,
           16,
           20,
           28,
           31
          ],
          [
           20,
           20,
           20,
           20,
           19,
           18,
           8,
           9,
           12,
           19,
           19,
           19,
           26,
           21,
           22,
           22,
           19,
           13,
           14,
           16,
           17,
           19,
           23,
           22,
           25,
           19,
           19,
           19,
           17,
           11,
           9,
           7,
           14,
           21,
           23,
           23,
           27,
           22,
           22,
           18,
           17,
           16,
           15,
           15,
           14,
           14,
           12,
           8
          ],
          [
           8,
           8,
           8,
           8,
           8,
           10,
           18,
           24,
           33,
           50,
           57,
           59,
           65,
           57,
           56,
           49,
           38,
           28,
           14,
           12,
           8,
           9,
           12,
           12,
           17,
           8,
           10,
           10,
           10,
           10,
           10,
           17,
           27,
           41,
           49,
           52,
           60,
           48,
           48,
           44,
           36,
           26,
           17,
           17,
           17,
           17,
           26,
           33
          ],
          [
           0,
           0,
           0,
           0,
           2,
           9,
           27,
           42,
           55,
           63,
           66,
           66,
           67,
           64,
           64,
           57,
           43,
           29,
           27,
           28,
           26,
           28,
           30,
           36,
           42,
           3,
           3,
           4,
           8,
           14,
           26,
           46,
           60,
           64,
           66,
           66,
           65,
           62,
           60,
           56,
           51,
           38,
           32,
           29,
           29,
           23,
           24,
           23
          ],
          [
           63,
           63,
           63,
           63,
           62,
           60,
           59,
           54,
           39,
           15,
           2,
           2,
           5,
           5,
           7,
           13,
           21,
           53,
           56,
           58,
           58,
           59,
           56,
           56,
           63,
           63,
           62,
           62,
           62,
           61,
           59,
           54,
           39,
           16,
           7,
           4,
           10,
           9,
           10,
           16,
           31,
           43,
           45,
           43,
           43,
           44,
           37,
           32
          ],
          [
           61,
           61,
           61,
           61,
           60,
           59,
           54,
           55,
           45,
           21,
           9,
           8,
           20,
           12,
           11,
           16,
           32,
           48,
           48,
           51,
           54,
           54,
           56,
           56,
           60,
           59,
           59,
           59,
           58,
           57,
           53,
           47,
           36,
           27,
           18,
           15,
           23,
           10,
           12,
           20,
           29,
           38,
           46,
           47,
           47,
           44,
           37,
           32
          ],
          [
           23,
           23,
           23,
           23,
           24,
           25,
           37,
           47,
           57,
           61,
           64,
           65,
           69,
           57,
           54,
           51,
           50,
           37,
           44,
           38,
           36,
           30,
           31,
           32,
           46,
           24,
           24,
           23,
           24,
           25,
           28,
           35,
           46,
           54,
           59,
           59,
           68,
           58,
           57,
           57,
           50,
           44,
           40,
           41,
           46,
           48,
           43,
           41
          ],
          [
           70,
           70,
           70,
           70,
           69,
           65,
           62,
           53,
           43,
           31,
           29,
           27,
           51,
           43,
           45,
           48,
           53,
           51,
           55,
           53,
           50,
           46,
           42,
           41,
           71,
           66,
           65,
           65,
           64,
           63,
           54,
           40,
           34,
           31,
           32,
           35,
           65,
           54,
           54,
           54,
           50,
           45,
           36,
           36,
           34,
           35,
           31,
           28
          ],
          [
           67,
           67,
           67,
           67,
           67,
           65,
           65,
           62,
           56,
           44,
           21,
           19,
           23,
           9,
           13,
           24,
           40,
           55,
           62,
           65,
           64,
           65,
           63,
           58,
           66,
           65,
           64,
           63,
           62,
           62,
           62,
           58,
           48,
           38,
           33,
           31,
           55,
           33,
           32,
           34,
           43,
           51,
           57,
           53,
           52,
           49,
           43,
           39
          ],
          [
           74,
           74,
           74,
           74,
           74,
           71,
           49,
           31,
           25,
           37,
           58,
           57,
           66,
           49,
           50,
           50,
           43,
           46,
           52,
           59,
           68,
           72,
           73,
           73,
           74,
           73,
           73,
           73,
           73,
           73,
           71,
           63,
           54,
           50,
           48,
           45,
           65,
           27,
           28,
           31,
           40,
           55,
           63,
           61,
           60,
           57,
           51,
           44
          ]
         ]
        }
       ],
       "layout": {
        "dragmode": "zoom",
        "font": {
         "color": "white",
         "size": 20
        },
        "height": 800,
        "paper_bgcolor": "#211a1d",
        "template": {
         "data": {
          "bar": [
           {
            "error_x": {
             "color": "#2a3f5f"
            },
            "error_y": {
             "color": "#2a3f5f"
            },
            "marker": {
             "line": {
              "color": "#E5ECF6",
              "width": 0.5
             },
             "pattern": {
              "fillmode": "overlay",
              "size": 10,
              "solidity": 0.2
             }
            },
            "type": "bar"
           }
          ],
          "barpolar": [
           {
            "marker": {
             "line": {
              "color": "#E5ECF6",
              "width": 0.5
             },
             "pattern": {
              "fillmode": "overlay",
              "size": 10,
              "solidity": 0.2
             }
            },
            "type": "barpolar"
           }
          ],
          "carpet": [
           {
            "aaxis": {
             "endlinecolor": "#2a3f5f",
             "gridcolor": "white",
             "linecolor": "white",
             "minorgridcolor": "white",
             "startlinecolor": "#2a3f5f"
            },
            "baxis": {
             "endlinecolor": "#2a3f5f",
             "gridcolor": "white",
             "linecolor": "white",
             "minorgridcolor": "white",
             "startlinecolor": "#2a3f5f"
            },
            "type": "carpet"
           }
          ],
          "choropleth": [
           {
            "colorbar": {
             "outlinewidth": 0,
             "ticks": ""
            },
            "type": "choropleth"
           }
          ],
          "contour": [
           {
            "colorbar": {
             "outlinewidth": 0,
             "ticks": ""
            },
            "colorscale": [
             [
              0,
              "#0d0887"
             ],
             [
              0.1111111111111111,
              "#46039f"
             ],
             [
              0.2222222222222222,
              "#7201a8"
             ],
             [
              0.3333333333333333,
              "#9c179e"
             ],
             [
              0.4444444444444444,
              "#bd3786"
             ],
             [
              0.5555555555555556,
              "#d8576b"
             ],
             [
              0.6666666666666666,
              "#ed7953"
             ],
             [
              0.7777777777777778,
              "#fb9f3a"
             ],
             [
              0.8888888888888888,
              "#fdca26"
             ],
             [
              1,
              "#f0f921"
             ]
            ],
            "type": "contour"
           }
          ],
          "contourcarpet": [
           {
            "colorbar": {
             "outlinewidth": 0,
             "ticks": ""
            },
            "type": "contourcarpet"
           }
          ],
          "heatmap": [
           {
            "colorbar": {
             "outlinewidth": 0,
             "ticks": ""
            },
            "colorscale": [
             [
              0,
              "#0d0887"
             ],
             [
              0.1111111111111111,
              "#46039f"
             ],
             [
              0.2222222222222222,
              "#7201a8"
             ],
             [
              0.3333333333333333,
              "#9c179e"
             ],
             [
              0.4444444444444444,
              "#bd3786"
             ],
             [
              0.5555555555555556,
              "#d8576b"
             ],
             [
              0.6666666666666666,
              "#ed7953"
             ],
             [
              0.7777777777777778,
              "#fb9f3a"
             ],
             [
              0.8888888888888888,
              "#fdca26"
             ],
             [
              1,
              "#f0f921"
             ]
            ],
            "type": "heatmap"
           }
          ],
          "heatmapgl": [
           {
            "colorbar": {
             "outlinewidth": 0,
             "ticks": ""
            },
            "colorscale": [
             [
              0,
              "#0d0887"
             ],
             [
              0.1111111111111111,
              "#46039f"
             ],
             [
              0.2222222222222222,
              "#7201a8"
             ],
             [
              0.3333333333333333,
              "#9c179e"
             ],
             [
              0.4444444444444444,
              "#bd3786"
             ],
             [
              0.5555555555555556,
              "#d8576b"
             ],
             [
              0.6666666666666666,
              "#ed7953"
             ],
             [
              0.7777777777777778,
              "#fb9f3a"
             ],
             [
              0.8888888888888888,
              "#fdca26"
             ],
             [
              1,
              "#f0f921"
             ]
            ],
            "type": "heatmapgl"
           }
          ],
          "histogram": [
           {
            "marker": {
             "pattern": {
              "fillmode": "overlay",
              "size": 10,
              "solidity": 0.2
             }
            },
            "type": "histogram"
           }
          ],
          "histogram2d": [
           {
            "colorbar": {
             "outlinewidth": 0,
             "ticks": ""
            },
            "colorscale": [
             [
              0,
              "#0d0887"
             ],
             [
              0.1111111111111111,
              "#46039f"
             ],
             [
              0.2222222222222222,
              "#7201a8"
             ],
             [
              0.3333333333333333,
              "#9c179e"
             ],
             [
              0.4444444444444444,
              "#bd3786"
             ],
             [
              0.5555555555555556,
              "#d8576b"
             ],
             [
              0.6666666666666666,
              "#ed7953"
             ],
             [
              0.7777777777777778,
              "#fb9f3a"
             ],
             [
              0.8888888888888888,
              "#fdca26"
             ],
             [
              1,
              "#f0f921"
             ]
            ],
            "type": "histogram2d"
           }
          ],
          "histogram2dcontour": [
           {
            "colorbar": {
             "outlinewidth": 0,
             "ticks": ""
            },
            "colorscale": [
             [
              0,
              "#0d0887"
             ],
             [
              0.1111111111111111,
              "#46039f"
             ],
             [
              0.2222222222222222,
              "#7201a8"
             ],
             [
              0.3333333333333333,
              "#9c179e"
             ],
             [
              0.4444444444444444,
              "#bd3786"
             ],
             [
              0.5555555555555556,
              "#d8576b"
             ],
             [
              0.6666666666666666,
              "#ed7953"
             ],
             [
              0.7777777777777778,
              "#fb9f3a"
             ],
             [
              0.8888888888888888,
              "#fdca26"
             ],
             [
              1,
              "#f0f921"
             ]
            ],
            "type": "histogram2dcontour"
           }
          ],
          "mesh3d": [
           {
            "colorbar": {
             "outlinewidth": 0,
             "ticks": ""
            },
            "type": "mesh3d"
           }
          ],
          "parcoords": [
           {
            "line": {
             "colorbar": {
              "outlinewidth": 0,
              "ticks": ""
             }
            },
            "type": "parcoords"
           }
          ],
          "pie": [
           {
            "automargin": true,
            "type": "pie"
           }
          ],
          "scatter": [
           {
            "fillpattern": {
             "fillmode": "overlay",
             "size": 10,
             "solidity": 0.2
            },
            "type": "scatter"
           }
          ],
          "scatter3d": [
           {
            "line": {
             "colorbar": {
              "outlinewidth": 0,
              "ticks": ""
             }
            },
            "marker": {
             "colorbar": {
              "outlinewidth": 0,
              "ticks": ""
             }
            },
            "type": "scatter3d"
           }
          ],
          "scattercarpet": [
           {
            "marker": {
             "colorbar": {
              "outlinewidth": 0,
              "ticks": ""
             }
            },
            "type": "scattercarpet"
           }
          ],
          "scattergeo": [
           {
            "marker": {
             "colorbar": {
              "outlinewidth": 0,
              "ticks": ""
             }
            },
            "type": "scattergeo"
           }
          ],
          "scattergl": [
           {
            "marker": {
             "colorbar": {
              "outlinewidth": 0,
              "ticks": ""
             }
            },
            "type": "scattergl"
           }
          ],
          "scattermapbox": [
           {
            "marker": {
             "colorbar": {
              "outlinewidth": 0,
              "ticks": ""
             }
            },
            "type": "scattermapbox"
           }
          ],
          "scatterpolar": [
           {
            "marker": {
             "colorbar": {
              "outlinewidth": 0,
              "ticks": ""
             }
            },
            "type": "scatterpolar"
           }
          ],
          "scatterpolargl": [
           {
            "marker": {
             "colorbar": {
              "outlinewidth": 0,
              "ticks": ""
             }
            },
            "type": "scatterpolargl"
           }
          ],
          "scatterternary": [
           {
            "marker": {
             "colorbar": {
              "outlinewidth": 0,
              "ticks": ""
             }
            },
            "type": "scatterternary"
           }
          ],
          "surface": [
           {
            "colorbar": {
             "outlinewidth": 0,
             "ticks": ""
            },
            "colorscale": [
             [
              0,
              "#0d0887"
             ],
             [
              0.1111111111111111,
              "#46039f"
             ],
             [
              0.2222222222222222,
              "#7201a8"
             ],
             [
              0.3333333333333333,
              "#9c179e"
             ],
             [
              0.4444444444444444,
              "#bd3786"
             ],
             [
              0.5555555555555556,
              "#d8576b"
             ],
             [
              0.6666666666666666,
              "#ed7953"
             ],
             [
              0.7777777777777778,
              "#fb9f3a"
             ],
             [
              0.8888888888888888,
              "#fdca26"
             ],
             [
              1,
              "#f0f921"
             ]
            ],
            "type": "surface"
           }
          ],
          "table": [
           {
            "cells": {
             "fill": {
              "color": "#EBF0F8"
             },
             "line": {
              "color": "white"
             }
            },
            "header": {
             "fill": {
              "color": "#C8D4E3"
             },
             "line": {
              "color": "white"
             }
            },
            "type": "table"
           }
          ]
         },
         "layout": {
          "annotationdefaults": {
           "arrowcolor": "#2a3f5f",
           "arrowhead": 0,
           "arrowwidth": 1
          },
          "autotypenumbers": "strict",
          "coloraxis": {
           "colorbar": {
            "outlinewidth": 0,
            "ticks": ""
           }
          },
          "colorscale": {
           "diverging": [
            [
             0,
             "#8e0152"
            ],
            [
             0.1,
             "#c51b7d"
            ],
            [
             0.2,
             "#de77ae"
            ],
            [
             0.3,
             "#f1b6da"
            ],
            [
             0.4,
             "#fde0ef"
            ],
            [
             0.5,
             "#f7f7f7"
            ],
            [
             0.6,
             "#e6f5d0"
            ],
            [
             0.7,
             "#b8e186"
            ],
            [
             0.8,
             "#7fbc41"
            ],
            [
             0.9,
             "#4d9221"
            ],
            [
             1,
             "#276419"
            ]
           ],
           "sequential": [
            [
             0,
             "#0d0887"
            ],
            [
             0.1111111111111111,
             "#46039f"
            ],
            [
             0.2222222222222222,
             "#7201a8"
            ],
            [
             0.3333333333333333,
             "#9c179e"
            ],
            [
             0.4444444444444444,
             "#bd3786"
            ],
            [
             0.5555555555555556,
             "#d8576b"
            ],
            [
             0.6666666666666666,
             "#ed7953"
            ],
            [
             0.7777777777777778,
             "#fb9f3a"
            ],
            [
             0.8888888888888888,
             "#fdca26"
            ],
            [
             1,
             "#f0f921"
            ]
           ],
           "sequentialminus": [
            [
             0,
             "#0d0887"
            ],
            [
             0.1111111111111111,
             "#46039f"
            ],
            [
             0.2222222222222222,
             "#7201a8"
            ],
            [
             0.3333333333333333,
             "#9c179e"
            ],
            [
             0.4444444444444444,
             "#bd3786"
            ],
            [
             0.5555555555555556,
             "#d8576b"
            ],
            [
             0.6666666666666666,
             "#ed7953"
            ],
            [
             0.7777777777777778,
             "#fb9f3a"
            ],
            [
             0.8888888888888888,
             "#fdca26"
            ],
            [
             1,
             "#f0f921"
            ]
           ]
          },
          "colorway": [
           "#636efa",
           "#EF553B",
           "#00cc96",
           "#ab63fa",
           "#FFA15A",
           "#19d3f3",
           "#FF6692",
           "#B6E880",
           "#FF97FF",
           "#FECB52"
          ],
          "font": {
           "color": "#2a3f5f"
          },
          "geo": {
           "bgcolor": "white",
           "lakecolor": "white",
           "landcolor": "#E5ECF6",
           "showlakes": true,
           "showland": true,
           "subunitcolor": "white"
          },
          "hoverlabel": {
           "align": "left"
          },
          "hovermode": "closest",
          "mapbox": {
           "style": "light"
          },
          "paper_bgcolor": "white",
          "plot_bgcolor": "#E5ECF6",
          "polar": {
           "angularaxis": {
            "gridcolor": "white",
            "linecolor": "white",
            "ticks": ""
           },
           "bgcolor": "#E5ECF6",
           "radialaxis": {
            "gridcolor": "white",
            "linecolor": "white",
            "ticks": ""
           }
          },
          "scene": {
           "xaxis": {
            "backgroundcolor": "#E5ECF6",
            "gridcolor": "white",
            "gridwidth": 2,
            "linecolor": "white",
            "showbackground": true,
            "ticks": "",
            "zerolinecolor": "white"
           },
           "yaxis": {
            "backgroundcolor": "#E5ECF6",
            "gridcolor": "white",
            "gridwidth": 2,
            "linecolor": "white",
            "showbackground": true,
            "ticks": "",
            "zerolinecolor": "white"
           },
           "zaxis": {
            "backgroundcolor": "#E5ECF6",
            "gridcolor": "white",
            "gridwidth": 2,
            "linecolor": "white",
            "showbackground": true,
            "ticks": "",
            "zerolinecolor": "white"
           }
          },
          "shapedefaults": {
           "line": {
            "color": "#2a3f5f"
           }
          },
          "ternary": {
           "aaxis": {
            "gridcolor": "white",
            "linecolor": "white",
            "ticks": ""
           },
           "baxis": {
            "gridcolor": "white",
            "linecolor": "white",
            "ticks": ""
           },
           "bgcolor": "#E5ECF6",
           "caxis": {
            "gridcolor": "white",
            "linecolor": "white",
            "ticks": ""
           }
          },
          "title": {
           "x": 0.05
          },
          "xaxis": {
           "automargin": true,
           "gridcolor": "white",
           "linecolor": "white",
           "ticks": "",
           "title": {
            "standoff": 15
           },
           "zerolinecolor": "white",
           "zerolinewidth": 2
          },
          "yaxis": {
           "automargin": true,
           "gridcolor": "white",
           "linecolor": "white",
           "ticks": "",
           "title": {
            "standoff": 15
           },
           "zerolinecolor": "white",
           "zerolinewidth": 2
          }
         }
        },
        "title": {
         "text": "Boston Celtics 2023",
         "x": 0.5
        },
        "width": 1200,
        "xaxis": {
         "autorange": true,
         "range": [
          -0.5,
          47.5
         ],
         "title": {
          "text": "Minute"
         },
         "type": "linear"
        },
        "yaxis": {
         "autorange": true,
         "range": [
          -0.5,
          12.5
         ],
         "tickfont": {
          "color": "white",
          "size": 16
         },
         "title": {
          "text": "Player"
         },
         "type": "category"
        }
       }
      },
      "image/png": "[encoded data removed]",
      "text/html": [
       "<div>                            <div id=\"6c1b5585-6fd5-48e8-9f0f-d0ef49328b61\" class=\"plotly-graph-div\" style=\"height:800px; width:1200px;\"></div>            <script type=\"text/javascript\">                require([\"plotly\"], function(Plotly) {                    window.PLOTLYENV=window.PLOTLYENV || {};                                    if (document.getElementById(\"6c1b5585-6fd5-48e8-9f0f-d0ef49328b61\")) {                    Plotly.newPlot(                        \"6c1b5585-6fd5-48e8-9f0f-d0ef49328b61\",                        [{\"colorbar\":{\"title\":{\"text\":\"%Played\"}},\"colorscale\":[[0.0,\"rgb(5,48,97)\"],[0.1,\"rgb(33,102,172)\"],[0.2,\"rgb(67,147,195)\"],[0.3,\"rgb(146,197,222)\"],[0.4,\"rgb(209,229,240)\"],[0.5,\"rgb(247,247,247)\"],[0.6,\"rgb(253,219,199)\"],[0.7,\"rgb(244,165,130)\"],[0.8,\"rgb(214,96,77)\"],[0.9,\"rgb(178,24,43)\"],[1.0,\"rgb(103,0,31)\"]],\"x\":[0,1,2,3,4,5,6,7,8,9,10,11,12,13,14,15,16,17,18,19,20,21,22,23,24,25,26,27,28,29,30,31,32,33,34,35,36,37,38,39,40,41,42,43,44,45,46,47],\"xgap\":3,\"y\":[\"Mike Muscala\",\"Blake Griffin\",\"Payton Pritchard\",\"Luke Kornet\",\"Robert Williams III\",\"Sam Hauser\",\"Malcolm Brogdon\",\"Al Horford\",\"Marcus Smart\",\"Grant Williams\",\"Derrick White\",\"Jaylen Brown\",\"Jayson Tatum\"],\"ygap\":3,\"z\":[[4,4,4,4,4,4,4,4,3,5,7,8,12,11,12,11,9,6,4,2,2,3,3,4,5,5,5,5,6,6,6,8,6,7,10,10,13,10,10,9,7,5,8,6,7,7,9,9],[16,16,16,16,15,17,15,13,14,13,13,13,16,13,13,12,15,13,13,12,10,9,8,7,16,15,15,14,14,13,10,9,5,8,8,10,16,14,15,13,10,9,9,11,11,9,10,10],[3,3,3,3,3,4,4,5,8,13,19,21,30,28,25,22,16,10,6,5,5,4,4,5,9,5,5,6,6,6,6,9,14,21,24,24,31,28,28,25,16,14,13,16,16,17,23,31],[0,0,0,0,1,2,6,10,19,33,40,39,41,34,31,26,26,15,10,8,7,7,7,7,11,3,4,5,5,9,14,16,22,27,26,28,31,24,22,21,17,17,17,17,16,20,28,31],[20,20,20,20,19,18,8,9,12,19,19,19,26,21,22,22,19,13,14,16,17,19,23,22,25,19,19,19,17,11,9,7,14,21,23,23,27,22,22,18,17,16,15,15,14,14,12,8],[8,8,8,8,8,10,18,24,33,50,57,59,65,57,56,49,38,28,14,12,8,9,12,12,17,8,10,10,10,10,10,17,27,41,49,52,60,48,48,44,36,26,17,17,17,17,26,33],[0,0,0,0,2,9,27,42,55,63,66,66,67,64,64,57,43,29,27,28,26,28,30,36,42,3,3,4,8,14,26,46,60,64,66,66,65,62,60,56,51,38,32,29,29,23,24,23],[63,63,63,63,62,60,59,54,39,15,2,2,5,5,7,13,21,53,56,58,58,59,56,56,63,63,62,62,62,61,59,54,39,16,7,4,10,9,10,16,31,43,45,43,43,44,37,32],[61,61,61,61,60,59,54,55,45,21,9,8,20,12,11,16,32,48,48,51,54,54,56,56,60,59,59,59,58,57,53,47,36,27,18,15,23,10,12,20,29,38,46,47,47,44,37,32],[23,23,23,23,24,25,37,47,57,61,64,65,69,57,54,51,50,37,44,38,36,30,31,32,46,24,24,23,24,25,28,35,46,54,59,59,68,58,57,57,50,44,40,41,46,48,43,41],[70,70,70,70,69,65,62,53,43,31,29,27,51,43,45,48,53,51,55,53,50,46,42,41,71,66,65,65,64,63,54,40,34,31,32,35,65,54,54,54,50,45,36,36,34,35,31,28],[67,67,67,67,67,65,65,62,56,44,21,19,23,9,13,24,40,55,62,65,64,65,63,58,66,65,64,63,62,62,62,58,48,38,33,31,55,33,32,34,43,51,57,53,52,49,43,39],[74,74,74,74,74,71,49,31,25,37,58,57,66,49,50,50,43,46,52,59,68,72,73,73,74,73,73,73,73,73,71,63,54,50,48,45,65,27,28,31,40,55,63,61,60,57,51,44]],\"type\":\"heatmap\"}],                        {\"template\":{\"data\":{\"histogram2dcontour\":[{\"type\":\"histogram2dcontour\",\"colorbar\":{\"outlinewidth\":0,\"ticks\":\"\"},\"colorscale\":[[0.0,\"#0d0887\"],[0.1111111111111111,\"#46039f\"],[0.2222222222222222,\"#7201a8\"],[0.3333333333333333,\"#9c179e\"],[0.4444444444444444,\"#bd3786\"],[0.5555555555555556,\"#d8576b\"],[0.6666666666666666,\"#ed7953\"],[0.7777777777777778,\"#fb9f3a\"],[0.8888888888888888,\"#fdca26\"],[1.0,\"#f0f921\"]]}],\"choropleth\":[{\"type\":\"choropleth\",\"colorbar\":{\"outlinewidth\":0,\"ticks\":\"\"}}],\"histogram2d\":[{\"type\":\"histogram2d\",\"colorbar\":{\"outlinewidth\":0,\"ticks\":\"\"},\"colorscale\":[[0.0,\"#0d0887\"],[0.1111111111111111,\"#46039f\"],[0.2222222222222222,\"#7201a8\"],[0.3333333333333333,\"#9c179e\"],[0.4444444444444444,\"#bd3786\"],[0.5555555555555556,\"#d8576b\"],[0.6666666666666666,\"#ed7953\"],[0.7777777777777778,\"#fb9f3a\"],[0.8888888888888888,\"#fdca26\"],[1.0,\"#f0f921\"]]}],\"heatmap\":[{\"type\":\"heatmap\",\"colorbar\":{\"outlinewidth\":0,\"ticks\":\"\"},\"colorscale\":[[0.0,\"#0d0887\"],[0.1111111111111111,\"#46039f\"],[0.2222222222222222,\"#7201a8\"],[0.3333333333333333,\"#9c179e\"],[0.4444444444444444,\"#bd3786\"],[0.5555555555555556,\"#d8576b\"],[0.6666666666666666,\"#ed7953\"],[0.7777777777777778,\"#fb9f3a\"],[0.8888888888888888,\"#fdca26\"],[1.0,\"#f0f921\"]]}],\"heatmapgl\":[{\"type\":\"heatmapgl\",\"colorbar\":{\"outlinewidth\":0,\"ticks\":\"\"},\"colorscale\":[[0.0,\"#0d0887\"],[0.1111111111111111,\"#46039f\"],[0.2222222222222222,\"#7201a8\"],[0.3333333333333333,\"#9c179e\"],[0.4444444444444444,\"#bd3786\"],[0.5555555555555556,\"#d8576b\"],[0.6666666666666666,\"#ed7953\"],[0.7777777777777778,\"#fb9f3a\"],[0.8888888888888888,\"#fdca26\"],[1.0,\"#f0f921\"]]}],\"contourcarpet\":[{\"type\":\"contourcarpet\",\"colorbar\":{\"outlinewidth\":0,\"ticks\":\"\"}}],\"contour\":[{\"type\":\"contour\",\"colorbar\":{\"outlinewidth\":0,\"ticks\":\"\"},\"colorscale\":[[0.0,\"#0d0887\"],[0.1111111111111111,\"#46039f\"],[0.2222222222222222,\"#7201a8\"],[0.3333333333333333,\"#9c179e\"],[0.4444444444444444,\"#bd3786\"],[0.5555555555555556,\"#d8576b\"],[0.6666666666666666,\"#ed7953\"],[0.7777777777777778,\"#fb9f3a\"],[0.8888888888888888,\"#fdca26\"],[1.0,\"#f0f921\"]]}],\"surface\":[{\"type\":\"surface\",\"colorbar\":{\"outlinewidth\":0,\"ticks\":\"\"},\"colorscale\":[[0.0,\"#0d0887\"],[0.1111111111111111,\"#46039f\"],[0.2222222222222222,\"#7201a8\"],[0.3333333333333333,\"#9c179e\"],[0.4444444444444444,\"#bd3786\"],[0.5555555555555556,\"#d8576b\"],[0.6666666666666666,\"#ed7953\"],[0.7777777777777778,\"#fb9f3a\"],[0.8888888888888888,\"#fdca26\"],[1.0,\"#f0f921\"]]}],\"mesh3d\":[{\"type\":\"mesh3d\",\"colorbar\":{\"outlinewidth\":0,\"ticks\":\"\"}}],\"scatter\":[{\"fillpattern\":{\"fillmode\":\"overlay\",\"size\":10,\"solidity\":0.2},\"type\":\"scatter\"}],\"parcoords\":[{\"type\":\"parcoords\",\"line\":{\"colorbar\":{\"outlinewidth\":0,\"ticks\":\"\"}}}],\"scatterpolargl\":[{\"type\":\"scatterpolargl\",\"marker\":{\"colorbar\":{\"outlinewidth\":0,\"ticks\":\"\"}}}],\"bar\":[{\"error_x\":{\"color\":\"#2a3f5f\"},\"error_y\":{\"color\":\"#2a3f5f\"},\"marker\":{\"line\":{\"color\":\"#E5ECF6\",\"width\":0.5},\"pattern\":{\"fillmode\":\"overlay\",\"size\":10,\"solidity\":0.2}},\"type\":\"bar\"}],\"scattergeo\":[{\"type\":\"scattergeo\",\"marker\":{\"colorbar\":{\"outlinewidth\":0,\"ticks\":\"\"}}}],\"scatterpolar\":[{\"type\":\"scatterpolar\",\"marker\":{\"colorbar\":{\"outlinewidth\":0,\"ticks\":\"\"}}}],\"histogram\":[{\"marker\":{\"pattern\":{\"fillmode\":\"overlay\",\"size\":10,\"solidity\":0.2}},\"type\":\"histogram\"}],\"scattergl\":[{\"type\":\"scattergl\",\"marker\":{\"colorbar\":{\"outlinewidth\":0,\"ticks\":\"\"}}}],\"scatter3d\":[{\"type\":\"scatter3d\",\"line\":{\"colorbar\":{\"outlinewidth\":0,\"ticks\":\"\"}},\"marker\":{\"colorbar\":{\"outlinewidth\":0,\"ticks\":\"\"}}}],\"scattermapbox\":[{\"type\":\"scattermapbox\",\"marker\":{\"colorbar\":{\"outlinewidth\":0,\"ticks\":\"\"}}}],\"scatterternary\":[{\"type\":\"scatterternary\",\"marker\":{\"colorbar\":{\"outlinewidth\":0,\"ticks\":\"\"}}}],\"scattercarpet\":[{\"type\":\"scattercarpet\",\"marker\":{\"colorbar\":{\"outlinewidth\":0,\"ticks\":\"\"}}}],\"carpet\":[{\"aaxis\":{\"endlinecolor\":\"#2a3f5f\",\"gridcolor\":\"white\",\"linecolor\":\"white\",\"minorgridcolor\":\"white\",\"startlinecolor\":\"#2a3f5f\"},\"baxis\":{\"endlinecolor\":\"#2a3f5f\",\"gridcolor\":\"white\",\"linecolor\":\"white\",\"minorgridcolor\":\"white\",\"startlinecolor\":\"#2a3f5f\"},\"type\":\"carpet\"}],\"table\":[{\"cells\":{\"fill\":{\"color\":\"#EBF0F8\"},\"line\":{\"color\":\"white\"}},\"header\":{\"fill\":{\"color\":\"#C8D4E3\"},\"line\":{\"color\":\"white\"}},\"type\":\"table\"}],\"barpolar\":[{\"marker\":{\"line\":{\"color\":\"#E5ECF6\",\"width\":0.5},\"pattern\":{\"fillmode\":\"overlay\",\"size\":10,\"solidity\":0.2}},\"type\":\"barpolar\"}],\"pie\":[{\"automargin\":true,\"type\":\"pie\"}]},\"layout\":{\"autotypenumbers\":\"strict\",\"colorway\":[\"#636efa\",\"#EF553B\",\"#00cc96\",\"#ab63fa\",\"#FFA15A\",\"#19d3f3\",\"#FF6692\",\"#B6E880\",\"#FF97FF\",\"#FECB52\"],\"font\":{\"color\":\"#2a3f5f\"},\"hovermode\":\"closest\",\"hoverlabel\":{\"align\":\"left\"},\"paper_bgcolor\":\"white\",\"plot_bgcolor\":\"#E5ECF6\",\"polar\":{\"bgcolor\":\"#E5ECF6\",\"angularaxis\":{\"gridcolor\":\"white\",\"linecolor\":\"white\",\"ticks\":\"\"},\"radialaxis\":{\"gridcolor\":\"white\",\"linecolor\":\"white\",\"ticks\":\"\"}},\"ternary\":{\"bgcolor\":\"#E5ECF6\",\"aaxis\":{\"gridcolor\":\"white\",\"linecolor\":\"white\",\"ticks\":\"\"},\"baxis\":{\"gridcolor\":\"white\",\"linecolor\":\"white\",\"ticks\":\"\"},\"caxis\":{\"gridcolor\":\"white\",\"linecolor\":\"white\",\"ticks\":\"\"}},\"coloraxis\":{\"colorbar\":{\"outlinewidth\":0,\"ticks\":\"\"}},\"colorscale\":{\"sequential\":[[0.0,\"#0d0887\"],[0.1111111111111111,\"#46039f\"],[0.2222222222222222,\"#7201a8\"],[0.3333333333333333,\"#9c179e\"],[0.4444444444444444,\"#bd3786\"],[0.5555555555555556,\"#d8576b\"],[0.6666666666666666,\"#ed7953\"],[0.7777777777777778,\"#fb9f3a\"],[0.8888888888888888,\"#fdca26\"],[1.0,\"#f0f921\"]],\"sequentialminus\":[[0.0,\"#0d0887\"],[0.1111111111111111,\"#46039f\"],[0.2222222222222222,\"#7201a8\"],[0.3333333333333333,\"#9c179e\"],[0.4444444444444444,\"#bd3786\"],[0.5555555555555556,\"#d8576b\"],[0.6666666666666666,\"#ed7953\"],[0.7777777777777778,\"#fb9f3a\"],[0.8888888888888888,\"#fdca26\"],[1.0,\"#f0f921\"]],\"diverging\":[[0,\"#8e0152\"],[0.1,\"#c51b7d\"],[0.2,\"#de77ae\"],[0.3,\"#f1b6da\"],[0.4,\"#fde0ef\"],[0.5,\"#f7f7f7\"],[0.6,\"#e6f5d0\"],[0.7,\"#b8e186\"],[0.8,\"#7fbc41\"],[0.9,\"#4d9221\"],[1,\"#276419\"]]},\"xaxis\":{\"gridcolor\":\"white\",\"linecolor\":\"white\",\"ticks\":\"\",\"title\":{\"standoff\":15},\"zerolinecolor\":\"white\",\"automargin\":true,\"zerolinewidth\":2},\"yaxis\":{\"gridcolor\":\"white\",\"linecolor\":\"white\",\"ticks\":\"\",\"title\":{\"standoff\":15},\"zerolinecolor\":\"white\",\"automargin\":true,\"zerolinewidth\":2},\"scene\":{\"xaxis\":{\"backgroundcolor\":\"#E5ECF6\",\"gridcolor\":\"white\",\"linecolor\":\"white\",\"showbackground\":true,\"ticks\":\"\",\"zerolinecolor\":\"white\",\"gridwidth\":2},\"yaxis\":{\"backgroundcolor\":\"#E5ECF6\",\"gridcolor\":\"white\",\"linecolor\":\"white\",\"showbackground\":true,\"ticks\":\"\",\"zerolinecolor\":\"white\",\"gridwidth\":2},\"zaxis\":{\"backgroundcolor\":\"#E5ECF6\",\"gridcolor\":\"white\",\"linecolor\":\"white\",\"showbackground\":true,\"ticks\":\"\",\"zerolinecolor\":\"white\",\"gridwidth\":2}},\"shapedefaults\":{\"line\":{\"color\":\"#2a3f5f\"}},\"annotationdefaults\":{\"arrowcolor\":\"#2a3f5f\",\"arrowhead\":0,\"arrowwidth\":1},\"geo\":{\"bgcolor\":\"white\",\"landcolor\":\"#E5ECF6\",\"subunitcolor\":\"white\",\"showland\":true,\"showlakes\":true,\"lakecolor\":\"white\"},\"title\":{\"x\":0.05},\"mapbox\":{\"style\":\"light\"}}},\"yaxis\":{\"tickfont\":{\"color\":\"white\",\"size\":16},\"title\":{\"text\":\"Player\"}},\"title\":{\"text\":\"Boston Celtics 2023\",\"x\":0.5},\"font\":{\"color\":\"white\",\"size\":20},\"paper_bgcolor\":\"#211a1d\",\"width\":1200,\"height\":800,\"xaxis\":{\"title\":{\"text\":\"Minute\"}}},                        {\"responsive\": true}                    ).then(function(){\n",
       "                            \n",
       "var gd = document.getElementById('6c1b5585-6fd5-48e8-9f0f-d0ef49328b61');\n",
       "var x = new MutationObserver(function (mutations, observer) {{\n",
       "        var display = window.getComputedStyle(gd).display;\n",
       "        if (!display || display === 'none') {{\n",
       "            console.log([gd, 'removed!']);\n",
       "            Plotly.purge(gd);\n",
       "            observer.disconnect();\n",
       "        }}\n",
       "}});\n",
       "\n",
       "// Listen for the removal of the full notebook cells\n",
       "var notebookContainer = gd.closest('#notebook-container');\n",
       "if (notebookContainer) {{\n",
       "    x.observe(notebookContainer, {childList: true});\n",
       "}}\n",
       "\n",
       "// Listen for the clearing of the current output cell\n",
       "var outputEl = gd.closest('.output');\n",
       "if (outputEl) {{\n",
       "    x.observe(outputEl, {childList: true});\n",
       "}}\n",
       "\n",
       "                        })                };                });            </script>        </div>"
      ]
     },
     "metadata": {},
     "output_type": "display_data"
    }
   ],
   "source": [
    "import matplotlib.pyplot as plt\n",
    "import pandas as pd\n",
    "from nba_api.stats.static import players,teams\n",
    "import plotly.graph_objects as go\n",
    "def calculate_plus_minus(row):\n",
    "    player = row['Player']\n",
    "    start_minute = row['start']\n",
    "    end_minute = row['end']\n",
    "    plus_minus = row['PT_DIFF']\n",
    "\n",
    "# Define the data\n",
    "def graph_rotation(team,year):\n",
    "    team = team.upper()\n",
    "\n",
    "    nba_teams = teams.get_teams()\n",
    "    team_list= {}\n",
    "    full_name = {}\n",
    "    for org in nba_teams:\n",
    "        team_list[org['abbreviation']] = org['id']\n",
    "        full_name[org['abbreviation']] = org['full_name']\n",
    "    \n",
    "    \n",
    "\n",
    "\n",
    "    team_id = team_list[team]\n",
    "    url='https://raw.githubusercontent.com/gabriel1200/shot_data/master/rotations/'+str(year)+'/'+str(team_id)+'.csv'\n",
    "    title = full_name[team]+ ' '+str(year)\n",
    "    df = pd.read_csv(url)\n",
    "    # Convert the times to seconds\n",
    "    df['start'] = df['IN_TIME_REAL']\n",
    "    df['end'] = df['OUT_TIME_REAL']\n",
    "    df['Player'] = df['PLAYER_FIRST']+' '+df['PLAYER_LAST'].str.split('-').str[0]\n",
    "    df['start'] /=600\n",
    "    df['end']/=600\n",
    "    '''\n",
    "    df['entry_minute'] = df['start']\n",
    "    df['exit_minute'] = df['end']\n",
    "\n",
    "    # Create a list of all minutes in the game\n",
    "    all_minutes = list(range(0, 48))  # NBA games have 48 minutes\n",
    "\n",
    "    # Step 3: Assign Point Differentials to Intervals\n",
    "    minute_differentials = []\n",
    "\n",
    "    for minute in all_minutes:\n",
    "        # Filter data for each minute\n",
    "        minute_data = df[(df['entry_minute'] <= minute) & (df['exit_minute'] > minute)]\n",
    "\n",
    "        # Calculate average point differential for the minute\n",
    "        if not minute_data.empty:\n",
    "            average_differential = minute_data['PT_DIFF'].mean()\n",
    "        else:\n",
    "            average_differential = 0  # or any other default value\n",
    "\n",
    "        minute_differentials.append({'minute': minute, 'average_differential': average_differential})\n",
    "\n",
    "    # Step 4: Calculate Overall Average for Each Minute\n",
    "    result_df = pd.DataFrame(minute_differentials)\n",
    "    print(result_df)\n",
    "    '''\n",
    "    df =df.drop_duplicates()\n",
    "\n",
    "    players = df['Player'].unique()\n",
    "\n",
    "    # Identify the maximum end time to determine the total duration\n",
    "    max_end_minute = round(df['end'].max())\n",
    "\n",
    "    # Create an empty matrix to represent player minutes played\n",
    "    minutes_played_matrix=  pd.DataFrame(index=players, columns=[i for i in range(max_end_minute + 1)], data=0)\n",
    "\n",
    "    plus_minus_matrix=  pd.DataFrame(index=players, columns=[i for i in range(max_end_minute + 1)], data=0)\n",
    "\n",
    "    # Increment the matrix based on player on-court times\n",
    "    for _, row in df.iterrows():\n",
    "        player = row['Player']\n",
    "        start_minute = row['start']\n",
    "        end_minute = row['end']\n",
    "        plus_minus = row['PT_DIFF']\n",
    "\n",
    "        minutes_played_matrix.loc[player, start_minute:end_minute] += 1\n",
    "        plus_minus_matrix.loc[player, start_minute:end_minute] += plus_minus\n",
    "    #minutes_played_matrix = minutes_played_matrix[[i for i in range(0,49)]]\n",
    "    #plus_minus_matrix = plus_minus_matrix[[i for i in range(0,49)]]\n",
    "    test_matrix=plus_minus_matrix / minutes_played_matrix\n",
    "    \n",
    "\n",
    "    \n",
    "    \n",
    "    #print(test_matrix.sum())\n",
    "    team_plus = plus_minus_matrix.sum(axis=0) / minutes_played_matrix.sum(axis=0)\n",
    "    #print(team_plus.sum().sum())\n",
    "    #print(test_matrix.sum().sum())\n",
    "    #print(team_plus)\n",
    "    #print(team_plus)\n",
    "    minutes_played_matrix['total']= minutes_played_matrix.iloc[:].sum(axis=1)\n",
    "    minutes_played_matrix.sort_values(by='total',inplace=True,ascending=True)\n",
    "    minutes_played_matrix=minutes_played_matrix[minutes_played_matrix['total']>300]\n",
    "    #print(minutes_played_matrix['total'])\n",
    "    #minutes_played_matrix.drop(columns='total',inplace=True)\n",
    "    \n",
    "    #print(plus_minus_matrix.iloc[0].sum())\n",
    "\n",
    "    # Create the heatmap\n",
    "    #minutes_played_matrix.sort_index(axis=22,inplace=True)\n",
    "    minutes_played_matrix = minutes_played_matrix[[i for i in range(0,48)]]\n",
    "    fig = go.Figure(data=go.Heatmap(z=minutes_played_matrix.values,\n",
    "                                    x=minutes_played_matrix.columns,\n",
    "                                    y=minutes_played_matrix.index,\n",
    "                                    xgap=3,\n",
    "                                    ygap=3,\n",
    "                                    type='heatmap',\n",
    "                                    colorscale='RdBu_r',\n",
    "                                     colorbar=dict(\n",
    "                title=\"%Played\")\n",
    "\n",
    "\n",
    "            ))\n",
    "    fig.update_yaxes(tickfont=dict(color='white',size = 16))\n",
    "\n",
    "    # Customize the layout\n",
    "    fig.update_layout(title=title,\n",
    "                      title_x=.5,\n",
    "                          #plot_bgcolor='#211a1d',\n",
    "                          paper_bgcolor='#211a1d',\n",
    "\n",
    "                      width=1200,\n",
    "                      height=800,\n",
    "                      font=dict(color='white',size = 20),\n",
    "                      xaxis_title='Minute',\n",
    "                      yaxis_title='Player')\n",
    "\n",
    "    # Show the plot\n",
    "    return fig\n",
    "fig = graph_rotation('bos',2023)\n",
    "fig.show()\n",
    "\n"
   ]
  },
  {
   "cell_type": "code",
   "execution_count": null,
   "id": "4c988772-49f8-42f9-a8ca-de24f1c6b559",
   "metadata": {},
   "outputs": [],
   "source": [
    "import plotly.graph_objs as go\n",
    "\n",
    "def broken_bars(xstart, xwidth, ystart, yh, colors):\n",
    "    #xstart - list of x-start coord for each bar\n",
    "    #xwidth = list of bar widths\n",
    "    #ystart - number y-start coord for each bar\n",
    "    #yh - number- height of eah bar\n",
    "    #colors = list of bar colors\n",
    "    \n",
    "    if len(xstart) != len(xwidth) or  len(xstart) != len(colors):\n",
    "        raise ValueError('xstart, xwidth and colors must have the same length')\n",
    "    shapes = []    \n",
    "    for k in range(len(xstart)):\n",
    "        shapes.append(dict(type=\"rect\",\n",
    "                           x0=xstart[k],\n",
    "                           y0=ystart,\n",
    "                           x1=xstart[k] + xwidth[k],\n",
    "                           y1=ystart+yh,\n",
    "                           fillcolor=colors[k],\n",
    "                           line_color=colors[k]))\n",
    "    return shapes    \n",
    "# taken from https://community.plotly.com/t/broken-barh-plot/36496/2\n",
    "fig = go.Figure()\n",
    "fig.update_layout(width=1000, height=625,\n",
    "                  xaxis_range = [xmin,xmax],\n",
    "                  yaxis_range = [0,len(players)],\n",
    "                  shapes=broken_bars([10, 100, 130 ], [50, 20, 10], 20, 9, \n",
    "                                     colors=['orange', 'green', 'red' ]))"
   ]
  },
  {
   "cell_type": "code",
   "execution_count": null,
   "id": "667e6080-1eee-4e2c-89b7-e034a3d9e618",
   "metadata": {},
   "outputs": [],
   "source": []
  },
  {
   "cell_type": "code",
   "execution_count": null,
   "id": "234a61f4-7a59-4ddc-8684-dfc8de57bec0",
   "metadata": {},
   "outputs": [],
   "source": [
    "raw_game = f'https://cdn.nba.com/static/json/liveData/playbyplay/playbyplay_{game_id}.json'\n",
    "page = requests.get(raw_game)\n",
    "j = json.loads(page.content)\n",
    "df = pd.DataFrame(j['game']['actions'])"
   ]
  },
  {
   "cell_type": "code",
   "execution_count": null,
   "id": "b0a5692a-e4c8-4de2-ac62-3967e3d02a9d",
   "metadata": {},
   "outputs": [],
   "source": [
    "x_max = df['end'].max()"
   ]
  },
  {
   "cell_type": "code",
   "execution_count": null,
   "id": "85fbbc86-fb55-4268-95c5-ca61149f4ea0",
   "metadata": {},
   "outputs": [],
   "source": [
    "x_max"
   ]
  },
  {
   "cell_type": "code",
   "execution_count": null,
   "id": "abb44efe-9854-49c4-9001-51481e7c3dd5",
   "metadata": {},
   "outputs": [],
   "source": [
    "import plotly.figure_factory as ff\n",
    "df['Task'] = df['fullname']\n",
    "df['Start'] = df['start']\n",
    "df['Finish'] = df['end']\n",
    "fig = ff.create_gantt(df)\n",
    "fig.show()"
   ]
  },
  {
   "cell_type": "code",
   "execution_count": null,
   "id": "2d19dd73-ec52-4914-a439-91733d2961b3",
   "metadata": {},
   "outputs": [],
   "source": [
    "df.columns"
   ]
  },
  {
   "cell_type": "code",
   "execution_count": null,
   "id": "763f9668-373c-4fe3-b8ef-838b26fb5298",
   "metadata": {},
   "outputs": [],
   "source": []
  }
 ],
 "metadata": {
  "kernelspec": {
   "display_name": "Python 3 (ipykernel)",
   "language": "python",
   "name": "python3"
  },
  "language_info": {
   "codemirror_mode": {
    "name": "ipython",
    "version": 3
   },
   "file_extension": ".py",
   "mimetype": "text/x-python",
   "name": "python",
   "nbconvert_exporter": "python",
   "pygments_lexer": "ipython3",
   "version": "3.10.11"
  }
 },
 "nbformat": 4,
 "nbformat_minor": 5
}
