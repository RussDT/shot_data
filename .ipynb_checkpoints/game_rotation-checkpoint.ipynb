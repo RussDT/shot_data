{
 "cells": [
  {
   "cell_type": "code",
   "execution_count": 4,
   "id": "2b9c1631-b185-44af-b065-ff6d11135026",
   "metadata": {
    "tags": []
   },
   "outputs": [
    {
     "name": "stdout",
     "output_type": "stream",
     "text": [
      "https://raw.githubusercontent.com/gabriel1200/shot_data/master/rotations/2019/1610612744.csv\n",
      "0\n",
      "{2733: 64, 2738: 68, 101106: 11, 201142: 78, 201939: 69, 201973: 73, 202326: 30, 202691: 78, 203110: 66, 1626172: 80, 1626188: 74, 1627745: 24, 1627814: 32, 1628035: 72, 1628395: 68, 1628980: 30, 1629094: 11}\n"
     ]
    },
    {
     "name": "stderr",
     "output_type": "stream",
     "text": [
      "C:\\Users\\gaber\\AppData\\Local\\Temp\\ipykernel_17688\\446627580.py:143: FutureWarning:\n",
      "\n",
      "Setting an item of incompatible dtype is deprecated and will raise an error in a future version of pandas. Value '0.5415162454873645' has dtype incompatible with int64, please explicitly cast to a compatible dtype first.\n",
      "\n",
      "C:\\Users\\gaber\\AppData\\Local\\Temp\\ipykernel_17688\\446627580.py:143: FutureWarning:\n",
      "\n",
      "Setting an item of incompatible dtype is deprecated and will raise an error in a future version of pandas. Value '-0.43636363636363645' has dtype incompatible with int64, please explicitly cast to a compatible dtype first.\n",
      "\n",
      "C:\\Users\\gaber\\AppData\\Local\\Temp\\ipykernel_17688\\446627580.py:143: FutureWarning:\n",
      "\n",
      "Setting an item of incompatible dtype is deprecated and will raise an error in a future version of pandas. Value '1.2987012987012987' has dtype incompatible with int64, please explicitly cast to a compatible dtype first.\n",
      "\n",
      "C:\\Users\\gaber\\AppData\\Local\\Temp\\ipykernel_17688\\446627580.py:143: FutureWarning:\n",
      "\n",
      "Setting an item of incompatible dtype is deprecated and will raise an error in a future version of pandas. Value '0.5734767025089607' has dtype incompatible with int64, please explicitly cast to a compatible dtype first.\n",
      "\n",
      "C:\\Users\\gaber\\AppData\\Local\\Temp\\ipykernel_17688\\446627580.py:143: FutureWarning:\n",
      "\n",
      "Setting an item of incompatible dtype is deprecated and will raise an error in a future version of pandas. Value '2.245989304812834' has dtype incompatible with int64, please explicitly cast to a compatible dtype first.\n",
      "\n",
      "C:\\Users\\gaber\\AppData\\Local\\Temp\\ipykernel_17688\\446627580.py:143: FutureWarning:\n",
      "\n",
      "Setting an item of incompatible dtype is deprecated and will raise an error in a future version of pandas. Value '-1.5328467153284673' has dtype incompatible with int64, please explicitly cast to a compatible dtype first.\n",
      "\n",
      "C:\\Users\\gaber\\AppData\\Local\\Temp\\ipykernel_17688\\446627580.py:143: FutureWarning:\n",
      "\n",
      "Setting an item of incompatible dtype is deprecated and will raise an error in a future version of pandas. Value '-1.6406250000000004' has dtype incompatible with int64, please explicitly cast to a compatible dtype first.\n",
      "\n",
      "C:\\Users\\gaber\\AppData\\Local\\Temp\\ipykernel_17688\\446627580.py:143: FutureWarning:\n",
      "\n",
      "Setting an item of incompatible dtype is deprecated and will raise an error in a future version of pandas. Value '0.5696202531645571' has dtype incompatible with int64, please explicitly cast to a compatible dtype first.\n",
      "\n"
     ]
    },
    {
     "name": "stdout",
     "output_type": "stream",
     "text": [
      "1     17.235590\n",
      "2     17.235590\n",
      "3     17.235590\n",
      "4     17.235590\n",
      "5     17.235590\n",
      "6     17.235590\n",
      "7     18.296196\n",
      "8     15.133138\n",
      "9     14.008944\n",
      "10    10.481572\n",
      "11    11.179012\n",
      "12    11.547569\n",
      "13     2.047569\n",
      "14     2.047569\n",
      "15     2.436033\n",
      "16     7.612545\n",
      "17     8.586961\n",
      "18    15.712480\n",
      "19    17.310567\n",
      "20    18.166932\n",
      "21    18.166932\n",
      "22    19.116572\n",
      "23    19.116572\n",
      "24    19.116572\n",
      "25    19.889768\n",
      "26    19.889768\n",
      "27    19.889768\n",
      "28    18.882775\n",
      "29    19.364703\n",
      "30    19.364703\n",
      "31    18.928339\n",
      "32    17.249327\n",
      "33    17.273662\n",
      "34    11.638999\n",
      "35     7.508282\n",
      "36     9.896947\n",
      "37     3.886204\n",
      "38     3.886204\n",
      "39     4.880982\n",
      "40    11.577997\n",
      "41    15.469991\n",
      "42    14.571177\n",
      "43    18.417146\n",
      "44    18.581871\n",
      "45    10.888906\n",
      "46     8.651954\n",
      "47     7.007790\n",
      "48     5.553894\n",
      "49     2.297745\n",
      "50     0.869173\n",
      "51     0.869173\n",
      "52     0.869173\n",
      "53     0.869173\n",
      "Name: Kevin Durant, dtype: float64\n",
      "662.4228689692202\n"
     ]
    },
    {
     "data": {
      "application/vnd.plotly.v1+json": {
       "config": {
        "plotlyServerURL": "https://plot.ly"
       },
       "data": [
        {
         "colorbar": {
          "title": {
           "text": "Games<br>"
          }
         },
         "colorscale": [
          [
           0,
           "rgb(247,244,249)"
          ],
          [
           0.125,
           "rgb(231,225,239)"
          ],
          [
           0.25,
           "rgb(212,185,218)"
          ],
          [
           0.375,
           "rgb(201,148,199)"
          ],
          [
           0.5,
           "rgb(223,101,176)"
          ],
          [
           0.625,
           "rgb(231,41,138)"
          ],
          [
           0.75,
           "rgb(206,18,86)"
          ],
          [
           0.875,
           "rgb(152,0,67)"
          ],
          [
           1,
           "rgb(103,0,31)"
          ]
         ],
         "type": "heatmap",
         "x": [
          1,
          2,
          3,
          4,
          5,
          6,
          7,
          8,
          9,
          10,
          11,
          12,
          13,
          14,
          15,
          16,
          17,
          18,
          19,
          20,
          21,
          22,
          23,
          24,
          25,
          26,
          27,
          28,
          29,
          30,
          31,
          32,
          33,
          34,
          35,
          36,
          37,
          38,
          39,
          40,
          41,
          42,
          43,
          44,
          45,
          46,
          47,
          48
         ],
         "xgap": 10,
         "y": [
          "DeMarcus Cousins",
          "Jordan Bell",
          "Shaun Livingston",
          "Alfonzo McKinnie",
          "Quinn Cook",
          "Jonas Jerebko",
          "Kevon Looney",
          "Andre Iguodala",
          "Draymond Green",
          "Stephen Curry",
          "Klay Thompson",
          "Kevin Durant"
         ],
         "ygap": 15,
         "z": [
          [
           30,
           30,
           30,
           29,
           28,
           25,
           14,
           4,
           2,
           0,
           0,
           30,
           30,
           30,
           29,
           27,
           20,
           13,
           10,
           5,
           5,
           3,
           3,
           29,
           29,
           29,
           29,
           28,
           26,
           20,
           10,
           3,
           2,
           1,
           1,
           26,
           26,
           26,
           25,
           23,
           17,
           12,
           10,
           6,
           5,
           4,
           4,
           3
          ],
          [
           3,
           3,
           3,
           5,
           4,
           5,
           11,
           17,
           18,
           18,
           17,
           26,
           12,
           14,
           17,
           19,
           23,
           23,
           20,
           16,
           9,
           11,
           13,
           17,
           4,
           5,
           6,
           7,
           7,
           8,
           16,
           23,
           26,
           26,
           25,
           40,
           16,
           18,
           18,
           23,
           23,
           23,
           25,
           27,
           33,
           39,
           41,
           43
          ],
          [
           0,
           0,
           0,
           0,
           0,
           0,
           1,
           17,
           24,
           31,
           34,
           64,
           64,
           64,
           63,
           54,
           39,
           33,
           22,
           6,
           4,
           3,
           3,
           3,
           0,
           0,
           0,
           0,
           0,
           0,
           0,
           10,
           23,
           30,
           36,
           61,
           61,
           61,
           58,
           50,
           36,
           25,
           17,
           6,
           0,
           0,
           1,
           5
          ],
          [
           5,
           5,
           5,
           4,
           4,
           4,
           8,
           16,
           31,
           39,
           42,
           41,
           16,
           16,
           22,
           30,
           35,
           31,
           35,
           29,
           9,
           10,
           8,
           14,
           4,
           4,
           4,
           5,
           7,
           8,
           11,
           20,
           32,
           42,
           45,
           41,
           20,
           21,
           20,
           26,
           33,
           41,
           41,
           32,
           31,
           31,
           35,
           33
          ],
          [
           10,
           10,
           10,
           10,
           11,
           12,
           11,
           9,
           17,
           22,
           25,
           50,
           33,
           32,
           35,
           38,
           35,
           31,
           24,
           23,
           11,
           10,
           10,
           23,
           11,
           11,
           11,
           12,
           12,
           11,
           11,
           12,
           17,
           22,
           26,
           47,
           34,
           34,
           35,
           34,
           31,
           31,
           32,
           31,
           32,
           36,
           40,
           41
          ],
          [
           6,
           6,
           6,
           8,
           9,
           9,
           15,
           35,
           37,
           47,
           49,
           63,
           51,
           48,
           45,
           35,
           25,
           20,
           14,
           8,
           2,
           3,
           5,
           10,
           5,
           5,
           5,
           5,
           7,
           15,
           19,
           29,
           33,
           39,
           46,
           61,
           52,
           49,
           49,
           44,
           41,
           34,
           29,
           26,
           28,
           27,
           28,
           29
          ],
          [
           24,
           24,
           25,
           24,
           27,
           33,
           47,
           61,
           58,
           55,
           52,
           46,
           6,
           7,
           8,
           18,
           35,
           42,
           46,
           42,
           28,
           25,
           24,
           45,
           25,
           25,
           25,
           26,
           29,
           27,
           40,
           45,
           50,
           49,
           47,
           50,
           14,
           14,
           19,
           21,
           29,
           35,
           37,
           32,
           22,
           21,
           24,
           27
          ],
          [
           13,
           13,
           13,
           13,
           13,
           17,
           28,
           38,
           44,
           53,
           55,
           56,
           55,
           54,
           44,
           28,
           16,
           17,
           28,
           43,
           58,
           57,
           57,
           58,
           14,
           14,
           14,
           14,
           15,
           21,
           39,
           43,
           48,
           47,
           49,
           51,
           44,
           44,
           38,
           25,
           16,
           17,
           24,
           29,
           31,
           29,
           30,
           29
          ],
          [
           66,
           66,
           66,
           64,
           63,
           59,
           38,
           19,
           22,
           25,
           27,
           64,
           51,
           50,
           48,
           41,
           32,
           25,
           27,
           38,
           55,
           59,
           60,
           66,
           65,
           65,
           65,
           65,
           61,
           55,
           32,
           24,
           20,
           23,
           26,
           54,
           41,
           40,
           38,
           31,
           26,
           28,
           26,
           33,
           38,
           35,
           32,
           31
          ],
          [
           69,
           69,
           69,
           69,
           68,
           67,
           67,
           60,
           49,
           37,
           30,
           44,
           17,
           18,
           19,
           25,
           36,
           48,
           55,
           60,
           67,
           67,
           65,
           68,
           68,
           68,
           68,
           67,
           67,
           67,
           67,
           63,
           53,
           45,
           31,
           41,
           15,
           15,
           18,
           27,
           34,
           41,
           45,
           47,
           44,
           39,
           36,
           29
          ],
          [
           78,
           78,
           78,
           78,
           77,
           76,
           74,
           50,
           24,
           8,
           3,
           58,
           56,
           56,
           57,
           66,
           71,
           47,
           30,
           43,
           67,
           71,
           73,
           78,
           77,
           77,
           77,
           77,
           77,
           77,
           71,
           47,
           19,
           8,
           6,
           62,
           57,
           58,
           59,
           62,
           58,
           43,
           36,
           49,
           49,
           44,
           42,
           40
          ],
          [
           78,
           78,
           78,
           78,
           78,
           78,
           77,
           74,
           71,
           61,
           58,
           63,
           6,
           6,
           11,
           18,
           31,
           63,
           76,
           77,
           77,
           78,
           78,
           78,
           77,
           77,
           77,
           76,
           75,
           75,
           74,
           73,
           69,
           56,
           47,
           56,
           10,
           10,
           15,
           23,
           38,
           53,
           55,
           53,
           46,
           43,
           40,
           38
          ]
         ]
        }
       ],
       "layout": {
        "font": {
         "color": "white",
         "size": 30
        },
        "height": 1200,
        "paper_bgcolor": "#211a1d",
        "plot_bgcolor": "#161415",
        "template": {
         "data": {
          "bar": [
           {
            "error_x": {
             "color": "#2a3f5f"
            },
            "error_y": {
             "color": "#2a3f5f"
            },
            "marker": {
             "line": {
              "color": "#E5ECF6",
              "width": 0.5
             },
             "pattern": {
              "fillmode": "overlay",
              "size": 10,
              "solidity": 0.2
             }
            },
            "type": "bar"
           }
          ],
          "barpolar": [
           {
            "marker": {
             "line": {
              "color": "#E5ECF6",
              "width": 0.5
             },
             "pattern": {
              "fillmode": "overlay",
              "size": 10,
              "solidity": 0.2
             }
            },
            "type": "barpolar"
           }
          ],
          "carpet": [
           {
            "aaxis": {
             "endlinecolor": "#2a3f5f",
             "gridcolor": "white",
             "linecolor": "white",
             "minorgridcolor": "white",
             "startlinecolor": "#2a3f5f"
            },
            "baxis": {
             "endlinecolor": "#2a3f5f",
             "gridcolor": "white",
             "linecolor": "white",
             "minorgridcolor": "white",
             "startlinecolor": "#2a3f5f"
            },
            "type": "carpet"
           }
          ],
          "choropleth": [
           {
            "colorbar": {
             "outlinewidth": 0,
             "ticks": ""
            },
            "type": "choropleth"
           }
          ],
          "contour": [
           {
            "colorbar": {
             "outlinewidth": 0,
             "ticks": ""
            },
            "colorscale": [
             [
              0,
              "#0d0887"
             ],
             [
              0.1111111111111111,
              "#46039f"
             ],
             [
              0.2222222222222222,
              "#7201a8"
             ],
             [
              0.3333333333333333,
              "#9c179e"
             ],
             [
              0.4444444444444444,
              "#bd3786"
             ],
             [
              0.5555555555555556,
              "#d8576b"
             ],
             [
              0.6666666666666666,
              "#ed7953"
             ],
             [
              0.7777777777777778,
              "#fb9f3a"
             ],
             [
              0.8888888888888888,
              "#fdca26"
             ],
             [
              1,
              "#f0f921"
             ]
            ],
            "type": "contour"
           }
          ],
          "contourcarpet": [
           {
            "colorbar": {
             "outlinewidth": 0,
             "ticks": ""
            },
            "type": "contourcarpet"
           }
          ],
          "heatmap": [
           {
            "colorbar": {
             "outlinewidth": 0,
             "ticks": ""
            },
            "colorscale": [
             [
              0,
              "#0d0887"
             ],
             [
              0.1111111111111111,
              "#46039f"
             ],
             [
              0.2222222222222222,
              "#7201a8"
             ],
             [
              0.3333333333333333,
              "#9c179e"
             ],
             [
              0.4444444444444444,
              "#bd3786"
             ],
             [
              0.5555555555555556,
              "#d8576b"
             ],
             [
              0.6666666666666666,
              "#ed7953"
             ],
             [
              0.7777777777777778,
              "#fb9f3a"
             ],
             [
              0.8888888888888888,
              "#fdca26"
             ],
             [
              1,
              "#f0f921"
             ]
            ],
            "type": "heatmap"
           }
          ],
          "heatmapgl": [
           {
            "colorbar": {
             "outlinewidth": 0,
             "ticks": ""
            },
            "colorscale": [
             [
              0,
              "#0d0887"
             ],
             [
              0.1111111111111111,
              "#46039f"
             ],
             [
              0.2222222222222222,
              "#7201a8"
             ],
             [
              0.3333333333333333,
              "#9c179e"
             ],
             [
              0.4444444444444444,
              "#bd3786"
             ],
             [
              0.5555555555555556,
              "#d8576b"
             ],
             [
              0.6666666666666666,
              "#ed7953"
             ],
             [
              0.7777777777777778,
              "#fb9f3a"
             ],
             [
              0.8888888888888888,
              "#fdca26"
             ],
             [
              1,
              "#f0f921"
             ]
            ],
            "type": "heatmapgl"
           }
          ],
          "histogram": [
           {
            "marker": {
             "pattern": {
              "fillmode": "overlay",
              "size": 10,
              "solidity": 0.2
             }
            },
            "type": "histogram"
           }
          ],
          "histogram2d": [
           {
            "colorbar": {
             "outlinewidth": 0,
             "ticks": ""
            },
            "colorscale": [
             [
              0,
              "#0d0887"
             ],
             [
              0.1111111111111111,
              "#46039f"
             ],
             [
              0.2222222222222222,
              "#7201a8"
             ],
             [
              0.3333333333333333,
              "#9c179e"
             ],
             [
              0.4444444444444444,
              "#bd3786"
             ],
             [
              0.5555555555555556,
              "#d8576b"
             ],
             [
              0.6666666666666666,
              "#ed7953"
             ],
             [
              0.7777777777777778,
              "#fb9f3a"
             ],
             [
              0.8888888888888888,
              "#fdca26"
             ],
             [
              1,
              "#f0f921"
             ]
            ],
            "type": "histogram2d"
           }
          ],
          "histogram2dcontour": [
           {
            "colorbar": {
             "outlinewidth": 0,
             "ticks": ""
            },
            "colorscale": [
             [
              0,
              "#0d0887"
             ],
             [
              0.1111111111111111,
              "#46039f"
             ],
             [
              0.2222222222222222,
              "#7201a8"
             ],
             [
              0.3333333333333333,
              "#9c179e"
             ],
             [
              0.4444444444444444,
              "#bd3786"
             ],
             [
              0.5555555555555556,
              "#d8576b"
             ],
             [
              0.6666666666666666,
              "#ed7953"
             ],
             [
              0.7777777777777778,
              "#fb9f3a"
             ],
             [
              0.8888888888888888,
              "#fdca26"
             ],
             [
              1,
              "#f0f921"
             ]
            ],
            "type": "histogram2dcontour"
           }
          ],
          "mesh3d": [
           {
            "colorbar": {
             "outlinewidth": 0,
             "ticks": ""
            },
            "type": "mesh3d"
           }
          ],
          "parcoords": [
           {
            "line": {
             "colorbar": {
              "outlinewidth": 0,
              "ticks": ""
             }
            },
            "type": "parcoords"
           }
          ],
          "pie": [
           {
            "automargin": true,
            "type": "pie"
           }
          ],
          "scatter": [
           {
            "fillpattern": {
             "fillmode": "overlay",
             "size": 10,
             "solidity": 0.2
            },
            "type": "scatter"
           }
          ],
          "scatter3d": [
           {
            "line": {
             "colorbar": {
              "outlinewidth": 0,
              "ticks": ""
             }
            },
            "marker": {
             "colorbar": {
              "outlinewidth": 0,
              "ticks": ""
             }
            },
            "type": "scatter3d"
           }
          ],
          "scattercarpet": [
           {
            "marker": {
             "colorbar": {
              "outlinewidth": 0,
              "ticks": ""
             }
            },
            "type": "scattercarpet"
           }
          ],
          "scattergeo": [
           {
            "marker": {
             "colorbar": {
              "outlinewidth": 0,
              "ticks": ""
             }
            },
            "type": "scattergeo"
           }
          ],
          "scattergl": [
           {
            "marker": {
             "colorbar": {
              "outlinewidth": 0,
              "ticks": ""
             }
            },
            "type": "scattergl"
           }
          ],
          "scattermapbox": [
           {
            "marker": {
             "colorbar": {
              "outlinewidth": 0,
              "ticks": ""
             }
            },
            "type": "scattermapbox"
           }
          ],
          "scatterpolar": [
           {
            "marker": {
             "colorbar": {
              "outlinewidth": 0,
              "ticks": ""
             }
            },
            "type": "scatterpolar"
           }
          ],
          "scatterpolargl": [
           {
            "marker": {
             "colorbar": {
              "outlinewidth": 0,
              "ticks": ""
             }
            },
            "type": "scatterpolargl"
           }
          ],
          "scatterternary": [
           {
            "marker": {
             "colorbar": {
              "outlinewidth": 0,
              "ticks": ""
             }
            },
            "type": "scatterternary"
           }
          ],
          "surface": [
           {
            "colorbar": {
             "outlinewidth": 0,
             "ticks": ""
            },
            "colorscale": [
             [
              0,
              "#0d0887"
             ],
             [
              0.1111111111111111,
              "#46039f"
             ],
             [
              0.2222222222222222,
              "#7201a8"
             ],
             [
              0.3333333333333333,
              "#9c179e"
             ],
             [
              0.4444444444444444,
              "#bd3786"
             ],
             [
              0.5555555555555556,
              "#d8576b"
             ],
             [
              0.6666666666666666,
              "#ed7953"
             ],
             [
              0.7777777777777778,
              "#fb9f3a"
             ],
             [
              0.8888888888888888,
              "#fdca26"
             ],
             [
              1,
              "#f0f921"
             ]
            ],
            "type": "surface"
           }
          ],
          "table": [
           {
            "cells": {
             "fill": {
              "color": "#EBF0F8"
             },
             "line": {
              "color": "white"
             }
            },
            "header": {
             "fill": {
              "color": "#C8D4E3"
             },
             "line": {
              "color": "white"
             }
            },
            "type": "table"
           }
          ]
         },
         "layout": {
          "annotationdefaults": {
           "arrowcolor": "#2a3f5f",
           "arrowhead": 0,
           "arrowwidth": 1
          },
          "autotypenumbers": "strict",
          "coloraxis": {
           "colorbar": {
            "outlinewidth": 0,
            "ticks": ""
           }
          },
          "colorscale": {
           "diverging": [
            [
             0,
             "#8e0152"
            ],
            [
             0.1,
             "#c51b7d"
            ],
            [
             0.2,
             "#de77ae"
            ],
            [
             0.3,
             "#f1b6da"
            ],
            [
             0.4,
             "#fde0ef"
            ],
            [
             0.5,
             "#f7f7f7"
            ],
            [
             0.6,
             "#e6f5d0"
            ],
            [
             0.7,
             "#b8e186"
            ],
            [
             0.8,
             "#7fbc41"
            ],
            [
             0.9,
             "#4d9221"
            ],
            [
             1,
             "#276419"
            ]
           ],
           "sequential": [
            [
             0,
             "#0d0887"
            ],
            [
             0.1111111111111111,
             "#46039f"
            ],
            [
             0.2222222222222222,
             "#7201a8"
            ],
            [
             0.3333333333333333,
             "#9c179e"
            ],
            [
             0.4444444444444444,
             "#bd3786"
            ],
            [
             0.5555555555555556,
             "#d8576b"
            ],
            [
             0.6666666666666666,
             "#ed7953"
            ],
            [
             0.7777777777777778,
             "#fb9f3a"
            ],
            [
             0.8888888888888888,
             "#fdca26"
            ],
            [
             1,
             "#f0f921"
            ]
           ],
           "sequentialminus": [
            [
             0,
             "#0d0887"
            ],
            [
             0.1111111111111111,
             "#46039f"
            ],
            [
             0.2222222222222222,
             "#7201a8"
            ],
            [
             0.3333333333333333,
             "#9c179e"
            ],
            [
             0.4444444444444444,
             "#bd3786"
            ],
            [
             0.5555555555555556,
             "#d8576b"
            ],
            [
             0.6666666666666666,
             "#ed7953"
            ],
            [
             0.7777777777777778,
             "#fb9f3a"
            ],
            [
             0.8888888888888888,
             "#fdca26"
            ],
            [
             1,
             "#f0f921"
            ]
           ]
          },
          "colorway": [
           "#636efa",
           "#EF553B",
           "#00cc96",
           "#ab63fa",
           "#FFA15A",
           "#19d3f3",
           "#FF6692",
           "#B6E880",
           "#FF97FF",
           "#FECB52"
          ],
          "font": {
           "color": "#2a3f5f"
          },
          "geo": {
           "bgcolor": "white",
           "lakecolor": "white",
           "landcolor": "#E5ECF6",
           "showlakes": true,
           "showland": true,
           "subunitcolor": "white"
          },
          "hoverlabel": {
           "align": "left"
          },
          "hovermode": "closest",
          "mapbox": {
           "style": "light"
          },
          "paper_bgcolor": "white",
          "plot_bgcolor": "#E5ECF6",
          "polar": {
           "angularaxis": {
            "gridcolor": "white",
            "linecolor": "white",
            "ticks": ""
           },
           "bgcolor": "#E5ECF6",
           "radialaxis": {
            "gridcolor": "white",
            "linecolor": "white",
            "ticks": ""
           }
          },
          "scene": {
           "xaxis": {
            "backgroundcolor": "#E5ECF6",
            "gridcolor": "white",
            "gridwidth": 2,
            "linecolor": "white",
            "showbackground": true,
            "ticks": "",
            "zerolinecolor": "white"
           },
           "yaxis": {
            "backgroundcolor": "#E5ECF6",
            "gridcolor": "white",
            "gridwidth": 2,
            "linecolor": "white",
            "showbackground": true,
            "ticks": "",
            "zerolinecolor": "white"
           },
           "zaxis": {
            "backgroundcolor": "#E5ECF6",
            "gridcolor": "white",
            "gridwidth": 2,
            "linecolor": "white",
            "showbackground": true,
            "ticks": "",
            "zerolinecolor": "white"
           }
          },
          "shapedefaults": {
           "line": {
            "color": "#2a3f5f"
           }
          },
          "ternary": {
           "aaxis": {
            "gridcolor": "white",
            "linecolor": "white",
            "ticks": ""
           },
           "baxis": {
            "gridcolor": "white",
            "linecolor": "white",
            "ticks": ""
           },
           "bgcolor": "#E5ECF6",
           "caxis": {
            "gridcolor": "white",
            "linecolor": "white",
            "ticks": ""
           }
          },
          "title": {
           "x": 0.05
          },
          "xaxis": {
           "automargin": true,
           "gridcolor": "white",
           "linecolor": "white",
           "ticks": "",
           "title": {
            "standoff": 15
           },
           "zerolinecolor": "white",
           "zerolinewidth": 2
          },
          "yaxis": {
           "automargin": true,
           "gridcolor": "white",
           "linecolor": "white",
           "ticks": "",
           "title": {
            "standoff": 15
           },
           "zerolinecolor": "white",
           "zerolinewidth": 2
          }
         }
        },
        "title": {
         "font": {
          "size": 35
         },
         "text": "Golden State Warriors 2019 ",
         "x": 0.5
        },
        "width": 1800,
        "xaxis": {
         "autorange": true,
         "range": [
          0.5,
          48.5
         ],
         "showgrid": false,
         "tickfont": {
          "color": "white",
          "size": 24
         },
         "title": {
          "text": "Minute"
         },
         "type": "linear",
         "zeroline": false
        },
        "yaxis": {
         "autorange": true,
         "range": [
          -0.5,
          11.5
         ],
         "showgrid": false,
         "tickfont": {
          "color": "white",
          "size": 24
         },
         "title": {
          "text": "Player"
         },
         "type": "category",
         "zeroline": false
        }
       }
      },
      "image/png": "[encoded data removed]",
      "text/html": [
       "<div>                            <div id=\"d1ce8b75-09d9-49ff-97c4-f861a32c00e1\" class=\"plotly-graph-div\" style=\"height:1200px; width:1800px;\"></div>            <script type=\"text/javascript\">                require([\"plotly\"], function(Plotly) {                    window.PLOTLYENV=window.PLOTLYENV || {};                                    if (document.getElementById(\"d1ce8b75-09d9-49ff-97c4-f861a32c00e1\")) {                    Plotly.newPlot(                        \"d1ce8b75-09d9-49ff-97c4-f861a32c00e1\",                        [{\"colorbar\":{\"title\":{\"text\":\"Games<br>\"}},\"colorscale\":[[0.0,\"rgb(247,244,249)\"],[0.125,\"rgb(231,225,239)\"],[0.25,\"rgb(212,185,218)\"],[0.375,\"rgb(201,148,199)\"],[0.5,\"rgb(223,101,176)\"],[0.625,\"rgb(231,41,138)\"],[0.75,\"rgb(206,18,86)\"],[0.875,\"rgb(152,0,67)\"],[1.0,\"rgb(103,0,31)\"]],\"x\":[1,2,3,4,5,6,7,8,9,10,11,12,13,14,15,16,17,18,19,20,21,22,23,24,25,26,27,28,29,30,31,32,33,34,35,36,37,38,39,40,41,42,43,44,45,46,47,48],\"xgap\":10,\"y\":[\"DeMarcus Cousins\",\"Jordan Bell\",\"Shaun Livingston\",\"Alfonzo McKinnie\",\"Quinn Cook\",\"Jonas Jerebko\",\"Kevon Looney\",\"Andre Iguodala\",\"Draymond Green\",\"Stephen Curry\",\"Klay Thompson\",\"Kevin Durant\"],\"ygap\":15,\"z\":[[30,30,30,29,28,25,14,4,2,0,0,30,30,30,29,27,20,13,10,5,5,3,3,29,29,29,29,28,26,20,10,3,2,1,1,26,26,26,25,23,17,12,10,6,5,4,4,3],[3,3,3,5,4,5,11,17,18,18,17,26,12,14,17,19,23,23,20,16,9,11,13,17,4,5,6,7,7,8,16,23,26,26,25,40,16,18,18,23,23,23,25,27,33,39,41,43],[0,0,0,0,0,0,1,17,24,31,34,64,64,64,63,54,39,33,22,6,4,3,3,3,0,0,0,0,0,0,0,10,23,30,36,61,61,61,58,50,36,25,17,6,0,0,1,5],[5,5,5,4,4,4,8,16,31,39,42,41,16,16,22,30,35,31,35,29,9,10,8,14,4,4,4,5,7,8,11,20,32,42,45,41,20,21,20,26,33,41,41,32,31,31,35,33],[10,10,10,10,11,12,11,9,17,22,25,50,33,32,35,38,35,31,24,23,11,10,10,23,11,11,11,12,12,11,11,12,17,22,26,47,34,34,35,34,31,31,32,31,32,36,40,41],[6,6,6,8,9,9,15,35,37,47,49,63,51,48,45,35,25,20,14,8,2,3,5,10,5,5,5,5,7,15,19,29,33,39,46,61,52,49,49,44,41,34,29,26,28,27,28,29],[24,24,25,24,27,33,47,61,58,55,52,46,6,7,8,18,35,42,46,42,28,25,24,45,25,25,25,26,29,27,40,45,50,49,47,50,14,14,19,21,29,35,37,32,22,21,24,27],[13,13,13,13,13,17,28,38,44,53,55,56,55,54,44,28,16,17,28,43,58,57,57,58,14,14,14,14,15,21,39,43,48,47,49,51,44,44,38,25,16,17,24,29,31,29,30,29],[66,66,66,64,63,59,38,19,22,25,27,64,51,50,48,41,32,25,27,38,55,59,60,66,65,65,65,65,61,55,32,24,20,23,26,54,41,40,38,31,26,28,26,33,38,35,32,31],[69,69,69,69,68,67,67,60,49,37,30,44,17,18,19,25,36,48,55,60,67,67,65,68,68,68,68,67,67,67,67,63,53,45,31,41,15,15,18,27,34,41,45,47,44,39,36,29],[78,78,78,78,77,76,74,50,24,8,3,58,56,56,57,66,71,47,30,43,67,71,73,78,77,77,77,77,77,77,71,47,19,8,6,62,57,58,59,62,58,43,36,49,49,44,42,40],[78,78,78,78,78,78,77,74,71,61,58,63,6,6,11,18,31,63,76,77,77,78,78,78,77,77,77,76,75,75,74,73,69,56,47,56,10,10,15,23,38,53,55,53,46,43,40,38]],\"type\":\"heatmap\"}],                        {\"template\":{\"data\":{\"histogram2dcontour\":[{\"type\":\"histogram2dcontour\",\"colorbar\":{\"outlinewidth\":0,\"ticks\":\"\"},\"colorscale\":[[0.0,\"#0d0887\"],[0.1111111111111111,\"#46039f\"],[0.2222222222222222,\"#7201a8\"],[0.3333333333333333,\"#9c179e\"],[0.4444444444444444,\"#bd3786\"],[0.5555555555555556,\"#d8576b\"],[0.6666666666666666,\"#ed7953\"],[0.7777777777777778,\"#fb9f3a\"],[0.8888888888888888,\"#fdca26\"],[1.0,\"#f0f921\"]]}],\"choropleth\":[{\"type\":\"choropleth\",\"colorbar\":{\"outlinewidth\":0,\"ticks\":\"\"}}],\"histogram2d\":[{\"type\":\"histogram2d\",\"colorbar\":{\"outlinewidth\":0,\"ticks\":\"\"},\"colorscale\":[[0.0,\"#0d0887\"],[0.1111111111111111,\"#46039f\"],[0.2222222222222222,\"#7201a8\"],[0.3333333333333333,\"#9c179e\"],[0.4444444444444444,\"#bd3786\"],[0.5555555555555556,\"#d8576b\"],[0.6666666666666666,\"#ed7953\"],[0.7777777777777778,\"#fb9f3a\"],[0.8888888888888888,\"#fdca26\"],[1.0,\"#f0f921\"]]}],\"heatmap\":[{\"type\":\"heatmap\",\"colorbar\":{\"outlinewidth\":0,\"ticks\":\"\"},\"colorscale\":[[0.0,\"#0d0887\"],[0.1111111111111111,\"#46039f\"],[0.2222222222222222,\"#7201a8\"],[0.3333333333333333,\"#9c179e\"],[0.4444444444444444,\"#bd3786\"],[0.5555555555555556,\"#d8576b\"],[0.6666666666666666,\"#ed7953\"],[0.7777777777777778,\"#fb9f3a\"],[0.8888888888888888,\"#fdca26\"],[1.0,\"#f0f921\"]]}],\"heatmapgl\":[{\"type\":\"heatmapgl\",\"colorbar\":{\"outlinewidth\":0,\"ticks\":\"\"},\"colorscale\":[[0.0,\"#0d0887\"],[0.1111111111111111,\"#46039f\"],[0.2222222222222222,\"#7201a8\"],[0.3333333333333333,\"#9c179e\"],[0.4444444444444444,\"#bd3786\"],[0.5555555555555556,\"#d8576b\"],[0.6666666666666666,\"#ed7953\"],[0.7777777777777778,\"#fb9f3a\"],[0.8888888888888888,\"#fdca26\"],[1.0,\"#f0f921\"]]}],\"contourcarpet\":[{\"type\":\"contourcarpet\",\"colorbar\":{\"outlinewidth\":0,\"ticks\":\"\"}}],\"contour\":[{\"type\":\"contour\",\"colorbar\":{\"outlinewidth\":0,\"ticks\":\"\"},\"colorscale\":[[0.0,\"#0d0887\"],[0.1111111111111111,\"#46039f\"],[0.2222222222222222,\"#7201a8\"],[0.3333333333333333,\"#9c179e\"],[0.4444444444444444,\"#bd3786\"],[0.5555555555555556,\"#d8576b\"],[0.6666666666666666,\"#ed7953\"],[0.7777777777777778,\"#fb9f3a\"],[0.8888888888888888,\"#fdca26\"],[1.0,\"#f0f921\"]]}],\"surface\":[{\"type\":\"surface\",\"colorbar\":{\"outlinewidth\":0,\"ticks\":\"\"},\"colorscale\":[[0.0,\"#0d0887\"],[0.1111111111111111,\"#46039f\"],[0.2222222222222222,\"#7201a8\"],[0.3333333333333333,\"#9c179e\"],[0.4444444444444444,\"#bd3786\"],[0.5555555555555556,\"#d8576b\"],[0.6666666666666666,\"#ed7953\"],[0.7777777777777778,\"#fb9f3a\"],[0.8888888888888888,\"#fdca26\"],[1.0,\"#f0f921\"]]}],\"mesh3d\":[{\"type\":\"mesh3d\",\"colorbar\":{\"outlinewidth\":0,\"ticks\":\"\"}}],\"scatter\":[{\"fillpattern\":{\"fillmode\":\"overlay\",\"size\":10,\"solidity\":0.2},\"type\":\"scatter\"}],\"parcoords\":[{\"type\":\"parcoords\",\"line\":{\"colorbar\":{\"outlinewidth\":0,\"ticks\":\"\"}}}],\"scatterpolargl\":[{\"type\":\"scatterpolargl\",\"marker\":{\"colorbar\":{\"outlinewidth\":0,\"ticks\":\"\"}}}],\"bar\":[{\"error_x\":{\"color\":\"#2a3f5f\"},\"error_y\":{\"color\":\"#2a3f5f\"},\"marker\":{\"line\":{\"color\":\"#E5ECF6\",\"width\":0.5},\"pattern\":{\"fillmode\":\"overlay\",\"size\":10,\"solidity\":0.2}},\"type\":\"bar\"}],\"scattergeo\":[{\"type\":\"scattergeo\",\"marker\":{\"colorbar\":{\"outlinewidth\":0,\"ticks\":\"\"}}}],\"scatterpolar\":[{\"type\":\"scatterpolar\",\"marker\":{\"colorbar\":{\"outlinewidth\":0,\"ticks\":\"\"}}}],\"histogram\":[{\"marker\":{\"pattern\":{\"fillmode\":\"overlay\",\"size\":10,\"solidity\":0.2}},\"type\":\"histogram\"}],\"scattergl\":[{\"type\":\"scattergl\",\"marker\":{\"colorbar\":{\"outlinewidth\":0,\"ticks\":\"\"}}}],\"scatter3d\":[{\"type\":\"scatter3d\",\"line\":{\"colorbar\":{\"outlinewidth\":0,\"ticks\":\"\"}},\"marker\":{\"colorbar\":{\"outlinewidth\":0,\"ticks\":\"\"}}}],\"scattermapbox\":[{\"type\":\"scattermapbox\",\"marker\":{\"colorbar\":{\"outlinewidth\":0,\"ticks\":\"\"}}}],\"scatterternary\":[{\"type\":\"scatterternary\",\"marker\":{\"colorbar\":{\"outlinewidth\":0,\"ticks\":\"\"}}}],\"scattercarpet\":[{\"type\":\"scattercarpet\",\"marker\":{\"colorbar\":{\"outlinewidth\":0,\"ticks\":\"\"}}}],\"carpet\":[{\"aaxis\":{\"endlinecolor\":\"#2a3f5f\",\"gridcolor\":\"white\",\"linecolor\":\"white\",\"minorgridcolor\":\"white\",\"startlinecolor\":\"#2a3f5f\"},\"baxis\":{\"endlinecolor\":\"#2a3f5f\",\"gridcolor\":\"white\",\"linecolor\":\"white\",\"minorgridcolor\":\"white\",\"startlinecolor\":\"#2a3f5f\"},\"type\":\"carpet\"}],\"table\":[{\"cells\":{\"fill\":{\"color\":\"#EBF0F8\"},\"line\":{\"color\":\"white\"}},\"header\":{\"fill\":{\"color\":\"#C8D4E3\"},\"line\":{\"color\":\"white\"}},\"type\":\"table\"}],\"barpolar\":[{\"marker\":{\"line\":{\"color\":\"#E5ECF6\",\"width\":0.5},\"pattern\":{\"fillmode\":\"overlay\",\"size\":10,\"solidity\":0.2}},\"type\":\"barpolar\"}],\"pie\":[{\"automargin\":true,\"type\":\"pie\"}]},\"layout\":{\"autotypenumbers\":\"strict\",\"colorway\":[\"#636efa\",\"#EF553B\",\"#00cc96\",\"#ab63fa\",\"#FFA15A\",\"#19d3f3\",\"#FF6692\",\"#B6E880\",\"#FF97FF\",\"#FECB52\"],\"font\":{\"color\":\"#2a3f5f\"},\"hovermode\":\"closest\",\"hoverlabel\":{\"align\":\"left\"},\"paper_bgcolor\":\"white\",\"plot_bgcolor\":\"#E5ECF6\",\"polar\":{\"bgcolor\":\"#E5ECF6\",\"angularaxis\":{\"gridcolor\":\"white\",\"linecolor\":\"white\",\"ticks\":\"\"},\"radialaxis\":{\"gridcolor\":\"white\",\"linecolor\":\"white\",\"ticks\":\"\"}},\"ternary\":{\"bgcolor\":\"#E5ECF6\",\"aaxis\":{\"gridcolor\":\"white\",\"linecolor\":\"white\",\"ticks\":\"\"},\"baxis\":{\"gridcolor\":\"white\",\"linecolor\":\"white\",\"ticks\":\"\"},\"caxis\":{\"gridcolor\":\"white\",\"linecolor\":\"white\",\"ticks\":\"\"}},\"coloraxis\":{\"colorbar\":{\"outlinewidth\":0,\"ticks\":\"\"}},\"colorscale\":{\"sequential\":[[0.0,\"#0d0887\"],[0.1111111111111111,\"#46039f\"],[0.2222222222222222,\"#7201a8\"],[0.3333333333333333,\"#9c179e\"],[0.4444444444444444,\"#bd3786\"],[0.5555555555555556,\"#d8576b\"],[0.6666666666666666,\"#ed7953\"],[0.7777777777777778,\"#fb9f3a\"],[0.8888888888888888,\"#fdca26\"],[1.0,\"#f0f921\"]],\"sequentialminus\":[[0.0,\"#0d0887\"],[0.1111111111111111,\"#46039f\"],[0.2222222222222222,\"#7201a8\"],[0.3333333333333333,\"#9c179e\"],[0.4444444444444444,\"#bd3786\"],[0.5555555555555556,\"#d8576b\"],[0.6666666666666666,\"#ed7953\"],[0.7777777777777778,\"#fb9f3a\"],[0.8888888888888888,\"#fdca26\"],[1.0,\"#f0f921\"]],\"diverging\":[[0,\"#8e0152\"],[0.1,\"#c51b7d\"],[0.2,\"#de77ae\"],[0.3,\"#f1b6da\"],[0.4,\"#fde0ef\"],[0.5,\"#f7f7f7\"],[0.6,\"#e6f5d0\"],[0.7,\"#b8e186\"],[0.8,\"#7fbc41\"],[0.9,\"#4d9221\"],[1,\"#276419\"]]},\"xaxis\":{\"gridcolor\":\"white\",\"linecolor\":\"white\",\"ticks\":\"\",\"title\":{\"standoff\":15},\"zerolinecolor\":\"white\",\"automargin\":true,\"zerolinewidth\":2},\"yaxis\":{\"gridcolor\":\"white\",\"linecolor\":\"white\",\"ticks\":\"\",\"title\":{\"standoff\":15},\"zerolinecolor\":\"white\",\"automargin\":true,\"zerolinewidth\":2},\"scene\":{\"xaxis\":{\"backgroundcolor\":\"#E5ECF6\",\"gridcolor\":\"white\",\"linecolor\":\"white\",\"showbackground\":true,\"ticks\":\"\",\"zerolinecolor\":\"white\",\"gridwidth\":2},\"yaxis\":{\"backgroundcolor\":\"#E5ECF6\",\"gridcolor\":\"white\",\"linecolor\":\"white\",\"showbackground\":true,\"ticks\":\"\",\"zerolinecolor\":\"white\",\"gridwidth\":2},\"zaxis\":{\"backgroundcolor\":\"#E5ECF6\",\"gridcolor\":\"white\",\"linecolor\":\"white\",\"showbackground\":true,\"ticks\":\"\",\"zerolinecolor\":\"white\",\"gridwidth\":2}},\"shapedefaults\":{\"line\":{\"color\":\"#2a3f5f\"}},\"annotationdefaults\":{\"arrowcolor\":\"#2a3f5f\",\"arrowhead\":0,\"arrowwidth\":1},\"geo\":{\"bgcolor\":\"white\",\"landcolor\":\"#E5ECF6\",\"subunitcolor\":\"white\",\"showland\":true,\"showlakes\":true,\"lakecolor\":\"white\"},\"title\":{\"x\":0.05},\"mapbox\":{\"style\":\"light\"}}},\"yaxis\":{\"tickfont\":{\"color\":\"white\",\"size\":24},\"showgrid\":false,\"zeroline\":false,\"title\":{\"text\":\"Player\"}},\"xaxis\":{\"tickfont\":{\"color\":\"white\",\"size\":24},\"showgrid\":false,\"zeroline\":false,\"title\":{\"text\":\"Minute\"}},\"title\":{\"text\":\"Golden State Warriors 2019 \",\"font\":{\"size\":35},\"x\":0.5},\"font\":{\"color\":\"white\",\"size\":30},\"plot_bgcolor\":\"#161415\",\"paper_bgcolor\":\"#211a1d\",\"width\":1800,\"height\":1200},                        {\"responsive\": true}                    ).then(function(){\n",
       "                            \n",
       "var gd = document.getElementById('d1ce8b75-09d9-49ff-97c4-f861a32c00e1');\n",
       "var x = new MutationObserver(function (mutations, observer) {{\n",
       "        var display = window.getComputedStyle(gd).display;\n",
       "        if (!display || display === 'none') {{\n",
       "            console.log([gd, 'removed!']);\n",
       "            Plotly.purge(gd);\n",
       "            observer.disconnect();\n",
       "        }}\n",
       "}});\n",
       "\n",
       "// Listen for the removal of the full notebook cells\n",
       "var notebookContainer = gd.closest('#notebook-container');\n",
       "if (notebookContainer) {{\n",
       "    x.observe(notebookContainer, {childList: true});\n",
       "}}\n",
       "\n",
       "// Listen for the clearing of the current output cell\n",
       "var outputEl = gd.closest('.output');\n",
       "if (outputEl) {{\n",
       "    x.observe(outputEl, {childList: true});\n",
       "}}\n",
       "\n",
       "                        })                };                });            </script>        </div>"
      ]
     },
     "metadata": {},
     "output_type": "display_data"
    }
   ],
   "source": [
    "import matplotlib.pyplot as plt\n",
    "import numpy as np\n",
    "import pandas as pd\n",
    "from nba_api.stats.static import players,teams\n",
    "import plotly.graph_objects as go\n",
    "import time\n",
    "'''\n",
    "def update_matrices(row):\n",
    "\n",
    "    player = row['Player']\n",
    "    start_minute = row['start']\n",
    "    end_minute = row['end']\n",
    "    plus_minus = row['PT_DIFF']\n",
    "\n",
    "    # Increment the matrix based on player on-court times\n",
    "    minutes_played_matrix.loc[player, start_minute:end_minute] += 1\n",
    "\n",
    "    # Increment the plus_minus_matrix based on player on-court times\n",
    "    plus_minus_matrix.loc[player, start_minute:end_minute] += plus_minus\n",
    "'''\n",
    "\n",
    "def convert_date(year,date):\n",
    "    \n",
    "    month,day = date.split('/')\n",
    "    month = int(month)\n",
    "    day = int(day)\n",
    "    \n",
    "    if month >8:\n",
    "        year-=1\n",
    "    game_date = int(year)*10000 + month*100+day\n",
    "    return game_date\n",
    "def graph_rotation(team,year,ps=False,start_date='',end_date = ''):\n",
    "    carry = ''\n",
    "    if ps ==True:\n",
    "        carry='ps'\n",
    "\n",
    "    team = team.upper()\n",
    "\n",
    "    nba_teams = teams.get_teams()\n",
    "    team_list= {}\n",
    "    full_name = {}\n",
    "    for org in nba_teams:\n",
    "        team_list[org['abbreviation']] = org['id']\n",
    "        full_name[org['abbreviation']] = org['full_name']\n",
    "    \n",
    "    \n",
    "\n",
    "    team_id = team_list[team]\n",
    "\n",
    "\n",
    "    url='https://raw.githubusercontent.com/gabriel1200/shot_data/master/rotations/'+str(year)+carry+'/'+str(team_id)+'.csv'\n",
    "    print(url)\n",
    "    title = full_name[team]+ ' '+str(year)+ ' '+carry.upper()\n",
    "    df = pd.read_csv(url)\n",
    "    # Convert the times to seconds\n",
    "    df['start'] = df['IN_TIME_REAL']\n",
    "    df['end'] = df['OUT_TIME_REAL']\n",
    "    df['Player'] = df['PLAYER_FIRST']+' '+df['PLAYER_LAST'].str.split('-').str[0]\n",
    "    df['start'] /=600\n",
    "    df['end']/=600\n",
    "\n",
    "    df =df.drop_duplicates()\n",
    "\n",
    "    game_count =df.drop_duplicates(subset=['GAME_ID','PERSON_ID','Player'])\n",
    "    \n",
    "    player_count = game_count.groupby('PERSON_ID').count()[['GAME_ID']].reset_index()\n",
    "    player_count.columns = ['PERSON_ID','GP']\n",
    "    player_dict = dict(zip(player_count['PERSON_ID'], player_count['GP']))\n",
    "    #print(len(df))\n",
    "    \n",
    "    if start_date!='' or end_date!='':\n",
    "        title =  title+'<br>'\n",
    "        fields=['GAME_ID','GAME_DATE']\n",
    "        shot_url = 'https://raw.githubusercontent.com/gabriel1200/shot_data/master/team/'+str(year)+carry+'/'+str(team_id)+'.csv'\n",
    "        shotmap = pd.read_csv(shot_url,usecols=fields)\n",
    "        shotmap = shotmap.drop_duplicates()\n",
    "        games = shotmap.sort_values(by='GAME_DATE').reset_index(drop=True)\n",
    "        if start_date !='':\n",
    "            start_index = convert_date(year,start_date)\n",
    "            title = title+ 'From: '+start_date\n",
    "        if end_date !='':\n",
    "            end_index = convert_date(year, end_date)\n",
    "            title = title+' To '+end_date\n",
    "        if start_date =='':\n",
    "            start_index = games.iloc[0]['GAME_DATE']\n",
    "        if end_date =='':\n",
    "            end_index = games.iloc[-1]['GAME_DATE']\n",
    "            \n",
    "        games = games[(games.GAME_DATE<=end_index) &(games.GAME_DATE>=start_index)]\n",
    "        \n",
    "        game_range = games.GAME_ID.tolist()\n",
    "        \n",
    "        df = df[df.GAME_ID.isin(game_range)]\n",
    "\n",
    "    max_end_minute =int( df['end'].max())\n",
    "    print(int( df['start'].min()))\n",
    "    #max_end_minute=48\n",
    "    players = df['Player'].unique()\n",
    "    \n",
    "    # Use pd.cut to create intervals and groupby to perform the summation\n",
    "\n",
    "    # Print or use the result as needed\n",
    "    #print(test_matrix)\n",
    "    # Create an empty matrix to represent player minutes played\n",
    "\n",
    "    #start_time1 = time.time()\n",
    "    \n",
    "    minutes_played_matrix=  pd.DataFrame(index=players, columns=[i for i in range(1,max_end_minute+1)], data=0)\n",
    "    \n",
    "    #plus_minus_matrix=  pd.DataFrame(index=players, columns=[i for i in range(max_end_minute + 1)], data=0)\n",
    "\n",
    "\n",
    "    plus_minus_matrix=  pd.DataFrame(index=players, columns=[i for i in range(1,max_end_minute+1)], data=0)\n",
    "    #df['interval'] = df.apply(lambda row: pd.Interval(row['start'], row['end'], closed='right'), axis=1)\n",
    "    #df.apply(update_matrices, axis=1)\n",
    "    #print(minutes_played_matrix)\n",
    "    #end_time1 = time.time()\n",
    "\n",
    "    #df['interval'] = df.apply(lambda row: pd.interval_range(row['start'], row['end'], freq=1), axis=1)\n",
    "\n",
    "    # Increment the matrix based on player on-court times\n",
    "    #minutes_played_matrix = df.groupby(['Player', 'interval']).size().unstack(fill_value=0).cumsum(axis=1)\n",
    "\n",
    "    # Increment the plus_minus_matrix based on player on-court times\n",
    "    #plus_minus_matrix = df.groupby(['Player', 'interval'])['PT_DIFF'].sum().unstack(fill_value=0).cumsum(axis=1)\n",
    "    #print(minutes_played_matrix)\n",
    "\n",
    "\n",
    "    # Increment the matrix based on player on-court times\n",
    "    print(player_dict)\n",
    "    for _, row in df.iterrows():\n",
    "        pid = row['PERSON_ID']\n",
    "        player = row['Player']\n",
    "        start_minute = row['start']\n",
    "        end_minute = row['end']\n",
    "        plus_minus = row['PT_DIFF']\n",
    "        gp =player_dict[pid]\n",
    "\n",
    "        minutes_played_matrix.loc[player, start_minute:end_minute] += 1\n",
    "        value = plus_minus\n",
    "        if end_minute>start_minute:\n",
    "            value =(plus_minus/(end_minute-start_minute))\n",
    "        plus_minus_matrix.loc[player, start_minute:end_minute] += value\n",
    "    print(plus_minus_matrix.iloc[2])\n",
    "    print(plus_minus_matrix.iloc[2].sum())\n",
    "    #minutes_played_matrix = minutes_played_matrix[[i for i in range(0,49)]]\n",
    "    #plus_minus_matrix = plus_minus_matrix[[i for i in range(0,49)]]\n",
    "    #print(minutes_played_matrix)\n",
    "    #test_matrix=plus_minus_matrix / minutes_played_matrix\n",
    "\n",
    "\n",
    "\n",
    "    #print(f\"Execution time For Loop: {end_time1 - start_time1} seconds\")\n",
    "    #print(f\"Execution time Apply: {end_time2 - start_time2} seconds\")\n",
    "\n",
    "    #print(test_matrix.sum())\n",
    "    #eam_plus = plus_minus_matrix.sum(axis=0) / minutes_played_matrix.sum(axis=0)\n",
    "    #print(team_plus.sum().sum())\n",
    "    #print(test_matrix.sum().sum())\n",
    "    #print(team_plus)\n",
    "    \n",
    "    #print(team_plus)\n",
    "\n",
    "    minutes_played_matrix['total']= minutes_played_matrix.iloc[:].sum(axis=1)\n",
    "    minutes_played_matrix.sort_values(by='total',inplace=True,ascending=True)\n",
    "    minutes_played_matrix = minutes_played_matrix.tail(12)\n",
    "    #minutes_played_matrix=minutes_played_matrix[minutes_played_matrix['total']>300]\n",
    "    \n",
    "    #print(plus_minus_matrix)\n",
    "    #print(minutes_played_matrix['total'])\n",
    "    #minutes_played_matrix.drop(columns='total',inplace=True)\n",
    "    \n",
    "    #print(plus_minus_matrix.iloc[0].sum())\n",
    "\n",
    "    # Create the heatmap\n",
    "    #minutes_played_matrix.sort_index(axis=22,inplace=True)\n",
    "    minutes_played_matrix = minutes_played_matrix[[i for i in range(1,49)]]\n",
    "    plus_minus_matrix = plus_minus_matrix.tail(12)\n",
    "\n",
    "\n",
    "    plus_minus_matrix = plus_minus_matrix.join(player_count)\n",
    "    \n",
    "    #minutes_played_matrix=minutes_played_matrix[minutes_played_matrix['total']>300]\n",
    "    \n",
    "    #print(plus_minus_matrix)\n",
    "    #print(minutes_played_matrix['total'])\n",
    "    #minutes_played_matrix.drop(columns='total',inplace=True)\n",
    "    \n",
    "    #print(plus_minus_matrix.iloc[0].sum())\n",
    "\n",
    "    # Create the heatmap\n",
    "    #minutes_played_matrix.sort_index(axis=22,inplace=True)\n",
    "\n",
    "    #print(minutes_played_matrix)\n",
    "    fig = go.Figure(data=go.Heatmap(z=minutes_played_matrix.values,\n",
    "                                    x=minutes_played_matrix.columns,\n",
    "                                    y=minutes_played_matrix.index,\n",
    "                                    xgap=10,\n",
    "                                    ygap=15,\n",
    "                                    type='heatmap',\n",
    "                                    colorscale='PuRd',\n",
    "                                     colorbar=dict(\n",
    "                title=\"Games<br>\")\n",
    "\n",
    "\n",
    "            ))\n",
    "    fig.update_yaxes(tickfont=dict(color='white',size = 24),showgrid=False,zeroline=False)\n",
    "    fig.update_xaxes(tickfont=dict(color='white',size = 24),showgrid=False,zeroline=False)\n",
    "    # Customize the layout\n",
    "    fig.update_layout(title=title,\n",
    "                      titlefont = dict(size=35),\n",
    "                      title_x=.5,\n",
    "                          plot_bgcolor='#161415',\n",
    "                          paper_bgcolor='#211a1d',\n",
    "\n",
    "                      width=1800,\n",
    "                      height=1200,\n",
    "                      font=dict(color='white',size = 30),\n",
    "                      xaxis_title='Minute',\n",
    "                      yaxis_title='Player')\n",
    "    del minutes_played_matrix\n",
    "    # Show the plot\n",
    "    return fig\n",
    "ps = False\n",
    "fig = graph_rotation('gsw',2019,ps=ps)\n",
    "fig.show()\n",
    "\n"
   ]
  },
  {
   "cell_type": "code",
   "execution_count": 2,
   "id": "763f9668-373c-4fe3-b8ef-838b26fb5298",
   "metadata": {},
   "outputs": [],
   "source": [
    "team = 'bos'\n",
    "year = 2023\n",
    "team = team.upper()\n",
    "\n",
    "nba_teams = teams.get_teams()\n",
    "team_list= {}\n",
    "full_name = {}\n",
    "for org in nba_teams:\n",
    "    team_list[org['abbreviation']] = org['id']\n",
    "    full_name[org['abbreviation']] = org['full_name']\n",
    "\n",
    "\n",
    "\n",
    "\n",
    "team_id = team_list[team]\n",
    "url='https://raw.githubusercontent.com/gabriel1200/shot_data/master/rotations/'+str(year)+'/'+str(team_id)+'.csv'\n",
    "\n",
    "\n",
    "df = pd.read_csv(url)\n",
    "df['start'] = df['IN_TIME_REAL']\n",
    "df['end'] = df['OUT_TIME_REAL']\n",
    "df['Player'] = df['PLAYER_FIRST']+' '+df['PLAYER_LAST'].str.split('-').str[0]\n",
    "df['start'] /=600\n",
    "df['end']/=600\n",
    "\n",
    "\n",
    "# Create a DataFrame to represent each minute played by each player in each game\n",
    "minutes_df = pd.concat([pd.Series(row['GAME_ID'], range(int(row['start']), int(row['end']))) for _, row in df.iterrows()])\n",
    "\n",
    "# Merge with the original DataFrame to get the point differential for each minute\n",
    "minutes_df = minutes_df.reset_index().rename(columns={'index': 'Minute', 0: 'GAME_ID'})\n",
    "merged_df = pd.merge(minutes_df, df[['GAME_ID', 'TEAM_ID', 'PT_DIFF']], on=['GAME_ID'])\n",
    "\n",
    "# Calculate the total point differential for each minute played\n",
    "total_diff_per_minute = merged_df.groupby(['TEAM_ID', 'Minute'])['PT_DIFF'].sum().reset_index()\n",
    "\n",
    "# Calculate the average point differential for each minute throughout the season\n",
    "average_diff_per_minute = total_diff_per_minute.groupby('Minute')['PT_DIFF'].mean().reset_index()\n",
    "\n",
    "# Print the result\n",
    "print(average_diff_per_minute)"
   ]
  },
  {
   "cell_type": "code",
   "execution_count": 16,
   "id": "ee5ea7a9-89b0-401d-8595-2ca6ca689ade",
   "metadata": {},
   "outputs": [],
   "source": [
    "\n",
    "\n",
    "# Creating a DataFrame\n",
    "df = pd.read_csv('https://raw.githubusercontent.com/gabriel1200/shot_data/master/rotations/2019/1610612744.csv')\n",
    "\n",
    "df['start'] = df['IN_TIME_REAL']\n",
    "df['end'] = df['OUT_TIME_REAL']\n",
    "df['Player'] = df['PLAYER_FIRST']+' '+df['PLAYER_LAST'].str.split('-').str[0]\n",
    "df['start'] /=60\n",
    "df['end']/=60\n",
    "df['start'] =df['start'].astype(int)\n",
    "df['start'] =df['end'].astype(int)\n",
    "\n",
    "# Create a time grid for each minute in the game\n",
    "print(int(df['end'].max()))\n",
    "time_grid = pd.DataFrame({'Time': range(0, int(df['end'].max()), 10)})\n",
    "time_grid['Time'] = time_grid['Time'].astype(int)\n",
    "time_grid = time_grid.sort_values(by='Time')\n",
    "df.sort_values(by='start',inplace=True)\n",
    "#print(time_grid)\n",
    "# Merge the time grid with the original data to associate point differentials\n",
    "merged_df = pd.merge_asof(time_grid, df, left_on='Time', right_on='start', direction='backward')\n",
    "\n",
    "# Calculate the duration in minutes for each time grid entry\n",
    "merged_df['Duration'] = 0\n",
    "\n",
    "# Calculate the point differential per minute\n",
    "merged_df['+/- per Minute'] = merged_df['PT_DIFF'] / merged_df['Duration']\n",
    "print(merged_df)\n",
    "# Calculate the team's average +/- per minute for each 1-minute span\n",
    "average_plus_minus_per_minute = merged_df.groupby('Time')['+/- per Minute'].mean()\n",
    "print(average_diff_per_minute)\n",
    "print(\"Team's average +/- per minute for each 1-minute span:\")\n",
    "print(82* merged_df['+/- per Minute'].sum())"
   ]
  },
  {
   "cell_type": "code",
   "execution_count": 4,
   "id": "9f116c2d-b669-4b2f-b6f2-dd5766170062",
   "metadata": {},
   "outputs": [],
   "source": [
    "df = pd.read_csv('https://raw.githubusercontent.com/gabriel1200/shot_data/master/rotations/'+str(year)+'.csv')\n",
    "\n",
    "df['start'] = df['IN_TIME_REAL']"
   ]
  },
  {
   "cell_type": "code",
   "execution_count": 5,
   "id": "879d3637-e2b8-4b60-84f9-24f73d17fbf6",
   "metadata": {},
   "outputs": [],
   "source": [
    "team = team.upper()\n",
    "\n",
    "nba_teams = teams.get_teams()\n",
    "team_list= {}\n",
    "full_name = {}\n",
    "for org in nba_teams:\n",
    "    team_list[org['abbreviation']] = org['id']\n",
    "    full_name[org['abbreviation']] = org['full_name']\n"
   ]
  },
  {
   "cell_type": "code",
   "execution_count": 6,
   "id": "577b90ac-3350-48dc-b5b5-acbd17203a62",
   "metadata": {},
   "outputs": [],
   "source": [
    "list(team_list.keys())"
   ]
  },
  {
   "cell_type": "code",
   "execution_count": null,
   "id": "14ce4092-0ed9-4fe6-9f1a-c61c3eb30954",
   "metadata": {},
   "outputs": [],
   "source": []
  }
 ],
 "metadata": {
  "kernelspec": {
   "display_name": "Python 3 (ipykernel)",
   "language": "python",
   "name": "python3"
  },
  "language_info": {
   "codemirror_mode": {
    "name": "ipython",
    "version": 3
   },
   "file_extension": ".py",
   "mimetype": "text/x-python",
   "name": "python",
   "nbconvert_exporter": "python",
   "pygments_lexer": "ipython3",
   "version": "3.10.11"
  }
 },
 "nbformat": 4,
 "nbformat_minor": 5
}
