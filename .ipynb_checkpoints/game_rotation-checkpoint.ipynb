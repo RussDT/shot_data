{
 "cells": [
  {
   "cell_type": "code",
   "execution_count": 174,
   "id": "2b9c1631-b185-44af-b065-ff6d11135026",
   "metadata": {
    "tags": []
   },
   "outputs": [
    {
     "name": "stdout",
     "output_type": "stream",
     "text": [
      "404.56502099812786\n",
      "55\n"
     ]
    },
    {
     "data": {
      "application/vnd.plotly.v1+json": {
       "config": {
        "plotlyServerURL": "https://plot.ly"
       },
       "data": [
        {
         "colorbar": {
          "title": {
           "text": "Games<br>"
          }
         },
         "colorscale": [
          [
           0,
           "#000004"
          ],
          [
           0.1111111111111111,
           "#1b0c41"
          ],
          [
           0.2222222222222222,
           "#4a0c6b"
          ],
          [
           0.3333333333333333,
           "#781c6d"
          ],
          [
           0.4444444444444444,
           "#a52c60"
          ],
          [
           0.5555555555555556,
           "#cf4446"
          ],
          [
           0.6666666666666666,
           "#ed6925"
          ],
          [
           0.7777777777777778,
           "#fb9b06"
          ],
          [
           0.8888888888888888,
           "#f7d13d"
          ],
          [
           1,
           "#fcffa4"
          ]
         ],
         "name": "data",
         "type": "heatmap",
         "x": [
          0,
          1,
          2,
          3,
          4,
          5,
          6,
          7,
          8,
          9,
          10,
          11,
          12,
          13,
          14,
          15,
          16,
          17,
          18,
          19,
          20,
          21,
          22,
          23,
          24,
          25,
          26,
          27,
          28,
          29,
          30,
          31,
          32,
          33,
          34,
          35,
          36,
          37,
          38,
          39,
          40,
          41,
          42,
          43,
          44,
          45,
          46,
          47
         ],
         "xaxis": "x",
         "xgap": 10,
         "y": [
          "Josh Minott",
          "Jordan McLaughlin",
          "Troy Brown Jr.",
          "Shake Milton",
          "Naz Reid",
          "Kyle Anderson",
          "Jaden McDaniels",
          "Nickeil Alexander",
          "Mike Conley",
          "Anthony Edwards",
          "Karl-Anthony Towns",
          "Rudy Gobert"
         ],
         "yaxis": "y",
         "ygap": 15,
         "z": [
          [
           0,
           0,
           0,
           0,
           0,
           0,
           0,
           0,
           0,
           0,
           0,
           0,
           1,
           1,
           0,
           0,
           0,
           0,
           0,
           0,
           0,
           0,
           0,
           0,
           0,
           0,
           0,
           0,
           0,
           0,
           0,
           0,
           0,
           0,
           0,
           0,
           0,
           0,
           0,
           1,
           1,
           1,
           1,
           2,
           4,
           10,
           13,
           19
          ],
          [
           0,
           0,
           0,
           0,
           0,
           0,
           0,
           1,
           2,
           3,
           6,
           7,
           18,
           17,
           16,
           16,
           15,
           13,
           10,
           6,
           3,
           2,
           1,
           2,
           2,
           2,
           0,
           0,
           0,
           0,
           0,
           0,
           4,
           9,
           11,
           13,
           17,
           17,
           15,
           14,
           11,
           7,
           6,
           4,
           6,
           11,
           14,
           17
          ],
          [
           3,
           3,
           3,
           3,
           4,
           4,
           5,
           5,
           5,
           7,
           9,
           11,
           16,
           15,
           11,
           16,
           15,
           13,
           15,
           15,
           15,
           15,
           10,
           7,
           8,
           8,
           4,
           4,
           4,
           6,
           6,
           5,
           6,
           6,
           6,
           8,
           12,
           12,
           9,
           11,
           11,
           10,
           11,
           13,
           13,
           16,
           20,
           25
          ],
          [
           0,
           0,
           0,
           0,
           0,
           0,
           2,
           5,
           9,
           12,
           19,
           20,
           24,
           25,
           24,
           24,
           22,
           19,
           18,
           14,
           9,
           6,
           5,
           4,
           5,
           5,
           0,
           1,
           2,
           2,
           3,
           6,
           10,
           19,
           21,
           25,
           27,
           27,
           21,
           22,
           13,
           8,
           6,
           7,
           11,
           13,
           16,
           20
          ],
          [
           0,
           0,
           0,
           0,
           2,
           3,
           5,
           31,
           44,
           54,
           54,
           54,
           56,
           54,
           47,
           46,
           41,
           37,
           36,
           30,
           31,
           31,
           26,
           24,
           24,
           22,
           1,
           1,
           5,
           10,
           21,
           36,
           50,
           54,
           53,
           51,
           52,
           50,
           39,
           40,
           35,
           28,
           25,
           27,
           24,
           18,
           12,
           11
          ],
          [
           2,
           2,
           2,
           2,
           3,
           4,
           5,
           22,
           41,
           52,
           54,
           55,
           55,
           55,
           48,
           46,
           37,
           26,
           21,
           16,
           20,
           25,
           30,
           33,
           38,
           38,
           3,
           4,
           4,
           6,
           12,
           26,
           41,
           51,
           52,
           52,
           56,
           52,
           39,
           40,
           36,
           29,
           29,
           27,
           28,
           26,
           17,
           17
          ],
          [
           43,
           43,
           43,
           42,
           42,
           41,
           40,
           39,
           35,
           25,
           11,
           5,
           18,
           17,
           14,
           20,
           27,
           36,
           39,
           34,
           35,
           36,
           32,
           31,
           48,
           44,
           43,
           44,
           42,
           42,
           38,
           35,
           28,
           15,
           8,
           9,
           22,
           21,
           19,
           23,
           27,
           29,
           33,
           32,
           33,
           30,
           27,
           24
          ],
          [
           16,
           16,
           17,
           17,
           18,
           19,
           21,
           35,
           38,
           45,
           44,
           40,
           40,
           40,
           31,
           29,
           28,
           31,
           28,
           23,
           28,
           30,
           33,
           32,
           41,
           39,
           19,
           19,
           18,
           20,
           33,
           40,
           45,
           46,
           38,
           38,
           41,
           41,
           26,
           30,
           32,
           28,
           36,
           36,
           40,
           32,
           23,
           22
          ],
          [
           50,
           50,
           50,
           50,
           50,
           50,
           50,
           45,
           23,
           6,
           1,
           3,
           21,
           21,
           25,
           30,
           34,
           42,
           42,
           35,
           36,
           33,
           35,
           34,
           55,
           50,
           50,
           50,
           50,
           50,
           48,
           34,
           20,
           5,
           3,
           3,
           38,
           38,
           39,
           44,
           45,
           44,
           35,
           26,
           30,
           36,
           31,
           27
          ],
          [
           51,
           51,
           51,
           51,
           51,
           50,
           50,
           49,
           49,
           48,
           46,
           41,
           40,
           37,
           6,
           10,
           13,
           19,
           41,
           48,
           48,
           48,
           47,
           47,
           53,
           51,
           51,
           51,
           51,
           52,
           50,
           48,
           48,
           47,
           45,
           38,
           42,
           38,
           7,
           14,
           26,
           39,
           43,
           46,
           44,
           40,
           34,
           31
          ],
          [
           53,
           53,
           53,
           53,
           53,
           52,
           52,
           51,
           40,
           40,
           37,
           28,
           38,
           32,
           30,
           36,
           41,
           40,
           37,
           36,
           37,
           42,
           40,
           39,
           64,
           53,
           52,
           52,
           52,
           51,
           50,
           40,
           32,
           27,
           33,
           33,
           49,
           46,
           34,
           38,
           36,
           32,
           31,
           33,
           36,
           37,
           31,
           29
          ],
          [
           54,
           54,
           54,
           54,
           54,
           52,
           52,
           51,
           33,
           30,
           26,
           24,
           36,
           33,
           30,
           36,
           39,
           44,
           43,
           40,
           40,
           42,
           42,
           44,
           57,
           54,
           54,
           54,
           54,
           51,
           49,
           45,
           42,
           34,
           26,
           17,
           37,
           38,
           33,
           38,
           44,
           48,
           49,
           46,
           41,
           41,
           35,
           32
          ]
         ],
         "zmax": 55
        },
        {
         "colorbar": {
          "dtick": 0.1,
          "orientation": "h",
          "x": 0.5,
          "y": -0.15
         },
         "colorscale": [
          [
           0,
           "rgb(5,48,97)"
          ],
          [
           0.1,
           "rgb(33,102,172)"
          ],
          [
           0.2,
           "rgb(67,147,195)"
          ],
          [
           0.3,
           "rgb(146,197,222)"
          ],
          [
           0.4,
           "rgb(209,229,240)"
          ],
          [
           0.5,
           "rgb(247,247,247)"
          ],
          [
           0.6,
           "rgb(253,219,199)"
          ],
          [
           0.7,
           "rgb(244,165,130)"
          ],
          [
           0.8,
           "rgb(214,96,77)"
          ],
          [
           0.9,
           "rgb(178,24,43)"
          ],
          [
           1,
           "rgb(103,0,31)"
          ]
         ],
         "name": "data2",
         "type": "heatmap",
         "x": [
          0,
          1,
          2,
          3,
          4,
          5,
          6,
          7,
          8,
          9,
          10,
          11,
          12,
          13,
          14,
          15,
          16,
          17,
          18,
          19,
          20,
          21,
          22,
          23,
          24,
          25,
          26,
          27,
          28,
          29,
          30,
          31,
          32,
          33,
          34,
          35,
          36,
          37,
          38,
          39,
          40,
          41,
          42,
          43,
          44,
          45,
          46,
          47
         ],
         "xaxis": "x2",
         "xgap": 10,
         "y": [
          "+/-"
         ],
         "yaxis": "y2",
         "ygap": 15,
         "z": [
          [
           0.17871324621769438,
           0.17871324621769438,
           0.17568294318739136,
           0.17300586566368806,
           0.18364690355038993,
           0.1981046774486923,
           0.20149654907578787,
           0.22008659281697596,
           0.21366304458397004,
           0.18150448178548376,
           0.13841017022666374,
           0.09274517789661726,
           -0.0053364473921252,
           -0.02863883363911866,
           -0.06354030389305042,
           0.008735043005030836,
           0.10131477283012005,
           0.13768042260735788,
           0.14216954925383485,
           0.14338711254030456,
           0.15640679985077358,
           0.20577242871747758,
           0.14686119502827874,
           0.19794715798905257,
           0.23125211194303646,
           0.2437946870441189,
           0.25343138089663414,
           0.2608601289308653,
           0.2696998274733812,
           0.26882789213767694,
           0.24542509841768156,
           0.29819901089831874,
           0.25544734608562614,
           0.2595594426673938,
           0.2015308862267763,
           0.1551354480773278,
           0.14278379924186604,
           0.13132516297238903,
           0.08573410212491095,
           0.05640639748562957,
           0.14929075449794404,
           0.15966152265812103,
           0.15815401338380522,
           0.19443815142212348,
           0.1350620025434023,
           0.14492080956006206,
           0.09668624366954971,
           -0.006593033521058406
          ]
         ],
         "zmax": 0.25,
         "zmin": -0.25
        }
       ],
       "layout": {
        "font": {
         "color": "white",
         "size": 30
        },
        "height": 1200,
        "paper_bgcolor": "#211a1d",
        "plot_bgcolor": "#161415",
        "template": {
         "data": {
          "bar": [
           {
            "error_x": {
             "color": "#2a3f5f"
            },
            "error_y": {
             "color": "#2a3f5f"
            },
            "marker": {
             "line": {
              "color": "#E5ECF6",
              "width": 0.5
             },
             "pattern": {
              "fillmode": "overlay",
              "size": 10,
              "solidity": 0.2
             }
            },
            "type": "bar"
           }
          ],
          "barpolar": [
           {
            "marker": {
             "line": {
              "color": "#E5ECF6",
              "width": 0.5
             },
             "pattern": {
              "fillmode": "overlay",
              "size": 10,
              "solidity": 0.2
             }
            },
            "type": "barpolar"
           }
          ],
          "carpet": [
           {
            "aaxis": {
             "endlinecolor": "#2a3f5f",
             "gridcolor": "white",
             "linecolor": "white",
             "minorgridcolor": "white",
             "startlinecolor": "#2a3f5f"
            },
            "baxis": {
             "endlinecolor": "#2a3f5f",
             "gridcolor": "white",
             "linecolor": "white",
             "minorgridcolor": "white",
             "startlinecolor": "#2a3f5f"
            },
            "type": "carpet"
           }
          ],
          "choropleth": [
           {
            "colorbar": {
             "outlinewidth": 0,
             "ticks": ""
            },
            "type": "choropleth"
           }
          ],
          "contour": [
           {
            "colorbar": {
             "outlinewidth": 0,
             "ticks": ""
            },
            "colorscale": [
             [
              0,
              "#0d0887"
             ],
             [
              0.1111111111111111,
              "#46039f"
             ],
             [
              0.2222222222222222,
              "#7201a8"
             ],
             [
              0.3333333333333333,
              "#9c179e"
             ],
             [
              0.4444444444444444,
              "#bd3786"
             ],
             [
              0.5555555555555556,
              "#d8576b"
             ],
             [
              0.6666666666666666,
              "#ed7953"
             ],
             [
              0.7777777777777778,
              "#fb9f3a"
             ],
             [
              0.8888888888888888,
              "#fdca26"
             ],
             [
              1,
              "#f0f921"
             ]
            ],
            "type": "contour"
           }
          ],
          "contourcarpet": [
           {
            "colorbar": {
             "outlinewidth": 0,
             "ticks": ""
            },
            "type": "contourcarpet"
           }
          ],
          "heatmap": [
           {
            "colorbar": {
             "outlinewidth": 0,
             "ticks": ""
            },
            "colorscale": [
             [
              0,
              "#0d0887"
             ],
             [
              0.1111111111111111,
              "#46039f"
             ],
             [
              0.2222222222222222,
              "#7201a8"
             ],
             [
              0.3333333333333333,
              "#9c179e"
             ],
             [
              0.4444444444444444,
              "#bd3786"
             ],
             [
              0.5555555555555556,
              "#d8576b"
             ],
             [
              0.6666666666666666,
              "#ed7953"
             ],
             [
              0.7777777777777778,
              "#fb9f3a"
             ],
             [
              0.8888888888888888,
              "#fdca26"
             ],
             [
              1,
              "#f0f921"
             ]
            ],
            "type": "heatmap"
           }
          ],
          "heatmapgl": [
           {
            "colorbar": {
             "outlinewidth": 0,
             "ticks": ""
            },
            "colorscale": [
             [
              0,
              "#0d0887"
             ],
             [
              0.1111111111111111,
              "#46039f"
             ],
             [
              0.2222222222222222,
              "#7201a8"
             ],
             [
              0.3333333333333333,
              "#9c179e"
             ],
             [
              0.4444444444444444,
              "#bd3786"
             ],
             [
              0.5555555555555556,
              "#d8576b"
             ],
             [
              0.6666666666666666,
              "#ed7953"
             ],
             [
              0.7777777777777778,
              "#fb9f3a"
             ],
             [
              0.8888888888888888,
              "#fdca26"
             ],
             [
              1,
              "#f0f921"
             ]
            ],
            "type": "heatmapgl"
           }
          ],
          "histogram": [
           {
            "marker": {
             "pattern": {
              "fillmode": "overlay",
              "size": 10,
              "solidity": 0.2
             }
            },
            "type": "histogram"
           }
          ],
          "histogram2d": [
           {
            "colorbar": {
             "outlinewidth": 0,
             "ticks": ""
            },
            "colorscale": [
             [
              0,
              "#0d0887"
             ],
             [
              0.1111111111111111,
              "#46039f"
             ],
             [
              0.2222222222222222,
              "#7201a8"
             ],
             [
              0.3333333333333333,
              "#9c179e"
             ],
             [
              0.4444444444444444,
              "#bd3786"
             ],
             [
              0.5555555555555556,
              "#d8576b"
             ],
             [
              0.6666666666666666,
              "#ed7953"
             ],
             [
              0.7777777777777778,
              "#fb9f3a"
             ],
             [
              0.8888888888888888,
              "#fdca26"
             ],
             [
              1,
              "#f0f921"
             ]
            ],
            "type": "histogram2d"
           }
          ],
          "histogram2dcontour": [
           {
            "colorbar": {
             "outlinewidth": 0,
             "ticks": ""
            },
            "colorscale": [
             [
              0,
              "#0d0887"
             ],
             [
              0.1111111111111111,
              "#46039f"
             ],
             [
              0.2222222222222222,
              "#7201a8"
             ],
             [
              0.3333333333333333,
              "#9c179e"
             ],
             [
              0.4444444444444444,
              "#bd3786"
             ],
             [
              0.5555555555555556,
              "#d8576b"
             ],
             [
              0.6666666666666666,
              "#ed7953"
             ],
             [
              0.7777777777777778,
              "#fb9f3a"
             ],
             [
              0.8888888888888888,
              "#fdca26"
             ],
             [
              1,
              "#f0f921"
             ]
            ],
            "type": "histogram2dcontour"
           }
          ],
          "mesh3d": [
           {
            "colorbar": {
             "outlinewidth": 0,
             "ticks": ""
            },
            "type": "mesh3d"
           }
          ],
          "parcoords": [
           {
            "line": {
             "colorbar": {
              "outlinewidth": 0,
              "ticks": ""
             }
            },
            "type": "parcoords"
           }
          ],
          "pie": [
           {
            "automargin": true,
            "type": "pie"
           }
          ],
          "scatter": [
           {
            "fillpattern": {
             "fillmode": "overlay",
             "size": 10,
             "solidity": 0.2
            },
            "type": "scatter"
           }
          ],
          "scatter3d": [
           {
            "line": {
             "colorbar": {
              "outlinewidth": 0,
              "ticks": ""
             }
            },
            "marker": {
             "colorbar": {
              "outlinewidth": 0,
              "ticks": ""
             }
            },
            "type": "scatter3d"
           }
          ],
          "scattercarpet": [
           {
            "marker": {
             "colorbar": {
              "outlinewidth": 0,
              "ticks": ""
             }
            },
            "type": "scattercarpet"
           }
          ],
          "scattergeo": [
           {
            "marker": {
             "colorbar": {
              "outlinewidth": 0,
              "ticks": ""
             }
            },
            "type": "scattergeo"
           }
          ],
          "scattergl": [
           {
            "marker": {
             "colorbar": {
              "outlinewidth": 0,
              "ticks": ""
             }
            },
            "type": "scattergl"
           }
          ],
          "scattermapbox": [
           {
            "marker": {
             "colorbar": {
              "outlinewidth": 0,
              "ticks": ""
             }
            },
            "type": "scattermapbox"
           }
          ],
          "scatterpolar": [
           {
            "marker": {
             "colorbar": {
              "outlinewidth": 0,
              "ticks": ""
             }
            },
            "type": "scatterpolar"
           }
          ],
          "scatterpolargl": [
           {
            "marker": {
             "colorbar": {
              "outlinewidth": 0,
              "ticks": ""
             }
            },
            "type": "scatterpolargl"
           }
          ],
          "scatterternary": [
           {
            "marker": {
             "colorbar": {
              "outlinewidth": 0,
              "ticks": ""
             }
            },
            "type": "scatterternary"
           }
          ],
          "surface": [
           {
            "colorbar": {
             "outlinewidth": 0,
             "ticks": ""
            },
            "colorscale": [
             [
              0,
              "#0d0887"
             ],
             [
              0.1111111111111111,
              "#46039f"
             ],
             [
              0.2222222222222222,
              "#7201a8"
             ],
             [
              0.3333333333333333,
              "#9c179e"
             ],
             [
              0.4444444444444444,
              "#bd3786"
             ],
             [
              0.5555555555555556,
              "#d8576b"
             ],
             [
              0.6666666666666666,
              "#ed7953"
             ],
             [
              0.7777777777777778,
              "#fb9f3a"
             ],
             [
              0.8888888888888888,
              "#fdca26"
             ],
             [
              1,
              "#f0f921"
             ]
            ],
            "type": "surface"
           }
          ],
          "table": [
           {
            "cells": {
             "fill": {
              "color": "#EBF0F8"
             },
             "line": {
              "color": "white"
             }
            },
            "header": {
             "fill": {
              "color": "#C8D4E3"
             },
             "line": {
              "color": "white"
             }
            },
            "type": "table"
           }
          ]
         },
         "layout": {
          "annotationdefaults": {
           "arrowcolor": "#2a3f5f",
           "arrowhead": 0,
           "arrowwidth": 1
          },
          "autotypenumbers": "strict",
          "coloraxis": {
           "colorbar": {
            "outlinewidth": 0,
            "ticks": ""
           }
          },
          "colorscale": {
           "diverging": [
            [
             0,
             "#8e0152"
            ],
            [
             0.1,
             "#c51b7d"
            ],
            [
             0.2,
             "#de77ae"
            ],
            [
             0.3,
             "#f1b6da"
            ],
            [
             0.4,
             "#fde0ef"
            ],
            [
             0.5,
             "#f7f7f7"
            ],
            [
             0.6,
             "#e6f5d0"
            ],
            [
             0.7,
             "#b8e186"
            ],
            [
             0.8,
             "#7fbc41"
            ],
            [
             0.9,
             "#4d9221"
            ],
            [
             1,
             "#276419"
            ]
           ],
           "sequential": [
            [
             0,
             "#0d0887"
            ],
            [
             0.1111111111111111,
             "#46039f"
            ],
            [
             0.2222222222222222,
             "#7201a8"
            ],
            [
             0.3333333333333333,
             "#9c179e"
            ],
            [
             0.4444444444444444,
             "#bd3786"
            ],
            [
             0.5555555555555556,
             "#d8576b"
            ],
            [
             0.6666666666666666,
             "#ed7953"
            ],
            [
             0.7777777777777778,
             "#fb9f3a"
            ],
            [
             0.8888888888888888,
             "#fdca26"
            ],
            [
             1,
             "#f0f921"
            ]
           ],
           "sequentialminus": [
            [
             0,
             "#0d0887"
            ],
            [
             0.1111111111111111,
             "#46039f"
            ],
            [
             0.2222222222222222,
             "#7201a8"
            ],
            [
             0.3333333333333333,
             "#9c179e"
            ],
            [
             0.4444444444444444,
             "#bd3786"
            ],
            [
             0.5555555555555556,
             "#d8576b"
            ],
            [
             0.6666666666666666,
             "#ed7953"
            ],
            [
             0.7777777777777778,
             "#fb9f3a"
            ],
            [
             0.8888888888888888,
             "#fdca26"
            ],
            [
             1,
             "#f0f921"
            ]
           ]
          },
          "colorway": [
           "#636efa",
           "#EF553B",
           "#00cc96",
           "#ab63fa",
           "#FFA15A",
           "#19d3f3",
           "#FF6692",
           "#B6E880",
           "#FF97FF",
           "#FECB52"
          ],
          "font": {
           "color": "#2a3f5f"
          },
          "geo": {
           "bgcolor": "white",
           "lakecolor": "white",
           "landcolor": "#E5ECF6",
           "showlakes": true,
           "showland": true,
           "subunitcolor": "white"
          },
          "hoverlabel": {
           "align": "left"
          },
          "hovermode": "closest",
          "mapbox": {
           "style": "light"
          },
          "paper_bgcolor": "white",
          "plot_bgcolor": "#E5ECF6",
          "polar": {
           "angularaxis": {
            "gridcolor": "white",
            "linecolor": "white",
            "ticks": ""
           },
           "bgcolor": "#E5ECF6",
           "radialaxis": {
            "gridcolor": "white",
            "linecolor": "white",
            "ticks": ""
           }
          },
          "scene": {
           "xaxis": {
            "backgroundcolor": "#E5ECF6",
            "gridcolor": "white",
            "gridwidth": 2,
            "linecolor": "white",
            "showbackground": true,
            "ticks": "",
            "zerolinecolor": "white"
           },
           "yaxis": {
            "backgroundcolor": "#E5ECF6",
            "gridcolor": "white",
            "gridwidth": 2,
            "linecolor": "white",
            "showbackground": true,
            "ticks": "",
            "zerolinecolor": "white"
           },
           "zaxis": {
            "backgroundcolor": "#E5ECF6",
            "gridcolor": "white",
            "gridwidth": 2,
            "linecolor": "white",
            "showbackground": true,
            "ticks": "",
            "zerolinecolor": "white"
           }
          },
          "shapedefaults": {
           "line": {
            "color": "#2a3f5f"
           }
          },
          "ternary": {
           "aaxis": {
            "gridcolor": "white",
            "linecolor": "white",
            "ticks": ""
           },
           "baxis": {
            "gridcolor": "white",
            "linecolor": "white",
            "ticks": ""
           },
           "bgcolor": "#E5ECF6",
           "caxis": {
            "gridcolor": "white",
            "linecolor": "white",
            "ticks": ""
           }
          },
          "title": {
           "x": 0.05
          },
          "xaxis": {
           "automargin": true,
           "gridcolor": "white",
           "linecolor": "white",
           "ticks": "",
           "title": {
            "standoff": 15
           },
           "zerolinecolor": "white",
           "zerolinewidth": 2
          },
          "yaxis": {
           "automargin": true,
           "gridcolor": "white",
           "linecolor": "white",
           "ticks": "",
           "title": {
            "standoff": 15
           },
           "zerolinecolor": "white",
           "zerolinewidth": 2
          }
         }
        },
        "title": {
         "font": {
          "size": 35
         },
         "text": "Minnesota Timberwolves 2024 ",
         "x": 0.5
        },
        "width": 1800,
        "xaxis": {
         "anchor": "y",
         "autorange": true,
         "domain": [
          0,
          1
         ],
         "matches": "x2",
         "range": [
          -0.5,
          47.5
         ],
         "showgrid": false,
         "showticklabels": false,
         "tickfont": {
          "color": "white",
          "size": 24
         },
         "type": "linear",
         "zeroline": false
        },
        "xaxis2": {
         "anchor": "y2",
         "autorange": true,
         "domain": [
          0,
          1
         ],
         "range": [
          -0.5,
          47.5
         ],
         "showgrid": false,
         "tickfont": {
          "color": "white",
          "size": 24
         },
         "type": "linear",
         "zeroline": false
        },
        "yaxis": {
         "anchor": "x",
         "autorange": true,
         "domain": [
          0.1,
          1
         ],
         "range": [
          -0.5,
          11.5
         ],
         "showgrid": false,
         "tickfont": {
          "color": "white",
          "size": 24
         },
         "type": "category",
         "zeroline": false
        },
        "yaxis2": {
         "anchor": "x2",
         "autorange": true,
         "domain": [
          0,
          0.1
         ],
         "range": [
          -0.5,
          0.5
         ],
         "showgrid": false,
         "tickfont": {
          "color": "white",
          "size": 24
         },
         "type": "category",
         "zeroline": false
        }
       }
      },
      "image/png": "[encoded data removed]",
      "text/html": [
       "<div>                            <div id=\"bb16e04d-c58e-44e6-9170-ab3db0a738e9\" class=\"plotly-graph-div\" style=\"height:1200px; width:1800px;\"></div>            <script type=\"text/javascript\">                require([\"plotly\"], function(Plotly) {                    window.PLOTLYENV=window.PLOTLYENV || {};                                    if (document.getElementById(\"bb16e04d-c58e-44e6-9170-ab3db0a738e9\")) {                    Plotly.newPlot(                        \"bb16e04d-c58e-44e6-9170-ab3db0a738e9\",                        [{\"colorbar\":{\"title\":{\"text\":\"Games<br>\"}},\"colorscale\":[[0.0,\"#000004\"],[0.1111111111111111,\"#1b0c41\"],[0.2222222222222222,\"#4a0c6b\"],[0.3333333333333333,\"#781c6d\"],[0.4444444444444444,\"#a52c60\"],[0.5555555555555556,\"#cf4446\"],[0.6666666666666666,\"#ed6925\"],[0.7777777777777778,\"#fb9b06\"],[0.8888888888888888,\"#f7d13d\"],[1.0,\"#fcffa4\"]],\"name\":\"data\",\"x\":[0,1,2,3,4,5,6,7,8,9,10,11,12,13,14,15,16,17,18,19,20,21,22,23,24,25,26,27,28,29,30,31,32,33,34,35,36,37,38,39,40,41,42,43,44,45,46,47],\"xgap\":10,\"y\":[\"Josh Minott\",\"Jordan McLaughlin\",\"Troy Brown Jr.\",\"Shake Milton\",\"Naz Reid\",\"Kyle Anderson\",\"Jaden McDaniels\",\"Nickeil Alexander\",\"Mike Conley\",\"Anthony Edwards\",\"Karl-Anthony Towns\",\"Rudy Gobert\"],\"ygap\":15,\"z\":[[0.0,0.0,0.0,0.0,0.0,0.0,0.0,0.0,0.0,0.0,0.0,0.0,1.0,1.0,0.0,0.0,0.0,0.0,0.0,0.0,0.0,0.0,0.0,0.0,0.0,0.0,0.0,0.0,0.0,0.0,0.0,0.0,0.0,0.0,0.0,0.0,0.0,0.0,0.0,1.0,1.0,1.0,1.0,2.0,4.0,10.0,13.0,19.0],[0.0,0.0,0.0,0.0,0.0,0.0,0.0,1.0,2.0,3.0,6.0,7.0,18.0,17.0,16.0,16.0,15.0,13.0,10.0,6.0,3.0,2.0,1.0,2.0,2.0,2.0,0.0,0.0,0.0,0.0,0.0,0.0,4.0,9.0,11.0,13.0,17.0,17.0,15.0,14.0,11.0,7.0,6.0,4.0,6.0,11.0,14.0,17.0],[3.0,3.0,3.0,3.0,4.0,4.0,5.0,5.0,5.0,7.0,9.0,11.0,16.0,15.0,11.0,16.0,15.0,13.0,15.0,15.0,15.0,15.0,10.0,7.0,8.0,8.0,4.0,4.0,4.0,6.0,6.0,5.0,6.0,6.0,6.0,8.0,12.0,12.0,9.0,11.0,11.0,10.0,11.0,13.0,13.0,16.0,20.0,25.0],[0.0,0.0,0.0,0.0,0.0,0.0,2.0,5.0,9.0,12.0,19.0,20.0,24.0,25.0,24.0,24.0,22.0,19.0,18.0,14.0,9.0,6.0,5.0,4.0,5.0,5.0,0.0,1.0,2.0,2.0,3.0,6.0,10.0,19.0,21.0,25.0,27.0,27.0,21.0,22.0,13.0,8.0,6.0,7.0,11.0,13.0,16.0,20.0],[0.0,0.0,0.0,0.0,2.0,3.0,5.0,31.0,44.0,54.0,54.0,54.0,56.0,54.0,47.0,46.0,41.0,37.0,36.0,30.0,31.0,31.0,26.0,24.0,24.0,22.0,1.0,1.0,5.0,10.0,21.0,36.0,50.0,54.0,53.0,51.0,52.0,50.0,39.0,40.0,35.0,28.0,25.0,27.0,24.0,18.0,12.0,11.0],[2.0,2.0,2.0,2.0,3.0,4.0,5.0,22.0,41.0,52.0,54.0,55.0,55.0,55.0,48.0,46.0,37.0,26.0,21.0,16.0,20.0,25.0,30.0,33.0,38.0,38.0,3.0,4.0,4.0,6.0,12.0,26.0,41.0,51.0,52.0,52.0,56.0,52.0,39.0,40.0,36.0,29.0,29.0,27.0,28.0,26.0,17.0,17.0],[43.0,43.0,43.0,42.0,42.0,41.0,40.0,39.0,35.0,25.0,11.0,5.0,18.0,17.0,14.0,20.0,27.0,36.0,39.0,34.0,35.0,36.0,32.0,31.0,48.0,44.0,43.0,44.0,42.0,42.0,38.0,35.0,28.0,15.0,8.0,9.0,22.0,21.0,19.0,23.0,27.0,29.0,33.0,32.0,33.0,30.0,27.0,24.0],[16.0,16.0,17.0,17.0,18.0,19.0,21.0,35.0,38.0,45.0,44.0,40.0,40.0,40.0,31.0,29.0,28.0,31.0,28.0,23.0,28.0,30.0,33.0,32.0,41.0,39.0,19.0,19.0,18.0,20.0,33.0,40.0,45.0,46.0,38.0,38.0,41.0,41.0,26.0,30.0,32.0,28.0,36.0,36.0,40.0,32.0,23.0,22.0],[50.0,50.0,50.0,50.0,50.0,50.0,50.0,45.0,23.0,6.0,1.0,3.0,21.0,21.0,25.0,30.0,34.0,42.0,42.0,35.0,36.0,33.0,35.0,34.0,55.0,50.0,50.0,50.0,50.0,50.0,48.0,34.0,20.0,5.0,3.0,3.0,38.0,38.0,39.0,44.0,45.0,44.0,35.0,26.0,30.0,36.0,31.0,27.0],[51.0,51.0,51.0,51.0,51.0,50.0,50.0,49.0,49.0,48.0,46.0,41.0,40.0,37.0,6.0,10.0,13.0,19.0,41.0,48.0,48.0,48.0,47.0,47.0,53.0,51.0,51.0,51.0,51.0,52.0,50.0,48.0,48.0,47.0,45.0,38.0,42.0,38.0,7.0,14.0,26.0,39.0,43.0,46.0,44.0,40.0,34.0,31.0],[53.0,53.0,53.0,53.0,53.0,52.0,52.0,51.0,40.0,40.0,37.0,28.0,38.0,32.0,30.0,36.0,41.0,40.0,37.0,36.0,37.0,42.0,40.0,39.0,64.0,53.0,52.0,52.0,52.0,51.0,50.0,40.0,32.0,27.0,33.0,33.0,49.0,46.0,34.0,38.0,36.0,32.0,31.0,33.0,36.0,37.0,31.0,29.0],[54.0,54.0,54.0,54.0,54.0,52.0,52.0,51.0,33.0,30.0,26.0,24.0,36.0,33.0,30.0,36.0,39.0,44.0,43.0,40.0,40.0,42.0,42.0,44.0,57.0,54.0,54.0,54.0,54.0,51.0,49.0,45.0,42.0,34.0,26.0,17.0,37.0,38.0,33.0,38.0,44.0,48.0,49.0,46.0,41.0,41.0,35.0,32.0]],\"zmax\":55,\"type\":\"heatmap\",\"xaxis\":\"x\",\"yaxis\":\"y\"},{\"colorbar\":{\"dtick\":0.1,\"orientation\":\"h\",\"y\":-0.15},\"colorscale\":[[0.0,\"rgb(5,48,97)\"],[0.1,\"rgb(33,102,172)\"],[0.2,\"rgb(67,147,195)\"],[0.3,\"rgb(146,197,222)\"],[0.4,\"rgb(209,229,240)\"],[0.5,\"rgb(247,247,247)\"],[0.6,\"rgb(253,219,199)\"],[0.7,\"rgb(244,165,130)\"],[0.8,\"rgb(214,96,77)\"],[0.9,\"rgb(178,24,43)\"],[1.0,\"rgb(103,0,31)\"]],\"name\":\"data2\",\"x\":[0,1,2,3,4,5,6,7,8,9,10,11,12,13,14,15,16,17,18,19,20,21,22,23,24,25,26,27,28,29,30,31,32,33,34,35,36,37,38,39,40,41,42,43,44,45,46,47],\"xgap\":10,\"y\":[\"+/-\"],\"ygap\":15,\"z\":[[0.17871324621769438,0.17871324621769438,0.17568294318739136,0.17300586566368806,0.18364690355038993,0.1981046774486923,0.20149654907578787,0.22008659281697596,0.21366304458397004,0.18150448178548376,0.13841017022666374,0.09274517789661726,-0.0053364473921252,-0.02863883363911866,-0.06354030389305042,0.008735043005030836,0.10131477283012005,0.13768042260735788,0.14216954925383485,0.14338711254030456,0.15640679985077358,0.20577242871747758,0.14686119502827874,0.19794715798905257,0.23125211194303646,0.2437946870441189,0.25343138089663414,0.2608601289308653,0.2696998274733812,0.26882789213767694,0.24542509841768156,0.29819901089831874,0.25544734608562614,0.2595594426673938,0.2015308862267763,0.1551354480773278,0.14278379924186604,0.13132516297238903,0.08573410212491095,0.05640639748562957,0.14929075449794404,0.15966152265812103,0.15815401338380522,0.19443815142212348,0.1350620025434023,0.14492080956006206,0.09668624366954971,-0.006593033521058406]],\"zmax\":0.25,\"zmin\":-0.25,\"type\":\"heatmap\",\"xaxis\":\"x2\",\"yaxis\":\"y2\"}],                        {\"template\":{\"data\":{\"histogram2dcontour\":[{\"type\":\"histogram2dcontour\",\"colorbar\":{\"outlinewidth\":0,\"ticks\":\"\"},\"colorscale\":[[0.0,\"#0d0887\"],[0.1111111111111111,\"#46039f\"],[0.2222222222222222,\"#7201a8\"],[0.3333333333333333,\"#9c179e\"],[0.4444444444444444,\"#bd3786\"],[0.5555555555555556,\"#d8576b\"],[0.6666666666666666,\"#ed7953\"],[0.7777777777777778,\"#fb9f3a\"],[0.8888888888888888,\"#fdca26\"],[1.0,\"#f0f921\"]]}],\"choropleth\":[{\"type\":\"choropleth\",\"colorbar\":{\"outlinewidth\":0,\"ticks\":\"\"}}],\"histogram2d\":[{\"type\":\"histogram2d\",\"colorbar\":{\"outlinewidth\":0,\"ticks\":\"\"},\"colorscale\":[[0.0,\"#0d0887\"],[0.1111111111111111,\"#46039f\"],[0.2222222222222222,\"#7201a8\"],[0.3333333333333333,\"#9c179e\"],[0.4444444444444444,\"#bd3786\"],[0.5555555555555556,\"#d8576b\"],[0.6666666666666666,\"#ed7953\"],[0.7777777777777778,\"#fb9f3a\"],[0.8888888888888888,\"#fdca26\"],[1.0,\"#f0f921\"]]}],\"heatmap\":[{\"type\":\"heatmap\",\"colorbar\":{\"outlinewidth\":0,\"ticks\":\"\"},\"colorscale\":[[0.0,\"#0d0887\"],[0.1111111111111111,\"#46039f\"],[0.2222222222222222,\"#7201a8\"],[0.3333333333333333,\"#9c179e\"],[0.4444444444444444,\"#bd3786\"],[0.5555555555555556,\"#d8576b\"],[0.6666666666666666,\"#ed7953\"],[0.7777777777777778,\"#fb9f3a\"],[0.8888888888888888,\"#fdca26\"],[1.0,\"#f0f921\"]]}],\"heatmapgl\":[{\"type\":\"heatmapgl\",\"colorbar\":{\"outlinewidth\":0,\"ticks\":\"\"},\"colorscale\":[[0.0,\"#0d0887\"],[0.1111111111111111,\"#46039f\"],[0.2222222222222222,\"#7201a8\"],[0.3333333333333333,\"#9c179e\"],[0.4444444444444444,\"#bd3786\"],[0.5555555555555556,\"#d8576b\"],[0.6666666666666666,\"#ed7953\"],[0.7777777777777778,\"#fb9f3a\"],[0.8888888888888888,\"#fdca26\"],[1.0,\"#f0f921\"]]}],\"contourcarpet\":[{\"type\":\"contourcarpet\",\"colorbar\":{\"outlinewidth\":0,\"ticks\":\"\"}}],\"contour\":[{\"type\":\"contour\",\"colorbar\":{\"outlinewidth\":0,\"ticks\":\"\"},\"colorscale\":[[0.0,\"#0d0887\"],[0.1111111111111111,\"#46039f\"],[0.2222222222222222,\"#7201a8\"],[0.3333333333333333,\"#9c179e\"],[0.4444444444444444,\"#bd3786\"],[0.5555555555555556,\"#d8576b\"],[0.6666666666666666,\"#ed7953\"],[0.7777777777777778,\"#fb9f3a\"],[0.8888888888888888,\"#fdca26\"],[1.0,\"#f0f921\"]]}],\"surface\":[{\"type\":\"surface\",\"colorbar\":{\"outlinewidth\":0,\"ticks\":\"\"},\"colorscale\":[[0.0,\"#0d0887\"],[0.1111111111111111,\"#46039f\"],[0.2222222222222222,\"#7201a8\"],[0.3333333333333333,\"#9c179e\"],[0.4444444444444444,\"#bd3786\"],[0.5555555555555556,\"#d8576b\"],[0.6666666666666666,\"#ed7953\"],[0.7777777777777778,\"#fb9f3a\"],[0.8888888888888888,\"#fdca26\"],[1.0,\"#f0f921\"]]}],\"mesh3d\":[{\"type\":\"mesh3d\",\"colorbar\":{\"outlinewidth\":0,\"ticks\":\"\"}}],\"scatter\":[{\"fillpattern\":{\"fillmode\":\"overlay\",\"size\":10,\"solidity\":0.2},\"type\":\"scatter\"}],\"parcoords\":[{\"type\":\"parcoords\",\"line\":{\"colorbar\":{\"outlinewidth\":0,\"ticks\":\"\"}}}],\"scatterpolargl\":[{\"type\":\"scatterpolargl\",\"marker\":{\"colorbar\":{\"outlinewidth\":0,\"ticks\":\"\"}}}],\"bar\":[{\"error_x\":{\"color\":\"#2a3f5f\"},\"error_y\":{\"color\":\"#2a3f5f\"},\"marker\":{\"line\":{\"color\":\"#E5ECF6\",\"width\":0.5},\"pattern\":{\"fillmode\":\"overlay\",\"size\":10,\"solidity\":0.2}},\"type\":\"bar\"}],\"scattergeo\":[{\"type\":\"scattergeo\",\"marker\":{\"colorbar\":{\"outlinewidth\":0,\"ticks\":\"\"}}}],\"scatterpolar\":[{\"type\":\"scatterpolar\",\"marker\":{\"colorbar\":{\"outlinewidth\":0,\"ticks\":\"\"}}}],\"histogram\":[{\"marker\":{\"pattern\":{\"fillmode\":\"overlay\",\"size\":10,\"solidity\":0.2}},\"type\":\"histogram\"}],\"scattergl\":[{\"type\":\"scattergl\",\"marker\":{\"colorbar\":{\"outlinewidth\":0,\"ticks\":\"\"}}}],\"scatter3d\":[{\"type\":\"scatter3d\",\"line\":{\"colorbar\":{\"outlinewidth\":0,\"ticks\":\"\"}},\"marker\":{\"colorbar\":{\"outlinewidth\":0,\"ticks\":\"\"}}}],\"scattermapbox\":[{\"type\":\"scattermapbox\",\"marker\":{\"colorbar\":{\"outlinewidth\":0,\"ticks\":\"\"}}}],\"scatterternary\":[{\"type\":\"scatterternary\",\"marker\":{\"colorbar\":{\"outlinewidth\":0,\"ticks\":\"\"}}}],\"scattercarpet\":[{\"type\":\"scattercarpet\",\"marker\":{\"colorbar\":{\"outlinewidth\":0,\"ticks\":\"\"}}}],\"carpet\":[{\"aaxis\":{\"endlinecolor\":\"#2a3f5f\",\"gridcolor\":\"white\",\"linecolor\":\"white\",\"minorgridcolor\":\"white\",\"startlinecolor\":\"#2a3f5f\"},\"baxis\":{\"endlinecolor\":\"#2a3f5f\",\"gridcolor\":\"white\",\"linecolor\":\"white\",\"minorgridcolor\":\"white\",\"startlinecolor\":\"#2a3f5f\"},\"type\":\"carpet\"}],\"table\":[{\"cells\":{\"fill\":{\"color\":\"#EBF0F8\"},\"line\":{\"color\":\"white\"}},\"header\":{\"fill\":{\"color\":\"#C8D4E3\"},\"line\":{\"color\":\"white\"}},\"type\":\"table\"}],\"barpolar\":[{\"marker\":{\"line\":{\"color\":\"#E5ECF6\",\"width\":0.5},\"pattern\":{\"fillmode\":\"overlay\",\"size\":10,\"solidity\":0.2}},\"type\":\"barpolar\"}],\"pie\":[{\"automargin\":true,\"type\":\"pie\"}]},\"layout\":{\"autotypenumbers\":\"strict\",\"colorway\":[\"#636efa\",\"#EF553B\",\"#00cc96\",\"#ab63fa\",\"#FFA15A\",\"#19d3f3\",\"#FF6692\",\"#B6E880\",\"#FF97FF\",\"#FECB52\"],\"font\":{\"color\":\"#2a3f5f\"},\"hovermode\":\"closest\",\"hoverlabel\":{\"align\":\"left\"},\"paper_bgcolor\":\"white\",\"plot_bgcolor\":\"#E5ECF6\",\"polar\":{\"bgcolor\":\"#E5ECF6\",\"angularaxis\":{\"gridcolor\":\"white\",\"linecolor\":\"white\",\"ticks\":\"\"},\"radialaxis\":{\"gridcolor\":\"white\",\"linecolor\":\"white\",\"ticks\":\"\"}},\"ternary\":{\"bgcolor\":\"#E5ECF6\",\"aaxis\":{\"gridcolor\":\"white\",\"linecolor\":\"white\",\"ticks\":\"\"},\"baxis\":{\"gridcolor\":\"white\",\"linecolor\":\"white\",\"ticks\":\"\"},\"caxis\":{\"gridcolor\":\"white\",\"linecolor\":\"white\",\"ticks\":\"\"}},\"coloraxis\":{\"colorbar\":{\"outlinewidth\":0,\"ticks\":\"\"}},\"colorscale\":{\"sequential\":[[0.0,\"#0d0887\"],[0.1111111111111111,\"#46039f\"],[0.2222222222222222,\"#7201a8\"],[0.3333333333333333,\"#9c179e\"],[0.4444444444444444,\"#bd3786\"],[0.5555555555555556,\"#d8576b\"],[0.6666666666666666,\"#ed7953\"],[0.7777777777777778,\"#fb9f3a\"],[0.8888888888888888,\"#fdca26\"],[1.0,\"#f0f921\"]],\"sequentialminus\":[[0.0,\"#0d0887\"],[0.1111111111111111,\"#46039f\"],[0.2222222222222222,\"#7201a8\"],[0.3333333333333333,\"#9c179e\"],[0.4444444444444444,\"#bd3786\"],[0.5555555555555556,\"#d8576b\"],[0.6666666666666666,\"#ed7953\"],[0.7777777777777778,\"#fb9f3a\"],[0.8888888888888888,\"#fdca26\"],[1.0,\"#f0f921\"]],\"diverging\":[[0,\"#8e0152\"],[0.1,\"#c51b7d\"],[0.2,\"#de77ae\"],[0.3,\"#f1b6da\"],[0.4,\"#fde0ef\"],[0.5,\"#f7f7f7\"],[0.6,\"#e6f5d0\"],[0.7,\"#b8e186\"],[0.8,\"#7fbc41\"],[0.9,\"#4d9221\"],[1,\"#276419\"]]},\"xaxis\":{\"gridcolor\":\"white\",\"linecolor\":\"white\",\"ticks\":\"\",\"title\":{\"standoff\":15},\"zerolinecolor\":\"white\",\"automargin\":true,\"zerolinewidth\":2},\"yaxis\":{\"gridcolor\":\"white\",\"linecolor\":\"white\",\"ticks\":\"\",\"title\":{\"standoff\":15},\"zerolinecolor\":\"white\",\"automargin\":true,\"zerolinewidth\":2},\"scene\":{\"xaxis\":{\"backgroundcolor\":\"#E5ECF6\",\"gridcolor\":\"white\",\"linecolor\":\"white\",\"showbackground\":true,\"ticks\":\"\",\"zerolinecolor\":\"white\",\"gridwidth\":2},\"yaxis\":{\"backgroundcolor\":\"#E5ECF6\",\"gridcolor\":\"white\",\"linecolor\":\"white\",\"showbackground\":true,\"ticks\":\"\",\"zerolinecolor\":\"white\",\"gridwidth\":2},\"zaxis\":{\"backgroundcolor\":\"#E5ECF6\",\"gridcolor\":\"white\",\"linecolor\":\"white\",\"showbackground\":true,\"ticks\":\"\",\"zerolinecolor\":\"white\",\"gridwidth\":2}},\"shapedefaults\":{\"line\":{\"color\":\"#2a3f5f\"}},\"annotationdefaults\":{\"arrowcolor\":\"#2a3f5f\",\"arrowhead\":0,\"arrowwidth\":1},\"geo\":{\"bgcolor\":\"white\",\"landcolor\":\"#E5ECF6\",\"subunitcolor\":\"white\",\"showland\":true,\"showlakes\":true,\"lakecolor\":\"white\"},\"title\":{\"x\":0.05},\"mapbox\":{\"style\":\"light\"}}},\"xaxis\":{\"anchor\":\"y\",\"domain\":[0.0,1.0],\"matches\":\"x2\",\"showticklabels\":false,\"tickfont\":{\"color\":\"white\",\"size\":24},\"showgrid\":false,\"zeroline\":false},\"yaxis\":{\"anchor\":\"x\",\"domain\":[0.1,1.0],\"tickfont\":{\"color\":\"white\",\"size\":24},\"showgrid\":false,\"zeroline\":false},\"xaxis2\":{\"anchor\":\"y2\",\"domain\":[0.0,1.0],\"tickfont\":{\"color\":\"white\",\"size\":24},\"showgrid\":false,\"zeroline\":false},\"yaxis2\":{\"anchor\":\"x2\",\"domain\":[0.0,0.1],\"tickfont\":{\"color\":\"white\",\"size\":24},\"showgrid\":false,\"zeroline\":false},\"title\":{\"text\":\"Minnesota Timberwolves 2024 \",\"font\":{\"size\":35},\"x\":0.5},\"font\":{\"color\":\"white\",\"size\":30},\"plot_bgcolor\":\"#161415\",\"paper_bgcolor\":\"#211a1d\",\"width\":1800,\"height\":1200},                        {\"responsive\": true}                    ).then(function(){\n",
       "                            \n",
       "var gd = document.getElementById('bb16e04d-c58e-44e6-9170-ab3db0a738e9');\n",
       "var x = new MutationObserver(function (mutations, observer) {{\n",
       "        var display = window.getComputedStyle(gd).display;\n",
       "        if (!display || display === 'none') {{\n",
       "            console.log([gd, 'removed!']);\n",
       "            Plotly.purge(gd);\n",
       "            observer.disconnect();\n",
       "        }}\n",
       "}});\n",
       "\n",
       "// Listen for the removal of the full notebook cells\n",
       "var notebookContainer = gd.closest('#notebook-container');\n",
       "if (notebookContainer) {{\n",
       "    x.observe(notebookContainer, {childList: true});\n",
       "}}\n",
       "\n",
       "// Listen for the clearing of the current output cell\n",
       "var outputEl = gd.closest('.output');\n",
       "if (outputEl) {{\n",
       "    x.observe(outputEl, {childList: true});\n",
       "}}\n",
       "\n",
       "                        })                };                });            </script>        </div>"
      ]
     },
     "metadata": {},
     "output_type": "display_data"
    }
   ],
   "source": [
    "import matplotlib.pyplot as plt\n",
    "import numpy as np\n",
    "import pandas as pd\n",
    "from nba_api.stats.static import players,teams\n",
    "import plotly.graph_objects as go\n",
    "import time\n",
    "from plotly.subplots import make_subplots\n",
    "\n",
    "'''\n",
    "def update_matrices(row):\n",
    "\n",
    "    player = row['Player']\n",
    "    start_minute = row['start']\n",
    "    end_minute = row['end']\n",
    "    plus_minus = row['PT_DIFF']\n",
    "\n",
    "    # Increment the matrix based on player on-court times\n",
    "    minutes_played_matrix.loc[player, start_minute:end_minute] += 1\n",
    "\n",
    "    # Increment the plus_minus_matrix based on player on-court times\n",
    "    plus_minus_matrix.loc[player, start_minute:end_minute] += plus_minus\n",
    "'''\n",
    "\n",
    "def convert_date(year,date):\n",
    "    \n",
    "    month,day = date.split('/')\n",
    "    month = int(month)\n",
    "    day = int(day)\n",
    "    \n",
    "    if month >8:\n",
    "        year-=1\n",
    "    game_date = int(year)*10000 + month*100+day\n",
    "    return game_date\n",
    "def graph_srotation(team,year,ps=False,start_date='',end_date = ''):\n",
    "    carry = ''\n",
    "    if ps ==True:\n",
    "        carry='ps'\n",
    "\n",
    "    team = team.upper()\n",
    "\n",
    "    nba_teams = teams.get_teams()\n",
    "    team_list= {}\n",
    "    full_name = {}\n",
    "    for org in nba_teams:\n",
    "        team_list[org['abbreviation']] = org['id']\n",
    "        full_name[org['abbreviation']] = org['full_name']\n",
    "    \n",
    "    \n",
    "\n",
    "    team_id = team_list[team]\n",
    "\n",
    "\n",
    "    url='https://raw.githubusercontent.com/gabriel1200/shot_data/master/rotations/'+str(year)+carry+'/'+str(team_id)+'.csv'\n",
    "    #print(url)\n",
    "    title = full_name[team]+ ' '+str(year)+ ' '+carry.upper()\n",
    "    df = pd.read_csv(url)\n",
    "    # Convert the times to seconds\n",
    "    df['start'] = df['IN_TIME_REAL']\n",
    "    df['end'] = df['OUT_TIME_REAL']\n",
    "    df['Player'] = df['PLAYER_FIRST']+' '+df['PLAYER_LAST'].str.split('-').str[0]\n",
    "    df['start'] /=600\n",
    "    df['end']/=600\n",
    "    #print(df['end'].max())\n",
    "    #print(df['start'].min())\n",
    "    #df =df.drop_duplicates()\n",
    "\n",
    "\n",
    "    #print(len(df))\n",
    "    \n",
    "    if start_date!='' or end_date!='':\n",
    "        title =  title+'<br>'\n",
    "        fields=['GAME_ID','GAME_DATE']\n",
    "        shot_url = 'https://raw.githubusercontent.com/gabriel1200/shot_data/master/team/'+str(year)+carry+'/'+str(team_id)+'.csv'\n",
    "        shotmap = pd.read_csv(shot_url,usecols=fields)\n",
    "        shotmap = shotmap.drop_duplicates()\n",
    "        games = shotmap.sort_values(by='GAME_DATE').reset_index(drop=True)\n",
    "        if start_date !='':\n",
    "            start_index = convert_date(year,start_date)\n",
    "            title = title+ 'From: '+start_date\n",
    "        if end_date !='':\n",
    "            end_index = convert_date(year, end_date)\n",
    "            title = title+' To '+end_date\n",
    "        if start_date =='':\n",
    "            start_index = games.iloc[0]['GAME_DATE']\n",
    "        if end_date =='':\n",
    "            end_index = games.iloc[-1]['GAME_DATE']\n",
    "            \n",
    "        games = games[(games.GAME_DATE<=end_index) &(games.GAME_DATE>=start_index)]\n",
    "        \n",
    "        game_range = games.GAME_ID.tolist()\n",
    "        \n",
    "        df = df[df.GAME_ID.isin(game_range)]\n",
    "        \n",
    "    maxgp = len(df.GAME_ID.unique())\n",
    "    \n",
    "    #print(gp)\n",
    "    game_count =df.drop_duplicates(subset=['GAME_ID','PERSON_ID','Player'])\n",
    "    \n",
    "    player_count = game_count.groupby('PERSON_ID').count()[['GAME_ID']].reset_index()\n",
    "    player_count.columns = ['PERSON_ID','GP']\n",
    "    player_dict = dict(zip(player_count['PERSON_ID'], player_count['GP']))\n",
    "\n",
    "    max_end_minute =int( df['end'].max())\n",
    "    #print(int( df['start'].min()))\n",
    "    #max_end_minute=48\n",
    "    players = df['Player'].unique()\n",
    "    \n",
    "    # Use pd.cut to create intervals and groupby to perform the summation\n",
    "\n",
    "    # Print or use the result as needed\n",
    "    #print(test_matrix)\n",
    "    # Create an empty matrix to represent player minutes played\n",
    "\n",
    "    #start_time1 = time.time()\n",
    "    step = 1\n",
    "    \n",
    "    minutes_played_matrix=  pd.DataFrame(index=players, columns=[i for i in range(0,max_end_minute,step)], data=float(0))\n",
    "    \n",
    "    #plus_minus_matrix=  pd.DataFrame(index=players, columns=[i for i in range(max_end_minute + 1)], data=0)\n",
    "\n",
    "\n",
    "    plus_minus_matrix=  pd.DataFrame(index=players, columns=[i for i in range(0,max_end_minute,step)], data=float(0))\n",
    "    #df['interval'] = df.apply(lambda row: pd.Interval(row['start'], row['end'], closed='right'), axis=1)\n",
    "    #df.apply(update_matrices, axis=1)\n",
    "    #print(minutes_played_matrix)\n",
    "    #end_time1 = time.time()\n",
    "\n",
    "    #df['interval'] = df.apply(lambda row: pd.interval_range(row['start'], row['end'], freq=1), axis=1)\n",
    "\n",
    "    # Increment the matrix based on player on-court times\n",
    "    #minutes_played_matrix = df.groupby(['Player', 'interval']).size().unstack(fill_value=0).cumsum(axis=1)\n",
    "\n",
    "    # Increment the plus_minus_matrix based on player on-court times\n",
    "    #plus_minus_matrix = df.groupby(['Player', 'interval'])['PT_DIFF'].sum().unstack(fill_value=0).cumsum(axis=1)\n",
    "    #print(minutes_played_matrix)\n",
    "\n",
    "\n",
    "    # Increment the matrix based on player on-court times\n",
    "    #print(player_dict)\n",
    "    for _, row in df.iterrows():\n",
    "        pid = row['PERSON_ID']\n",
    "        player = row['Player']\n",
    "        start_minute = row['start']\n",
    "        end_minute = row['end']+1\n",
    "        plus_minus = row['PT_DIFF']\n",
    "        gp =player_dict[pid]\n",
    "\n",
    "        minutes_played_matrix.loc[player, start_minute:end_minute] += 1\n",
    "        value = plus_minus\n",
    "        if end_minute>start_minute:\n",
    "            value =(plus_minus/(end_minute-start_minute))\n",
    "        elif start_minute==end_minute:\n",
    "            value=0\n",
    "        plus_minus_matrix.loc[player, start_minute:end_minute] += float(value)\n",
    "    '''\n",
    "    print(plus_minus_matrix.iloc[2])\n",
    "    print(plus_minus_matrix.iloc[2][0:20])\n",
    "\n",
    "    print(plus_minus_matrix.iloc[2].sum())\n",
    "    print(plus_minus_matrix.iloc[3])\n",
    "    print(plus_minus_matrix.iloc[3].sum())\n",
    "    print(plus_minus_matrix.iloc[4])\n",
    "    print(plus_minus_matrix.iloc[4].sum())\n",
    "    print(plus_minus_matrix.iloc[5])\n",
    "    print(plus_minus_matrix.iloc[5].sum())\n",
    "    '''\n",
    "\n",
    "    minutes_played_matrix['total']= minutes_played_matrix.iloc[:].sum(axis=1)\n",
    "    minutes_played_matrix.sort_values(by='total',inplace=True,ascending=True)\n",
    "    minutes_played_matrix = minutes_played_matrix.tail(12)\n",
    "\n",
    "    minutes_played_matrix = minutes_played_matrix[[i for i in range(0,48,step)]]\n",
    "    #plus_minus_matrix = plus_minus_matrix[[i for i in range(0,48,step)]]\n",
    "    \n",
    "    \n",
    "\n",
    "\n",
    "\n",
    "    total_plus = plus_minus_matrix.sum()\n",
    "\n",
    "    total_plus/=5\n",
    "    print(total_plus.sum())\n",
    "    total_plus/=maxgp\n",
    "    \n",
    "    #print(total_plus)\n",
    "    #print(total_plus.sum())\n",
    "\n",
    "    \n",
    "    total_plus = total_plus.reset_index(drop=True)\n",
    "    \n",
    "    \n",
    "    data= []\n",
    "    for val in total_plus:\n",
    "        data.append(val)\n",
    "\n",
    "    pmdata = [data[0:48]]\n",
    "    \n",
    "    #print(pmdata)\n",
    " \n",
    "\n",
    "    #plus_row = pd.DataFrame(index=['+/-'], columns=total_plus.index.tolist(), data=total_plus.values.tolist())\n",
    "    #minutes_played_matrix=minutes_played_matrix[minutes_played_matrix['total']>300]\n",
    "    \n",
    "    #print(plus_minus_matrix)\n",
    "    #print(minutes_played_matrix['total'])\n",
    "    #minutes_played_matrix.drop(columns='total',inplace=True)\n",
    "    \n",
    "    #print(plus_minus_matrix.iloc[0].sum())\n",
    "\n",
    "    # Create the heatmap\n",
    "    #minutes_played_matrix.sort_index(axis=22,inplace=True)\n",
    "\n",
    "    #print(minutes_played_matrix)\n",
    "\n",
    "    fig = make_subplots(rows=2,cols=1,row_heights=[0.9, 0.1],shared_yaxes=True,shared_xaxes=True,vertical_spacing=0)\n",
    "    fig.add_trace(go.Heatmap(z=minutes_played_matrix.values,\n",
    "                                    x=minutes_played_matrix.columns,\n",
    "                                    y=minutes_played_matrix.index,\n",
    "                                     name = 'data',\n",
    "                                     zmax = maxgp,\n",
    "                                    xgap=10,\n",
    "                                    ygap=15,\n",
    "                                    type='heatmap',\n",
    "                                    colorscale='icy',\n",
    "                                     colorbar=dict(\n",
    "                title=\"Games<br>\")\n",
    "\n",
    "\n",
    "            ),row=1,col=1)\n",
    "    fig.add_trace(go.Heatmap(z=pmdata,\n",
    "                                    x=minutes_played_matrix.columns,\n",
    "                                    y=['+/-'],\n",
    "                                    xgap=10,\n",
    "                                    ygap=15,\n",
    "                                     zmin=-.25,\n",
    "                                    zmax=.25,\n",
    "                                     name='data2',\n",
    "                                    type='heatmap',\n",
    "                                    colorscale='PuOr',\n",
    "                             colorbar = dict(y=-.15,\n",
    "                                             dtick=.1,\n",
    "                                  \n",
    "                                             \n",
    "                                      \n",
    "                                     orientation='h',),\n",
    "                             \n",
    "\n",
    "\n",
    "            ),row=2,col=1)\n",
    "    fig.update_yaxes(tickfont=dict(color='white',size = 24),showgrid=False,zeroline=False)\n",
    "    fig.update_xaxes(tickfont=dict(color='white',size = 24),showgrid=False,zeroline=False)\n",
    "    # Customize the layout\n",
    "    fig.update_layout(title=title,\n",
    "                      titlefont = dict(size=35),\n",
    "                      title_x=.5,\n",
    "                          plot_bgcolor='#161415',\n",
    "                          paper_bgcolor='#54424a',\n",
    "\n",
    "                      width=1800,\n",
    "                      height=1200,\n",
    "                      font=dict(color='white',size = 30),\n",
    "                      \n",
    "                      )\n",
    "    #del minutes_played_matrix\n",
    "    # Show the plot\n",
    "    del minutes_played_matrix\n",
    "    del plus_minus_matrix\n",
    "    print(maxgp)\n",
    "    return fig\n",
    "ps = False\n",
    "fig = graph_srotation('MIN',2024,ps=ps)\n",
    "fig.show()\n",
    "\n"
   ]
  },
  {
   "cell_type": "code",
   "execution_count": null,
   "id": "8f61d729-6102-4035-86c4-3318585345b3",
   "metadata": {},
   "outputs": [],
   "source": []
  },
  {
   "cell_type": "code",
   "execution_count": 2,
   "id": "763f9668-373c-4fe3-b8ef-838b26fb5298",
   "metadata": {},
   "outputs": [
    {
     "name": "stdout",
     "output_type": "stream",
     "text": [
      "    Minute  PT_DIFF\n",
      "0        0  13345.0\n",
      "1        1  13345.0\n",
      "2        2  13345.0\n",
      "3        3  13345.0\n",
      "4        4  13345.0\n",
      "5        5  13345.0\n",
      "6        6  13345.0\n",
      "7        7  13345.0\n",
      "8        8  13345.0\n",
      "9        9  13345.0\n",
      "10      10  13345.0\n",
      "11      11  13345.0\n",
      "12      12  13345.0\n",
      "13      13  13345.0\n",
      "14      14  13345.0\n",
      "15      15  13345.0\n",
      "16      16  13345.0\n",
      "17      17  13345.0\n",
      "18      18  13345.0\n",
      "19      19  13345.0\n",
      "20      20  13345.0\n",
      "21      21  13345.0\n",
      "22      22  13345.0\n",
      "23      23  13345.0\n",
      "24      24  13345.0\n",
      "25      25  13345.0\n",
      "26      26  13345.0\n",
      "27      27  13345.0\n",
      "28      28  13345.0\n",
      "29      29  13345.0\n",
      "30      30  13345.0\n",
      "31      31  13345.0\n",
      "32      32  13345.0\n",
      "33      33  13345.0\n",
      "34      34  13345.0\n",
      "35      35  13345.0\n",
      "36      36  13345.0\n",
      "37      37  13345.0\n",
      "38      38  13345.0\n",
      "39      39  13345.0\n",
      "40      40  13345.0\n",
      "41      41  13345.0\n",
      "42      42  13345.0\n",
      "43      43  13345.0\n",
      "44      44  13345.0\n",
      "45      45  13345.0\n",
      "46      46  13345.0\n",
      "47      47  13345.0\n",
      "48      48   -380.0\n",
      "49      49   -380.0\n",
      "50      50   -380.0\n",
      "51      51   -380.0\n",
      "52      52   -380.0\n",
      "53      53    -50.0\n",
      "54      54    -50.0\n",
      "55      55    -50.0\n",
      "56      56    -50.0\n",
      "57      57    -50.0\n"
     ]
    }
   ],
   "source": [
    "def player_rotation(player, year,ps=False,start_date='',end_date = ''):\n",
    "    carry = ''\n",
    "    if ps ==True:\n",
    "        carry='ps'\n",
    "\n",
    "    team = team.upper()\n",
    "\n",
    "    nba_teams = teams.get_teams()\n",
    "    team_list= {}\n",
    "    full_name = {}\n",
    "    for org in nba_teams:\n",
    "        team_list[org['abbreviation']] = org['id']\n",
    "        full_name[org['abbreviation']] = org['full_name']\n",
    "    \n",
    "    \n",
    "\n",
    "    team_id = team_list[team]\n",
    "\n",
    "\n",
    "    url='https://raw.githubusercontent.com/gabriel1200/shot_data/master/rotations/'+str(year)+carry+'/'+str(team_id)+'.csv'\n",
    "    #print(url)\n",
    "    title = full_name[team]+ ' '+str(year)+ ' '+carry.upper()\n",
    "    df = pd.read_csv(url)\n",
    "    # Convert the times to seconds\n",
    "    df['start'] = df['IN_TIME_REAL']\n",
    "    df['end'] = df['OUT_TIME_REAL']\n",
    "    df['Player'] = df['PLAYER_FIRST']+' '+df['PLAYER_LAST'].str.split('-').str[0]\n",
    "    df['start'] /=600\n",
    "    df['end']/=600\n",
    "    #print(df['end'].max())\n",
    "    #print(df['start'].min())\n",
    "    #df =df.drop_duplicates()\n",
    "\n",
    "\n",
    "    #print(len(df))\n",
    "    \n",
    "    if start_date!='' or end_date!='':\n",
    "        title =  title+'<br>'\n",
    "        fields=['GAME_ID','GAME_DATE']\n",
    "        shot_url = 'https://raw.githubusercontent.com/gabriel1200/shot_data/master/team/'+str(year)+carry+'/'+str(team_id)+'.csv'\n",
    "        shotmap = pd.read_csv(shot_url,usecols=fields)\n",
    "        shotmap = shotmap.drop_duplicates()\n",
    "        games = shotmap.sort_values(by='GAME_DATE').reset_index(drop=True)\n",
    "        if start_date !='':\n",
    "            start_index = convert_date(year,start_date)\n",
    "            title = title+ 'From: '+start_date\n",
    "        if end_date !='':\n",
    "            end_index = convert_date(year, end_date)\n",
    "            title = title+' To '+end_date\n",
    "        if start_date =='':\n",
    "            start_index = games.iloc[0]['GAME_DATE']\n",
    "        if end_date =='':\n",
    "            end_index = games.iloc[-1]['GAME_DATE']\n",
    "            \n",
    "        games = games[(games.GAME_DATE<=end_index) &(games.GAME_DATE>=start_index)]\n",
    "        \n",
    "        game_range = games.GAME_ID.tolist()\n",
    "        \n",
    "        df = df[df.GAME_ID.isin(game_range)]\n",
    "        \n",
    "    maxgp = len(df.GAME_ID.unique())\n",
    "    #print(gp)\n",
    "    game_count =df.drop_duplicates(subset=['GAME_ID','PERSON_ID','Player'])\n",
    "    \n",
    "    player_count = game_count.groupby('PERSON_ID').count()[['GAME_ID']].reset_index()\n",
    "    player_count.columns = ['PERSON_ID','GP']\n",
    "    player_dict = dict(zip(player_count['PERSON_ID'], player_count['GP']))\n",
    "\n",
    "    max_end_minute =int( df['end'].max())\n",
    "    #print(int( df['start'].min()))\n",
    "    #max_end_minute=48\n",
    "    players = df['Player'].unique()\n",
    "    \n",
    "    # Use pd.cut to create intervals and groupby to perform the summation\n",
    "\n",
    "    # Print or use the result as needed\n",
    "    #print(test_matrix)\n",
    "    # Create an empty matrix to represent player minutes played\n",
    "\n",
    "    #start_time1 = time.time()\n",
    "    step = 1\n",
    "    \n",
    "    minutes_played_matrix=  pd.DataFrame(index=players, columns=[i for i in range(0,max_end_minute,step)], data=float(0))\n",
    "    \n",
    "    #plus_minus_matrix=  pd.DataFrame(index=players, columns=[i for i in range(max_end_minute + 1)], data=0)\n",
    "\n",
    "\n",
    "    plus_minus_matrix=  pd.DataFrame(index=players, columns=[i for i in range(0,max_end_minute,step)], data=float(0))\n",
    "    #df['interval'] = df.apply(lambda row: pd.Interval(row['start'], row['end'], closed='right'), axis=1)\n",
    "    #df.apply(update_matrices, axis=1)\n",
    "    #print(minutes_played_matrix)\n",
    "    #end_time1 = time.time()\n",
    "\n",
    "    #df['interval'] = df.apply(lambda row: pd.interval_range(row['start'], row['end'], freq=1), axis=1)\n",
    "\n",
    "    # Increment the matrix based on player on-court times\n",
    "    #minutes_played_matrix = df.groupby(['Player', 'interval']).size().unstack(fill_value=0).cumsum(axis=1)\n",
    "\n",
    "    # Increment the plus_minus_matrix based on player on-court times\n",
    "    #plus_minus_matrix = df.groupby(['Player', 'interval'])['PT_DIFF'].sum().unstack(fill_value=0).cumsum(axis=1)\n",
    "    #print(minutes_played_matrix)\n",
    "\n",
    "\n",
    "    # Increment the matrix based on player on-court times\n",
    "    #print(player_dict)\n",
    "    for _, row in df.iterrows():\n",
    "        pid = row['PERSON_ID']\n",
    "        player = row['Player']\n",
    "        start_minute = row['start']\n",
    "        end_minute = row['end']+1\n",
    "        plus_minus = row['PT_DIFF']\n",
    "        gp =player_dict[pid]\n",
    "\n",
    "        minutes_played_matrix.loc[player, start_minute:end_minute] += 1\n",
    "        value = plus_minus\n",
    "        if end_minute>start_minute:\n",
    "            value =(plus_minus/(end_minute-start_minute))\n",
    "        elif start_minute==end_minute:\n",
    "            value=0\n",
    "        plus_minus_matrix.loc[player, start_minute:end_minute] += float(value)\n",
    "    '''\n",
    "    print(plus_minus_matrix.iloc[2])\n",
    "    print(plus_minus_matrix.iloc[2][0:20])\n",
    "\n",
    "    print(plus_minus_matrix.iloc[2].sum())\n",
    "    print(plus_minus_matrix.iloc[3])\n",
    "    print(plus_minus_matrix.iloc[3].sum())\n",
    "    print(plus_minus_matrix.iloc[4])\n",
    "    print(plus_minus_matrix.iloc[4].sum())\n",
    "    print(plus_minus_matrix.iloc[5])\n",
    "    print(plus_minus_matrix.iloc[5].sum())\n",
    "    '''\n",
    "\n",
    "    minutes_played_matrix['total']= minutes_played_matrix.iloc[:].sum(axis=1)\n",
    "    minutes_played_matrix.sort_values(by='total',inplace=True,ascending=True)\n",
    "    minutes_played_matrix = minutes_played_matrix.tail(12)\n",
    "\n",
    "    minutes_played_matrix = minutes_played_matrix[[i for i in range(0,48,step)]]\n",
    "    #plus_minus_matrix = plus_minus_matrix[[i for i in range(0,48,step)]]\n",
    "    \n",
    "    \n",
    "\n",
    "\n",
    "\n",
    "    total_plus = plus_minus_matrix.sum()\n",
    "\n",
    "    total_plus/=5\n",
    "\n",
    "    total_plus/=gp\n",
    "    #print(total_plus)\n",
    "    #print(total_plus.sum())\n",
    "\n",
    "    \n",
    "    total_plus = total_plus.reset_index(drop=True)\n",
    "    \n",
    "    \n",
    "    data= []\n",
    "    for val in total_plus:\n",
    "        data.append(val)\n",
    "\n",
    "    pmdata = [data[0:48]]\n",
    "    \n",
    "    #print(pmdata)\n",
    " \n",
    "\n",
    "    #plus_row = pd.DataFrame(index=['+/-'], columns=total_plus.index.tolist(), data=total_plus.values.tolist())\n",
    "    #minutes_played_matrix=minutes_played_matrix[minutes_played_matrix['total']>300]\n",
    "    \n",
    "    #print(plus_minus_matrix)\n",
    "    #print(minutes_played_matrix['total'])\n",
    "    #minutes_played_matrix.drop(columns='total',inplace=True)\n",
    "    \n",
    "    #print(plus_minus_matrix.iloc[0].sum())\n",
    "\n",
    "    # Create the heatmap\n",
    "    #minutes_played_matrix.sort_index(axis=22,inplace=True)\n",
    "\n",
    "    #print(minutes_played_matrix)\n",
    "\n",
    "    fig = make_subplots(rows=2,cols=1,row_heights=[0.9, 0.1],shared_yaxes=True,shared_xaxes=True,vertical_spacing=0)\n",
    "    fig.add_trace(go.Heatmap(z=minutes_played_matrix.values,\n",
    "                                    x=minutes_played_matrix.columns,\n",
    "                                    y=minutes_played_matrix.index,\n",
    "                                     name = 'data',\n",
    "                                    xgap=10,\n",
    "                                    ygap=15,\n",
    "                                    type='heatmap',\n",
    "                                    colorscale='Reds',\n",
    "                                     colorbar=dict(\n",
    "                title=\"Games<br>\")\n",
    "\n",
    "\n",
    "            ),row=1,col=1)\n",
    "    fig.add_trace(go.Heatmap(z=pmdata,\n",
    "                                    x=minutes_played_matrix.columns,\n",
    "                                    y=['+/-'],\n",
    "                                    xgap=10,\n",
    "                                    ygap=15,\n",
    "                                     zmin=-.3,\n",
    "                                    zmax=.3,\n",
    "                                     name='data2',\n",
    "                                    type='heatmap',\n",
    "                                    colorscale='PiYg',\n",
    "                             colorbar = dict(y=-.15,\n",
    "                                             dtick=.1,\n",
    "                                  \n",
    "                                             \n",
    "                                      \n",
    "                                     orientation='h',),\n",
    "                             \n",
    "\n",
    "\n",
    "            ),row=2,col=1)\n",
    "    fig.update_yaxes(tickfont=dict(color='white',size = 24),showgrid=False,zeroline=False)\n",
    "    fig.update_xaxes(tickfont=dict(color='white',size = 24),showgrid=False,zeroline=False)\n",
    "    # Customize the layout\n",
    "    fig.update_layout(title=title,\n",
    "                      titlefont = dict(size=35),\n",
    "                      title_x=.5,\n",
    "                          plot_bgcolor='#161415',\n",
    "                          paper_bgcolor='#211a1d',\n",
    "\n",
    "                      width=1800,\n",
    "                      height=1200,\n",
    "                      font=dict(color='white',size = 30),\n",
    "                      \n",
    "                      )\n",
    "    #del minutes_played_matrix\n",
    "    # Show the plot\n",
    "    del minutes_played_matrix\n",
    "    del plus_minus_matrix\n",
    "    return fig"
   ]
  },
  {
   "cell_type": "code",
   "execution_count": 3,
   "id": "ee5ea7a9-89b0-401d-8595-2ca6ca689ade",
   "metadata": {},
   "outputs": [
    {
     "name": "stdout",
     "output_type": "stream",
     "text": [
      "530\n",
      "    Time     GAME_ID       TEAM_ID     TEAM_CITY TEAM_NAME  PERSON_ID  \\\n",
      "0      0         NaN           NaN           NaN       NaN        NaN   \n",
      "1     10         NaN           NaN           NaN       NaN        NaN   \n",
      "2     20         NaN           NaN           NaN       NaN        NaN   \n",
      "3     30  21800676.0  1.610613e+09  Golden State  Warriors   202326.0   \n",
      "4     40  21800238.0  1.610613e+09  Golden State  Warriors  1626172.0   \n",
      "5     50  21800701.0  1.610613e+09  Golden State  Warriors   202326.0   \n",
      "6     60  21800782.0  1.610613e+09  Golden State  Warriors   203110.0   \n",
      "7     70  21800316.0  1.610613e+09  Golden State  Warriors  1626188.0   \n",
      "8     80  21800108.0  1.610613e+09  Golden State  Warriors   202691.0   \n",
      "9     90  21801132.0  1.610613e+09  Golden State  Warriors   201142.0   \n",
      "10   100  21800516.0  1.610613e+09  Golden State  Warriors   202691.0   \n",
      "11   110  21801000.0  1.610613e+09  Golden State  Warriors   201939.0   \n",
      "12   120  21800300.0  1.610613e+09  Golden State  Warriors   201142.0   \n",
      "13   130  21800300.0  1.610613e+09  Golden State  Warriors   201142.0   \n",
      "14   140  21800629.0  1.610613e+09  Golden State  Warriors   203110.0   \n",
      "15   150  21800300.0  1.610613e+09  Golden State  Warriors  1627814.0   \n",
      "16   160  21800377.0  1.610613e+09  Golden State  Warriors  1626172.0   \n",
      "17   170  21800732.0  1.610613e+09  Golden State  Warriors   203110.0   \n",
      "18   180  21800822.0  1.610613e+09  Golden State  Warriors   203110.0   \n",
      "19   190  21800923.0  1.610613e+09  Golden State  Warriors   202691.0   \n",
      "20   200  21800494.0  1.610613e+09  Golden State  Warriors  1626172.0   \n",
      "21   210  21800938.0  1.610613e+09  Golden State  Warriors     2733.0   \n",
      "22   220  21800548.0  1.610613e+09  Golden State  Warriors  1626188.0   \n",
      "23   230  21800897.0  1.610613e+09  Golden State  Warriors   202691.0   \n",
      "24   240  21801055.0  1.610613e+09  Golden State  Warriors  1626172.0   \n",
      "25   250  21801055.0  1.610613e+09  Golden State  Warriors  1626172.0   \n",
      "26   260  21800565.0  1.610613e+09  Golden State  Warriors  1626172.0   \n",
      "27   270  21800494.0  1.610613e+09  Golden State  Warriors   201973.0   \n",
      "28   280  21800732.0  1.610613e+09  Golden State  Warriors   202326.0   \n",
      "29   290  21800516.0  1.610613e+09  Golden State  Warriors  1626172.0   \n",
      "30   300  21800400.0  1.610613e+09  Golden State  Warriors   203110.0   \n",
      "31   310  21800516.0  1.610613e+09  Golden State  Warriors   203110.0   \n",
      "32   320  21800201.0  1.610613e+09  Golden State  Warriors   202691.0   \n",
      "33   330  21800782.0  1.610613e+09  Golden State  Warriors   201939.0   \n",
      "34   340  21801000.0  1.610613e+09  Golden State  Warriors   201939.0   \n",
      "35   350  21800002.0  1.610613e+09  Golden State  Warriors  1627745.0   \n",
      "36   360  21800548.0  1.610613e+09  Golden State  Warriors  1626188.0   \n",
      "37   370  21800331.0  1.610613e+09  Golden State  Warriors  1626172.0   \n",
      "38   380  21800091.0  1.610613e+09  Golden State  Warriors   201973.0   \n",
      "39   390  21800892.0  1.610613e+09  Golden State  Warriors   203110.0   \n",
      "40   400  21800355.0  1.610613e+09  Golden State  Warriors  1626188.0   \n",
      "41   410  21800277.0  1.610613e+09  Golden State  Warriors   201973.0   \n",
      "42   420  21800198.0  1.610613e+09  Golden State  Warriors     2733.0   \n",
      "43   430  21800862.0  1.610613e+09  Golden State  Warriors   201973.0   \n",
      "44   440  21800676.0  1.610613e+09  Golden State  Warriors   202691.0   \n",
      "45   450  21801038.0  1.610613e+09  Golden State  Warriors     2738.0   \n",
      "46   460  21800002.0  1.610613e+09  Golden State  Warriors  1627745.0   \n",
      "47   470  21800400.0  1.610613e+09  Golden State  Warriors  1626172.0   \n",
      "48   480  21800091.0  1.610613e+09  Golden State  Warriors  1628035.0   \n",
      "49   490  21800091.0  1.610613e+09  Golden State  Warriors  1628035.0   \n",
      "50   500  21800198.0  1.610613e+09  Golden State  Warriors   201142.0   \n",
      "51   510  21800198.0  1.610613e+09  Golden State  Warriors   201142.0   \n",
      "52   520  21800516.0  1.610613e+09  Golden State  Warriors  1626172.0   \n",
      "\n",
      "   PLAYER_FIRST PLAYER_LAST  IN_TIME_REAL  OUT_TIME_REAL  PLAYER_PTS  PT_DIFF  \\\n",
      "0           NaN         NaN           NaN            NaN         NaN      NaN   \n",
      "1           NaN         NaN           NaN            NaN         NaN      NaN   \n",
      "2           NaN         NaN           NaN            NaN         NaN      NaN   \n",
      "3      DeMarcus     Cousins           0.0         1840.0         2.0     -2.0   \n",
      "4         Kevon      Looney           0.0         2330.0         2.0     -4.0   \n",
      "5      DeMarcus     Cousins           0.0         2860.0         1.0      6.0   \n",
      "6      Draymond       Green           0.0         3650.0         2.0     12.0   \n",
      "7         Quinn        Cook           0.0         4240.0         0.0    -10.0   \n",
      "8          Klay    Thompson           0.0         4810.0        10.0      1.0   \n",
      "9         Kevin      Durant           0.0         5450.0         2.0      4.0   \n",
      "10         Klay    Thompson           0.0         6040.0         7.0      1.0   \n",
      "11      Stephen       Curry           0.0         6658.0         0.0     15.0   \n",
      "12        Kevin      Durant           0.0         7200.0         9.0      1.0   \n",
      "13        Kevin      Durant           0.0         7200.0         9.0      1.0   \n",
      "14     Draymond       Green        5930.0         8360.0         0.0     -2.0   \n",
      "15       Damion         Lee        6130.0         9000.0         3.0     -3.0   \n",
      "16        Kevon      Looney        7200.0         9610.0         2.0      1.0   \n",
      "17     Draymond       Green        5810.0        10220.0         3.0      7.0   \n",
      "18     Draymond       Green        7200.0        10800.0         0.0      5.0   \n",
      "19         Klay    Thompson        7200.0        11400.0         5.0      2.0   \n",
      "20        Kevon      Looney        9320.0        12000.0         0.0     -6.0   \n",
      "21        Shaun  Livingston        7200.0        12640.0         3.0     -6.0   \n",
      "22        Quinn        Cook       10930.0        13250.0         2.0      4.0   \n",
      "23         Klay    Thompson       12240.0        13856.0         0.0     -2.0   \n",
      "24        Kevon      Looney       13410.0        14400.0         2.0      1.0   \n",
      "25        Kevon      Looney       13410.0        14400.0         2.0      1.0   \n",
      "26        Kevon      Looney       14400.0        15390.0         0.0     -2.0   \n",
      "27        Jonas     Jerebko       14400.0        16240.0         0.0     -2.0   \n",
      "28     DeMarcus     Cousins       14400.0        16710.0         5.0      0.0   \n",
      "29        Kevon      Looney       14400.0        17450.0         2.0      2.0   \n",
      "30     Draymond       Green       12300.0        18050.0         2.0      7.0   \n",
      "31     Draymond       Green       11860.0        18610.0         4.0     -3.0   \n",
      "32         Klay    Thompson       13540.0        19250.0         7.0      8.0   \n",
      "33      Stephen       Curry       10720.0        19850.0         0.0     -7.0   \n",
      "34      Stephen       Curry       14400.0        20400.0         7.0     -1.0   \n",
      "35       Damian       Jones       19120.0        21009.0         2.0      2.0   \n",
      "36        Quinn        Cook       19500.0        21600.0         3.0      7.0   \n",
      "37        Kevon      Looney       21543.0        22150.0         0.0     -3.0   \n",
      "38        Jonas     Jerebko       18670.0        22710.0         3.0     -5.0   \n",
      "39     Draymond       Green       21600.0        23440.0         2.0     -1.0   \n",
      "40        Quinn        Cook       20560.0        24050.0         5.0      6.0   \n",
      "41        Jonas     Jerebko       19160.0        24640.0         1.0     -2.0   \n",
      "42        Shaun  Livingston       19280.0        25250.0         4.0     -5.0   \n",
      "43        Jonas     Jerebko       17160.0        25840.0         6.0     -4.0   \n",
      "44         Klay    Thompson       21394.0        26420.0         2.0     13.0   \n",
      "45        Andre    Iguodala       24590.0        27000.0         0.0     -1.0   \n",
      "46       Damian       Jones       25300.0        27630.0         2.0     -2.0   \n",
      "47        Kevon      Looney       24530.0        28200.0         0.0      0.0   \n",
      "48      Alfonzo    McKinnie       25110.0        28800.0         0.0     -1.0   \n",
      "49      Alfonzo    McKinnie       25110.0        28800.0         0.0     -1.0   \n",
      "50        Kevin      Durant       23660.0        29540.0         5.0     14.0   \n",
      "51        Kevin      Durant       23660.0        29540.0         5.0     14.0   \n",
      "52        Kevon      Looney       28798.0        31150.0         0.0     -1.0   \n",
      "\n",
      "    USG_PCT  start         end            Player  Duration  +/- per Minute  \n",
      "0       NaN    NaN         NaN               NaN         0             NaN  \n",
      "1       NaN    NaN         NaN               NaN         0             NaN  \n",
      "2       NaN    NaN         NaN               NaN         0             NaN  \n",
      "3     0.286   30.0   30.666667  DeMarcus Cousins         0            -inf  \n",
      "4     0.375   38.0   38.833333      Kevon Looney         0            -inf  \n",
      "5     0.182   47.0   47.666667  DeMarcus Cousins         0             inf  \n",
      "6     0.067   60.0   60.833333    Draymond Green         0             inf  \n",
      "7     0.214   70.0   70.666667        Quinn Cook         0            -inf  \n",
      "8     0.348   80.0   80.166667     Klay Thompson         0             inf  \n",
      "9     0.130   90.0   90.833333      Kevin Durant         0             inf  \n",
      "10    0.304  100.0  100.666667     Klay Thompson         0             inf  \n",
      "11    0.179  110.0  110.966667     Stephen Curry         0             inf  \n",
      "12    0.370  120.0  120.000000      Kevin Durant         0             inf  \n",
      "13    0.370  120.0  120.000000      Kevin Durant         0             inf  \n",
      "14    0.000  139.0  139.333333    Draymond Green         0            -inf  \n",
      "15    0.182  150.0  150.000000        Damion Lee         0            -inf  \n",
      "16    0.100  160.0  160.166667      Kevon Looney         0             inf  \n",
      "17    0.150  170.0  170.333333    Draymond Green         0             inf  \n",
      "18    0.143  180.0  180.000000    Draymond Green         0             inf  \n",
      "19    0.350  190.0  190.000000     Klay Thompson         0             inf  \n",
      "20    0.100  200.0  200.000000      Kevon Looney         0            -inf  \n",
      "21    0.130  210.0  210.666667  Shaun Livingston         0            -inf  \n",
      "22    0.250  220.0  220.833333        Quinn Cook         0             inf  \n",
      "23    0.000  230.0  230.933333     Klay Thompson         0            -inf  \n",
      "24    0.333  240.0  240.000000      Kevon Looney         0             inf  \n",
      "25    0.333  240.0  240.000000      Kevon Looney         0             inf  \n",
      "26    0.500  256.0  256.500000      Kevon Looney         0            -inf  \n",
      "27    0.286  270.0  270.666667     Jonas Jerebko         0            -inf  \n",
      "28    0.375  278.0  278.500000  DeMarcus Cousins         0             NaN  \n",
      "29    0.063  290.0  290.833333      Kevon Looney         0             inf  \n",
      "30    0.200  300.0  300.833333    Draymond Green         0             inf  \n",
      "31    0.206  310.0  310.166667    Draymond Green         0            -inf  \n",
      "32    0.167  320.0  320.833333     Klay Thompson         0             inf  \n",
      "33    0.118  330.0  330.833333     Stephen Curry         0            -inf  \n",
      "34    0.286  340.0  340.000000     Stephen Curry         0            -inf  \n",
      "35    0.250  350.0  350.150000      Damian Jones         0             inf  \n",
      "36    0.273  360.0  360.000000        Quinn Cook         0             inf  \n",
      "37    0.333  369.0  369.166667      Kevon Looney         0            -inf  \n",
      "38    0.118  378.0  378.500000     Jonas Jerebko         0            -inf  \n",
      "39    0.250  390.0  390.666667    Draymond Green         0            -inf  \n",
      "40    0.154  400.0  400.833333        Quinn Cook         0             inf  \n",
      "41    0.190  410.0  410.666667     Jonas Jerebko         0            -inf  \n",
      "42    0.174  420.0  420.833333  Shaun Livingston         0            -inf  \n",
      "43    0.114  430.0  430.666667     Jonas Jerebko         0            -inf  \n",
      "44    0.105  440.0  440.333333     Klay Thompson         0             inf  \n",
      "45    0.100  450.0  450.000000    Andre Iguodala         0            -inf  \n",
      "46    0.111  460.0  460.500000      Damian Jones         0            -inf  \n",
      "47    0.000  470.0  470.000000      Kevon Looney         0             NaN  \n",
      "48    0.133  480.0  480.000000  Alfonzo McKinnie         0            -inf  \n",
      "49    0.133  480.0  480.000000  Alfonzo McKinnie         0            -inf  \n",
      "50    0.364  492.0  492.333333      Kevin Durant         0             inf  \n",
      "51    0.364  492.0  492.333333      Kevin Durant         0             inf  \n",
      "52    0.000  519.0  519.166667      Kevon Looney         0            -inf  \n",
      "    Minute  PT_DIFF\n",
      "0        0  13345.0\n",
      "1        1  13345.0\n",
      "2        2  13345.0\n",
      "3        3  13345.0\n",
      "4        4  13345.0\n",
      "5        5  13345.0\n",
      "6        6  13345.0\n",
      "7        7  13345.0\n",
      "8        8  13345.0\n",
      "9        9  13345.0\n",
      "10      10  13345.0\n",
      "11      11  13345.0\n",
      "12      12  13345.0\n",
      "13      13  13345.0\n",
      "14      14  13345.0\n",
      "15      15  13345.0\n",
      "16      16  13345.0\n",
      "17      17  13345.0\n",
      "18      18  13345.0\n",
      "19      19  13345.0\n",
      "20      20  13345.0\n",
      "21      21  13345.0\n",
      "22      22  13345.0\n",
      "23      23  13345.0\n",
      "24      24  13345.0\n",
      "25      25  13345.0\n",
      "26      26  13345.0\n",
      "27      27  13345.0\n",
      "28      28  13345.0\n",
      "29      29  13345.0\n",
      "30      30  13345.0\n",
      "31      31  13345.0\n",
      "32      32  13345.0\n",
      "33      33  13345.0\n",
      "34      34  13345.0\n",
      "35      35  13345.0\n",
      "36      36  13345.0\n",
      "37      37  13345.0\n",
      "38      38  13345.0\n",
      "39      39  13345.0\n",
      "40      40  13345.0\n",
      "41      41  13345.0\n",
      "42      42  13345.0\n",
      "43      43  13345.0\n",
      "44      44  13345.0\n",
      "45      45  13345.0\n",
      "46      46  13345.0\n",
      "47      47  13345.0\n",
      "48      48   -380.0\n",
      "49      49   -380.0\n",
      "50      50   -380.0\n",
      "51      51   -380.0\n",
      "52      52   -380.0\n",
      "53      53    -50.0\n",
      "54      54    -50.0\n",
      "55      55    -50.0\n",
      "56      56    -50.0\n",
      "57      57    -50.0\n",
      "Team's average +/- per minute for each 1-minute span:\n",
      "nan\n"
     ]
    },
    {
     "name": "stderr",
     "output_type": "stream",
     "text": [
      "C:\\Users\\gaber\\anaconda3\\envs\\myenvpython310\\lib\\site-packages\\numpy\\core\\_methods.py:48: RuntimeWarning:\n",
      "\n",
      "invalid value encountered in reduce\n",
      "\n"
     ]
    }
   ],
   "source": [
    "\n",
    "\n",
    "# Creating a DataFrame\n",
    "df = pd.read_csv('https://raw.githubusercontent.com/gabriel1200/shot_data/master/rotations/2019/1610612744.csv')\n",
    "\n",
    "df['start'] = df['IN_TIME_REAL']\n",
    "df['end'] = df['OUT_TIME_REAL']\n",
    "df['Player'] = df['PLAYER_FIRST']+' '+df['PLAYER_LAST'].str.split('-').str[0]\n",
    "df['start'] /=60\n",
    "df['end']/=60\n",
    "df['start'] =df['start'].astype(int)\n",
    "df['start'] =df['end'].astype(int)\n",
    "\n",
    "# Create a time grid for each minute in the game\n",
    "print(int(df['end'].max()))\n",
    "time_grid = pd.DataFrame({'Time': range(0, int(df['end'].max()), 10)})\n",
    "time_grid['Time'] = time_grid['Time'].astype(int)\n",
    "time_grid = time_grid.sort_values(by='Time')\n",
    "df.sort_values(by='start',inplace=True)\n",
    "#print(time_grid)\n",
    "# Merge the time grid with the original data to associate point differentials\n",
    "merged_df = pd.merge_asof(time_grid, df, left_on='Time', right_on='start', direction='backward')\n",
    "\n",
    "# Calculate the duration in minutes for each time grid entry\n",
    "merged_df['Duration'] = 0\n",
    "\n",
    "# Calculate the point differential per minute\n",
    "merged_df['+/- per Minute'] = merged_df['PT_DIFF'] / merged_df['Duration']\n",
    "print(merged_df)\n",
    "# Calculate the team's average +/- per minute for each 1-minute span\n",
    "average_plus_minus_per_minute = merged_df.groupby('Time')['+/- per Minute'].mean()\n",
    "print(average_diff_per_minute)\n",
    "print(\"Team's average +/- per minute for each 1-minute span:\")\n",
    "print(82* merged_df['+/- per Minute'].sum())"
   ]
  },
  {
   "cell_type": "code",
   "execution_count": 4,
   "id": "9f116c2d-b669-4b2f-b6f2-dd5766170062",
   "metadata": {},
   "outputs": [],
   "source": [
    "df = pd.read_csv('https://raw.githubusercontent.com/gabriel1200/shot_data/master/rotations/'+str(year)+'.csv')\n",
    "\n",
    "df['start'] = df['IN_TIME_REAL']"
   ]
  },
  {
   "cell_type": "code",
   "execution_count": 5,
   "id": "879d3637-e2b8-4b60-84f9-24f73d17fbf6",
   "metadata": {},
   "outputs": [],
   "source": [
    "team = team.upper()\n",
    "\n",
    "nba_teams = teams.get_teams()\n",
    "team_list= {}\n",
    "full_name = {}\n",
    "for org in nba_teams:\n",
    "    team_list[org['abbreviation']] = org['id']\n",
    "    full_name[org['abbreviation']] = org['full_name']\n"
   ]
  },
  {
   "cell_type": "code",
   "execution_count": 6,
   "id": "577b90ac-3350-48dc-b5b5-acbd17203a62",
   "metadata": {},
   "outputs": [
    {
     "data": {
      "text/plain": [
       "['ATL',\n",
       " 'BOS',\n",
       " 'CLE',\n",
       " 'NOP',\n",
       " 'CHI',\n",
       " 'DAL',\n",
       " 'DEN',\n",
       " 'GSW',\n",
       " 'HOU',\n",
       " 'LAC',\n",
       " 'LAL',\n",
       " 'MIA',\n",
       " 'MIL',\n",
       " 'MIN',\n",
       " 'BKN',\n",
       " 'NYK',\n",
       " 'ORL',\n",
       " 'IND',\n",
       " 'PHI',\n",
       " 'PHX',\n",
       " 'POR',\n",
       " 'SAC',\n",
       " 'SAS',\n",
       " 'OKC',\n",
       " 'TOR',\n",
       " 'UTA',\n",
       " 'MEM',\n",
       " 'WAS',\n",
       " 'DET',\n",
       " 'CHA']"
      ]
     },
     "execution_count": 6,
     "metadata": {},
     "output_type": "execute_result"
    }
   ],
   "source": [
    "list(team_list.keys())"
   ]
  },
  {
   "cell_type": "code",
   "execution_count": null,
   "id": "14ce4092-0ed9-4fe6-9f1a-c61c3eb30954",
   "metadata": {},
   "outputs": [],
   "source": []
  }
 ],
 "metadata": {
  "kernelspec": {
   "display_name": "Python 3 (ipykernel)",
   "language": "python",
   "name": "python3"
  },
  "language_info": {
   "codemirror_mode": {
    "name": "ipython",
    "version": 3
   },
   "file_extension": ".py",
   "mimetype": "text/x-python",
   "name": "python",
   "nbconvert_exporter": "python",
   "pygments_lexer": "ipython3",
   "version": "3.10.11"
  }
 },
 "nbformat": 4,
 "nbformat_minor": 5
}
