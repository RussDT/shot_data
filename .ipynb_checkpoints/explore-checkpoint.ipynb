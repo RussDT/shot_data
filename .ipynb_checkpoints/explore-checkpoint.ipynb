{
 "cells": [
  {
   "cell_type": "code",
   "execution_count": 1,
   "id": "0068e977-d28e-4364-ad62-874597c9b1cf",
   "metadata": {},
   "outputs": [
    {
     "data": {
      "text/plain": [
       "\"\\nseasons=[]\\nfor year in range(1997,2024):\\n    season = str(year-1) +'-'+str(year)[-2:]\\n    seasons.append(season)\\nleague_id = '00'\\nfor season in seasons:\\n    #print(season)\\n    shot_chart = ShotChartDetail(\\n                      player_id ='0',\\n                      \\n                      team_id='1610612737',\\n                      season_nullable= season,\\n                      season_type_all_star='Regular Season', \\n                      context_measure_simple= 'FGA',\\n                                    league_id = league_id).get_data_frames()\\n    carry = ''\\n    avg = shot_chart[1]\\n    year = int(season[0:4])+1\\n    path = 'team/'+str(year)+carry+'/avg.csv'\\n    #print(path)\\n    avg.to_csv(path,index = False)\\n    #print(avg)\\n    shot_chart = ShotChartDetail(\\n                      player_id ='0',\\n                      \\n                      team_id='1610612737',\\n                      season_nullable= season,\\n                      season_type_all_star='Playoffs', \\n                      context_measure_simple= 'FGA',\\n                                    league_id = league_id).get_data_frames()\\n    carry = 'ps'\\n    avg = shot_chart[1]\\n    path = 'team/'+str(year)+carry+'/avg.csv'\\n    avg.to_csv(path,index = False)\\n    print('Season '+season +' done') \\n\""
      ]
     },
     "execution_count": 1,
     "metadata": {},
     "output_type": "execute_result"
    }
   ],
   "source": [
    "import pandas as pd\n",
    "import numpy as np\n",
    "import urllib.request, urllib.parse, urllib.error, io\n",
    "\n",
    "# Static NBA API \n",
    "import random\n",
    "from nba_api.stats.static import players,teams\n",
    "from nba_api.stats.endpoints import playercareerstats,playergamelog\n",
    "from scipy import ndimage\n",
    "# NBA API Endpoint\n",
    "\n",
    "from nba_api.stats.endpoints import teamdashptpass# For team passing stats\n",
    "from nba_api.stats.endpoints import playerdashptpass # For player passing stats\n",
    "from nba_api.stats.endpoints import ShotChartDetail # For player shot location and frequency\n",
    "from nba_api.stats.endpoints import commonplayerinfo # For Common Player Information\n",
    "#from nba_api.stats.endpoints import playergamelogs\n",
    "\n",
    "#from nba_api.stats.endpoints import teamgamelogs\n",
    "# Plotting Libraries\n",
    "\n",
    "from matplotlib.patches import Circle, Rectangle, Arc\n",
    "import matplotlib.pyplot as plt\n",
    "from matplotlib.patches import Polygon\n",
    "from matplotlib.collections import PatchCollection\n",
    "from matplotlib.colors import LinearSegmentedColormap\n",
    "\n",
    "from matplotlib.patches import Circle, Rectangle, Arc\n",
    "\n",
    "from matplotlib.patches import Polygon\n",
    "from matplotlib.collections import PatchCollection\n",
    "from matplotlib.colors import LinearSegmentedColormap\n",
    "\n",
    "import matplotlib.pyplot as plt\n",
    "import functools\n",
    "import typing\n",
    "import asyncio\n",
    "'''\n",
    "seasons=[]\n",
    "for year in range(1997,2024):\n",
    "    season = str(year-1) +'-'+str(year)[-2:]\n",
    "    seasons.append(season)\n",
    "league_id = '00'\n",
    "for season in seasons:\n",
    "    #print(season)\n",
    "    shot_chart = ShotChartDetail(\n",
    "                      player_id ='0',\n",
    "                      \n",
    "                      team_id='1610612737',\n",
    "                      season_nullable= season,\n",
    "                      season_type_all_star='Regular Season', \n",
    "                      context_measure_simple= 'FGA',\n",
    "                                    league_id = league_id).get_data_frames()\n",
    "    carry = ''\n",
    "    avg = shot_chart[1]\n",
    "    year = int(season[0:4])+1\n",
    "    path = 'team/'+str(year)+carry+'/avg.csv'\n",
    "    #print(path)\n",
    "    avg.to_csv(path,index = False)\n",
    "    #print(avg)\n",
    "    shot_chart = ShotChartDetail(\n",
    "                      player_id ='0',\n",
    "                      \n",
    "                      team_id='1610612737',\n",
    "                      season_nullable= season,\n",
    "                      season_type_all_star='Playoffs', \n",
    "                      context_measure_simple= 'FGA',\n",
    "                                    league_id = league_id).get_data_frames()\n",
    "    carry = 'ps'\n",
    "    avg = shot_chart[1]\n",
    "    path = 'team/'+str(year)+carry+'/avg.csv'\n",
    "    avg.to_csv(path,index = False)\n",
    "    print('Season '+season +' done') \n",
    "'''"
   ]
  },
  {
   "cell_type": "code",
   "execution_count": 14,
   "id": "c3282c90-cdb0-46c5-afeb-6edf4448f9ab",
   "metadata": {},
   "outputs": [],
   "source": [
    "import os\n",
    "for year in range(1997,2024):\n",
    "    year = str(year)\n",
    "    path= 'team/'+year+'ps/'\n",
    "    files = [file for file in os.listdir(path) if '.csv' in file]\n",
    "    for file in files:\n",
    "        full_path = path+file\n",
    "        df = pd.read_csv(full_path)\n",
    "        if  'Unnamed: 0' in df.columns:\n",
    "            df.drop(columns = 'Unnamed: 0',inplace = True)\n",
    "            df.to_csv(full_path,index = False)\n",
    "\n",
    "        \n"
   ]
  },
  {
   "cell_type": "code",
   "execution_count": null,
   "id": "c3266548-3ce2-40d1-8e34-c91771821411",
   "metadata": {},
   "outputs": [],
   "source": []
  }
 ],
 "metadata": {
  "kernelspec": {
   "display_name": "Python 3 (ipykernel)",
   "language": "python",
   "name": "python3"
  },
  "language_info": {
   "codemirror_mode": {
    "name": "ipython",
    "version": 3
   },
   "file_extension": ".py",
   "mimetype": "text/x-python",
   "name": "python",
   "nbconvert_exporter": "python",
   "pygments_lexer": "ipython3",
   "version": "3.10.11"
  }
 },
 "nbformat": 4,
 "nbformat_minor": 5
}
