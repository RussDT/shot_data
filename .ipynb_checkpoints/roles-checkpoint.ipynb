{
 "cells": [
  {
   "cell_type": "code",
   "execution_count": 24,
   "id": "af199bca-3930-4382-a6e5-52044f536bc7",
   "metadata": {},
   "outputs": [],
   "source": [
    "import pandas as pd\n",
    "import os\n",
    "df = pd.read_csv('lebron.csv')\n",
    "\n"
   ]
  },
  {
   "cell_type": "code",
   "execution_count": 25,
   "id": "fba1846b-e32a-4cda-8c9e-633a1ce7b1ac",
   "metadata": {},
   "outputs": [
    {
     "name": "stdout",
     "output_type": "stream",
     "text": [
      "2010\n"
     ]
    }
   ],
   "source": [
    "def get_role_averages():\n",
    "    frames = []\n",
    "\n",
    "    zones = ['Center(C)',\n",
    "     'Left Side Center(LC)',\n",
    "     'Left Side(L)',\n",
    "     'Right Side Center(RC)',\n",
    "     'Right Side(R)',\n",
    "     'Center(C)',\n",
    "     'Left Side Center(LC)',\n",
    "     'Left Side(L)',\n",
    "     'Right Side Center(RC)',\n",
    "     'Right Side(R)',\n",
    "     'Center(C)',\n",
    "     'Left Side(L)',\n",
    "     'Right Side(R)',\n",
    "     'Back Court(BC)',\n",
    "     'Center(C)']\n",
    "\n",
    "    ranges = ['16-24 ft.',\n",
    "     '16-24 ft.',\n",
    "     '16-24 ft.',\n",
    "     '16-24 ft.',\n",
    "     '16-24 ft.',\n",
    "     '24+ ft.',\n",
    "     '24+ ft.',\n",
    "     '24+ ft.',\n",
    "     '24+ ft.',\n",
    "     '24+ ft.',\n",
    "     '8-16 ft.',\n",
    "     '8-16 ft.',\n",
    "     '8-16 ft.',\n",
    "     'Back Court Shot',\n",
    "     'Less Than 8 ft.']\n",
    "    for year in range(2010,2025):\n",
    "\n",
    "        year_df = df[df.year==year]\n",
    "\n",
    "\n",
    "        roles = year_df['Offensive Archetype'].unique()\n",
    "        for role in roles:\n",
    "\n",
    "            role_avg=pd.DataFrame({'SHOT_ZONE':zones,'SHOT_ZONE_RANGE':ranges })\n",
    "            role_avg['FGA'] = 0\n",
    "            role_avg['FGM'] = 0\n",
    "\n",
    "            role_df = year_df[year_df['Offensive Archetype']==role]\n",
    "\n",
    "            for player_id in role_df['NBA ID'].unique():\n",
    "                #print(player_id)\n",
    "                if os.path.isfile(str(year)+'/'+str(int(player_id))+'.csv'):\n",
    "                    playerdf = pd.read_csv(str(year)+'/'+str(int(player_id))+'.csv')\n",
    "                    sum_df = playerdf.groupby(['SHOT_ZONE_RANGE','SHOT_ZONE_AREA','SHOT_MADE_FLAG']).size().unstack(fill_value=0).reset_index()\n",
    "\n",
    "                    #sum_df.drop(columns=['SHOT_MADE_FLAG'],inplace=True)\n",
    "                    if len(sum_df.columns) ==4:\n",
    "                        sum_df.columns = ['SHOT_ZONE_RANGE','SHOT_ZONE_AREA','Missed','Made']\n",
    "                    elif len(sum_df.columns) ==3:\n",
    "                         sum_df.columns = ['SHOT_ZONE_RANGE','SHOT_ZONE_AREA','Missed']\n",
    "                         sum_df['Made']=0\n",
    "                    else:\n",
    "                        sum_df.columns = ['SHOT_ZONE_RANGE','SHOT_ZONE_AREA']\n",
    "                        sum_df['Missed']=0\n",
    "                        sum_df['Made']=0\n",
    "\n",
    "                    sum_df['FGM'] = sum_df['Made']\n",
    "                    sum_df['FGA'] = sum_df['Made'] + sum_df['Missed']\n",
    "\n",
    "                    sum_df.drop(columns=['Made','Missed'],inplace=True)\n",
    "                    sum_df['role'] = role\n",
    "                    sum_df['year']=year\n",
    "                    frames.append(sum_df)\n",
    "\n",
    "        print(year)\n",
    "        return pd.concat(frames)\n",
    "        \n",
    "df = get_role_averages()"
   ]
  },
  {
   "cell_type": "code",
   "execution_count": null,
   "id": "6873b865-6669-4f68-8052-bcaca4a1e327",
   "metadata": {},
   "outputs": [],
   "source": []
  }
 ],
 "metadata": {
  "kernelspec": {
   "display_name": "Python 3 (ipykernel)",
   "language": "python",
   "name": "python3"
  },
  "language_info": {
   "codemirror_mode": {
    "name": "ipython",
    "version": 3
   },
   "file_extension": ".py",
   "mimetype": "text/x-python",
   "name": "python",
   "nbconvert_exporter": "python",
   "pygments_lexer": "ipython3",
   "version": "3.10.11"
  }
 },
 "nbformat": 4,
 "nbformat_minor": 5
}
