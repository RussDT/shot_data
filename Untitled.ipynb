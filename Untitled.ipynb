{
 "cells": [
  {
   "cell_type": "code",
   "execution_count": 1,
   "id": "e857da6f-6e25-4856-9c09-992638b60993",
   "metadata": {},
   "outputs": [
    {
     "name": "stdout",
     "output_type": "stream",
     "text": [
      "['.ipynb_checkpoints', '1997', '1997ps', '1998', '1998ps', '1999', '1999ps', '2000', '2000ps', '2001', '2001ps', '2002', '2002ps', '2003ps', '2004', '2004ps', '2005', '2005ps', '2006', '2006ps', '2007', '2007ps', '2008', '2008ps', '2009', '2009ps', '2010', '2010ps', '2011', '2011ps', '2012', '2012ps', '2013', '2013ps', '2014', '2014ps', '2015', '2015ps', '2016', '2016ps', '2017', '2017ps', '2018', '2018ps', '2019', '2019ps', '2020', '2020ps', '2021', '2021ps', '2022', '2022ps', '2023', '2023ps', '2024', 'Untitled.ipynb']\n"
     ]
    }
   ],
   "source": [
    "import os\n",
    "team_paths = os.listdir('team')\n",
    "print(team_paths)"
   ]
  },
  {
   "cell_type": "code",
   "execution_count": 5,
   "id": "9f29b929-80ce-4328-8fef-894209b0b14b",
   "metadata": {},
   "outputs": [
    {
     "name": "stdout",
     "output_type": "stream",
     "text": [
      "team/.ipynb_checkpoints\n",
      "[]\n",
      "team/1997\n",
      "['.ipynb_checkpoints']\n",
      "team/1997ps\n",
      "[]\n",
      "team/1998\n",
      "['.ipynb_checkpoints']\n",
      "team/1998ps\n",
      "[]\n",
      "team/1999\n",
      "[]\n",
      "team/1999ps\n",
      "[]\n",
      "team/2000\n",
      "[]\n",
      "team/2000ps\n",
      "[]\n",
      "team/2001\n",
      "[]\n",
      "team/2001ps\n",
      "[]\n",
      "team/2002\n",
      "[]\n",
      "team/2002ps\n",
      "[]\n",
      "team/2003ps\n",
      "[]\n",
      "team/2004\n",
      "[]\n",
      "team/2004ps\n",
      "[]\n",
      "team/2005\n",
      "[]\n",
      "team/2005ps\n",
      "['.ipynb_checkpoints']\n",
      "team/2006\n",
      "[]\n",
      "team/2006ps\n",
      "[]\n",
      "team/2007\n",
      "[]\n",
      "team/2007ps\n",
      "[]\n",
      "team/2008\n",
      "[]\n",
      "team/2008ps\n",
      "[]\n",
      "team/2009\n",
      "[]\n",
      "team/2009ps\n",
      "[]\n",
      "team/2010\n",
      "[]\n",
      "team/2010ps\n",
      "[]\n",
      "team/2011\n",
      "[]\n",
      "team/2011ps\n",
      "[]\n",
      "team/2012\n",
      "[]\n",
      "team/2012ps\n",
      "[]\n",
      "team/2013\n",
      "[]\n",
      "team/2013ps\n",
      "[]\n",
      "team/2014\n",
      "[]\n",
      "team/2014ps\n",
      "[]\n",
      "team/2015\n",
      "[]\n",
      "team/2015ps\n",
      "[]\n",
      "team/2016\n",
      "[]\n",
      "team/2016ps\n",
      "[]\n",
      "team/2017\n",
      "[]\n",
      "team/2017ps\n",
      "[]\n",
      "team/2018\n",
      "[]\n",
      "team/2018ps\n",
      "[]\n",
      "team/2019\n",
      "[]\n",
      "team/2019ps\n",
      "[]\n",
      "team/2020\n",
      "[]\n",
      "team/2020ps\n",
      "[]\n",
      "team/2021\n",
      "[]\n",
      "team/2021ps\n",
      "[]\n",
      "team/2022\n",
      "[]\n",
      "team/2022ps\n",
      "['2003']\n",
      "team/2023\n",
      "['.ipynb_checkpoints']\n",
      "team/2023ps\n",
      "['.ipynb_checkpoints']\n",
      "team/2024\n",
      "['.ipynb_checkpoints']\n"
     ]
    },
    {
     "ename": "FileNotFoundError",
     "evalue": "[WinError 3] The system cannot find the path specified: 'team/Untitled.ipynb'",
     "output_type": "error",
     "traceback": [
      "\u001b[1;31m---------------------------------------------------------------------------\u001b[0m",
      "\u001b[1;31mFileNotFoundError\u001b[0m                         Traceback (most recent call last)",
      "Cell \u001b[1;32mIn[5], line 3\u001b[0m\n\u001b[0;32m      1\u001b[0m \u001b[38;5;28;01mfor\u001b[39;00m file \u001b[38;5;129;01min\u001b[39;00m team_paths:\n\u001b[0;32m      2\u001b[0m     path \u001b[38;5;241m=\u001b[39m \u001b[38;5;124m'\u001b[39m\u001b[38;5;124mteam/\u001b[39m\u001b[38;5;124m'\u001b[39m\u001b[38;5;241m+\u001b[39mfile\n\u001b[1;32m----> 3\u001b[0m     paths \u001b[38;5;241m=\u001b[39m \u001b[43mos\u001b[49m\u001b[38;5;241;43m.\u001b[39;49m\u001b[43mlistdir\u001b[49m\u001b[43m(\u001b[49m\u001b[43mpath\u001b[49m\u001b[43m)\u001b[49m\n\u001b[0;32m      5\u001b[0m     to_print \u001b[38;5;241m=\u001b[39m [path \u001b[38;5;28;01mfor\u001b[39;00m path \u001b[38;5;129;01min\u001b[39;00m paths \u001b[38;5;28;01mif\u001b[39;00m \u001b[38;5;124m'\u001b[39m\u001b[38;5;124m.csv\u001b[39m\u001b[38;5;124m'\u001b[39m \u001b[38;5;129;01mnot\u001b[39;00m \u001b[38;5;129;01min\u001b[39;00m path]\n\u001b[0;32m      6\u001b[0m     \u001b[38;5;28mprint\u001b[39m(path)\n",
      "\u001b[1;31mFileNotFoundError\u001b[0m: [WinError 3] The system cannot find the path specified: 'team/Untitled.ipynb'"
     ]
    }
   ],
   "source": [
    "for file in team_paths:\n",
    "    path = 'team/'+file\n",
    "    paths = os.listdir(path)\n",
    "    \n",
    "    to_print = [path for path in paths if '.csv' not in path]\n",
    "    print(path)\n",
    "    print(to_print)"
   ]
  },
  {
   "cell_type": "code",
   "execution_count": null,
   "id": "d7555f8e-ee03-43fe-b620-759429a40995",
   "metadata": {},
   "outputs": [],
   "source": []
  }
 ],
 "metadata": {
  "kernelspec": {
   "display_name": "Python 3 (ipykernel)",
   "language": "python",
   "name": "python3"
  },
  "language_info": {
   "codemirror_mode": {
    "name": "ipython",
    "version": 3
   },
   "file_extension": ".py",
   "mimetype": "text/x-python",
   "name": "python",
   "nbconvert_exporter": "python",
   "pygments_lexer": "ipython3",
   "version": "3.10.11"
  }
 },
 "nbformat": 4,
 "nbformat_minor": 5
}
