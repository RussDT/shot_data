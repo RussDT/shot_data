{
 "cells": [
  {
   "cell_type": "code",
   "execution_count": 1,
   "id": "e857da6f-6e25-4856-9c09-992638b60993",
   "metadata": {},
   "outputs": [],
   "source": [
    "import pandas as pd\n",
    "import os\n",
    "df = pd.read_csv('shot_categories.csv')\n",
    "shot_types = list(df['shot_type'])"
   ]
  },
  {
   "cell_type": "code",
   "execution_count": 2,
   "id": "9f29b929-80ce-4328-8fef-894209b0b14b",
   "metadata": {},
   "outputs": [
    {
     "data": {
      "text/plain": [
       "70"
      ]
     },
     "execution_count": 2,
     "metadata": {},
     "output_type": "execute_result"
    }
   ],
   "source": [
    "len(shot_types)"
   ]
  },
  {
   "cell_type": "code",
   "execution_count": 3,
   "id": "6bd19268-760d-4ee1-93e0-751046ee90ed",
   "metadata": {},
   "outputs": [
    {
     "name": "stdout",
     "output_type": "stream",
     "text": [
      "15\n",
      "18\n",
      "10\n",
      "3\n",
      "4\n",
      "20\n",
      "['Putback Slam Dunk Shot', 'Driving Jump shot', 'Alley Oop Dunk Shot', 'Jump Bank Hook Shot', 'Alley Oop Layup shot', 'Running Tip Shot', 'Jump Shot', 'Turnaround Finger Roll Shot', 'Floating Jump shot', 'Putback Dunk Shot', 'Running Slam Dunk Shot', 'Running Alley Oop Layup Shot', 'Running Bank Hook Shot', 'Follow Up Dunk Shot', 'Cutting Dunk Shot', 'Hook Shot', 'Putback Layup Shot', 'Driving Dunk Shot', 'Running Dunk Shot', 'Jump Bank Shot', 'Fadeaway Bank shot', 'Tip Dunk Shot', 'Turnaround Bank shot', 'Driving Layup Shot', 'Driving Bank shot', 'Pullup Bank shot', 'Turnaround Bank Hook Shot', 'Jump Hook Shot', 'Putback Reverse Dunk Shot', 'Running Alley Oop Dunk Shot', 'Layup Shot', 'Running Bank shot', 'Hook Bank Shot', 'Reverse Layup Shot', 'Driving Floating Jump Shot', 'Driving Floating Bank Jump Shot', 'Driving Reverse Dunk Shot', 'No Shot', 'Turnaround Fadeaway shot', 'Running Pull-Up Jump Shot', 'Driving Finger Roll Shot', 'Slam Dunk Shot', 'Turnaround Jump Shot', 'Finger Roll Layup Shot', 'Step Back Jump shot', 'Driving Hook Shot', 'Running Hook Shot', 'Tip Shot', 'Turnaround Hook Shot', 'Reverse Dunk Shot', 'Step Back Bank Jump Shot', 'Turnaround Fadeaway Bank Jump Shot', 'Running Layup Shot', 'Running Reverse Layup Shot', 'Running Finger Roll Shot', 'Cutting Finger Roll Layup Shot', 'Driving Reverse Layup Shot', 'Running Finger Roll Layup Shot', 'Driving Bank Hook Shot', 'Running Jump Shot', 'Pullup Jump shot', 'Running Reverse Dunk Shot', 'Cutting Layup Shot', 'Finger Roll Shot', 'Driving Finger Roll Layup Shot', 'Fadeaway Jump Shot', 'Reverse Slam Dunk Shot', 'Driving Slam Dunk Shot', 'Dunk Shot', 'Tip Layup Shot']\n"
     ]
    }
   ],
   "source": [
    "layups = [shot for shot in shot_types if 'layup' in shot.lower()]\n",
    "banks = [shot for shot in shot_types if 'bank' in shot.lower()]\n",
    "\n",
    "dunks = [shot for shot in shot_types if 'dunk' in shot.lower()]\n",
    "notlayups = [shot for shot in shot_types if 'layup' not in shot.lower()]\n",
    "notlayups = [shot for shot in notlayups if shot not in dunks ]\n",
    "hooks = [shot for shot in notlayups if 'hook' in shot.lower() ]\n",
    "\n",
    "remnant = [shot for shot in notlayups if shot not in hooks ]\n",
    "floaters = [shot for shot in remnant if 'float' in shot.lower() ]\n",
    "remnant = [shot for shot in remnant if shot not in floaters ]\n",
    "\n",
    "fadeaways = [shot for shot in remnant if 'fadeaway' in shot.lower() ]\n",
    "remnant = [shot for shot in remnant if shot not in fadeaways ]\n",
    "\n",
    "print(len(layups))\n",
    "print(len(dunks))\n",
    "\n",
    "print(len(hooks))\n",
    "print(len(floaters))\n",
    "print(len(fadeaways))\n",
    "print(len(remnant))\n",
    "\n",
    "#print(remnant)\n",
    "print(shot_types)"
   ]
  },
  {
   "cell_type": "code",
   "execution_count": 4,
   "id": "3edc5dac-e871-4ad2-bbcc-d49f64e7fd55",
   "metadata": {},
   "outputs": [
    {
     "name": "stdout",
     "output_type": "stream",
     "text": [
      "['Jump Bank Hook Shot', 'Running Bank Hook Shot', 'Hook Shot', 'Turnaround Bank Hook Shot', 'Jump Hook Shot', 'Hook Bank Shot', 'Driving Hook Shot', 'Running Hook Shot', 'Turnaround Hook Shot', 'Driving Bank Hook Shot']\n",
      "['Putback Slam Dunk Shot', 'Alley Oop Dunk Shot', 'Putback Dunk Shot', 'Running Slam Dunk Shot', 'Follow Up Dunk Shot', 'Cutting Dunk Shot', 'Driving Dunk Shot', 'Running Dunk Shot', 'Tip Dunk Shot', 'Putback Reverse Dunk Shot', 'Running Alley Oop Dunk Shot', 'Driving Reverse Dunk Shot', 'Slam Dunk Shot', 'Reverse Dunk Shot', 'Running Reverse Dunk Shot', 'Reverse Slam Dunk Shot', 'Driving Slam Dunk Shot', 'Dunk Shot']\n",
      "['Alley Oop Layup shot', 'Running Alley Oop Layup Shot', 'Putback Layup Shot', 'Driving Layup Shot', 'Layup Shot', 'Reverse Layup Shot', 'Finger Roll Layup Shot', 'Running Layup Shot', 'Running Reverse Layup Shot', 'Cutting Finger Roll Layup Shot', 'Driving Reverse Layup Shot', 'Running Finger Roll Layup Shot', 'Cutting Layup Shot', 'Driving Finger Roll Layup Shot', 'Tip Layup Shot']\n",
      "['Floating Jump shot', 'Driving Floating Jump Shot', 'Driving Floating Bank Jump Shot']\n",
      "['Fadeaway Bank shot', 'Turnaround Fadeaway shot', 'Turnaround Fadeaway Bank Jump Shot', 'Fadeaway Jump Shot']\n"
     ]
    }
   ],
   "source": [
    "print(hooks)\n",
    "print(dunks)\n",
    "print(layups)\n",
    "print(floaters)\n",
    "print(fadeaways)"
   ]
  },
  {
   "cell_type": "code",
   "execution_count": 5,
   "id": "53727f94-bf3f-4239-8695-04c3c82ea336",
   "metadata": {},
   "outputs": [
    {
     "name": "stdout",
     "output_type": "stream",
     "text": [
      "['Driving Jump shot', 'Running Tip Shot', 'Jump Shot', 'Turnaround Finger Roll Shot', 'Jump Bank Shot', 'Turnaround Bank shot', 'Driving Bank shot', 'Pullup Bank shot', 'Running Bank shot', 'No Shot', 'Running Pull-Up Jump Shot', 'Driving Finger Roll Shot', 'Turnaround Jump Shot', 'Step Back Jump shot', 'Tip Shot', 'Step Back Bank Jump Shot', 'Running Finger Roll Shot', 'Running Jump Shot', 'Pullup Jump shot', 'Finger Roll Shot']\n"
     ]
    }
   ],
   "source": [
    "print(remnant)"
   ]
  },
  {
   "cell_type": "code",
   "execution_count": 6,
   "id": "9421c55f-2e1e-4c75-a85f-3484841ee30c",
   "metadata": {},
   "outputs": [],
   "source": [
    "\n",
    "def collect_year(year):\n",
    "    path = 'team/'+str(year)+'/'\n",
    "    arr = os.listdir(path)\n",
    "    csvs = [file for file in arr if '.csv' in file and file !='avg.csv']\n",
    "    frames= []\n",
    "    for csv in csvs:\n",
    "        df=pd.read_csv(path+csv)\n",
    "        frames.append(df)\n",
    "    master = pd.concat(frames)\n",
    "    return master\n",
    "\n",
    "\n",
    "def collect_types():\n",
    "    all_types = []\n",
    "    for year in range(1997,2024):\n",
    "        df = collect_year(year)\n",
    "        shot_types = df['ACTION_TYPE'].unique()\n",
    "        shot_breakdown= df['ACTION_TYPE'].value_counts().reset_index(name='count')\n",
    "        shot_breakdown.columns = ['shot_type','count']\n",
    "        shot_breakdown['year'] = year\n",
    "        print(shot_breakdown)\n",
    "        all_types.append(shot_breakdown)\n",
    "    return all_types\n",
    "\n",
    "\n",
    "#all_shots = collect_types()"
   ]
  },
  {
   "cell_type": "code",
   "execution_count": 7,
   "id": "e08c7d8a-fc04-491c-b47f-d1bc38c65f70",
   "metadata": {},
   "outputs": [
    {
     "name": "stdout",
     "output_type": "stream",
     "text": [
      "65\n",
      "2008: 50 unique shot descriptions\n",
      "\n",
      "2009: 49 unique shot descriptions\n",
      "\n",
      "2010: 49 unique shot descriptions\n",
      "\n",
      "2011: 50 unique shot descriptions\n",
      "\n",
      "2012: 50 unique shot descriptions\n",
      "\n",
      "2013: 50 unique shot descriptions\n",
      "\n",
      "2014: 50 unique shot descriptions\n",
      "\n",
      "2015: 49 unique shot descriptions\n",
      "\n",
      "2016: 53 unique shot descriptions\n",
      "\n",
      "2017: 53 unique shot descriptions\n",
      "\n",
      "2018: 46 unique shot descriptions\n",
      "\n",
      "2019: 46 unique shot descriptions\n",
      "\n",
      "2020: 46 unique shot descriptions\n",
      "\n",
      "2021: 46 unique shot descriptions\n",
      "\n",
      "2022: 46 unique shot descriptions\n",
      "\n",
      "2023: 48 unique shot descriptions\n",
      "\n"
     ]
    }
   ],
   "source": [
    "shot_totals = pd.read_csv('shot_types.csv')\n",
    "\n",
    "start_year = 2008\n",
    "shot_totals = shot_totals[shot_totals.year>=start_year]\n",
    "print(len(shot_totals['shot_type'].unique()))\n",
    "\n",
    "for year in range(start_year,2024):\n",
    "    temp = shot_totals[shot_totals.year==year]\n",
    "    #print(year)\n",
    "    print(str(year) +': '+str(len(temp['shot_type']))+' unique shot descriptions')\n",
    "    print('')\n",
    "shot_totals = shot_totals.groupby('shot_type').sum()['count'].reset_index(name='count')\n"
   ]
  },
  {
   "cell_type": "code",
   "execution_count": 8,
   "id": "a9170819-2b57-4e31-9cf4-b08b220b44f8",
   "metadata": {},
   "outputs": [
    {
     "data": {
      "text/html": [
       "<div>\n",
       "<style scoped>\n",
       "    .dataframe tbody tr th:only-of-type {\n",
       "        vertical-align: middle;\n",
       "    }\n",
       "\n",
       "    .dataframe tbody tr th {\n",
       "        vertical-align: top;\n",
       "    }\n",
       "\n",
       "    .dataframe thead th {\n",
       "        text-align: right;\n",
       "    }\n",
       "</style>\n",
       "<table border=\"1\" class=\"dataframe\">\n",
       "  <thead>\n",
       "    <tr style=\"text-align: right;\">\n",
       "      <th></th>\n",
       "      <th>shot_type</th>\n",
       "      <th>count</th>\n",
       "    </tr>\n",
       "  </thead>\n",
       "  <tbody>\n",
       "    <tr>\n",
       "      <th>27</th>\n",
       "      <td>Jump Shot</td>\n",
       "      <td>2956932</td>\n",
       "    </tr>\n",
       "    <tr>\n",
       "      <th>28</th>\n",
       "      <td>Layup Shot</td>\n",
       "      <td>609632</td>\n",
       "    </tr>\n",
       "    <tr>\n",
       "      <th>13</th>\n",
       "      <td>Driving Layup Shot</td>\n",
       "      <td>456946</td>\n",
       "    </tr>\n",
       "    <tr>\n",
       "      <th>31</th>\n",
       "      <td>Pullup Jump shot</td>\n",
       "      <td>412068</td>\n",
       "    </tr>\n",
       "    <tr>\n",
       "      <th>55</th>\n",
       "      <td>Step Back Jump shot</td>\n",
       "      <td>148040</td>\n",
       "    </tr>\n",
       "    <tr>\n",
       "      <th>...</th>\n",
       "      <td>...</td>\n",
       "      <td>...</td>\n",
       "    </tr>\n",
       "    <tr>\n",
       "      <th>52</th>\n",
       "      <td>Running Tip Shot</td>\n",
       "      <td>522</td>\n",
       "    </tr>\n",
       "    <tr>\n",
       "      <th>41</th>\n",
       "      <td>Running Bank Hook Shot</td>\n",
       "      <td>358</td>\n",
       "    </tr>\n",
       "    <tr>\n",
       "      <th>49</th>\n",
       "      <td>Running Reverse Dunk Shot</td>\n",
       "      <td>328</td>\n",
       "    </tr>\n",
       "    <tr>\n",
       "      <th>29</th>\n",
       "      <td>No Shot</td>\n",
       "      <td>162</td>\n",
       "    </tr>\n",
       "    <tr>\n",
       "      <th>34</th>\n",
       "      <td>Putback Reverse Dunk Shot</td>\n",
       "      <td>20</td>\n",
       "    </tr>\n",
       "  </tbody>\n",
       "</table>\n",
       "<p>65 rows × 2 columns</p>\n",
       "</div>"
      ],
      "text/plain": [
       "                    shot_type    count\n",
       "27                  Jump Shot  2956932\n",
       "28                 Layup Shot   609632\n",
       "13         Driving Layup Shot   456946\n",
       "31           Pullup Jump shot   412068\n",
       "55        Step Back Jump shot   148040\n",
       "..                        ...      ...\n",
       "52           Running Tip Shot      522\n",
       "41     Running Bank Hook Shot      358\n",
       "49  Running Reverse Dunk Shot      328\n",
       "29                    No Shot      162\n",
       "34  Putback Reverse Dunk Shot       20\n",
       "\n",
       "[65 rows x 2 columns]"
      ]
     },
     "execution_count": 8,
     "metadata": {},
     "output_type": "execute_result"
    }
   ],
   "source": [
    "shot_totals = shot_totals.sort_values(by='count',ascending = False)\n",
    "shot_totals"
   ]
  },
  {
   "cell_type": "code",
   "execution_count": 9,
   "id": "361181eb-931f-402f-940f-973033645c37",
   "metadata": {},
   "outputs": [
    {
     "data": {
      "text/html": [
       "<div>\n",
       "<style scoped>\n",
       "    .dataframe tbody tr th:only-of-type {\n",
       "        vertical-align: middle;\n",
       "    }\n",
       "\n",
       "    .dataframe tbody tr th {\n",
       "        vertical-align: top;\n",
       "    }\n",
       "\n",
       "    .dataframe thead th {\n",
       "        text-align: right;\n",
       "    }\n",
       "</style>\n",
       "<table border=\"1\" class=\"dataframe\">\n",
       "  <thead>\n",
       "    <tr style=\"text-align: right;\">\n",
       "      <th></th>\n",
       "      <th>shot_type</th>\n",
       "      <th>count</th>\n",
       "      <th>percentage</th>\n",
       "    </tr>\n",
       "  </thead>\n",
       "  <tbody>\n",
       "    <tr>\n",
       "      <th>27</th>\n",
       "      <td>Jump Shot</td>\n",
       "      <td>2956932</td>\n",
       "      <td>45.705783</td>\n",
       "    </tr>\n",
       "    <tr>\n",
       "      <th>28</th>\n",
       "      <td>Layup Shot</td>\n",
       "      <td>609632</td>\n",
       "      <td>9.423182</td>\n",
       "    </tr>\n",
       "    <tr>\n",
       "      <th>13</th>\n",
       "      <td>Driving Layup Shot</td>\n",
       "      <td>456946</td>\n",
       "      <td>7.063089</td>\n",
       "    </tr>\n",
       "    <tr>\n",
       "      <th>31</th>\n",
       "      <td>Pullup Jump shot</td>\n",
       "      <td>412068</td>\n",
       "      <td>6.369403</td>\n",
       "    </tr>\n",
       "    <tr>\n",
       "      <th>55</th>\n",
       "      <td>Step Back Jump shot</td>\n",
       "      <td>148040</td>\n",
       "      <td>2.288279</td>\n",
       "    </tr>\n",
       "    <tr>\n",
       "      <th>...</th>\n",
       "      <td>...</td>\n",
       "      <td>...</td>\n",
       "      <td>...</td>\n",
       "    </tr>\n",
       "    <tr>\n",
       "      <th>52</th>\n",
       "      <td>Running Tip Shot</td>\n",
       "      <td>522</td>\n",
       "      <td>0.008069</td>\n",
       "    </tr>\n",
       "    <tr>\n",
       "      <th>41</th>\n",
       "      <td>Running Bank Hook Shot</td>\n",
       "      <td>358</td>\n",
       "      <td>0.005534</td>\n",
       "    </tr>\n",
       "    <tr>\n",
       "      <th>49</th>\n",
       "      <td>Running Reverse Dunk Shot</td>\n",
       "      <td>328</td>\n",
       "      <td>0.005070</td>\n",
       "    </tr>\n",
       "    <tr>\n",
       "      <th>29</th>\n",
       "      <td>No Shot</td>\n",
       "      <td>162</td>\n",
       "      <td>0.002504</td>\n",
       "    </tr>\n",
       "    <tr>\n",
       "      <th>34</th>\n",
       "      <td>Putback Reverse Dunk Shot</td>\n",
       "      <td>20</td>\n",
       "      <td>0.000309</td>\n",
       "    </tr>\n",
       "  </tbody>\n",
       "</table>\n",
       "<p>65 rows × 3 columns</p>\n",
       "</div>"
      ],
      "text/plain": [
       "                    shot_type    count  percentage\n",
       "27                  Jump Shot  2956932   45.705783\n",
       "28                 Layup Shot   609632    9.423182\n",
       "13         Driving Layup Shot   456946    7.063089\n",
       "31           Pullup Jump shot   412068    6.369403\n",
       "55        Step Back Jump shot   148040    2.288279\n",
       "..                        ...      ...         ...\n",
       "52           Running Tip Shot      522    0.008069\n",
       "41     Running Bank Hook Shot      358    0.005534\n",
       "49  Running Reverse Dunk Shot      328    0.005070\n",
       "29                    No Shot      162    0.002504\n",
       "34  Putback Reverse Dunk Shot       20    0.000309\n",
       "\n",
       "[65 rows x 3 columns]"
      ]
     },
     "execution_count": 9,
     "metadata": {},
     "output_type": "execute_result"
    }
   ],
   "source": [
    "total = shot_totals['count'].sum()\n",
    "\n",
    "shot_totals['percentage'] = 100 * shot_totals['count']/total\n",
    "shot_totals"
   ]
  },
  {
   "cell_type": "code",
   "execution_count": 10,
   "id": "dad5d70b-ae86-4829-a779-8361fb0578b2",
   "metadata": {},
   "outputs": [
    {
     "name": "stdout",
     "output_type": "stream",
     "text": [
      "shot_type     Tip Layup ShotTip ShotTip Dunk ShotRunning Tip...\n",
      "count                                                    141806\n",
      "percentage                                             2.191919\n",
      "dtype: object\n"
     ]
    }
   ],
   "source": [
    "shots = shot_totals[shot_totals['percentage']>0]\n",
    "def type_filter(df,term):\n",
    "    return df[df.shot_type.str.lower().str.contains(term)]\n",
    "tips = type_filter(shots,'tip')\n",
    "print(tips.sum())"
   ]
  },
  {
   "cell_type": "code",
   "execution_count": 11,
   "id": "3da6a995-57b7-4032-bb76-853b2049a456",
   "metadata": {},
   "outputs": [
    {
     "data": {
      "text/plain": [
       "array(['Jump Shot', 'Layup Shot', 'Driving Layup Shot',\n",
       "       'Pullup Jump shot', 'Step Back Jump shot',\n",
       "       'Driving Floating Jump Shot', 'Floating Jump shot',\n",
       "       'Turnaround Jump Shot', 'Hook Shot', 'Dunk Shot',\n",
       "       'Fadeaway Jump Shot', 'Running Jump Shot', 'Running Layup Shot',\n",
       "       'Driving Finger Roll Layup Shot', 'Cutting Layup Shot',\n",
       "       'Tip Layup Shot', 'Tip Shot', 'Putback Layup Shot',\n",
       "       'Reverse Layup Shot', 'Turnaround Fadeaway shot',\n",
       "       'Turnaround Hook Shot', 'Alley Oop Dunk Shot',\n",
       "       'Driving Reverse Layup Shot', 'Cutting Dunk Shot',\n",
       "       'Driving Dunk Shot', 'Jump Bank Shot',\n",
       "       'Driving Floating Bank Jump Shot', 'Running Dunk Shot',\n",
       "       'Slam Dunk Shot', 'Alley Oop Layup shot', 'Driving Hook Shot',\n",
       "       'Jump Hook Shot', 'Running Pull-Up Jump Shot', 'Putback Dunk Shot',\n",
       "       'Finger Roll Layup Shot', 'Driving Jump shot',\n",
       "       'Running Finger Roll Layup Shot', 'Running Bank shot',\n",
       "       'Running Hook Shot', 'Tip Dunk Shot',\n",
       "       'Cutting Finger Roll Layup Shot', 'Running Reverse Layup Shot',\n",
       "       'Driving Slam Dunk Shot', 'Turnaround Bank shot',\n",
       "       'Driving Bank shot', 'Turnaround Fadeaway Bank Jump Shot',\n",
       "       'Reverse Dunk Shot', 'Hook Bank Shot',\n",
       "       'Running Alley Oop Dunk Shot', 'Turnaround Bank Hook Shot',\n",
       "       'Driving Bank Hook Shot', 'Pullup Bank shot', 'Fadeaway Bank shot',\n",
       "       'Putback Slam Dunk Shot', 'Running Slam Dunk Shot',\n",
       "       'Running Alley Oop Layup Shot', 'Step Back Bank Jump Shot',\n",
       "       'Reverse Slam Dunk Shot', 'Driving Reverse Dunk Shot',\n",
       "       'Jump Bank Hook Shot', 'Running Tip Shot',\n",
       "       'Running Bank Hook Shot', 'Running Reverse Dunk Shot', 'No Shot',\n",
       "       'Putback Reverse Dunk Shot'], dtype=object)"
      ]
     },
     "execution_count": 11,
     "metadata": {},
     "output_type": "execute_result"
    }
   ],
   "source": [
    "shots.shot_type.unique()"
   ]
  },
  {
   "cell_type": "code",
   "execution_count": 12,
   "id": "7a701f6d-db8c-4514-af96-e751326ed4a8",
   "metadata": {},
   "outputs": [
    {
     "data": {
      "text/plain": [
       "['Jump', 'Layup', 'Hook', 'Dunk', 'Tip', 'Bank', 'No']"
      ]
     },
     "execution_count": 12,
     "metadata": {},
     "output_type": "execute_result"
    }
   ],
   "source": [
    "small = shots.reset_index(drop = True)\n",
    "small['shot_type'] = small['shot_type'].str.split(' ').str[-2]\n",
    "desc =small.shot_type.unique()\n",
    "desc = [shot for shot in desc if shot!='Fadeaway']\n",
    "desc"
   ]
  },
  {
   "cell_type": "code",
   "execution_count": null,
   "id": "a7d3b024-d158-4a6c-9c63-92345323716b",
   "metadata": {},
   "outputs": [],
   "source": [
    "small = shots.reset_index(drop = True)\n",
    "small['shot_type'] = small['shot_type'].str.split(' ').str[0]\n",
    "qual = small.shot_type.unique()\n",
    "qual = set(qual) - set(desc)\n",
    "qual"
   ]
  },
  {
   "cell_type": "code",
   "execution_count": null,
   "id": "7470efab-f901-497a-bb46-77019f4bc5a1",
   "metadata": {},
   "outputs": [],
   "source": [
    "unique_shots = shots['shot_type'].unique()\n",
    "qual = ['Alley',\n",
    " 'Cutting',\n",
    " 'Driving',\n",
    " 'Fadeaway',\n",
    " 'Finger',\n",
    " 'Floating',\n",
    " 'Pullup',\n",
    " 'Putback',\n",
    " 'Reverse',\n",
    " 'Running',\n",
    " 'Slam',\n",
    " 'Step',\n",
    " 'Turnaround']\n",
    "\n",
    "found_shots= []\n",
    "for shot in unique_shots:\n",
    "    for val in qual:\n",
    "        if val.lower() in shot.lower():\n",
    "            found_shots.append(shot)\n",
    "\n",
    "shot_qual = shots[shots.shot_type.isin(found_shots)]\n",
    "shot_qual.percentage.sum()"
   ]
  },
  {
   "cell_type": "code",
   "execution_count": null,
   "id": "d5cd6c02-79e4-4a42-97e1-72af4eed7d37",
   "metadata": {},
   "outputs": [],
   "source": [
    "non_qual = shots[~shots.shot_type.isin(found_shots)]\n",
    "print(non_qual.percentage.sum())\n",
    "non_qual"
   ]
  },
  {
   "cell_type": "code",
   "execution_count": null,
   "id": "e281ef00-628e-45fe-bc62-55db5a950ac9",
   "metadata": {},
   "outputs": [],
   "source": [
    "layups = shots[shots.shot_type.str.lower().str.contains('layup')]\n",
    "layups['percentage'].sum()"
   ]
  },
  {
   "cell_type": "code",
   "execution_count": null,
   "id": "2af0d780-620c-4c07-92af-6789af9679ea",
   "metadata": {},
   "outputs": [],
   "source": [
    "layup_shots = layups['shot_type']\n",
    "layup_shots"
   ]
  },
  {
   "cell_type": "code",
   "execution_count": null,
   "id": "a3946b02-88de-4855-93de-833ef75a2a8d",
   "metadata": {},
   "outputs": [],
   "source": [
    "shot_types"
   ]
  },
  {
   "cell_type": "code",
   "execution_count": null,
   "id": "ee4d590d-7335-4af0-b4af-5ea00e9bf69e",
   "metadata": {},
   "outputs": [],
   "source": [
    "shots[shots.shot_type=='Turnaround Fadeaway shot']"
   ]
  },
  {
   "cell_type": "code",
   "execution_count": null,
   "id": "aa580dd8-3542-4724-a88d-39aec6a189f1",
   "metadata": {},
   "outputs": [],
   "source": []
  }
 ],
 "metadata": {
  "kernelspec": {
   "display_name": "Python 3 (ipykernel)",
   "language": "python",
   "name": "python3"
  },
  "language_info": {
   "codemirror_mode": {
    "name": "ipython",
    "version": 3
   },
   "file_extension": ".py",
   "mimetype": "text/x-python",
   "name": "python",
   "nbconvert_exporter": "python",
   "pygments_lexer": "ipython3",
   "version": "3.10.11"
  }
 },
 "nbformat": 4,
 "nbformat_minor": 5
}
