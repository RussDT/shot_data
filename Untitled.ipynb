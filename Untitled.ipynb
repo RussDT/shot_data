{
 "cells": [
  {
   "cell_type": "code",
   "execution_count": 1,
   "id": "e857da6f-6e25-4856-9c09-992638b60993",
   "metadata": {},
   "outputs": [],
   "source": [
    "import pandas as pd\n",
    "import os\n",
    "df = pd.read_csv('shot_categories.csv')\n",
    "shot_types = list(df['shot_type'])"
   ]
  },
  {
   "cell_type": "code",
   "execution_count": 5,
   "id": "0abad7ac-e1ed-4adc-98cf-1075c3715c01",
   "metadata": {},
   "outputs": [
    {
     "name": "stdout",
     "output_type": "stream",
     "text": [
      "dict_keys(['Dunk', 'Layup', 'Jump Shot', 'Hook Shot', 'Bank Shot', 'Floating Shot', 'Tip Shot', 'Other'])\n",
      "dict_keys(['Dunk', 'Layup', 'Jump Shot', 'Hook Shot', 'Bank Shot', 'Floating Shot', 'Tip Shot', 'Other'])\n",
      "dict_keys(['Dunk', 'Layup', 'Jump Shot', 'Hook Shot', 'Bank Shot', 'Floating Shot', 'Tip Shot', 'Other'])\n",
      "dict_keys(['Dunk', 'Layup', 'Jump Shot', 'Hook Shot', 'Bank Shot', 'Floating Shot', 'Tip Shot', 'Other'])\n",
      "dict_keys(['Dunk', 'Layup', 'Jump Shot', 'Hook Shot', 'Bank Shot', 'Floating Shot', 'Tip Shot', 'Other'])\n",
      "dict_keys(['Dunk', 'Layup', 'Jump Shot', 'Hook Shot', 'Bank Shot', 'Floating Shot', 'Tip Shot', 'Other'])\n",
      "dict_keys(['Dunk', 'Layup', 'Jump Shot', 'Hook Shot', 'Bank Shot', 'Floating Shot', 'Tip Shot', 'Other'])\n",
      "dict_keys(['Dunk', 'Layup', 'Jump Shot', 'Hook Shot', 'Bank Shot', 'Floating Shot', 'Tip Shot', 'Other'])\n",
      "dict_keys(['Dunk', 'Layup', 'Jump Shot', 'Hook Shot', 'Bank Shot', 'Floating Shot', 'Tip Shot', 'Other'])\n",
      "dict_keys(['Dunk', 'Layup', 'Jump Shot', 'Hook Shot', 'Bank Shot', 'Floating Shot', 'Tip Shot', 'Other'])\n",
      "dict_keys(['Dunk', 'Layup', 'Jump Shot', 'Hook Shot', 'Bank Shot', 'Floating Shot', 'Tip Shot', 'Other'])\n",
      "dict_keys(['Dunk', 'Layup', 'Jump Shot', 'Hook Shot', 'Bank Shot', 'Floating Shot', 'Tip Shot', 'Other'])\n",
      "dict_keys(['Dunk', 'Layup', 'Jump Shot', 'Hook Shot', 'Bank Shot', 'Floating Shot', 'Tip Shot', 'Other'])\n",
      "dict_keys(['Dunk', 'Layup', 'Jump Shot', 'Hook Shot', 'Bank Shot', 'Floating Shot', 'Tip Shot', 'Other'])\n",
      "dict_keys(['Dunk', 'Layup', 'Jump Shot', 'Hook Shot', 'Bank Shot', 'Floating Shot', 'Tip Shot', 'Other'])\n",
      "dict_keys(['Dunk', 'Layup', 'Jump Shot', 'Hook Shot', 'Bank Shot', 'Floating Shot', 'Tip Shot', 'Other'])\n",
      "dict_keys(['Dunk', 'Layup', 'Jump Shot', 'Hook Shot', 'Bank Shot', 'Floating Shot', 'Tip Shot', 'Other'])\n",
      "dict_keys(['Dunk', 'Layup', 'Jump Shot', 'Hook Shot', 'Bank Shot', 'Floating Shot', 'Tip Shot', 'Other'])\n",
      "dict_keys(['Dunk', 'Layup', 'Jump Shot', 'Hook Shot', 'Bank Shot', 'Floating Shot', 'Tip Shot', 'Other'])\n",
      "dict_keys(['Dunk', 'Layup', 'Jump Shot', 'Hook Shot', 'Bank Shot', 'Floating Shot', 'Tip Shot', 'Other'])\n",
      "dict_keys(['Dunk', 'Layup', 'Jump Shot', 'Hook Shot', 'Bank Shot', 'Floating Shot', 'Tip Shot', 'Other'])\n",
      "dict_keys(['Dunk', 'Layup', 'Jump Shot', 'Hook Shot', 'Bank Shot', 'Floating Shot', 'Tip Shot', 'Other'])\n",
      "dict_keys(['Dunk', 'Layup', 'Jump Shot', 'Hook Shot', 'Bank Shot', 'Floating Shot', 'Tip Shot', 'Other'])\n",
      "dict_keys(['Dunk', 'Layup', 'Jump Shot', 'Hook Shot', 'Bank Shot', 'Floating Shot', 'Tip Shot', 'Other'])\n",
      "dict_keys(['Dunk', 'Layup', 'Jump Shot', 'Hook Shot', 'Bank Shot', 'Floating Shot', 'Tip Shot', 'Other'])\n",
      "dict_keys(['Dunk', 'Layup', 'Jump Shot', 'Hook Shot', 'Bank Shot', 'Floating Shot', 'Tip Shot', 'Other'])\n",
      "dict_keys(['Dunk', 'Layup', 'Jump Shot', 'Hook Shot', 'Bank Shot', 'Floating Shot', 'Tip Shot', 'Other'])\n"
     ]
    },
    {
     "data": {
      "text/html": [
       "<div>\n",
       "<style scoped>\n",
       "    .dataframe tbody tr th:only-of-type {\n",
       "        vertical-align: middle;\n",
       "    }\n",
       "\n",
       "    .dataframe tbody tr th {\n",
       "        vertical-align: top;\n",
       "    }\n",
       "\n",
       "    .dataframe thead th {\n",
       "        text-align: right;\n",
       "    }\n",
       "</style>\n",
       "<table border=\"1\" class=\"dataframe\">\n",
       "  <thead>\n",
       "    <tr style=\"text-align: right;\">\n",
       "      <th></th>\n",
       "      <th>category</th>\n",
       "      <th>count</th>\n",
       "      <th>year</th>\n",
       "    </tr>\n",
       "  </thead>\n",
       "  <tbody>\n",
       "    <tr>\n",
       "      <th>2</th>\n",
       "      <td>Jump Shot</td>\n",
       "      <td>229534</td>\n",
       "      <td>1997</td>\n",
       "    </tr>\n",
       "    <tr>\n",
       "      <th>3</th>\n",
       "      <td>Layup</td>\n",
       "      <td>109836</td>\n",
       "      <td>1997</td>\n",
       "    </tr>\n",
       "    <tr>\n",
       "      <th>0</th>\n",
       "      <td>Dunk</td>\n",
       "      <td>18092</td>\n",
       "      <td>1997</td>\n",
       "    </tr>\n",
       "    <tr>\n",
       "      <th>1</th>\n",
       "      <td>Hook Shot</td>\n",
       "      <td>11882</td>\n",
       "      <td>1997</td>\n",
       "    </tr>\n",
       "    <tr>\n",
       "      <th>4</th>\n",
       "      <td>Tip Shot</td>\n",
       "      <td>7834</td>\n",
       "      <td>1997</td>\n",
       "    </tr>\n",
       "    <tr>\n",
       "      <th>...</th>\n",
       "      <td>...</td>\n",
       "      <td>...</td>\n",
       "      <td>...</td>\n",
       "    </tr>\n",
       "    <tr>\n",
       "      <th>6</th>\n",
       "      <td>Other</td>\n",
       "      <td>55614</td>\n",
       "      <td>2023</td>\n",
       "    </tr>\n",
       "    <tr>\n",
       "      <th>1</th>\n",
       "      <td>Dunk</td>\n",
       "      <td>26156</td>\n",
       "      <td>2023</td>\n",
       "    </tr>\n",
       "    <tr>\n",
       "      <th>3</th>\n",
       "      <td>Hook Shot</td>\n",
       "      <td>13028</td>\n",
       "      <td>2023</td>\n",
       "    </tr>\n",
       "    <tr>\n",
       "      <th>2</th>\n",
       "      <td>Floating Shot</td>\n",
       "      <td>8662</td>\n",
       "      <td>2023</td>\n",
       "    </tr>\n",
       "    <tr>\n",
       "      <th>0</th>\n",
       "      <td>Bank Shot</td>\n",
       "      <td>612</td>\n",
       "      <td>2023</td>\n",
       "    </tr>\n",
       "  </tbody>\n",
       "</table>\n",
       "<p>178 rows × 3 columns</p>\n",
       "</div>"
      ],
      "text/plain": [
       "         category   count  year\n",
       "2       Jump Shot  229534  1997\n",
       "3           Layup  109836  1997\n",
       "0            Dunk   18092  1997\n",
       "1       Hook Shot   11882  1997\n",
       "4        Tip Shot    7834  1997\n",
       "..            ...     ...   ...\n",
       "6           Other   55614  2023\n",
       "1            Dunk   26156  2023\n",
       "3       Hook Shot   13028  2023\n",
       "2   Floating Shot    8662  2023\n",
       "0       Bank Shot     612  2023\n",
       "\n",
       "[178 rows x 3 columns]"
      ]
     },
     "execution_count": 5,
     "metadata": {},
     "output_type": "execute_result"
    }
   ],
   "source": [
    "df= pd.read_csv('shot_types.csv')\n",
    "def organize_shottypes(df):\n",
    "    frames=[]\n",
    "    for year in df['year'].unique().tolist():\n",
    "        yeardf = df[df.year==year].reset_index(drop=True)\n",
    "        # Define categories and their corresponding shot types\n",
    "        categories = {\n",
    "            'Dunk': ['Dunk', 'Slam Dunk', 'Alley Oop Dunk'],\n",
    "            'Layup': ['Layup', 'Finger Roll', 'Alley Oop Layup'],\n",
    "            'Jump Shot': ['Jump Shot', 'Fadeaway', 'Pull-Up', 'Step Back'],\n",
    "            'Hook Shot': ['Hook Shot', 'Bank Hook'],\n",
    "            'Bank Shot': ['Bank shot'],\n",
    "            'Floating Shot': ['Floating'],\n",
    "            'Tip Shot': ['Tip'],\n",
    "            'Other': ['No Shot']\n",
    "        }\n",
    "        \n",
    "        # Function to categorize shot types\n",
    "        def categorize_shot(shot_type):\n",
    "            for category, keywords in categories.items():\n",
    "                if any(keyword in shot_type for keyword in keywords):\n",
    "                    return category\n",
    "            return 'Other'\n",
    "        \n",
    "        # Apply categorization\n",
    "        yeardf['category'] = yeardf['shot_type'].apply(categorize_shot)\n",
    "        \n",
    "        # Group by category and sum the counts\n",
    "        result = yeardf.groupby('category')['count'].sum().reset_index()\n",
    "        \n",
    "        # Sort by count in descending order\n",
    "        result = result.sort_values('count', ascending=False)\n",
    "        result['year']=year\n",
    "        frames.append(result)\n",
    "        print(categories.keys())\n",
    "    return pd.concat(frames)\n",
    "\n",
    "shot_breakdown= organize_shottypes(df)\n",
    "shot_breakdown\n"
   ]
  },
  {
   "cell_type": "code",
   "execution_count": null,
   "id": "9f29b929-80ce-4328-8fef-894209b0b14b",
   "metadata": {},
   "outputs": [],
   "source": [
    "df= pd.read_csv('shot_types.csv')\n",
    "total_count = df.groupby('shot_type').sum()[['count']].reset_index()\n",
    "total_count.to_csv('shot_counts.csv',index=False)"
   ]
  },
  {
   "cell_type": "code",
   "execution_count": null,
   "id": "6bd19268-760d-4ee1-93e0-751046ee90ed",
   "metadata": {},
   "outputs": [],
   "source": [
    "layups = [shot for shot in shot_types if 'layup' in shot.lower()]\n",
    "banks = [shot for shot in shot_types if 'bank' in shot.lower()]\n",
    "\n",
    "dunks = [shot for shot in shot_types if 'dunk' in shot.lower()]\n",
    "notlayups = [shot for shot in shot_types if 'layup' not in shot.lower()]\n",
    "notlayups = [shot for shot in notlayups if shot not in dunks ]\n",
    "hooks = [shot for shot in notlayups if 'hook' in shot.lower() ]\n",
    "\n",
    "remnant = [shot for shot in notlayups if shot not in hooks ]\n",
    "floaters = [shot for shot in remnant if 'float' in shot.lower() ]\n",
    "remnant = [shot for shot in remnant if shot not in floaters ]\n",
    "\n",
    "fadeaways = [shot for shot in remnant if 'fadeaway' in shot.lower() ]\n",
    "remnant = [shot for shot in remnant if shot not in fadeaways ]\n",
    "\n",
    "print(len(layups))\n",
    "print(len(dunks))\n",
    "\n",
    "print(len(hooks))\n",
    "print(len(floaters))\n",
    "print(len(fadeaways))\n",
    "print(len(remnant))\n",
    "\n",
    "#print(remnant)\n",
    "print(shot_types)"
   ]
  },
  {
   "cell_type": "code",
   "execution_count": null,
   "id": "3edc5dac-e871-4ad2-bbcc-d49f64e7fd55",
   "metadata": {},
   "outputs": [],
   "source": [
    "print(hooks)\n",
    "print(dunks)\n",
    "print(layups)\n",
    "print(floaters)\n",
    "print(fadeaways)"
   ]
  },
  {
   "cell_type": "code",
   "execution_count": null,
   "id": "53727f94-bf3f-4239-8695-04c3c82ea336",
   "metadata": {},
   "outputs": [],
   "source": []
  },
  {
   "cell_type": "code",
   "execution_count": null,
   "id": "9421c55f-2e1e-4c75-a85f-3484841ee30c",
   "metadata": {},
   "outputs": [],
   "source": [
    "\n",
    "def collect_year(year):\n",
    "    path = 'team/'+str(year)+'/'\n",
    "    arr = os.listdir(path)\n",
    "    csvs = [file for file in arr if '.csv' in file and file !='avg.csv']\n",
    "    frames= []\n",
    "    for csv in csvs:\n",
    "        df=pd.read_csv(path+csv)\n",
    "        frames.append(df)\n",
    "    master = pd.concat(frames)\n",
    "    return master\n",
    "\n",
    "\n",
    "def collect_types():\n",
    "    all_types = []\n",
    "    for year in range(1997,2024):\n",
    "        df = collect_year(year)\n",
    "        shot_types = df['ACTION_TYPE'].unique()\n",
    "        shot_breakdown= df['ACTION_TYPE'].value_counts().reset_index(name='count')\n",
    "        shot_breakdown.columns = ['shot_type','count']\n",
    "        shot_breakdown['year'] = year\n",
    "        print(shot_breakdown)\n",
    "        all_types.append(shot_breakdown)\n",
    "    return all_types\n",
    "\n",
    "\n",
    "#all_shots = collect_types()"
   ]
  },
  {
   "cell_type": "code",
   "execution_count": null,
   "id": "e08c7d8a-fc04-491c-b47f-d1bc38c65f70",
   "metadata": {},
   "outputs": [],
   "source": [
    "shot_totals = pd.read_csv('shot_types.csv')\n",
    "\n",
    "start_year = 2008\n",
    "shot_totals = shot_totals[shot_totals.year>=start_year]\n",
    "print(len(shot_totals['shot_type'].unique()))\n",
    "\n",
    "for year in range(start_year,2024):\n",
    "    temp = shot_totals[shot_totals.year==year]\n",
    "    #print(year)\n",
    "    print(str(year) +': '+str(len(temp['shot_type']))+' unique shot descriptions')\n",
    "    print('')\n",
    "shot_totals = shot_totals.groupby('shot_type').sum()['count'].reset_index(name='count')\n"
   ]
  },
  {
   "cell_type": "code",
   "execution_count": null,
   "id": "a9170819-2b57-4e31-9cf4-b08b220b44f8",
   "metadata": {},
   "outputs": [],
   "source": [
    "shot_totals = shot_totals.sort_values(by='count',ascending = False)\n",
    "shot_totals"
   ]
  },
  {
   "cell_type": "code",
   "execution_count": null,
   "id": "361181eb-931f-402f-940f-973033645c37",
   "metadata": {},
   "outputs": [],
   "source": [
    "total = shot_totals['count'].sum()\n",
    "\n",
    "shot_totals['percentage'] = 100 * shot_totals['count']/total\n",
    "shot_totals"
   ]
  },
  {
   "cell_type": "code",
   "execution_count": null,
   "id": "dad5d70b-ae86-4829-a779-8361fb0578b2",
   "metadata": {},
   "outputs": [],
   "source": [
    "shots = shot_totals[shot_totals['percentage']>0]\n",
    "def type_filter(df,term):\n",
    "    return df[df.shot_type.str.lower().str.contains(term)]\n",
    "tips = type_filter(shots,'tip')\n",
    "print(tips.sum())"
   ]
  },
  {
   "cell_type": "code",
   "execution_count": null,
   "id": "3da6a995-57b7-4032-bb76-853b2049a456",
   "metadata": {},
   "outputs": [],
   "source": [
    "shots.shot_type.unique()"
   ]
  },
  {
   "cell_type": "code",
   "execution_count": null,
   "id": "7a701f6d-db8c-4514-af96-e751326ed4a8",
   "metadata": {},
   "outputs": [],
   "source": [
    "small = shots.reset_index(drop = True)\n",
    "small['shot_type'] = small['shot_type'].str.split(' ').str[-2]\n",
    "desc =small.shot_type.unique()\n",
    "desc = [shot for shot in desc if shot!='Fadeaway']\n",
    "desc"
   ]
  },
  {
   "cell_type": "code",
   "execution_count": null,
   "id": "a7d3b024-d158-4a6c-9c63-92345323716b",
   "metadata": {},
   "outputs": [],
   "source": [
    "small = shots.reset_index(drop = True)\n",
    "small['shot_type'] = small['shot_type'].str.split(' ').str[0]\n",
    "qual = small.shot_type.unique()\n",
    "qual = set(qual) - set(desc)\n",
    "qual"
   ]
  },
  {
   "cell_type": "code",
   "execution_count": null,
   "id": "7470efab-f901-497a-bb46-77019f4bc5a1",
   "metadata": {},
   "outputs": [],
   "source": [
    "unique_shots = shots['shot_type'].unique()\n",
    "qual = ['Alley',\n",
    " 'Cutting',\n",
    " 'Driving',\n",
    " 'Fadeaway',\n",
    " 'Finger',\n",
    " 'Floating',\n",
    " 'Pullup',\n",
    " 'Putback',\n",
    " 'Reverse',\n",
    " 'Running',\n",
    " 'Slam',\n",
    " 'Step',\n",
    " 'Turnaround']\n",
    "\n",
    "found_shots= []\n",
    "for shot in unique_shots:\n",
    "    for val in qual:\n",
    "        if val.lower() in shot.lower():\n",
    "            found_shots.append(shot)\n",
    "\n",
    "shot_qual = shots[shots.shot_type.isin(found_shots)]\n",
    "shot_qual.percentage.sum()"
   ]
  },
  {
   "cell_type": "code",
   "execution_count": null,
   "id": "d5cd6c02-79e4-4a42-97e1-72af4eed7d37",
   "metadata": {},
   "outputs": [],
   "source": [
    "non_qual = shots[~shots.shot_type.isin(found_shots)]\n",
    "print(non_qual.percentage.sum())\n",
    "non_qual"
   ]
  },
  {
   "cell_type": "code",
   "execution_count": null,
   "id": "e281ef00-628e-45fe-bc62-55db5a950ac9",
   "metadata": {},
   "outputs": [],
   "source": [
    "layups = shots[shots.shot_type.str.lower().str.contains('layup')]\n",
    "layups['percentage'].sum()"
   ]
  },
  {
   "cell_type": "code",
   "execution_count": null,
   "id": "2af0d780-620c-4c07-92af-6789af9679ea",
   "metadata": {},
   "outputs": [],
   "source": [
    "layup_shots = layups['shot_type']\n",
    "layup_shots"
   ]
  },
  {
   "cell_type": "code",
   "execution_count": null,
   "id": "a3946b02-88de-4855-93de-833ef75a2a8d",
   "metadata": {},
   "outputs": [],
   "source": [
    "shot_types"
   ]
  },
  {
   "cell_type": "code",
   "execution_count": null,
   "id": "ee4d590d-7335-4af0-b4af-5ea00e9bf69e",
   "metadata": {},
   "outputs": [],
   "source": [
    "shots[shots.shot_type=='Turnaround Fadeaway shot']"
   ]
  },
  {
   "cell_type": "code",
   "execution_count": null,
   "id": "aa580dd8-3542-4724-a88d-39aec6a189f1",
   "metadata": {},
   "outputs": [],
   "source": []
  }
 ],
 "metadata": {
  "kernelspec": {
   "display_name": "Python 3 (ipykernel)",
   "language": "python",
   "name": "python3"
  },
  "language_info": {
   "codemirror_mode": {
    "name": "ipython",
    "version": 3
   },
   "file_extension": ".py",
   "mimetype": "text/x-python",
   "name": "python",
   "nbconvert_exporter": "python",
   "pygments_lexer": "ipython3",
   "version": "3.10.12"
  }
 },
 "nbformat": 4,
 "nbformat_minor": 5
}
