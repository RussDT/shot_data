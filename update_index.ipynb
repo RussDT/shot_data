{
 "cells": [
  {
   "cell_type": "code",
   "execution_count": 1,
   "id": "97baa365-a1cf-41ee-93a8-cba6e3cbf65c",
   "metadata": {},
   "outputs": [
    {
     "name": "stdout",
     "output_type": "stream",
     "text": [
      "2023-24\n"
     ]
    },
    {
     "name": "stderr",
     "output_type": "stream",
     "text": [
      "C:\\Users\\gaber\\AppData\\Local\\Temp\\ipykernel_1840\\2680429566.py:12: DtypeWarning: Columns (67) have mixed types. Specify dtype option on import or set low_memory=False.\n",
      "  old = pd.read_csv('player_index.csv')\n"
     ]
    }
   ],
   "source": [
    "import pandas as pd\n",
    "\n",
    "from nba_api.stats.endpoints import playerfantasyprofile,playerdashboardbyteamperformance,leaguedashplayerstats\n",
    "def update(year):\n",
    "    season_string = str(year-1) +'-'+str(year)[-2::]\n",
    "    print(season_string)\n",
    "    frames = leaguedashplayerstats.LeagueDashPlayerStats(season=season_string).get_data_frames()\n",
    "    df = frames[0]\n",
    "    df['year'] = year\n",
    "    df['GROUP_SET'] = 'Players'\n",
    "    df = df.drop(columns=['TEAM_ABBREVIATION','AGE'])\n",
    "    old = pd.read_csv('player_index.csv')\n",
    "    old = old[old.year!=year]\n",
    "    \n",
    "    to_save = pd.concat([old,df])\n",
    "    to_save.drop(columns=[col for col in to_save.columns if 'Unnamed' in col],inplace = True)\n",
    "    return to_save\n",
    "df=update(2024)\n",
    "df.to_csv('player_index.csv',index = False)                                   "
   ]
  },
  {
   "cell_type": "code",
   "execution_count": 2,
   "id": "527c72db-32d0-4b7a-94dd-465796b259e3",
   "metadata": {},
   "outputs": [
    {
     "name": "stdout",
     "output_type": "stream",
     "text": [
      "2023-24\n"
     ]
    }
   ],
   "source": [
    "def update2(year):\n",
    "    season_string = str(year-1) +'-'+str(year)[-2::]\n",
    "    print(season_string)\n",
    "    frames = leaguedashplayerstats.LeagueDashPlayerStats(season=season_string,season_type_all_star=\"Playoffs\").get_data_frames()\n",
    "    df = frames[0]\n",
    "    df['year'] = year\n",
    "    df['GROUP_SET'] = 'Players'\n",
    "    df = df.drop(columns=['TEAM_ABBREVIATION','AGE'])\n",
    "    old = pd.read_csv('player_indexps.csv')\n",
    "    old = old[old.year!=year]\n",
    "    \n",
    "    to_save = pd.concat([old,df])\n",
    "    to_save.drop(columns=[col for col in to_save.columns if 'Unnamed' in col],inplace = True)\n",
    "    return to_save\n",
    "df=update2(2024)\n",
    "df.to_csv('player_indexps.csv',index = False)      "
   ]
  },
  {
   "cell_type": "code",
   "execution_count": null,
   "id": "8d1647e3-ebb2-4bfa-8856-4093302dbe93",
   "metadata": {},
   "outputs": [],
   "source": []
  }
 ],
 "metadata": {
  "kernelspec": {
   "display_name": "Python 3 (ipykernel)",
   "language": "python",
   "name": "python3"
  },
  "language_info": {
   "codemirror_mode": {
    "name": "ipython",
    "version": 3
   },
   "file_extension": ".py",
   "mimetype": "text/x-python",
   "name": "python",
   "nbconvert_exporter": "python",
   "pygments_lexer": "ipython3",
   "version": "3.10.11"
  }
 },
 "nbformat": 4,
 "nbformat_minor": 5
}
