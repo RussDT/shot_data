{
 "cells": [
  {
   "cell_type": "code",
   "execution_count": 24,
   "id": "2b9c1631-b185-44af-b065-ff6d11135026",
   "metadata": {
    "tags": []
   },
   "outputs": [
    {
     "name": "stdout",
     "output_type": "stream",
     "text": [
      "                     0   1   2   3   4   5   6   7   8   9   ...  49  50  51  \\\n",
      "Blake Griffin        16  16  16  16  15  17  15  13  14  13  ...   0   0   0   \n",
      "Mike Muscala          4   4   4   4   4   4   4   4   3   5  ...   2   2   2   \n",
      "Derrick White        70  70  70  70  69  65  62  53  43  31  ...   3   3   3   \n",
      "Luke Kornet           0   0   0   0   1   2   6  10  19  33  ...   2   2   2   \n",
      "Mfiondu Kabengele     0   0   0   0   0   0   0   0   0   0  ...   0   0   0   \n",
      "Grant Williams       23  23  23  23  24  25  37  47  57  61  ...   6   5   5   \n",
      "Payton Pritchard      3   3   3   3   3   4   4   5   8  13  ...   0   0   0   \n",
      "Justin Champagnie     0   0   0   0   0   0   0   0   0   0  ...   0   0   0   \n",
      "Sam Hauser            8   8   8   8   8  10  18  24  33  50  ...   1   1   1   \n",
      "JD Davison            0   0   0   0   0   0   1   1   1   1  ...   0   0   0   \n",
      "Al Horford           63  63  63  63  62  60  59  54  39  15  ...   5   7   8   \n",
      "Jaylen Brown         67  67  67  67  67  65  65  62  56  44  ...  10  10  10   \n",
      "Jayson Tatum         74  74  74  74  74  71  49  31  25  37  ...   9   9   9   \n",
      "Justin Jackson        0   0   0   0   0   0   0   0   0   1  ...   0   0   0   \n",
      "Marcus Smart         61  61  61  61  60  59  54  55  45  21  ...   8   8   8   \n",
      "Malcolm Brogdon       0   0   0   0   2   9  27  42  55  63  ...   6   6   6   \n",
      "Noah Vonleh           1   1   1   1   2   2   2   3   3   3  ...   0   0   0   \n",
      "Robert Williams III  20  20  20  20  19  18   8   9  12  19  ...   3   2   1   \n",
      "\n",
      "                     52  53  54  55  56  57  58  \n",
      "Blake Griffin         0   0   0   0   0   0   0  \n",
      "Mike Muscala          1   1   0   0   0   0   0  \n",
      "Derrick White         3   3   0   1   1   1   1  \n",
      "Luke Kornet           1   1   0   0   0   0   0  \n",
      "Mfiondu Kabengele     0   0   0   0   0   0   0  \n",
      "Grant Williams        6   6   1   1   1   1   1  \n",
      "Payton Pritchard      0   0   0   0   0   0   0  \n",
      "Justin Champagnie     0   0   0   0   0   0   0  \n",
      "Sam Hauser            1   1   0   0   0   0   0  \n",
      "JD Davison            0   0   0   0   0   0   0  \n",
      "Al Horford            8   8   1   1   1   1   1  \n",
      "Jaylen Brown         10  10   1   1   1   1   1  \n",
      "Jayson Tatum          9   9   1   1   1   1   1  \n",
      "Justin Jackson        0   0   0   0   0   0   0  \n",
      "Marcus Smart          8   8   1   0   0   0   0  \n",
      "Malcolm Brogdon       7   7   0   0   0   0   0  \n",
      "Noah Vonleh           0   0   0   0   0   0   0  \n",
      "Robert Williams III   1   1   0   0   0   0   0  \n",
      "\n",
      "[18 rows x 59 columns]\n",
      "                      0    1    2    3    4    5    6    7    8    9   ...  \\\n",
      "Blake Griffin         32   32   32   32   30   34   30   26   28   26  ...   \n",
      "Mike Muscala           8    8    8    8    8    8    8    8    6   10  ...   \n",
      "Derrick White        140  140  140  140  138  130  124  106   86   62  ...   \n",
      "Luke Kornet            0    0    0    0    2    4   12   20   38   66  ...   \n",
      "Mfiondu Kabengele      0    0    0    0    0    0    0    0    0    0  ...   \n",
      "Grant Williams        46   46   46   46   48   50   74   94  114  122  ...   \n",
      "Payton Pritchard       6    6    6    6    6    8    8   10   16   26  ...   \n",
      "Justin Champagnie      0    0    0    0    0    0    0    0    0    0  ...   \n",
      "Sam Hauser            16   16   16   16   16   20   36   48   66  100  ...   \n",
      "JD Davison             0    0    0    0    0    0    2    2    2    2  ...   \n",
      "Al Horford           126  126  126  126  124  120  118  108   78   30  ...   \n",
      "Jaylen Brown         134  134  134  134  134  130  130  124  112   88  ...   \n",
      "Jayson Tatum         148  148  148  148  148  142   98   62   50   74  ...   \n",
      "Justin Jackson         0    0    0    0    0    0    0    0    0    2  ...   \n",
      "Marcus Smart         122  122  122  122  120  118  108  110   90   42  ...   \n",
      "Malcolm Brogdon        0    0    0    0    4   18   54   84  110  126  ...   \n",
      "Noah Vonleh            2    2    2    2    4    4    4    6    6    6  ...   \n",
      "Robert Williams III   40   40   40   40   38   36   16   18   24   38  ...   \n",
      "\n",
      "                     49  50  51  52  53  54  55  56  57  58  \n",
      "Blake Griffin         0   0   0   0   0   0   0   0   0   0  \n",
      "Mike Muscala          4   4   4   2   2   0   0   0   0   0  \n",
      "Derrick White         6   6   6   6   6   0   2   2   2   2  \n",
      "Luke Kornet           4   4   4   2   2   0   0   0   0   0  \n",
      "Mfiondu Kabengele     0   0   0   0   0   0   0   0   0   0  \n",
      "Grant Williams       12  10  10  12  12   2   2   2   2   2  \n",
      "Payton Pritchard      0   0   0   0   0   0   0   0   0   0  \n",
      "Justin Champagnie     0   0   0   0   0   0   0   0   0   0  \n",
      "Sam Hauser            2   2   2   2   2   0   0   0   0   0  \n",
      "JD Davison            0   0   0   0   0   0   0   0   0   0  \n",
      "Al Horford           10  14  16  16  16   2   2   2   2   2  \n",
      "Jaylen Brown         20  20  20  20  20   2   2   2   2   2  \n",
      "Jayson Tatum         18  18  18  18  18   2   2   2   2   2  \n",
      "Justin Jackson        0   0   0   0   0   0   0   0   0   0  \n",
      "Marcus Smart         16  16  16  16  16   2   0   0   0   0  \n",
      "Malcolm Brogdon      12  12  12  14  14   0   0   0   0   0  \n",
      "Noah Vonleh           0   0   0   0   0   0   0   0   0   0  \n",
      "Robert Williams III   6   4   2   2   2   0   0   0   0   0  \n",
      "\n",
      "[18 rows x 59 columns]\n"
     ]
    },
    {
     "data": {
      "application/vnd.plotly.v1+json": {
       "config": {
        "plotlyServerURL": "https://plot.ly"
       },
       "data": [
        {
         "colorbar": {
          "title": {
           "text": "%Played"
          }
         },
         "colorscale": [
          [
           0,
           "rgb(5,48,97)"
          ],
          [
           0.1,
           "rgb(33,102,172)"
          ],
          [
           0.2,
           "rgb(67,147,195)"
          ],
          [
           0.3,
           "rgb(146,197,222)"
          ],
          [
           0.4,
           "rgb(209,229,240)"
          ],
          [
           0.5,
           "rgb(247,247,247)"
          ],
          [
           0.6,
           "rgb(253,219,199)"
          ],
          [
           0.7,
           "rgb(244,165,130)"
          ],
          [
           0.8,
           "rgb(214,96,77)"
          ],
          [
           0.9,
           "rgb(178,24,43)"
          ],
          [
           1,
           "rgb(103,0,31)"
          ]
         ],
         "type": "heatmap",
         "x": [
          0,
          1,
          2,
          3,
          4,
          5,
          6,
          7,
          8,
          9,
          10,
          11,
          12,
          13,
          14,
          15,
          16,
          17,
          18,
          19,
          20,
          21,
          22,
          23,
          24,
          25,
          26,
          27,
          28,
          29,
          30,
          31,
          32,
          33,
          34,
          35,
          36,
          37,
          38,
          39,
          40,
          41,
          42,
          43,
          44,
          45,
          46,
          47
         ],
         "xgap": 10,
         "y": [
          "Noah Vonleh",
          "Mike Muscala",
          "Blake Griffin",
          "Payton Pritchard",
          "Luke Kornet",
          "Robert Williams III",
          "Sam Hauser",
          "Malcolm Brogdon",
          "Al Horford",
          "Marcus Smart",
          "Grant Williams",
          "Derrick White",
          "Jaylen Brown",
          "Jayson Tatum"
         ],
         "ygap": 15,
         "z": [
          [
           2,
           2,
           2,
           2,
           4,
           4,
           4,
           6,
           6,
           6,
           6,
           8,
           10,
           8,
           8,
           10,
           8,
           4,
           2,
           2,
           4,
           4,
           0,
           0,
           2,
           2,
           2,
           2,
           0,
           2,
           2,
           4,
           6,
           6,
           10,
           12,
           16,
           8,
           8,
           10,
           10,
           10,
           14,
           16,
           12,
           18,
           24,
           30
          ],
          [
           8,
           8,
           8,
           8,
           8,
           8,
           8,
           8,
           6,
           10,
           14,
           16,
           24,
           22,
           24,
           22,
           18,
           12,
           8,
           4,
           4,
           6,
           6,
           8,
           10,
           10,
           10,
           10,
           12,
           12,
           12,
           16,
           12,
           14,
           20,
           20,
           26,
           20,
           20,
           18,
           14,
           10,
           16,
           12,
           14,
           14,
           18,
           18
          ],
          [
           32,
           32,
           32,
           32,
           30,
           34,
           30,
           26,
           28,
           26,
           26,
           26,
           32,
           26,
           26,
           24,
           30,
           26,
           26,
           24,
           20,
           18,
           16,
           14,
           32,
           30,
           30,
           28,
           28,
           26,
           20,
           18,
           10,
           16,
           16,
           20,
           32,
           28,
           30,
           26,
           20,
           18,
           18,
           22,
           22,
           18,
           20,
           20
          ],
          [
           6,
           6,
           6,
           6,
           6,
           8,
           8,
           10,
           16,
           26,
           38,
           42,
           60,
           56,
           50,
           44,
           32,
           20,
           12,
           10,
           10,
           8,
           8,
           10,
           18,
           10,
           10,
           12,
           12,
           12,
           12,
           18,
           28,
           42,
           48,
           48,
           62,
           56,
           56,
           50,
           32,
           28,
           26,
           32,
           32,
           34,
           46,
           62
          ],
          [
           0,
           0,
           0,
           0,
           2,
           4,
           12,
           20,
           38,
           66,
           80,
           78,
           82,
           68,
           62,
           52,
           52,
           30,
           20,
           16,
           14,
           14,
           14,
           14,
           22,
           6,
           8,
           10,
           10,
           18,
           28,
           32,
           44,
           54,
           52,
           56,
           62,
           48,
           44,
           42,
           34,
           34,
           34,
           34,
           32,
           40,
           56,
           62
          ],
          [
           40,
           40,
           40,
           40,
           38,
           36,
           16,
           18,
           24,
           38,
           38,
           38,
           52,
           42,
           44,
           44,
           38,
           26,
           28,
           32,
           34,
           38,
           46,
           44,
           50,
           38,
           38,
           38,
           34,
           22,
           18,
           14,
           28,
           42,
           46,
           46,
           54,
           44,
           44,
           36,
           34,
           32,
           30,
           30,
           28,
           28,
           24,
           16
          ],
          [
           16,
           16,
           16,
           16,
           16,
           20,
           36,
           48,
           66,
           100,
           114,
           118,
           130,
           114,
           112,
           98,
           76,
           56,
           28,
           24,
           16,
           18,
           24,
           24,
           34,
           16,
           20,
           20,
           20,
           20,
           20,
           34,
           54,
           82,
           98,
           104,
           120,
           96,
           96,
           88,
           72,
           52,
           34,
           34,
           34,
           34,
           52,
           66
          ],
          [
           0,
           0,
           0,
           0,
           4,
           18,
           54,
           84,
           110,
           126,
           132,
           132,
           134,
           128,
           128,
           114,
           86,
           58,
           54,
           56,
           52,
           56,
           60,
           72,
           84,
           6,
           6,
           8,
           16,
           28,
           52,
           92,
           120,
           128,
           132,
           132,
           130,
           124,
           120,
           112,
           102,
           76,
           64,
           58,
           58,
           46,
           48,
           46
          ],
          [
           126,
           126,
           126,
           126,
           124,
           120,
           118,
           108,
           78,
           30,
           4,
           4,
           10,
           10,
           14,
           26,
           42,
           106,
           112,
           116,
           116,
           118,
           112,
           112,
           126,
           126,
           124,
           124,
           124,
           122,
           118,
           108,
           78,
           32,
           14,
           8,
           20,
           18,
           20,
           32,
           62,
           86,
           90,
           86,
           86,
           88,
           74,
           64
          ],
          [
           122,
           122,
           122,
           122,
           120,
           118,
           108,
           110,
           90,
           42,
           18,
           16,
           40,
           24,
           22,
           32,
           64,
           96,
           96,
           102,
           108,
           108,
           112,
           112,
           120,
           118,
           118,
           118,
           116,
           114,
           106,
           94,
           72,
           54,
           36,
           30,
           46,
           20,
           24,
           40,
           58,
           76,
           92,
           94,
           94,
           88,
           74,
           64
          ],
          [
           46,
           46,
           46,
           46,
           48,
           50,
           74,
           94,
           114,
           122,
           128,
           130,
           138,
           114,
           108,
           102,
           100,
           74,
           88,
           76,
           72,
           60,
           62,
           64,
           92,
           48,
           48,
           46,
           48,
           50,
           56,
           70,
           92,
           108,
           118,
           118,
           136,
           116,
           114,
           114,
           100,
           88,
           80,
           82,
           92,
           96,
           86,
           82
          ],
          [
           140,
           140,
           140,
           140,
           138,
           130,
           124,
           106,
           86,
           62,
           58,
           54,
           102,
           86,
           90,
           96,
           106,
           102,
           110,
           106,
           100,
           92,
           84,
           82,
           142,
           132,
           130,
           130,
           128,
           126,
           108,
           80,
           68,
           62,
           64,
           70,
           130,
           108,
           108,
           108,
           100,
           90,
           72,
           72,
           68,
           70,
           62,
           56
          ],
          [
           134,
           134,
           134,
           134,
           134,
           130,
           130,
           124,
           112,
           88,
           42,
           38,
           46,
           18,
           26,
           48,
           80,
           110,
           124,
           130,
           128,
           130,
           126,
           116,
           132,
           130,
           128,
           126,
           124,
           124,
           124,
           116,
           96,
           76,
           66,
           62,
           110,
           66,
           64,
           68,
           86,
           102,
           114,
           106,
           104,
           98,
           86,
           78
          ],
          [
           148,
           148,
           148,
           148,
           148,
           142,
           98,
           62,
           50,
           74,
           116,
           114,
           132,
           98,
           100,
           100,
           86,
           92,
           104,
           118,
           136,
           144,
           146,
           146,
           148,
           146,
           146,
           146,
           146,
           146,
           142,
           126,
           108,
           100,
           96,
           90,
           130,
           54,
           56,
           62,
           80,
           110,
           126,
           122,
           120,
           114,
           102,
           88
          ]
         ]
        }
       ],
       "layout": {
        "font": {
         "color": "white",
         "size": 30
        },
        "height": 1200,
        "paper_bgcolor": "#211a1d",
        "plot_bgcolor": "#161415",
        "template": {
         "data": {
          "bar": [
           {
            "error_x": {
             "color": "#2a3f5f"
            },
            "error_y": {
             "color": "#2a3f5f"
            },
            "marker": {
             "line": {
              "color": "#E5ECF6",
              "width": 0.5
             },
             "pattern": {
              "fillmode": "overlay",
              "size": 10,
              "solidity": 0.2
             }
            },
            "type": "bar"
           }
          ],
          "barpolar": [
           {
            "marker": {
             "line": {
              "color": "#E5ECF6",
              "width": 0.5
             },
             "pattern": {
              "fillmode": "overlay",
              "size": 10,
              "solidity": 0.2
             }
            },
            "type": "barpolar"
           }
          ],
          "carpet": [
           {
            "aaxis": {
             "endlinecolor": "#2a3f5f",
             "gridcolor": "white",
             "linecolor": "white",
             "minorgridcolor": "white",
             "startlinecolor": "#2a3f5f"
            },
            "baxis": {
             "endlinecolor": "#2a3f5f",
             "gridcolor": "white",
             "linecolor": "white",
             "minorgridcolor": "white",
             "startlinecolor": "#2a3f5f"
            },
            "type": "carpet"
           }
          ],
          "choropleth": [
           {
            "colorbar": {
             "outlinewidth": 0,
             "ticks": ""
            },
            "type": "choropleth"
           }
          ],
          "contour": [
           {
            "colorbar": {
             "outlinewidth": 0,
             "ticks": ""
            },
            "colorscale": [
             [
              0,
              "#0d0887"
             ],
             [
              0.1111111111111111,
              "#46039f"
             ],
             [
              0.2222222222222222,
              "#7201a8"
             ],
             [
              0.3333333333333333,
              "#9c179e"
             ],
             [
              0.4444444444444444,
              "#bd3786"
             ],
             [
              0.5555555555555556,
              "#d8576b"
             ],
             [
              0.6666666666666666,
              "#ed7953"
             ],
             [
              0.7777777777777778,
              "#fb9f3a"
             ],
             [
              0.8888888888888888,
              "#fdca26"
             ],
             [
              1,
              "#f0f921"
             ]
            ],
            "type": "contour"
           }
          ],
          "contourcarpet": [
           {
            "colorbar": {
             "outlinewidth": 0,
             "ticks": ""
            },
            "type": "contourcarpet"
           }
          ],
          "heatmap": [
           {
            "colorbar": {
             "outlinewidth": 0,
             "ticks": ""
            },
            "colorscale": [
             [
              0,
              "#0d0887"
             ],
             [
              0.1111111111111111,
              "#46039f"
             ],
             [
              0.2222222222222222,
              "#7201a8"
             ],
             [
              0.3333333333333333,
              "#9c179e"
             ],
             [
              0.4444444444444444,
              "#bd3786"
             ],
             [
              0.5555555555555556,
              "#d8576b"
             ],
             [
              0.6666666666666666,
              "#ed7953"
             ],
             [
              0.7777777777777778,
              "#fb9f3a"
             ],
             [
              0.8888888888888888,
              "#fdca26"
             ],
             [
              1,
              "#f0f921"
             ]
            ],
            "type": "heatmap"
           }
          ],
          "heatmapgl": [
           {
            "colorbar": {
             "outlinewidth": 0,
             "ticks": ""
            },
            "colorscale": [
             [
              0,
              "#0d0887"
             ],
             [
              0.1111111111111111,
              "#46039f"
             ],
             [
              0.2222222222222222,
              "#7201a8"
             ],
             [
              0.3333333333333333,
              "#9c179e"
             ],
             [
              0.4444444444444444,
              "#bd3786"
             ],
             [
              0.5555555555555556,
              "#d8576b"
             ],
             [
              0.6666666666666666,
              "#ed7953"
             ],
             [
              0.7777777777777778,
              "#fb9f3a"
             ],
             [
              0.8888888888888888,
              "#fdca26"
             ],
             [
              1,
              "#f0f921"
             ]
            ],
            "type": "heatmapgl"
           }
          ],
          "histogram": [
           {
            "marker": {
             "pattern": {
              "fillmode": "overlay",
              "size": 10,
              "solidity": 0.2
             }
            },
            "type": "histogram"
           }
          ],
          "histogram2d": [
           {
            "colorbar": {
             "outlinewidth": 0,
             "ticks": ""
            },
            "colorscale": [
             [
              0,
              "#0d0887"
             ],
             [
              0.1111111111111111,
              "#46039f"
             ],
             [
              0.2222222222222222,
              "#7201a8"
             ],
             [
              0.3333333333333333,
              "#9c179e"
             ],
             [
              0.4444444444444444,
              "#bd3786"
             ],
             [
              0.5555555555555556,
              "#d8576b"
             ],
             [
              0.6666666666666666,
              "#ed7953"
             ],
             [
              0.7777777777777778,
              "#fb9f3a"
             ],
             [
              0.8888888888888888,
              "#fdca26"
             ],
             [
              1,
              "#f0f921"
             ]
            ],
            "type": "histogram2d"
           }
          ],
          "histogram2dcontour": [
           {
            "colorbar": {
             "outlinewidth": 0,
             "ticks": ""
            },
            "colorscale": [
             [
              0,
              "#0d0887"
             ],
             [
              0.1111111111111111,
              "#46039f"
             ],
             [
              0.2222222222222222,
              "#7201a8"
             ],
             [
              0.3333333333333333,
              "#9c179e"
             ],
             [
              0.4444444444444444,
              "#bd3786"
             ],
             [
              0.5555555555555556,
              "#d8576b"
             ],
             [
              0.6666666666666666,
              "#ed7953"
             ],
             [
              0.7777777777777778,
              "#fb9f3a"
             ],
             [
              0.8888888888888888,
              "#fdca26"
             ],
             [
              1,
              "#f0f921"
             ]
            ],
            "type": "histogram2dcontour"
           }
          ],
          "mesh3d": [
           {
            "colorbar": {
             "outlinewidth": 0,
             "ticks": ""
            },
            "type": "mesh3d"
           }
          ],
          "parcoords": [
           {
            "line": {
             "colorbar": {
              "outlinewidth": 0,
              "ticks": ""
             }
            },
            "type": "parcoords"
           }
          ],
          "pie": [
           {
            "automargin": true,
            "type": "pie"
           }
          ],
          "scatter": [
           {
            "fillpattern": {
             "fillmode": "overlay",
             "size": 10,
             "solidity": 0.2
            },
            "type": "scatter"
           }
          ],
          "scatter3d": [
           {
            "line": {
             "colorbar": {
              "outlinewidth": 0,
              "ticks": ""
             }
            },
            "marker": {
             "colorbar": {
              "outlinewidth": 0,
              "ticks": ""
             }
            },
            "type": "scatter3d"
           }
          ],
          "scattercarpet": [
           {
            "marker": {
             "colorbar": {
              "outlinewidth": 0,
              "ticks": ""
             }
            },
            "type": "scattercarpet"
           }
          ],
          "scattergeo": [
           {
            "marker": {
             "colorbar": {
              "outlinewidth": 0,
              "ticks": ""
             }
            },
            "type": "scattergeo"
           }
          ],
          "scattergl": [
           {
            "marker": {
             "colorbar": {
              "outlinewidth": 0,
              "ticks": ""
             }
            },
            "type": "scattergl"
           }
          ],
          "scattermapbox": [
           {
            "marker": {
             "colorbar": {
              "outlinewidth": 0,
              "ticks": ""
             }
            },
            "type": "scattermapbox"
           }
          ],
          "scatterpolar": [
           {
            "marker": {
             "colorbar": {
              "outlinewidth": 0,
              "ticks": ""
             }
            },
            "type": "scatterpolar"
           }
          ],
          "scatterpolargl": [
           {
            "marker": {
             "colorbar": {
              "outlinewidth": 0,
              "ticks": ""
             }
            },
            "type": "scatterpolargl"
           }
          ],
          "scatterternary": [
           {
            "marker": {
             "colorbar": {
              "outlinewidth": 0,
              "ticks": ""
             }
            },
            "type": "scatterternary"
           }
          ],
          "surface": [
           {
            "colorbar": {
             "outlinewidth": 0,
             "ticks": ""
            },
            "colorscale": [
             [
              0,
              "#0d0887"
             ],
             [
              0.1111111111111111,
              "#46039f"
             ],
             [
              0.2222222222222222,
              "#7201a8"
             ],
             [
              0.3333333333333333,
              "#9c179e"
             ],
             [
              0.4444444444444444,
              "#bd3786"
             ],
             [
              0.5555555555555556,
              "#d8576b"
             ],
             [
              0.6666666666666666,
              "#ed7953"
             ],
             [
              0.7777777777777778,
              "#fb9f3a"
             ],
             [
              0.8888888888888888,
              "#fdca26"
             ],
             [
              1,
              "#f0f921"
             ]
            ],
            "type": "surface"
           }
          ],
          "table": [
           {
            "cells": {
             "fill": {
              "color": "#EBF0F8"
             },
             "line": {
              "color": "white"
             }
            },
            "header": {
             "fill": {
              "color": "#C8D4E3"
             },
             "line": {
              "color": "white"
             }
            },
            "type": "table"
           }
          ]
         },
         "layout": {
          "annotationdefaults": {
           "arrowcolor": "#2a3f5f",
           "arrowhead": 0,
           "arrowwidth": 1
          },
          "autotypenumbers": "strict",
          "coloraxis": {
           "colorbar": {
            "outlinewidth": 0,
            "ticks": ""
           }
          },
          "colorscale": {
           "diverging": [
            [
             0,
             "#8e0152"
            ],
            [
             0.1,
             "#c51b7d"
            ],
            [
             0.2,
             "#de77ae"
            ],
            [
             0.3,
             "#f1b6da"
            ],
            [
             0.4,
             "#fde0ef"
            ],
            [
             0.5,
             "#f7f7f7"
            ],
            [
             0.6,
             "#e6f5d0"
            ],
            [
             0.7,
             "#b8e186"
            ],
            [
             0.8,
             "#7fbc41"
            ],
            [
             0.9,
             "#4d9221"
            ],
            [
             1,
             "#276419"
            ]
           ],
           "sequential": [
            [
             0,
             "#0d0887"
            ],
            [
             0.1111111111111111,
             "#46039f"
            ],
            [
             0.2222222222222222,
             "#7201a8"
            ],
            [
             0.3333333333333333,
             "#9c179e"
            ],
            [
             0.4444444444444444,
             "#bd3786"
            ],
            [
             0.5555555555555556,
             "#d8576b"
            ],
            [
             0.6666666666666666,
             "#ed7953"
            ],
            [
             0.7777777777777778,
             "#fb9f3a"
            ],
            [
             0.8888888888888888,
             "#fdca26"
            ],
            [
             1,
             "#f0f921"
            ]
           ],
           "sequentialminus": [
            [
             0,
             "#0d0887"
            ],
            [
             0.1111111111111111,
             "#46039f"
            ],
            [
             0.2222222222222222,
             "#7201a8"
            ],
            [
             0.3333333333333333,
             "#9c179e"
            ],
            [
             0.4444444444444444,
             "#bd3786"
            ],
            [
             0.5555555555555556,
             "#d8576b"
            ],
            [
             0.6666666666666666,
             "#ed7953"
            ],
            [
             0.7777777777777778,
             "#fb9f3a"
            ],
            [
             0.8888888888888888,
             "#fdca26"
            ],
            [
             1,
             "#f0f921"
            ]
           ]
          },
          "colorway": [
           "#636efa",
           "#EF553B",
           "#00cc96",
           "#ab63fa",
           "#FFA15A",
           "#19d3f3",
           "#FF6692",
           "#B6E880",
           "#FF97FF",
           "#FECB52"
          ],
          "font": {
           "color": "#2a3f5f"
          },
          "geo": {
           "bgcolor": "white",
           "lakecolor": "white",
           "landcolor": "#E5ECF6",
           "showlakes": true,
           "showland": true,
           "subunitcolor": "white"
          },
          "hoverlabel": {
           "align": "left"
          },
          "hovermode": "closest",
          "mapbox": {
           "style": "light"
          },
          "paper_bgcolor": "white",
          "plot_bgcolor": "#E5ECF6",
          "polar": {
           "angularaxis": {
            "gridcolor": "white",
            "linecolor": "white",
            "ticks": ""
           },
           "bgcolor": "#E5ECF6",
           "radialaxis": {
            "gridcolor": "white",
            "linecolor": "white",
            "ticks": ""
           }
          },
          "scene": {
           "xaxis": {
            "backgroundcolor": "#E5ECF6",
            "gridcolor": "white",
            "gridwidth": 2,
            "linecolor": "white",
            "showbackground": true,
            "ticks": "",
            "zerolinecolor": "white"
           },
           "yaxis": {
            "backgroundcolor": "#E5ECF6",
            "gridcolor": "white",
            "gridwidth": 2,
            "linecolor": "white",
            "showbackground": true,
            "ticks": "",
            "zerolinecolor": "white"
           },
           "zaxis": {
            "backgroundcolor": "#E5ECF6",
            "gridcolor": "white",
            "gridwidth": 2,
            "linecolor": "white",
            "showbackground": true,
            "ticks": "",
            "zerolinecolor": "white"
           }
          },
          "shapedefaults": {
           "line": {
            "color": "#2a3f5f"
           }
          },
          "ternary": {
           "aaxis": {
            "gridcolor": "white",
            "linecolor": "white",
            "ticks": ""
           },
           "baxis": {
            "gridcolor": "white",
            "linecolor": "white",
            "ticks": ""
           },
           "bgcolor": "#E5ECF6",
           "caxis": {
            "gridcolor": "white",
            "linecolor": "white",
            "ticks": ""
           }
          },
          "title": {
           "x": 0.05
          },
          "xaxis": {
           "automargin": true,
           "gridcolor": "white",
           "linecolor": "white",
           "ticks": "",
           "title": {
            "standoff": 15
           },
           "zerolinecolor": "white",
           "zerolinewidth": 2
          },
          "yaxis": {
           "automargin": true,
           "gridcolor": "white",
           "linecolor": "white",
           "ticks": "",
           "title": {
            "standoff": 15
           },
           "zerolinecolor": "white",
           "zerolinewidth": 2
          }
         }
        },
        "title": {
         "text": "Boston Celtics 2023",
         "x": 0.5
        },
        "width": 1800,
        "xaxis": {
         "autorange": true,
         "range": [
          -0.5,
          47.5
         ],
         "showgrid": false,
         "tickfont": {
          "color": "white",
          "size": 24
         },
         "title": {
          "text": "Minute"
         },
         "type": "linear",
         "zeroline": false
        },
        "yaxis": {
         "autorange": true,
         "range": [
          -0.5,
          13.5
         ],
         "showgrid": false,
         "tickfont": {
          "color": "white",
          "size": 24
         },
         "title": {
          "text": "Player"
         },
         "type": "category",
         "zeroline": false
        }
       }
      },
      "image/png": "[encoded data removed]",
      "text/html": [
       "<div>                            <div id=\"4fffa7c5-9835-4a81-907c-f712887d397f\" class=\"plotly-graph-div\" style=\"height:1200px; width:1800px;\"></div>            <script type=\"text/javascript\">                require([\"plotly\"], function(Plotly) {                    window.PLOTLYENV=window.PLOTLYENV || {};                                    if (document.getElementById(\"4fffa7c5-9835-4a81-907c-f712887d397f\")) {                    Plotly.newPlot(                        \"4fffa7c5-9835-4a81-907c-f712887d397f\",                        [{\"colorbar\":{\"title\":{\"text\":\"%Played\"}},\"colorscale\":[[0.0,\"rgb(5,48,97)\"],[0.1,\"rgb(33,102,172)\"],[0.2,\"rgb(67,147,195)\"],[0.3,\"rgb(146,197,222)\"],[0.4,\"rgb(209,229,240)\"],[0.5,\"rgb(247,247,247)\"],[0.6,\"rgb(253,219,199)\"],[0.7,\"rgb(244,165,130)\"],[0.8,\"rgb(214,96,77)\"],[0.9,\"rgb(178,24,43)\"],[1.0,\"rgb(103,0,31)\"]],\"x\":[0,1,2,3,4,5,6,7,8,9,10,11,12,13,14,15,16,17,18,19,20,21,22,23,24,25,26,27,28,29,30,31,32,33,34,35,36,37,38,39,40,41,42,43,44,45,46,47],\"xgap\":10,\"y\":[\"Noah Vonleh\",\"Mike Muscala\",\"Blake Griffin\",\"Payton Pritchard\",\"Luke Kornet\",\"Robert Williams III\",\"Sam Hauser\",\"Malcolm Brogdon\",\"Al Horford\",\"Marcus Smart\",\"Grant Williams\",\"Derrick White\",\"Jaylen Brown\",\"Jayson Tatum\"],\"ygap\":15,\"z\":[[2,2,2,2,4,4,4,6,6,6,6,8,10,8,8,10,8,4,2,2,4,4,0,0,2,2,2,2,0,2,2,4,6,6,10,12,16,8,8,10,10,10,14,16,12,18,24,30],[8,8,8,8,8,8,8,8,6,10,14,16,24,22,24,22,18,12,8,4,4,6,6,8,10,10,10,10,12,12,12,16,12,14,20,20,26,20,20,18,14,10,16,12,14,14,18,18],[32,32,32,32,30,34,30,26,28,26,26,26,32,26,26,24,30,26,26,24,20,18,16,14,32,30,30,28,28,26,20,18,10,16,16,20,32,28,30,26,20,18,18,22,22,18,20,20],[6,6,6,6,6,8,8,10,16,26,38,42,60,56,50,44,32,20,12,10,10,8,8,10,18,10,10,12,12,12,12,18,28,42,48,48,62,56,56,50,32,28,26,32,32,34,46,62],[0,0,0,0,2,4,12,20,38,66,80,78,82,68,62,52,52,30,20,16,14,14,14,14,22,6,8,10,10,18,28,32,44,54,52,56,62,48,44,42,34,34,34,34,32,40,56,62],[40,40,40,40,38,36,16,18,24,38,38,38,52,42,44,44,38,26,28,32,34,38,46,44,50,38,38,38,34,22,18,14,28,42,46,46,54,44,44,36,34,32,30,30,28,28,24,16],[16,16,16,16,16,20,36,48,66,100,114,118,130,114,112,98,76,56,28,24,16,18,24,24,34,16,20,20,20,20,20,34,54,82,98,104,120,96,96,88,72,52,34,34,34,34,52,66],[0,0,0,0,4,18,54,84,110,126,132,132,134,128,128,114,86,58,54,56,52,56,60,72,84,6,6,8,16,28,52,92,120,128,132,132,130,124,120,112,102,76,64,58,58,46,48,46],[126,126,126,126,124,120,118,108,78,30,4,4,10,10,14,26,42,106,112,116,116,118,112,112,126,126,124,124,124,122,118,108,78,32,14,8,20,18,20,32,62,86,90,86,86,88,74,64],[122,122,122,122,120,118,108,110,90,42,18,16,40,24,22,32,64,96,96,102,108,108,112,112,120,118,118,118,116,114,106,94,72,54,36,30,46,20,24,40,58,76,92,94,94,88,74,64],[46,46,46,46,48,50,74,94,114,122,128,130,138,114,108,102,100,74,88,76,72,60,62,64,92,48,48,46,48,50,56,70,92,108,118,118,136,116,114,114,100,88,80,82,92,96,86,82],[140,140,140,140,138,130,124,106,86,62,58,54,102,86,90,96,106,102,110,106,100,92,84,82,142,132,130,130,128,126,108,80,68,62,64,70,130,108,108,108,100,90,72,72,68,70,62,56],[134,134,134,134,134,130,130,124,112,88,42,38,46,18,26,48,80,110,124,130,128,130,126,116,132,130,128,126,124,124,124,116,96,76,66,62,110,66,64,68,86,102,114,106,104,98,86,78],[148,148,148,148,148,142,98,62,50,74,116,114,132,98,100,100,86,92,104,118,136,144,146,146,148,146,146,146,146,146,142,126,108,100,96,90,130,54,56,62,80,110,126,122,120,114,102,88]],\"type\":\"heatmap\"}],                        {\"template\":{\"data\":{\"histogram2dcontour\":[{\"type\":\"histogram2dcontour\",\"colorbar\":{\"outlinewidth\":0,\"ticks\":\"\"},\"colorscale\":[[0.0,\"#0d0887\"],[0.1111111111111111,\"#46039f\"],[0.2222222222222222,\"#7201a8\"],[0.3333333333333333,\"#9c179e\"],[0.4444444444444444,\"#bd3786\"],[0.5555555555555556,\"#d8576b\"],[0.6666666666666666,\"#ed7953\"],[0.7777777777777778,\"#fb9f3a\"],[0.8888888888888888,\"#fdca26\"],[1.0,\"#f0f921\"]]}],\"choropleth\":[{\"type\":\"choropleth\",\"colorbar\":{\"outlinewidth\":0,\"ticks\":\"\"}}],\"histogram2d\":[{\"type\":\"histogram2d\",\"colorbar\":{\"outlinewidth\":0,\"ticks\":\"\"},\"colorscale\":[[0.0,\"#0d0887\"],[0.1111111111111111,\"#46039f\"],[0.2222222222222222,\"#7201a8\"],[0.3333333333333333,\"#9c179e\"],[0.4444444444444444,\"#bd3786\"],[0.5555555555555556,\"#d8576b\"],[0.6666666666666666,\"#ed7953\"],[0.7777777777777778,\"#fb9f3a\"],[0.8888888888888888,\"#fdca26\"],[1.0,\"#f0f921\"]]}],\"heatmap\":[{\"type\":\"heatmap\",\"colorbar\":{\"outlinewidth\":0,\"ticks\":\"\"},\"colorscale\":[[0.0,\"#0d0887\"],[0.1111111111111111,\"#46039f\"],[0.2222222222222222,\"#7201a8\"],[0.3333333333333333,\"#9c179e\"],[0.4444444444444444,\"#bd3786\"],[0.5555555555555556,\"#d8576b\"],[0.6666666666666666,\"#ed7953\"],[0.7777777777777778,\"#fb9f3a\"],[0.8888888888888888,\"#fdca26\"],[1.0,\"#f0f921\"]]}],\"heatmapgl\":[{\"type\":\"heatmapgl\",\"colorbar\":{\"outlinewidth\":0,\"ticks\":\"\"},\"colorscale\":[[0.0,\"#0d0887\"],[0.1111111111111111,\"#46039f\"],[0.2222222222222222,\"#7201a8\"],[0.3333333333333333,\"#9c179e\"],[0.4444444444444444,\"#bd3786\"],[0.5555555555555556,\"#d8576b\"],[0.6666666666666666,\"#ed7953\"],[0.7777777777777778,\"#fb9f3a\"],[0.8888888888888888,\"#fdca26\"],[1.0,\"#f0f921\"]]}],\"contourcarpet\":[{\"type\":\"contourcarpet\",\"colorbar\":{\"outlinewidth\":0,\"ticks\":\"\"}}],\"contour\":[{\"type\":\"contour\",\"colorbar\":{\"outlinewidth\":0,\"ticks\":\"\"},\"colorscale\":[[0.0,\"#0d0887\"],[0.1111111111111111,\"#46039f\"],[0.2222222222222222,\"#7201a8\"],[0.3333333333333333,\"#9c179e\"],[0.4444444444444444,\"#bd3786\"],[0.5555555555555556,\"#d8576b\"],[0.6666666666666666,\"#ed7953\"],[0.7777777777777778,\"#fb9f3a\"],[0.8888888888888888,\"#fdca26\"],[1.0,\"#f0f921\"]]}],\"surface\":[{\"type\":\"surface\",\"colorbar\":{\"outlinewidth\":0,\"ticks\":\"\"},\"colorscale\":[[0.0,\"#0d0887\"],[0.1111111111111111,\"#46039f\"],[0.2222222222222222,\"#7201a8\"],[0.3333333333333333,\"#9c179e\"],[0.4444444444444444,\"#bd3786\"],[0.5555555555555556,\"#d8576b\"],[0.6666666666666666,\"#ed7953\"],[0.7777777777777778,\"#fb9f3a\"],[0.8888888888888888,\"#fdca26\"],[1.0,\"#f0f921\"]]}],\"mesh3d\":[{\"type\":\"mesh3d\",\"colorbar\":{\"outlinewidth\":0,\"ticks\":\"\"}}],\"scatter\":[{\"fillpattern\":{\"fillmode\":\"overlay\",\"size\":10,\"solidity\":0.2},\"type\":\"scatter\"}],\"parcoords\":[{\"type\":\"parcoords\",\"line\":{\"colorbar\":{\"outlinewidth\":0,\"ticks\":\"\"}}}],\"scatterpolargl\":[{\"type\":\"scatterpolargl\",\"marker\":{\"colorbar\":{\"outlinewidth\":0,\"ticks\":\"\"}}}],\"bar\":[{\"error_x\":{\"color\":\"#2a3f5f\"},\"error_y\":{\"color\":\"#2a3f5f\"},\"marker\":{\"line\":{\"color\":\"#E5ECF6\",\"width\":0.5},\"pattern\":{\"fillmode\":\"overlay\",\"size\":10,\"solidity\":0.2}},\"type\":\"bar\"}],\"scattergeo\":[{\"type\":\"scattergeo\",\"marker\":{\"colorbar\":{\"outlinewidth\":0,\"ticks\":\"\"}}}],\"scatterpolar\":[{\"type\":\"scatterpolar\",\"marker\":{\"colorbar\":{\"outlinewidth\":0,\"ticks\":\"\"}}}],\"histogram\":[{\"marker\":{\"pattern\":{\"fillmode\":\"overlay\",\"size\":10,\"solidity\":0.2}},\"type\":\"histogram\"}],\"scattergl\":[{\"type\":\"scattergl\",\"marker\":{\"colorbar\":{\"outlinewidth\":0,\"ticks\":\"\"}}}],\"scatter3d\":[{\"type\":\"scatter3d\",\"line\":{\"colorbar\":{\"outlinewidth\":0,\"ticks\":\"\"}},\"marker\":{\"colorbar\":{\"outlinewidth\":0,\"ticks\":\"\"}}}],\"scattermapbox\":[{\"type\":\"scattermapbox\",\"marker\":{\"colorbar\":{\"outlinewidth\":0,\"ticks\":\"\"}}}],\"scatterternary\":[{\"type\":\"scatterternary\",\"marker\":{\"colorbar\":{\"outlinewidth\":0,\"ticks\":\"\"}}}],\"scattercarpet\":[{\"type\":\"scattercarpet\",\"marker\":{\"colorbar\":{\"outlinewidth\":0,\"ticks\":\"\"}}}],\"carpet\":[{\"aaxis\":{\"endlinecolor\":\"#2a3f5f\",\"gridcolor\":\"white\",\"linecolor\":\"white\",\"minorgridcolor\":\"white\",\"startlinecolor\":\"#2a3f5f\"},\"baxis\":{\"endlinecolor\":\"#2a3f5f\",\"gridcolor\":\"white\",\"linecolor\":\"white\",\"minorgridcolor\":\"white\",\"startlinecolor\":\"#2a3f5f\"},\"type\":\"carpet\"}],\"table\":[{\"cells\":{\"fill\":{\"color\":\"#EBF0F8\"},\"line\":{\"color\":\"white\"}},\"header\":{\"fill\":{\"color\":\"#C8D4E3\"},\"line\":{\"color\":\"white\"}},\"type\":\"table\"}],\"barpolar\":[{\"marker\":{\"line\":{\"color\":\"#E5ECF6\",\"width\":0.5},\"pattern\":{\"fillmode\":\"overlay\",\"size\":10,\"solidity\":0.2}},\"type\":\"barpolar\"}],\"pie\":[{\"automargin\":true,\"type\":\"pie\"}]},\"layout\":{\"autotypenumbers\":\"strict\",\"colorway\":[\"#636efa\",\"#EF553B\",\"#00cc96\",\"#ab63fa\",\"#FFA15A\",\"#19d3f3\",\"#FF6692\",\"#B6E880\",\"#FF97FF\",\"#FECB52\"],\"font\":{\"color\":\"#2a3f5f\"},\"hovermode\":\"closest\",\"hoverlabel\":{\"align\":\"left\"},\"paper_bgcolor\":\"white\",\"plot_bgcolor\":\"#E5ECF6\",\"polar\":{\"bgcolor\":\"#E5ECF6\",\"angularaxis\":{\"gridcolor\":\"white\",\"linecolor\":\"white\",\"ticks\":\"\"},\"radialaxis\":{\"gridcolor\":\"white\",\"linecolor\":\"white\",\"ticks\":\"\"}},\"ternary\":{\"bgcolor\":\"#E5ECF6\",\"aaxis\":{\"gridcolor\":\"white\",\"linecolor\":\"white\",\"ticks\":\"\"},\"baxis\":{\"gridcolor\":\"white\",\"linecolor\":\"white\",\"ticks\":\"\"},\"caxis\":{\"gridcolor\":\"white\",\"linecolor\":\"white\",\"ticks\":\"\"}},\"coloraxis\":{\"colorbar\":{\"outlinewidth\":0,\"ticks\":\"\"}},\"colorscale\":{\"sequential\":[[0.0,\"#0d0887\"],[0.1111111111111111,\"#46039f\"],[0.2222222222222222,\"#7201a8\"],[0.3333333333333333,\"#9c179e\"],[0.4444444444444444,\"#bd3786\"],[0.5555555555555556,\"#d8576b\"],[0.6666666666666666,\"#ed7953\"],[0.7777777777777778,\"#fb9f3a\"],[0.8888888888888888,\"#fdca26\"],[1.0,\"#f0f921\"]],\"sequentialminus\":[[0.0,\"#0d0887\"],[0.1111111111111111,\"#46039f\"],[0.2222222222222222,\"#7201a8\"],[0.3333333333333333,\"#9c179e\"],[0.4444444444444444,\"#bd3786\"],[0.5555555555555556,\"#d8576b\"],[0.6666666666666666,\"#ed7953\"],[0.7777777777777778,\"#fb9f3a\"],[0.8888888888888888,\"#fdca26\"],[1.0,\"#f0f921\"]],\"diverging\":[[0,\"#8e0152\"],[0.1,\"#c51b7d\"],[0.2,\"#de77ae\"],[0.3,\"#f1b6da\"],[0.4,\"#fde0ef\"],[0.5,\"#f7f7f7\"],[0.6,\"#e6f5d0\"],[0.7,\"#b8e186\"],[0.8,\"#7fbc41\"],[0.9,\"#4d9221\"],[1,\"#276419\"]]},\"xaxis\":{\"gridcolor\":\"white\",\"linecolor\":\"white\",\"ticks\":\"\",\"title\":{\"standoff\":15},\"zerolinecolor\":\"white\",\"automargin\":true,\"zerolinewidth\":2},\"yaxis\":{\"gridcolor\":\"white\",\"linecolor\":\"white\",\"ticks\":\"\",\"title\":{\"standoff\":15},\"zerolinecolor\":\"white\",\"automargin\":true,\"zerolinewidth\":2},\"scene\":{\"xaxis\":{\"backgroundcolor\":\"#E5ECF6\",\"gridcolor\":\"white\",\"linecolor\":\"white\",\"showbackground\":true,\"ticks\":\"\",\"zerolinecolor\":\"white\",\"gridwidth\":2},\"yaxis\":{\"backgroundcolor\":\"#E5ECF6\",\"gridcolor\":\"white\",\"linecolor\":\"white\",\"showbackground\":true,\"ticks\":\"\",\"zerolinecolor\":\"white\",\"gridwidth\":2},\"zaxis\":{\"backgroundcolor\":\"#E5ECF6\",\"gridcolor\":\"white\",\"linecolor\":\"white\",\"showbackground\":true,\"ticks\":\"\",\"zerolinecolor\":\"white\",\"gridwidth\":2}},\"shapedefaults\":{\"line\":{\"color\":\"#2a3f5f\"}},\"annotationdefaults\":{\"arrowcolor\":\"#2a3f5f\",\"arrowhead\":0,\"arrowwidth\":1},\"geo\":{\"bgcolor\":\"white\",\"landcolor\":\"#E5ECF6\",\"subunitcolor\":\"white\",\"showland\":true,\"showlakes\":true,\"lakecolor\":\"white\"},\"title\":{\"x\":0.05},\"mapbox\":{\"style\":\"light\"}}},\"yaxis\":{\"tickfont\":{\"color\":\"white\",\"size\":24},\"showgrid\":false,\"zeroline\":false,\"title\":{\"text\":\"Player\"}},\"xaxis\":{\"tickfont\":{\"color\":\"white\",\"size\":24},\"showgrid\":false,\"zeroline\":false,\"title\":{\"text\":\"Minute\"}},\"title\":{\"text\":\"Boston Celtics 2023\",\"x\":0.5},\"font\":{\"color\":\"white\",\"size\":30},\"plot_bgcolor\":\"#161415\",\"paper_bgcolor\":\"#211a1d\",\"width\":1800,\"height\":1200},                        {\"responsive\": true}                    ).then(function(){\n",
       "                            \n",
       "var gd = document.getElementById('4fffa7c5-9835-4a81-907c-f712887d397f');\n",
       "var x = new MutationObserver(function (mutations, observer) {{\n",
       "        var display = window.getComputedStyle(gd).display;\n",
       "        if (!display || display === 'none') {{\n",
       "            console.log([gd, 'removed!']);\n",
       "            Plotly.purge(gd);\n",
       "            observer.disconnect();\n",
       "        }}\n",
       "}});\n",
       "\n",
       "// Listen for the removal of the full notebook cells\n",
       "var notebookContainer = gd.closest('#notebook-container');\n",
       "if (notebookContainer) {{\n",
       "    x.observe(notebookContainer, {childList: true});\n",
       "}}\n",
       "\n",
       "// Listen for the clearing of the current output cell\n",
       "var outputEl = gd.closest('.output');\n",
       "if (outputEl) {{\n",
       "    x.observe(outputEl, {childList: true});\n",
       "}}\n",
       "\n",
       "                        })                };                });            </script>        </div>"
      ]
     },
     "metadata": {},
     "output_type": "display_data"
    }
   ],
   "source": [
    "import matplotlib.pyplot as plt\n",
    "import numpy as np\n",
    "import pandas as pd\n",
    "from nba_api.stats.static import players,teams\n",
    "import plotly.graph_objects as go\n",
    "\n",
    "def update_matrices(row):\n",
    "    player = row['Player']\n",
    "    start_minute = row['start']\n",
    "    end_minute = row['end']\n",
    "    plus_minus = row['PT_DIFF']\n",
    "\n",
    "    # Increment the matrix based on player on-court times\n",
    "    minutes_played_matrix.loc[player, start_minute:end_minute] += 1\n",
    "\n",
    "    # Increment the plus_minus_matrix based on player on-court times\n",
    "    plus_minus_matrix.loc[player, start_minute:end_minute] += plus_minus\n",
    "\n",
    "def graph_rotation(team,year):\n",
    "    team = team.upper()\n",
    "\n",
    "    nba_teams = teams.get_teams()\n",
    "    team_list= {}\n",
    "    full_name = {}\n",
    "    for org in nba_teams:\n",
    "        team_list[org['abbreviation']] = org['id']\n",
    "        full_name[org['abbreviation']] = org['full_name']\n",
    "    \n",
    "    \n",
    "\n",
    "\n",
    "    team_id = team_list[team]\n",
    "    url='https://raw.githubusercontent.com/gabriel1200/shot_data/master/rotations/'+str(year)+'/'+str(team_id)+'.csv'\n",
    "    title = full_name[team]+ ' '+str(year)\n",
    "    df = pd.read_csv(url)\n",
    "    # Convert the times to seconds\n",
    "    df['start'] = df['IN_TIME_REAL']\n",
    "    df['end'] = df['OUT_TIME_REAL']\n",
    "    df['Player'] = df['PLAYER_FIRST']+' '+df['PLAYER_LAST'].str.split('-').str[0]\n",
    "    df['start'] /=600\n",
    "    df['end']/=600\n",
    "    '''\n",
    "    df['entry_minute'] = df['start']\n",
    "    df['exit_minute'] = df['end']\n",
    "\n",
    "    # Create a list of all minutes in the game\n",
    "    all_minutes = list(range(0, 48))  # NBA games have 48 minutes\n",
    "\n",
    "    # Step 3: Assign Point Differentials to Intervals\n",
    "    minute_differentials = []\n",
    "\n",
    "    for minute in all_minutes:\n",
    "        # Filter data for each minute\n",
    "        minute_data = df[(df['entry_minute'] <= minute) & (df['exit_minute'] > minute)]\n",
    "\n",
    "        # Calculate average point differential for the minute\n",
    "        if not minute_data.empty:\n",
    "            average_differential = minute_data['PT_DIFF'].mean()\n",
    "        else:\n",
    "            average_differential = 0  # or any other default value\n",
    "\n",
    "        minute_differentials.append({'minute': minute, 'average_differential': average_differential})\n",
    "\n",
    "    # Step 4: Calculate Overall Average for Each Minute\n",
    "    result_df = pd.DataFrame(minute_differentials)\n",
    "    print(result_df)\n",
    "    '''\n",
    "    df =df.drop_duplicates()\n",
    "    max_end_minute =int( df['end'].max())\n",
    "    #max_end_minute=48\n",
    "    players = df['Player'].unique()\n",
    "\n",
    "    # Use pd.cut to create intervals and groupby to perform the summation\n",
    "\n",
    "    # Print or use the result as needed\n",
    "    #print(test_matrix)\n",
    "    # Create an empty matrix to represent player minutes played\n",
    "    global minutes_played_matrix\n",
    "    global plus_minus_matrix\n",
    "    minutes_played_matrix=  pd.DataFrame(index=players, columns=[i for i in range(max_end_minute + 1)], data=0)\n",
    "\n",
    "    plus_minus_matrix=  pd.DataFrame(index=players, columns=[i for i in range(max_end_minute + 1)], data=0)\n",
    "    df['interval'] = df.apply(lambda row: pd.Interval(row['start'], row['end'], closed='right'), axis=1)\n",
    "    df.apply(update_matrices, axis=1)\n",
    "    print(minutes_played_matrix)\n",
    "\n",
    "    #df['interval'] = df.apply(lambda row: pd.interval_range(row['start'], row['end'], freq=1), axis=1)\n",
    "\n",
    "    # Increment the matrix based on player on-court times\n",
    "    #minutes_played_matrix = df.groupby(['Player', 'interval']).size().unstack(fill_value=0).cumsum(axis=1)\n",
    "\n",
    "    # Increment the plus_minus_matrix based on player on-court times\n",
    "    #plus_minus_matrix = df.groupby(['Player', 'interval'])['PT_DIFF'].sum().unstack(fill_value=0).cumsum(axis=1)\n",
    "    #print(minutes_played_matrix)\n",
    "\n",
    "\n",
    "    # Increment the matrix based on player on-court times\n",
    "    for _, row in df.iterrows():\n",
    "        player = row['Player']\n",
    "        start_minute = row['start']\n",
    "        end_minute = row['end']\n",
    "        plus_minus = row['PT_DIFF']\n",
    "\n",
    "        minutes_played_matrix.loc[player, start_minute:end_minute] += 1\n",
    "        plus_minus_matrix.loc[player, start_minute:end_minute] += plus_minus\n",
    "    #minutes_played_matrix = minutes_played_matrix[[i for i in range(0,49)]]\n",
    "    #plus_minus_matrix = plus_minus_matrix[[i for i in range(0,49)]]\n",
    "    print(minutes_played_matrix)\n",
    "    test_matrix=plus_minus_matrix / minutes_played_matrix\n",
    "    \n",
    "\n",
    "    \n",
    "    \n",
    "    #print(test_matrix.sum())\n",
    "    team_plus = plus_minus_matrix.sum(axis=0) / minutes_played_matrix.sum(axis=0)\n",
    "    #print(team_plus.sum().sum())\n",
    "    #print(test_matrix.sum().sum())\n",
    "    #print(team_plus)\n",
    "    #print(team_plus)\n",
    "    minutes_played_matrix['total']= minutes_played_matrix.iloc[:].sum(axis=1)\n",
    "    minutes_played_matrix.sort_values(by='total',inplace=True,ascending=True)\n",
    "    minutes_played_matrix=minutes_played_matrix[minutes_played_matrix['total']>300]\n",
    "    #print(minutes_played_matrix['total'])\n",
    "    #minutes_played_matrix.drop(columns='total',inplace=True)\n",
    "    \n",
    "    #print(plus_minus_matrix.iloc[0].sum())\n",
    "\n",
    "    # Create the heatmap\n",
    "    #minutes_played_matrix.sort_index(axis=22,inplace=True)\n",
    "    minutes_played_matrix = minutes_played_matrix[[i for i in range(0,48)]]\n",
    "    fig = go.Figure(data=go.Heatmap(z=minutes_played_matrix.values,\n",
    "                                    x=minutes_played_matrix.columns,\n",
    "                                    y=minutes_played_matrix.index,\n",
    "                                    xgap=10,\n",
    "                                    ygap=15,\n",
    "                                    type='heatmap',\n",
    "                                    colorscale='RdBu_r',\n",
    "                                     colorbar=dict(\n",
    "                title=\"%Played\")\n",
    "\n",
    "\n",
    "            ))\n",
    "    fig.update_yaxes(tickfont=dict(color='white',size = 24),showgrid=False,zeroline=False)\n",
    "    fig.update_xaxes(tickfont=dict(color='white',size = 24),showgrid=False,zeroline=False)\n",
    "    # Customize the layout\n",
    "    fig.update_layout(title=title,\n",
    "                      title_x=.5,\n",
    "                          plot_bgcolor='#161415',\n",
    "                          paper_bgcolor='#211a1d',\n",
    "\n",
    "                      width=1800,\n",
    "                      height=1200,\n",
    "                      font=dict(color='white',size = 30),\n",
    "                      xaxis_title='Minute',\n",
    "                      yaxis_title='Player')\n",
    "\n",
    "    # Show the plot\n",
    "    return fig\n",
    "fig = graph_rotation('bos',2023)\n",
    "fig.show()\n",
    "\n"
   ]
  },
  {
   "cell_type": "code",
   "execution_count": null,
   "id": "4c988772-49f8-42f9-a8ca-de24f1c6b559",
   "metadata": {},
   "outputs": [],
   "source": [
    "import plotly.graph_objs as go\n",
    "\n",
    "def broken_bars(xstart, xwidth, ystart, yh, colors):\n",
    "    #xstart - list of x-start coord for each bar\n",
    "    #xwidth = list of bar widths\n",
    "    #ystart - number y-start coord for each bar\n",
    "    #yh - number- height of eah bar\n",
    "    #colors = list of bar colors\n",
    "    \n",
    "    if len(xstart) != len(xwidth) or  len(xstart) != len(colors):\n",
    "        raise ValueError('xstart, xwidth and colors must have the same length')\n",
    "    shapes = []    \n",
    "    for k in range(len(xstart)):\n",
    "        shapes.append(dict(type=\"rect\",\n",
    "                           x0=xstart[k],\n",
    "                           y0=ystart,\n",
    "                           x1=xstart[k] + xwidth[k],\n",
    "                           y1=ystart+yh,\n",
    "                           fillcolor=colors[k],\n",
    "                           line_color=colors[k]))\n",
    "    return shapes    \n",
    "# taken from https://community.plotly.com/t/broken-barh-plot/36496/2\n",
    "fig = go.Figure()\n",
    "fig.update_layout(width=1000, height=625,\n",
    "                  xaxis_range = [xmin,xmax],\n",
    "                  yaxis_range = [0,len(players)],\n",
    "                  shapes=broken_bars([10, 100, 130 ], [50, 20, 10], 20, 9, \n",
    "                                     colors=['orange', 'green', 'red' ]))"
   ]
  },
  {
   "cell_type": "code",
   "execution_count": null,
   "id": "667e6080-1eee-4e2c-89b7-e034a3d9e618",
   "metadata": {},
   "outputs": [],
   "source": []
  },
  {
   "cell_type": "code",
   "execution_count": null,
   "id": "234a61f4-7a59-4ddc-8684-dfc8de57bec0",
   "metadata": {},
   "outputs": [],
   "source": [
    "raw_game = f'https://cdn.nba.com/static/json/liveData/playbyplay/playbyplay_{game_id}.json'\n",
    "page = requests.get(raw_game)\n",
    "j = json.loads(page.content)\n",
    "df = pd.DataFrame(j['game']['actions'])"
   ]
  },
  {
   "cell_type": "code",
   "execution_count": null,
   "id": "b0a5692a-e4c8-4de2-ac62-3967e3d02a9d",
   "metadata": {},
   "outputs": [],
   "source": [
    "x_max = df['end'].max()"
   ]
  },
  {
   "cell_type": "code",
   "execution_count": null,
   "id": "85fbbc86-fb55-4268-95c5-ca61149f4ea0",
   "metadata": {},
   "outputs": [],
   "source": [
    "x_max"
   ]
  },
  {
   "cell_type": "code",
   "execution_count": null,
   "id": "abb44efe-9854-49c4-9001-51481e7c3dd5",
   "metadata": {},
   "outputs": [],
   "source": [
    "import plotly.figure_factory as ff\n",
    "df['Task'] = df['fullname']\n",
    "df['Start'] = df['start']\n",
    "df['Finish'] = df['end']\n",
    "fig = ff.create_gantt(df)\n",
    "fig.show()"
   ]
  },
  {
   "cell_type": "code",
   "execution_count": null,
   "id": "2d19dd73-ec52-4914-a439-91733d2961b3",
   "metadata": {},
   "outputs": [],
   "source": [
    "df.columns"
   ]
  },
  {
   "cell_type": "code",
   "execution_count": null,
   "id": "763f9668-373c-4fe3-b8ef-838b26fb5298",
   "metadata": {},
   "outputs": [],
   "source": []
  }
 ],
 "metadata": {
  "kernelspec": {
   "display_name": "Python 3 (ipykernel)",
   "language": "python",
   "name": "python3"
  },
  "language_info": {
   "codemirror_mode": {
    "name": "ipython",
    "version": 3
   },
   "file_extension": ".py",
   "mimetype": "text/x-python",
   "name": "python",
   "nbconvert_exporter": "python",
   "pygments_lexer": "ipython3",
   "version": "3.10.11"
  }
 },
 "nbformat": 4,
 "nbformat_minor": 5
}
