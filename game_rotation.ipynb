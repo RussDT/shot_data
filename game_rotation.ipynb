{
 "cells": [
  {
   "cell_type": "code",
   "execution_count": 19,
   "id": "2b9c1631-b185-44af-b065-ff6d11135026",
   "metadata": {
    "tags": []
   },
   "outputs": [
    {
     "data": {
      "application/vnd.plotly.v1+json": {
       "config": {
        "plotlyServerURL": "https://plot.ly"
       },
       "data": [
        {
         "colorbar": {
          "title": {
           "text": "% Played"
          }
         },
         "colorscale": [
          [
           0,
           "#fde725"
          ],
          [
           0.1111111111111111,
           "#b5de2b"
          ],
          [
           0.2222222222222222,
           "#6ece58"
          ],
          [
           0.3333333333333333,
           "#35b779"
          ],
          [
           0.4444444444444444,
           "#1f9e89"
          ],
          [
           0.5555555555555556,
           "#26828e"
          ],
          [
           0.6666666666666666,
           "#31688e"
          ],
          [
           0.7777777777777778,
           "#3e4989"
          ],
          [
           0.8888888888888888,
           "#482878"
          ],
          [
           1,
           "#440154"
          ]
         ],
         "type": "heatmap",
         "x": [
          0,
          1,
          2,
          3,
          4,
          5,
          6,
          7,
          8,
          9,
          10,
          11,
          12,
          13,
          14,
          15,
          16,
          17,
          18,
          19,
          20,
          21,
          22,
          23,
          24,
          25,
          26,
          27,
          28,
          29,
          30,
          31,
          32,
          33,
          34,
          35,
          36,
          37,
          38,
          39,
          40,
          41,
          42,
          43,
          44,
          45,
          46,
          47
         ],
         "xgap": 10,
         "y": [
          "Reggie Jackson",
          "Davon Reed",
          "Ish Smith",
          "DeAndre Jordan",
          "Zeke Nnaji",
          "Bones Hyland",
          "Vlatko Cancar",
          "Jeff Green",
          "Christian Braun",
          "Michael Porter Jr.",
          "Aaron Gordon",
          "Jamal Murray",
          "Bruce Brown",
          "Nikola Jokic",
          "Kentavious Caldwell"
         ],
         "ygap": 15,
         "z": [
          [
           2,
           2,
           2,
           2,
           2,
           2,
           2,
           3,
           7,
           13,
           13,
           13,
           14,
           14,
           14,
           13,
           12,
           10,
           5,
           3,
           2,
           1,
           2,
           2,
           2,
           2,
           2,
           2,
           2,
           2,
           2,
           3,
           8,
           13,
           12,
           12,
           12,
           11,
           11,
           11,
           8,
           7,
           6,
           7,
           6,
           6,
           6,
           7
          ],
          [
           1,
           1,
           1,
           1,
           1,
           1,
           1,
           1,
           2,
           7,
           9,
           10,
           13,
           12,
           11,
           11,
           11,
           10,
           5,
           5,
           1,
           1,
           0,
           0,
           3,
           1,
           1,
           1,
           1,
           2,
           3,
           4,
           7,
           11,
           17,
           18,
           17,
           12,
           12,
           10,
           8,
           5,
           4,
           4,
           8,
           10,
           15,
           21
          ],
          [
           0,
           0,
           0,
           0,
           1,
           1,
           1,
           3,
           6,
           11,
           14,
           14,
           15,
           16,
           17,
           17,
           16,
           13,
           11,
           9,
           2,
           1,
           0,
           0,
           1,
           0,
           0,
           0,
           0,
           1,
           1,
           1,
           2,
           8,
           15,
           16,
           16,
           16,
           15,
           14,
           14,
           10,
           6,
           6,
           9,
           14,
           20,
           31
          ],
          [
           8,
           8,
           8,
           8,
           8,
           8,
           8,
           8,
           5,
           3,
           23,
           27,
           28,
           28,
           27,
           26,
           26,
           16,
           7,
           9,
           8,
           10,
           10,
           12,
           14,
           9,
           9,
           9,
           9,
           9,
           9,
           7,
           6,
           4,
           14,
           20,
           24,
           22,
           23,
           20,
           15,
           9,
           7,
           7,
           6,
           6,
           5,
           4
          ],
          [
           5,
           5,
           5,
           5,
           5,
           5,
           8,
           7,
           9,
           11,
           24,
           32,
           35,
           35,
           34,
           34,
           29,
           19,
           6,
           5,
           6,
           4,
           6,
           8,
           12,
           6,
           6,
           6,
           6,
           5,
           6,
           8,
           10,
           15,
           18,
           27,
           38,
           35,
           33,
           31,
           22,
           16,
           12,
           13,
           14,
           14,
           21,
           26
          ],
          [
           1,
           1,
           1,
           1,
           1,
           1,
           2,
           4,
           20,
           36,
           40,
           41,
           41,
           41,
           38,
           34,
           31,
           27,
           19,
           13,
           11,
           6,
           5,
           4,
           3,
           1,
           1,
           1,
           2,
           2,
           3,
           7,
           19,
           35,
           36,
           36,
           36,
           36,
           36,
           31,
           30,
           26,
           22,
           14,
           8,
           8,
           6,
           5
          ],
          [
           9,
           9,
           9,
           9,
           9,
           9,
           15,
           17,
           21,
           27,
           32,
           34,
           34,
           30,
           30,
           27,
           22,
           14,
           11,
           10,
           10,
           10,
           10,
           12,
           13,
           9,
           9,
           10,
           11,
           12,
           13,
           20,
           22,
           26,
           25,
           26,
           29,
           26,
           26,
           25,
           23,
           17,
           15,
           13,
           15,
           16,
           25,
           33
          ],
          [
           4,
           4,
           4,
           4,
           4,
           4,
           3,
           8,
           28,
           51,
           51,
           53,
           53,
           53,
           53,
           53,
           47,
           33,
           13,
           7,
           4,
           5,
           5,
           5,
           10,
           3,
           3,
           3,
           3,
           4,
           7,
           9,
           23,
           40,
           45,
           49,
           50,
           50,
           50,
           49,
           42,
           30,
           19,
           15,
           13,
           12,
           10,
           9
          ],
          [
           6,
           6,
           6,
           6,
           6,
           7,
           15,
           25,
           30,
           42,
           43,
           43,
           46,
           38,
           39,
           36,
           32,
           25,
           17,
           14,
           11,
           11,
           10,
           11,
           18,
           8,
           7,
           7,
           8,
           7,
           15,
           23,
           36,
           45,
           45,
           45,
           49,
           44,
           43,
           41,
           38,
           31,
           24,
           22,
           20,
           22,
           27,
           35
          ],
          [
           62,
           62,
           62,
           62,
           62,
           60,
           56,
           47,
           37,
           16,
           12,
           11,
           14,
           12,
           12,
           12,
           19,
           31,
           47,
           51,
           54,
           56,
           57,
           54,
           62,
           62,
           62,
           61,
           60,
           60,
           53,
           46,
           31,
           20,
           14,
           11,
           21,
           15,
           15,
           17,
           15,
           23,
           35,
           41,
           40,
           37,
           34,
           22
          ],
          [
           68,
           68,
           68,
           68,
           68,
           68,
           67,
           63,
           41,
           9,
           2,
           1,
           3,
           4,
           6,
           11,
           20,
           38,
           62,
           66,
           66,
           65,
           64,
           63,
           68,
           68,
           68,
           67,
           66,
           66,
           65,
           58,
           40,
           17,
           10,
           8,
           15,
           12,
           13,
           21,
           26,
           42,
           52,
           53,
           53,
           51,
           42,
           34
          ],
          [
           65,
           65,
           65,
           65,
           65,
           64,
           50,
           35,
           29,
           32,
           37,
           34,
           38,
           34,
           37,
           36,
           36,
           24,
           29,
           40,
           49,
           57,
           61,
           63,
           64,
           64,
           64,
           64,
           62,
           62,
           52,
           34,
           28,
           24,
           28,
           32,
           42,
           33,
           34,
           33,
           34,
           35,
           41,
           47,
           47,
           48,
           41,
           33
          ],
          [
           31,
           31,
           31,
           31,
           30,
           33,
           48,
           60,
           59,
           63,
           58,
           59,
           59,
           56,
           55,
           57,
           52,
           53,
           52,
           45,
           45,
           41,
           37,
           38,
           42,
           32,
           32,
           33,
           35,
           34,
           46,
           62,
           65,
           59,
           60,
           58,
           62,
           57,
           58,
           58,
           62,
           57,
           52,
           50,
           45,
           39,
           34,
           32
          ],
          [
           69,
           69,
           69,
           69,
           69,
           69,
           69,
           69,
           68,
           65,
           24,
           7,
           2,
           0,
           1,
           3,
           15,
           44,
           66,
           67,
           68,
           66,
           66,
           62,
           69,
           68,
           68,
           68,
           68,
           67,
           65,
           65,
           64,
           60,
           42,
           18,
           17,
           4,
           5,
           12,
           34,
           52,
           58,
           58,
           57,
           54,
           45,
           35
          ],
          [
           76,
           76,
           76,
           76,
           76,
           75,
           67,
           59,
           46,
           21,
           14,
           16,
           22,
           19,
           18,
           23,
           32,
           49,
           60,
           64,
           72,
           74,
           75,
           74,
           75,
           74,
           75,
           75,
           75,
           74,
           68,
           61,
           46,
           29,
           20,
           17,
           24,
           20,
           20,
           25,
           30,
           42,
           47,
           48,
           53,
           53,
           48,
           39
          ]
         ]
        }
       ],
       "layout": {
        "font": {
         "color": "white",
         "size": 30
        },
        "height": 1200,
        "paper_bgcolor": "#211a1d",
        "plot_bgcolor": "#161415",
        "template": {
         "data": {
          "bar": [
           {
            "error_x": {
             "color": "#2a3f5f"
            },
            "error_y": {
             "color": "#2a3f5f"
            },
            "marker": {
             "line": {
              "color": "#E5ECF6",
              "width": 0.5
             },
             "pattern": {
              "fillmode": "overlay",
              "size": 10,
              "solidity": 0.2
             }
            },
            "type": "bar"
           }
          ],
          "barpolar": [
           {
            "marker": {
             "line": {
              "color": "#E5ECF6",
              "width": 0.5
             },
             "pattern": {
              "fillmode": "overlay",
              "size": 10,
              "solidity": 0.2
             }
            },
            "type": "barpolar"
           }
          ],
          "carpet": [
           {
            "aaxis": {
             "endlinecolor": "#2a3f5f",
             "gridcolor": "white",
             "linecolor": "white",
             "minorgridcolor": "white",
             "startlinecolor": "#2a3f5f"
            },
            "baxis": {
             "endlinecolor": "#2a3f5f",
             "gridcolor": "white",
             "linecolor": "white",
             "minorgridcolor": "white",
             "startlinecolor": "#2a3f5f"
            },
            "type": "carpet"
           }
          ],
          "choropleth": [
           {
            "colorbar": {
             "outlinewidth": 0,
             "ticks": ""
            },
            "type": "choropleth"
           }
          ],
          "contour": [
           {
            "colorbar": {
             "outlinewidth": 0,
             "ticks": ""
            },
            "colorscale": [
             [
              0,
              "#0d0887"
             ],
             [
              0.1111111111111111,
              "#46039f"
             ],
             [
              0.2222222222222222,
              "#7201a8"
             ],
             [
              0.3333333333333333,
              "#9c179e"
             ],
             [
              0.4444444444444444,
              "#bd3786"
             ],
             [
              0.5555555555555556,
              "#d8576b"
             ],
             [
              0.6666666666666666,
              "#ed7953"
             ],
             [
              0.7777777777777778,
              "#fb9f3a"
             ],
             [
              0.8888888888888888,
              "#fdca26"
             ],
             [
              1,
              "#f0f921"
             ]
            ],
            "type": "contour"
           }
          ],
          "contourcarpet": [
           {
            "colorbar": {
             "outlinewidth": 0,
             "ticks": ""
            },
            "type": "contourcarpet"
           }
          ],
          "heatmap": [
           {
            "colorbar": {
             "outlinewidth": 0,
             "ticks": ""
            },
            "colorscale": [
             [
              0,
              "#0d0887"
             ],
             [
              0.1111111111111111,
              "#46039f"
             ],
             [
              0.2222222222222222,
              "#7201a8"
             ],
             [
              0.3333333333333333,
              "#9c179e"
             ],
             [
              0.4444444444444444,
              "#bd3786"
             ],
             [
              0.5555555555555556,
              "#d8576b"
             ],
             [
              0.6666666666666666,
              "#ed7953"
             ],
             [
              0.7777777777777778,
              "#fb9f3a"
             ],
             [
              0.8888888888888888,
              "#fdca26"
             ],
             [
              1,
              "#f0f921"
             ]
            ],
            "type": "heatmap"
           }
          ],
          "heatmapgl": [
           {
            "colorbar": {
             "outlinewidth": 0,
             "ticks": ""
            },
            "colorscale": [
             [
              0,
              "#0d0887"
             ],
             [
              0.1111111111111111,
              "#46039f"
             ],
             [
              0.2222222222222222,
              "#7201a8"
             ],
             [
              0.3333333333333333,
              "#9c179e"
             ],
             [
              0.4444444444444444,
              "#bd3786"
             ],
             [
              0.5555555555555556,
              "#d8576b"
             ],
             [
              0.6666666666666666,
              "#ed7953"
             ],
             [
              0.7777777777777778,
              "#fb9f3a"
             ],
             [
              0.8888888888888888,
              "#fdca26"
             ],
             [
              1,
              "#f0f921"
             ]
            ],
            "type": "heatmapgl"
           }
          ],
          "histogram": [
           {
            "marker": {
             "pattern": {
              "fillmode": "overlay",
              "size": 10,
              "solidity": 0.2
             }
            },
            "type": "histogram"
           }
          ],
          "histogram2d": [
           {
            "colorbar": {
             "outlinewidth": 0,
             "ticks": ""
            },
            "colorscale": [
             [
              0,
              "#0d0887"
             ],
             [
              0.1111111111111111,
              "#46039f"
             ],
             [
              0.2222222222222222,
              "#7201a8"
             ],
             [
              0.3333333333333333,
              "#9c179e"
             ],
             [
              0.4444444444444444,
              "#bd3786"
             ],
             [
              0.5555555555555556,
              "#d8576b"
             ],
             [
              0.6666666666666666,
              "#ed7953"
             ],
             [
              0.7777777777777778,
              "#fb9f3a"
             ],
             [
              0.8888888888888888,
              "#fdca26"
             ],
             [
              1,
              "#f0f921"
             ]
            ],
            "type": "histogram2d"
           }
          ],
          "histogram2dcontour": [
           {
            "colorbar": {
             "outlinewidth": 0,
             "ticks": ""
            },
            "colorscale": [
             [
              0,
              "#0d0887"
             ],
             [
              0.1111111111111111,
              "#46039f"
             ],
             [
              0.2222222222222222,
              "#7201a8"
             ],
             [
              0.3333333333333333,
              "#9c179e"
             ],
             [
              0.4444444444444444,
              "#bd3786"
             ],
             [
              0.5555555555555556,
              "#d8576b"
             ],
             [
              0.6666666666666666,
              "#ed7953"
             ],
             [
              0.7777777777777778,
              "#fb9f3a"
             ],
             [
              0.8888888888888888,
              "#fdca26"
             ],
             [
              1,
              "#f0f921"
             ]
            ],
            "type": "histogram2dcontour"
           }
          ],
          "mesh3d": [
           {
            "colorbar": {
             "outlinewidth": 0,
             "ticks": ""
            },
            "type": "mesh3d"
           }
          ],
          "parcoords": [
           {
            "line": {
             "colorbar": {
              "outlinewidth": 0,
              "ticks": ""
             }
            },
            "type": "parcoords"
           }
          ],
          "pie": [
           {
            "automargin": true,
            "type": "pie"
           }
          ],
          "scatter": [
           {
            "fillpattern": {
             "fillmode": "overlay",
             "size": 10,
             "solidity": 0.2
            },
            "type": "scatter"
           }
          ],
          "scatter3d": [
           {
            "line": {
             "colorbar": {
              "outlinewidth": 0,
              "ticks": ""
             }
            },
            "marker": {
             "colorbar": {
              "outlinewidth": 0,
              "ticks": ""
             }
            },
            "type": "scatter3d"
           }
          ],
          "scattercarpet": [
           {
            "marker": {
             "colorbar": {
              "outlinewidth": 0,
              "ticks": ""
             }
            },
            "type": "scattercarpet"
           }
          ],
          "scattergeo": [
           {
            "marker": {
             "colorbar": {
              "outlinewidth": 0,
              "ticks": ""
             }
            },
            "type": "scattergeo"
           }
          ],
          "scattergl": [
           {
            "marker": {
             "colorbar": {
              "outlinewidth": 0,
              "ticks": ""
             }
            },
            "type": "scattergl"
           }
          ],
          "scattermapbox": [
           {
            "marker": {
             "colorbar": {
              "outlinewidth": 0,
              "ticks": ""
             }
            },
            "type": "scattermapbox"
           }
          ],
          "scatterpolar": [
           {
            "marker": {
             "colorbar": {
              "outlinewidth": 0,
              "ticks": ""
             }
            },
            "type": "scatterpolar"
           }
          ],
          "scatterpolargl": [
           {
            "marker": {
             "colorbar": {
              "outlinewidth": 0,
              "ticks": ""
             }
            },
            "type": "scatterpolargl"
           }
          ],
          "scatterternary": [
           {
            "marker": {
             "colorbar": {
              "outlinewidth": 0,
              "ticks": ""
             }
            },
            "type": "scatterternary"
           }
          ],
          "surface": [
           {
            "colorbar": {
             "outlinewidth": 0,
             "ticks": ""
            },
            "colorscale": [
             [
              0,
              "#0d0887"
             ],
             [
              0.1111111111111111,
              "#46039f"
             ],
             [
              0.2222222222222222,
              "#7201a8"
             ],
             [
              0.3333333333333333,
              "#9c179e"
             ],
             [
              0.4444444444444444,
              "#bd3786"
             ],
             [
              0.5555555555555556,
              "#d8576b"
             ],
             [
              0.6666666666666666,
              "#ed7953"
             ],
             [
              0.7777777777777778,
              "#fb9f3a"
             ],
             [
              0.8888888888888888,
              "#fdca26"
             ],
             [
              1,
              "#f0f921"
             ]
            ],
            "type": "surface"
           }
          ],
          "table": [
           {
            "cells": {
             "fill": {
              "color": "#EBF0F8"
             },
             "line": {
              "color": "white"
             }
            },
            "header": {
             "fill": {
              "color": "#C8D4E3"
             },
             "line": {
              "color": "white"
             }
            },
            "type": "table"
           }
          ]
         },
         "layout": {
          "annotationdefaults": {
           "arrowcolor": "#2a3f5f",
           "arrowhead": 0,
           "arrowwidth": 1
          },
          "autotypenumbers": "strict",
          "coloraxis": {
           "colorbar": {
            "outlinewidth": 0,
            "ticks": ""
           }
          },
          "colorscale": {
           "diverging": [
            [
             0,
             "#8e0152"
            ],
            [
             0.1,
             "#c51b7d"
            ],
            [
             0.2,
             "#de77ae"
            ],
            [
             0.3,
             "#f1b6da"
            ],
            [
             0.4,
             "#fde0ef"
            ],
            [
             0.5,
             "#f7f7f7"
            ],
            [
             0.6,
             "#e6f5d0"
            ],
            [
             0.7,
             "#b8e186"
            ],
            [
             0.8,
             "#7fbc41"
            ],
            [
             0.9,
             "#4d9221"
            ],
            [
             1,
             "#276419"
            ]
           ],
           "sequential": [
            [
             0,
             "#0d0887"
            ],
            [
             0.1111111111111111,
             "#46039f"
            ],
            [
             0.2222222222222222,
             "#7201a8"
            ],
            [
             0.3333333333333333,
             "#9c179e"
            ],
            [
             0.4444444444444444,
             "#bd3786"
            ],
            [
             0.5555555555555556,
             "#d8576b"
            ],
            [
             0.6666666666666666,
             "#ed7953"
            ],
            [
             0.7777777777777778,
             "#fb9f3a"
            ],
            [
             0.8888888888888888,
             "#fdca26"
            ],
            [
             1,
             "#f0f921"
            ]
           ],
           "sequentialminus": [
            [
             0,
             "#0d0887"
            ],
            [
             0.1111111111111111,
             "#46039f"
            ],
            [
             0.2222222222222222,
             "#7201a8"
            ],
            [
             0.3333333333333333,
             "#9c179e"
            ],
            [
             0.4444444444444444,
             "#bd3786"
            ],
            [
             0.5555555555555556,
             "#d8576b"
            ],
            [
             0.6666666666666666,
             "#ed7953"
            ],
            [
             0.7777777777777778,
             "#fb9f3a"
            ],
            [
             0.8888888888888888,
             "#fdca26"
            ],
            [
             1,
             "#f0f921"
            ]
           ]
          },
          "colorway": [
           "#636efa",
           "#EF553B",
           "#00cc96",
           "#ab63fa",
           "#FFA15A",
           "#19d3f3",
           "#FF6692",
           "#B6E880",
           "#FF97FF",
           "#FECB52"
          ],
          "font": {
           "color": "#2a3f5f"
          },
          "geo": {
           "bgcolor": "white",
           "lakecolor": "white",
           "landcolor": "#E5ECF6",
           "showlakes": true,
           "showland": true,
           "subunitcolor": "white"
          },
          "hoverlabel": {
           "align": "left"
          },
          "hovermode": "closest",
          "mapbox": {
           "style": "light"
          },
          "paper_bgcolor": "white",
          "plot_bgcolor": "#E5ECF6",
          "polar": {
           "angularaxis": {
            "gridcolor": "white",
            "linecolor": "white",
            "ticks": ""
           },
           "bgcolor": "#E5ECF6",
           "radialaxis": {
            "gridcolor": "white",
            "linecolor": "white",
            "ticks": ""
           }
          },
          "scene": {
           "xaxis": {
            "backgroundcolor": "#E5ECF6",
            "gridcolor": "white",
            "gridwidth": 2,
            "linecolor": "white",
            "showbackground": true,
            "ticks": "",
            "zerolinecolor": "white"
           },
           "yaxis": {
            "backgroundcolor": "#E5ECF6",
            "gridcolor": "white",
            "gridwidth": 2,
            "linecolor": "white",
            "showbackground": true,
            "ticks": "",
            "zerolinecolor": "white"
           },
           "zaxis": {
            "backgroundcolor": "#E5ECF6",
            "gridcolor": "white",
            "gridwidth": 2,
            "linecolor": "white",
            "showbackground": true,
            "ticks": "",
            "zerolinecolor": "white"
           }
          },
          "shapedefaults": {
           "line": {
            "color": "#2a3f5f"
           }
          },
          "ternary": {
           "aaxis": {
            "gridcolor": "white",
            "linecolor": "white",
            "ticks": ""
           },
           "baxis": {
            "gridcolor": "white",
            "linecolor": "white",
            "ticks": ""
           },
           "bgcolor": "#E5ECF6",
           "caxis": {
            "gridcolor": "white",
            "linecolor": "white",
            "ticks": ""
           }
          },
          "title": {
           "x": 0.05
          },
          "xaxis": {
           "automargin": true,
           "gridcolor": "white",
           "linecolor": "white",
           "ticks": "",
           "title": {
            "standoff": 15
           },
           "zerolinecolor": "white",
           "zerolinewidth": 2
          },
          "yaxis": {
           "automargin": true,
           "gridcolor": "white",
           "linecolor": "white",
           "ticks": "",
           "title": {
            "standoff": 15
           },
           "zerolinecolor": "white",
           "zerolinewidth": 2
          }
         }
        },
        "title": {
         "text": "Denver Nuggets 2023",
         "x": 0.5
        },
        "width": 1800,
        "xaxis": {
         "autorange": true,
         "range": [
          -0.5,
          47.5
         ],
         "showgrid": false,
         "tickfont": {
          "color": "white",
          "size": 24
         },
         "title": {
          "text": "Minute"
         },
         "type": "linear",
         "zeroline": false
        },
        "yaxis": {
         "autorange": true,
         "range": [
          -0.5,
          14.5
         ],
         "showgrid": false,
         "tickfont": {
          "color": "white",
          "size": 24
         },
         "title": {
          "text": "Player"
         },
         "type": "category",
         "zeroline": false
        }
       }
      },
      "image/png": "[encoded data removed]",
      "text/html": [
       "<div>                            <div id=\"3d83b483-3d03-4cf2-9eeb-ed9cdd9f7666\" class=\"plotly-graph-div\" style=\"height:1200px; width:1800px;\"></div>            <script type=\"text/javascript\">                require([\"plotly\"], function(Plotly) {                    window.PLOTLYENV=window.PLOTLYENV || {};                                    if (document.getElementById(\"3d83b483-3d03-4cf2-9eeb-ed9cdd9f7666\")) {                    Plotly.newPlot(                        \"3d83b483-3d03-4cf2-9eeb-ed9cdd9f7666\",                        [{\"colorbar\":{\"title\":{\"text\":\"% Played\"}},\"colorscale\":[[0.0,\"#fde725\"],[0.1111111111111111,\"#b5de2b\"],[0.2222222222222222,\"#6ece58\"],[0.3333333333333333,\"#35b779\"],[0.4444444444444444,\"#1f9e89\"],[0.5555555555555556,\"#26828e\"],[0.6666666666666666,\"#31688e\"],[0.7777777777777778,\"#3e4989\"],[0.8888888888888888,\"#482878\"],[1.0,\"#440154\"]],\"x\":[0,1,2,3,4,5,6,7,8,9,10,11,12,13,14,15,16,17,18,19,20,21,22,23,24,25,26,27,28,29,30,31,32,33,34,35,36,37,38,39,40,41,42,43,44,45,46,47],\"xgap\":10,\"y\":[\"Reggie Jackson\",\"Davon Reed\",\"Ish Smith\",\"DeAndre Jordan\",\"Zeke Nnaji\",\"Bones Hyland\",\"Vlatko Cancar\",\"Jeff Green\",\"Christian Braun\",\"Michael Porter Jr.\",\"Aaron Gordon\",\"Jamal Murray\",\"Bruce Brown\",\"Nikola Jokic\",\"Kentavious Caldwell\"],\"ygap\":15,\"z\":[[2,2,2,2,2,2,2,3,7,13,13,13,14,14,14,13,12,10,5,3,2,1,2,2,2,2,2,2,2,2,2,3,8,13,12,12,12,11,11,11,8,7,6,7,6,6,6,7],[1,1,1,1,1,1,1,1,2,7,9,10,13,12,11,11,11,10,5,5,1,1,0,0,3,1,1,1,1,2,3,4,7,11,17,18,17,12,12,10,8,5,4,4,8,10,15,21],[0,0,0,0,1,1,1,3,6,11,14,14,15,16,17,17,16,13,11,9,2,1,0,0,1,0,0,0,0,1,1,1,2,8,15,16,16,16,15,14,14,10,6,6,9,14,20,31],[8,8,8,8,8,8,8,8,5,3,23,27,28,28,27,26,26,16,7,9,8,10,10,12,14,9,9,9,9,9,9,7,6,4,14,20,24,22,23,20,15,9,7,7,6,6,5,4],[5,5,5,5,5,5,8,7,9,11,24,32,35,35,34,34,29,19,6,5,6,4,6,8,12,6,6,6,6,5,6,8,10,15,18,27,38,35,33,31,22,16,12,13,14,14,21,26],[1,1,1,1,1,1,2,4,20,36,40,41,41,41,38,34,31,27,19,13,11,6,5,4,3,1,1,1,2,2,3,7,19,35,36,36,36,36,36,31,30,26,22,14,8,8,6,5],[9,9,9,9,9,9,15,17,21,27,32,34,34,30,30,27,22,14,11,10,10,10,10,12,13,9,9,10,11,12,13,20,22,26,25,26,29,26,26,25,23,17,15,13,15,16,25,33],[4,4,4,4,4,4,3,8,28,51,51,53,53,53,53,53,47,33,13,7,4,5,5,5,10,3,3,3,3,4,7,9,23,40,45,49,50,50,50,49,42,30,19,15,13,12,10,9],[6,6,6,6,6,7,15,25,30,42,43,43,46,38,39,36,32,25,17,14,11,11,10,11,18,8,7,7,8,7,15,23,36,45,45,45,49,44,43,41,38,31,24,22,20,22,27,35],[62,62,62,62,62,60,56,47,37,16,12,11,14,12,12,12,19,31,47,51,54,56,57,54,62,62,62,61,60,60,53,46,31,20,14,11,21,15,15,17,15,23,35,41,40,37,34,22],[68,68,68,68,68,68,67,63,41,9,2,1,3,4,6,11,20,38,62,66,66,65,64,63,68,68,68,67,66,66,65,58,40,17,10,8,15,12,13,21,26,42,52,53,53,51,42,34],[65,65,65,65,65,64,50,35,29,32,37,34,38,34,37,36,36,24,29,40,49,57,61,63,64,64,64,64,62,62,52,34,28,24,28,32,42,33,34,33,34,35,41,47,47,48,41,33],[31,31,31,31,30,33,48,60,59,63,58,59,59,56,55,57,52,53,52,45,45,41,37,38,42,32,32,33,35,34,46,62,65,59,60,58,62,57,58,58,62,57,52,50,45,39,34,32],[69,69,69,69,69,69,69,69,68,65,24,7,2,0,1,3,15,44,66,67,68,66,66,62,69,68,68,68,68,67,65,65,64,60,42,18,17,4,5,12,34,52,58,58,57,54,45,35],[76,76,76,76,76,75,67,59,46,21,14,16,22,19,18,23,32,49,60,64,72,74,75,74,75,74,75,75,75,74,68,61,46,29,20,17,24,20,20,25,30,42,47,48,53,53,48,39]],\"type\":\"heatmap\"}],                        {\"template\":{\"data\":{\"histogram2dcontour\":[{\"type\":\"histogram2dcontour\",\"colorbar\":{\"outlinewidth\":0,\"ticks\":\"\"},\"colorscale\":[[0.0,\"#0d0887\"],[0.1111111111111111,\"#46039f\"],[0.2222222222222222,\"#7201a8\"],[0.3333333333333333,\"#9c179e\"],[0.4444444444444444,\"#bd3786\"],[0.5555555555555556,\"#d8576b\"],[0.6666666666666666,\"#ed7953\"],[0.7777777777777778,\"#fb9f3a\"],[0.8888888888888888,\"#fdca26\"],[1.0,\"#f0f921\"]]}],\"choropleth\":[{\"type\":\"choropleth\",\"colorbar\":{\"outlinewidth\":0,\"ticks\":\"\"}}],\"histogram2d\":[{\"type\":\"histogram2d\",\"colorbar\":{\"outlinewidth\":0,\"ticks\":\"\"},\"colorscale\":[[0.0,\"#0d0887\"],[0.1111111111111111,\"#46039f\"],[0.2222222222222222,\"#7201a8\"],[0.3333333333333333,\"#9c179e\"],[0.4444444444444444,\"#bd3786\"],[0.5555555555555556,\"#d8576b\"],[0.6666666666666666,\"#ed7953\"],[0.7777777777777778,\"#fb9f3a\"],[0.8888888888888888,\"#fdca26\"],[1.0,\"#f0f921\"]]}],\"heatmap\":[{\"type\":\"heatmap\",\"colorbar\":{\"outlinewidth\":0,\"ticks\":\"\"},\"colorscale\":[[0.0,\"#0d0887\"],[0.1111111111111111,\"#46039f\"],[0.2222222222222222,\"#7201a8\"],[0.3333333333333333,\"#9c179e\"],[0.4444444444444444,\"#bd3786\"],[0.5555555555555556,\"#d8576b\"],[0.6666666666666666,\"#ed7953\"],[0.7777777777777778,\"#fb9f3a\"],[0.8888888888888888,\"#fdca26\"],[1.0,\"#f0f921\"]]}],\"heatmapgl\":[{\"type\":\"heatmapgl\",\"colorbar\":{\"outlinewidth\":0,\"ticks\":\"\"},\"colorscale\":[[0.0,\"#0d0887\"],[0.1111111111111111,\"#46039f\"],[0.2222222222222222,\"#7201a8\"],[0.3333333333333333,\"#9c179e\"],[0.4444444444444444,\"#bd3786\"],[0.5555555555555556,\"#d8576b\"],[0.6666666666666666,\"#ed7953\"],[0.7777777777777778,\"#fb9f3a\"],[0.8888888888888888,\"#fdca26\"],[1.0,\"#f0f921\"]]}],\"contourcarpet\":[{\"type\":\"contourcarpet\",\"colorbar\":{\"outlinewidth\":0,\"ticks\":\"\"}}],\"contour\":[{\"type\":\"contour\",\"colorbar\":{\"outlinewidth\":0,\"ticks\":\"\"},\"colorscale\":[[0.0,\"#0d0887\"],[0.1111111111111111,\"#46039f\"],[0.2222222222222222,\"#7201a8\"],[0.3333333333333333,\"#9c179e\"],[0.4444444444444444,\"#bd3786\"],[0.5555555555555556,\"#d8576b\"],[0.6666666666666666,\"#ed7953\"],[0.7777777777777778,\"#fb9f3a\"],[0.8888888888888888,\"#fdca26\"],[1.0,\"#f0f921\"]]}],\"surface\":[{\"type\":\"surface\",\"colorbar\":{\"outlinewidth\":0,\"ticks\":\"\"},\"colorscale\":[[0.0,\"#0d0887\"],[0.1111111111111111,\"#46039f\"],[0.2222222222222222,\"#7201a8\"],[0.3333333333333333,\"#9c179e\"],[0.4444444444444444,\"#bd3786\"],[0.5555555555555556,\"#d8576b\"],[0.6666666666666666,\"#ed7953\"],[0.7777777777777778,\"#fb9f3a\"],[0.8888888888888888,\"#fdca26\"],[1.0,\"#f0f921\"]]}],\"mesh3d\":[{\"type\":\"mesh3d\",\"colorbar\":{\"outlinewidth\":0,\"ticks\":\"\"}}],\"scatter\":[{\"fillpattern\":{\"fillmode\":\"overlay\",\"size\":10,\"solidity\":0.2},\"type\":\"scatter\"}],\"parcoords\":[{\"type\":\"parcoords\",\"line\":{\"colorbar\":{\"outlinewidth\":0,\"ticks\":\"\"}}}],\"scatterpolargl\":[{\"type\":\"scatterpolargl\",\"marker\":{\"colorbar\":{\"outlinewidth\":0,\"ticks\":\"\"}}}],\"bar\":[{\"error_x\":{\"color\":\"#2a3f5f\"},\"error_y\":{\"color\":\"#2a3f5f\"},\"marker\":{\"line\":{\"color\":\"#E5ECF6\",\"width\":0.5},\"pattern\":{\"fillmode\":\"overlay\",\"size\":10,\"solidity\":0.2}},\"type\":\"bar\"}],\"scattergeo\":[{\"type\":\"scattergeo\",\"marker\":{\"colorbar\":{\"outlinewidth\":0,\"ticks\":\"\"}}}],\"scatterpolar\":[{\"type\":\"scatterpolar\",\"marker\":{\"colorbar\":{\"outlinewidth\":0,\"ticks\":\"\"}}}],\"histogram\":[{\"marker\":{\"pattern\":{\"fillmode\":\"overlay\",\"size\":10,\"solidity\":0.2}},\"type\":\"histogram\"}],\"scattergl\":[{\"type\":\"scattergl\",\"marker\":{\"colorbar\":{\"outlinewidth\":0,\"ticks\":\"\"}}}],\"scatter3d\":[{\"type\":\"scatter3d\",\"line\":{\"colorbar\":{\"outlinewidth\":0,\"ticks\":\"\"}},\"marker\":{\"colorbar\":{\"outlinewidth\":0,\"ticks\":\"\"}}}],\"scattermapbox\":[{\"type\":\"scattermapbox\",\"marker\":{\"colorbar\":{\"outlinewidth\":0,\"ticks\":\"\"}}}],\"scatterternary\":[{\"type\":\"scatterternary\",\"marker\":{\"colorbar\":{\"outlinewidth\":0,\"ticks\":\"\"}}}],\"scattercarpet\":[{\"type\":\"scattercarpet\",\"marker\":{\"colorbar\":{\"outlinewidth\":0,\"ticks\":\"\"}}}],\"carpet\":[{\"aaxis\":{\"endlinecolor\":\"#2a3f5f\",\"gridcolor\":\"white\",\"linecolor\":\"white\",\"minorgridcolor\":\"white\",\"startlinecolor\":\"#2a3f5f\"},\"baxis\":{\"endlinecolor\":\"#2a3f5f\",\"gridcolor\":\"white\",\"linecolor\":\"white\",\"minorgridcolor\":\"white\",\"startlinecolor\":\"#2a3f5f\"},\"type\":\"carpet\"}],\"table\":[{\"cells\":{\"fill\":{\"color\":\"#EBF0F8\"},\"line\":{\"color\":\"white\"}},\"header\":{\"fill\":{\"color\":\"#C8D4E3\"},\"line\":{\"color\":\"white\"}},\"type\":\"table\"}],\"barpolar\":[{\"marker\":{\"line\":{\"color\":\"#E5ECF6\",\"width\":0.5},\"pattern\":{\"fillmode\":\"overlay\",\"size\":10,\"solidity\":0.2}},\"type\":\"barpolar\"}],\"pie\":[{\"automargin\":true,\"type\":\"pie\"}]},\"layout\":{\"autotypenumbers\":\"strict\",\"colorway\":[\"#636efa\",\"#EF553B\",\"#00cc96\",\"#ab63fa\",\"#FFA15A\",\"#19d3f3\",\"#FF6692\",\"#B6E880\",\"#FF97FF\",\"#FECB52\"],\"font\":{\"color\":\"#2a3f5f\"},\"hovermode\":\"closest\",\"hoverlabel\":{\"align\":\"left\"},\"paper_bgcolor\":\"white\",\"plot_bgcolor\":\"#E5ECF6\",\"polar\":{\"bgcolor\":\"#E5ECF6\",\"angularaxis\":{\"gridcolor\":\"white\",\"linecolor\":\"white\",\"ticks\":\"\"},\"radialaxis\":{\"gridcolor\":\"white\",\"linecolor\":\"white\",\"ticks\":\"\"}},\"ternary\":{\"bgcolor\":\"#E5ECF6\",\"aaxis\":{\"gridcolor\":\"white\",\"linecolor\":\"white\",\"ticks\":\"\"},\"baxis\":{\"gridcolor\":\"white\",\"linecolor\":\"white\",\"ticks\":\"\"},\"caxis\":{\"gridcolor\":\"white\",\"linecolor\":\"white\",\"ticks\":\"\"}},\"coloraxis\":{\"colorbar\":{\"outlinewidth\":0,\"ticks\":\"\"}},\"colorscale\":{\"sequential\":[[0.0,\"#0d0887\"],[0.1111111111111111,\"#46039f\"],[0.2222222222222222,\"#7201a8\"],[0.3333333333333333,\"#9c179e\"],[0.4444444444444444,\"#bd3786\"],[0.5555555555555556,\"#d8576b\"],[0.6666666666666666,\"#ed7953\"],[0.7777777777777778,\"#fb9f3a\"],[0.8888888888888888,\"#fdca26\"],[1.0,\"#f0f921\"]],\"sequentialminus\":[[0.0,\"#0d0887\"],[0.1111111111111111,\"#46039f\"],[0.2222222222222222,\"#7201a8\"],[0.3333333333333333,\"#9c179e\"],[0.4444444444444444,\"#bd3786\"],[0.5555555555555556,\"#d8576b\"],[0.6666666666666666,\"#ed7953\"],[0.7777777777777778,\"#fb9f3a\"],[0.8888888888888888,\"#fdca26\"],[1.0,\"#f0f921\"]],\"diverging\":[[0,\"#8e0152\"],[0.1,\"#c51b7d\"],[0.2,\"#de77ae\"],[0.3,\"#f1b6da\"],[0.4,\"#fde0ef\"],[0.5,\"#f7f7f7\"],[0.6,\"#e6f5d0\"],[0.7,\"#b8e186\"],[0.8,\"#7fbc41\"],[0.9,\"#4d9221\"],[1,\"#276419\"]]},\"xaxis\":{\"gridcolor\":\"white\",\"linecolor\":\"white\",\"ticks\":\"\",\"title\":{\"standoff\":15},\"zerolinecolor\":\"white\",\"automargin\":true,\"zerolinewidth\":2},\"yaxis\":{\"gridcolor\":\"white\",\"linecolor\":\"white\",\"ticks\":\"\",\"title\":{\"standoff\":15},\"zerolinecolor\":\"white\",\"automargin\":true,\"zerolinewidth\":2},\"scene\":{\"xaxis\":{\"backgroundcolor\":\"#E5ECF6\",\"gridcolor\":\"white\",\"linecolor\":\"white\",\"showbackground\":true,\"ticks\":\"\",\"zerolinecolor\":\"white\",\"gridwidth\":2},\"yaxis\":{\"backgroundcolor\":\"#E5ECF6\",\"gridcolor\":\"white\",\"linecolor\":\"white\",\"showbackground\":true,\"ticks\":\"\",\"zerolinecolor\":\"white\",\"gridwidth\":2},\"zaxis\":{\"backgroundcolor\":\"#E5ECF6\",\"gridcolor\":\"white\",\"linecolor\":\"white\",\"showbackground\":true,\"ticks\":\"\",\"zerolinecolor\":\"white\",\"gridwidth\":2}},\"shapedefaults\":{\"line\":{\"color\":\"#2a3f5f\"}},\"annotationdefaults\":{\"arrowcolor\":\"#2a3f5f\",\"arrowhead\":0,\"arrowwidth\":1},\"geo\":{\"bgcolor\":\"white\",\"landcolor\":\"#E5ECF6\",\"subunitcolor\":\"white\",\"showland\":true,\"showlakes\":true,\"lakecolor\":\"white\"},\"title\":{\"x\":0.05},\"mapbox\":{\"style\":\"light\"}}},\"yaxis\":{\"tickfont\":{\"color\":\"white\",\"size\":24},\"showgrid\":false,\"zeroline\":false,\"title\":{\"text\":\"Player\"}},\"xaxis\":{\"tickfont\":{\"color\":\"white\",\"size\":24},\"showgrid\":false,\"zeroline\":false,\"title\":{\"text\":\"Minute\"}},\"title\":{\"text\":\"Denver Nuggets 2023\",\"x\":0.5},\"font\":{\"color\":\"white\",\"size\":30},\"plot_bgcolor\":\"#161415\",\"paper_bgcolor\":\"#211a1d\",\"width\":1800,\"height\":1200},                        {\"responsive\": true}                    ).then(function(){\n",
       "                            \n",
       "var gd = document.getElementById('3d83b483-3d03-4cf2-9eeb-ed9cdd9f7666');\n",
       "var x = new MutationObserver(function (mutations, observer) {{\n",
       "        var display = window.getComputedStyle(gd).display;\n",
       "        if (!display || display === 'none') {{\n",
       "            console.log([gd, 'removed!']);\n",
       "            Plotly.purge(gd);\n",
       "            observer.disconnect();\n",
       "        }}\n",
       "}});\n",
       "\n",
       "// Listen for the removal of the full notebook cells\n",
       "var notebookContainer = gd.closest('#notebook-container');\n",
       "if (notebookContainer) {{\n",
       "    x.observe(notebookContainer, {childList: true});\n",
       "}}\n",
       "\n",
       "// Listen for the clearing of the current output cell\n",
       "var outputEl = gd.closest('.output');\n",
       "if (outputEl) {{\n",
       "    x.observe(outputEl, {childList: true});\n",
       "}}\n",
       "\n",
       "                        })                };                });            </script>        </div>"
      ]
     },
     "metadata": {},
     "output_type": "display_data"
    }
   ],
   "source": [
    "import matplotlib.pyplot as plt\n",
    "import numpy as np\n",
    "import pandas as pd\n",
    "from nba_api.stats.static import players,teams\n",
    "import plotly.graph_objects as go\n",
    "import time\n",
    "\n",
    "def update_matrices(row):\n",
    "\n",
    "    player = row['Player']\n",
    "    start_minute = row['start']\n",
    "    end_minute = row['end']\n",
    "    plus_minus = row['PT_DIFF']\n",
    "\n",
    "    # Increment the matrix based on player on-court times\n",
    "    minutes_played_matrix.loc[player, start_minute:end_minute] += 1\n",
    "\n",
    "    # Increment the plus_minus_matrix based on player on-court times\n",
    "    plus_minus_matrix.loc[player, start_minute:end_minute] += plus_minus\n",
    "\n",
    "def graph_rotation(team,year):\n",
    "\n",
    "    team = team.upper()\n",
    "\n",
    "    nba_teams = teams.get_teams()\n",
    "    team_list= {}\n",
    "    full_name = {}\n",
    "    for org in nba_teams:\n",
    "        team_list[org['abbreviation']] = org['id']\n",
    "        full_name[org['abbreviation']] = org['full_name']\n",
    "    \n",
    "    \n",
    "\n",
    "\n",
    "    team_id = team_list[team]\n",
    "    url='https://raw.githubusercontent.com/gabriel1200/shot_data/master/rotations/'+str(year)+'/'+str(team_id)+'.csv'\n",
    "    title = full_name[team]+ ' '+str(year)\n",
    "    df = pd.read_csv(url)\n",
    "    # Convert the times to seconds\n",
    "    df['start'] = df['IN_TIME_REAL']\n",
    "    df['end'] = df['OUT_TIME_REAL']\n",
    "    df['Player'] = df['PLAYER_FIRST']+' '+df['PLAYER_LAST'].str.split('-').str[0]\n",
    "    df['start'] /=600\n",
    "    df['end']/=600\n",
    "\n",
    "    df =df.drop_duplicates()\n",
    "    max_end_minute =int( df['end'].max())\n",
    "    #max_end_minute=48\n",
    "    players = df['Player'].unique()\n",
    "\n",
    "    # Use pd.cut to create intervals and groupby to perform the summation\n",
    "\n",
    "    # Print or use the result as needed\n",
    "    #print(test_matrix)\n",
    "    # Create an empty matrix to represent player minutes played\n",
    "\n",
    "    #start_time1 = time.time()\n",
    "    \n",
    "    minutes_played_matrix=  pd.DataFrame(index=players, columns=[i for i in range(max_end_minute + 1)], data=0)\n",
    "    \n",
    "    plus_minus_matrix=  pd.DataFrame(index=players, columns=[i for i in range(max_end_minute + 1)], data=0)\n",
    "\n",
    "\n",
    "    #plus_minus_matrix=  pd.DataFrame(index=players, columns=[i for i in range(max_end_minute + 1)], data=0)\n",
    "    #df['interval'] = df.apply(lambda row: pd.Interval(row['start'], row['end'], closed='right'), axis=1)\n",
    "    #df.apply(update_matrices, axis=1)\n",
    "    #print(minutes_played_matrix)\n",
    "    #end_time1 = time.time()\n",
    "\n",
    "    #df['interval'] = df.apply(lambda row: pd.interval_range(row['start'], row['end'], freq=1), axis=1)\n",
    "\n",
    "    # Increment the matrix based on player on-court times\n",
    "    #minutes_played_matrix = df.groupby(['Player', 'interval']).size().unstack(fill_value=0).cumsum(axis=1)\n",
    "\n",
    "    # Increment the plus_minus_matrix based on player on-court times\n",
    "    #plus_minus_matrix = df.groupby(['Player', 'interval'])['PT_DIFF'].sum().unstack(fill_value=0).cumsum(axis=1)\n",
    "    #print(minutes_played_matrix)\n",
    "\n",
    "\n",
    "    # Increment the matrix based on player on-court times\n",
    "\n",
    "    for _, row in df.iterrows():\n",
    "        player = row['Player']\n",
    "        start_minute = row['start']\n",
    "        end_minute = row['end']\n",
    "        plus_minus = row['PT_DIFF']\n",
    "\n",
    "        minutes_played_matrix.loc[player, start_minute:end_minute] += 1\n",
    "        plus_minus_matrix.loc[player, start_minute:end_minute] += plus_minus\n",
    "    #minutes_played_matrix = minutes_played_matrix[[i for i in range(0,49)]]\n",
    "    #plus_minus_matrix = plus_minus_matrix[[i for i in range(0,49)]]\n",
    "    #print(minutes_played_matrix)\n",
    "    #test_matrix=plus_minus_matrix / minutes_played_matrix\n",
    "\n",
    "\n",
    "\n",
    "    #print(f\"Execution time For Loop: {end_time1 - start_time1} seconds\")\n",
    "    #print(f\"Execution time Apply: {end_time2 - start_time2} seconds\")\n",
    "\n",
    "    #print(test_matrix.sum())\n",
    "    #eam_plus = plus_minus_matrix.sum(axis=0) / minutes_played_matrix.sum(axis=0)\n",
    "    #print(team_plus.sum().sum())\n",
    "    #print(test_matrix.sum().sum())\n",
    "    #print(team_plus)\n",
    "    #print(team_plus)\n",
    "    minutes_played_matrix['total']= minutes_played_matrix.iloc[:].sum(axis=1)\n",
    "    minutes_played_matrix.sort_values(by='total',inplace=True,ascending=True)\n",
    "    minutes_played_matrix=minutes_played_matrix[minutes_played_matrix['total']>300]\n",
    "    #print(minutes_played_matrix['total'])\n",
    "    #minutes_played_matrix.drop(columns='total',inplace=True)\n",
    "    \n",
    "    #print(plus_minus_matrix.iloc[0].sum())\n",
    "\n",
    "    # Create the heatmap\n",
    "    #minutes_played_matrix.sort_index(axis=22,inplace=True)\n",
    "    minutes_played_matrix = minutes_played_matrix[[i for i in range(0,48)]]\n",
    "    fig = go.Figure(data=go.Heatmap(z=minutes_played_matrix.values,\n",
    "                                    x=minutes_played_matrix.columns,\n",
    "                                    y=minutes_played_matrix.index,\n",
    "                                    xgap=10,\n",
    "                                    ygap=15,\n",
    "                                    type='heatmap',\n",
    "                                    colorscale='viridis_r',\n",
    "                                     colorbar=dict(\n",
    "                title=\"% Played\")\n",
    "\n",
    "\n",
    "            ))\n",
    "    fig.update_yaxes(tickfont=dict(color='white',size = 24),showgrid=False,zeroline=False)\n",
    "    fig.update_xaxes(tickfont=dict(color='white',size = 24),showgrid=False,zeroline=False)\n",
    "    # Customize the layout\n",
    "    fig.update_layout(title=title,\n",
    "                      title_x=.5,\n",
    "                          plot_bgcolor='#161415',\n",
    "                          paper_bgcolor='#211a1d',\n",
    "\n",
    "                      width=1800,\n",
    "                      height=1200,\n",
    "                      font=dict(color='white',size = 30),\n",
    "                      xaxis_title='Minute',\n",
    "                      yaxis_title='Player')\n",
    "    del minutes_played_matrix\n",
    "    del plus_minus_matrix\n",
    "    # Show the plot\n",
    "    return fig\n",
    "fig = graph_rotation('den',2023)\n",
    "fig.show()\n",
    "\n"
   ]
  },
  {
   "cell_type": "code",
   "execution_count": 29,
   "id": "763f9668-373c-4fe3-b8ef-838b26fb5298",
   "metadata": {},
   "outputs": [
    {
     "name": "stdout",
     "output_type": "stream",
     "text": [
      "    Minute  PT_DIFF\n",
      "0        0  13345.0\n",
      "1        1  13345.0\n",
      "2        2  13345.0\n",
      "3        3  13345.0\n",
      "4        4  13345.0\n",
      "5        5  13345.0\n",
      "6        6  13345.0\n",
      "7        7  13345.0\n",
      "8        8  13345.0\n",
      "9        9  13345.0\n",
      "10      10  13345.0\n",
      "11      11  13345.0\n",
      "12      12  13345.0\n",
      "13      13  13345.0\n",
      "14      14  13345.0\n",
      "15      15  13345.0\n",
      "16      16  13345.0\n",
      "17      17  13345.0\n",
      "18      18  13345.0\n",
      "19      19  13345.0\n",
      "20      20  13345.0\n",
      "21      21  13345.0\n",
      "22      22  13345.0\n",
      "23      23  13345.0\n",
      "24      24  13345.0\n",
      "25      25  13345.0\n",
      "26      26  13345.0\n",
      "27      27  13345.0\n",
      "28      28  13345.0\n",
      "29      29  13345.0\n",
      "30      30  13345.0\n",
      "31      31  13345.0\n",
      "32      32  13345.0\n",
      "33      33  13345.0\n",
      "34      34  13345.0\n",
      "35      35  13345.0\n",
      "36      36  13345.0\n",
      "37      37  13345.0\n",
      "38      38  13345.0\n",
      "39      39  13345.0\n",
      "40      40  13345.0\n",
      "41      41  13345.0\n",
      "42      42  13345.0\n",
      "43      43  13345.0\n",
      "44      44  13345.0\n",
      "45      45  13345.0\n",
      "46      46  13345.0\n",
      "47      47  13345.0\n",
      "48      48   -380.0\n",
      "49      49   -380.0\n",
      "50      50   -380.0\n",
      "51      51   -380.0\n",
      "52      52   -380.0\n",
      "53      53    -50.0\n",
      "54      54    -50.0\n",
      "55      55    -50.0\n",
      "56      56    -50.0\n",
      "57      57    -50.0\n"
     ]
    }
   ],
   "source": [
    "team = 'bos'\n",
    "year = 2023\n",
    "team = team.upper()\n",
    "\n",
    "nba_teams = teams.get_teams()\n",
    "team_list= {}\n",
    "full_name = {}\n",
    "for org in nba_teams:\n",
    "    team_list[org['abbreviation']] = org['id']\n",
    "    full_name[org['abbreviation']] = org['full_name']\n",
    "\n",
    "\n",
    "\n",
    "\n",
    "team_id = team_list[team]\n",
    "url='https://raw.githubusercontent.com/gabriel1200/shot_data/master/rotations/'+str(year)+'/'+str(team_id)+'.csv'\n",
    "\n",
    "\n",
    "df = pd.read_csv(url)\n",
    "df['start'] = df['IN_TIME_REAL']\n",
    "df['end'] = df['OUT_TIME_REAL']\n",
    "df['Player'] = df['PLAYER_FIRST']+' '+df['PLAYER_LAST'].str.split('-').str[0]\n",
    "df['start'] /=600\n",
    "df['end']/=600\n",
    "\n",
    "\n",
    "# Create a DataFrame to represent each minute played by each player in each game\n",
    "minutes_df = pd.concat([pd.Series(row['GAME_ID'], range(int(row['start']), int(row['end']))) for _, row in df.iterrows()])\n",
    "\n",
    "# Merge with the original DataFrame to get the point differential for each minute\n",
    "minutes_df = minutes_df.reset_index().rename(columns={'index': 'Minute', 0: 'GAME_ID'})\n",
    "merged_df = pd.merge(minutes_df, df[['GAME_ID', 'TEAM_ID', 'PT_DIFF']], on=['GAME_ID'])\n",
    "\n",
    "# Calculate the total point differential for each minute played\n",
    "total_diff_per_minute = merged_df.groupby(['TEAM_ID', 'Minute'])['PT_DIFF'].sum().reset_index()\n",
    "\n",
    "# Calculate the average point differential for each minute throughout the season\n",
    "average_diff_per_minute = total_diff_per_minute.groupby('Minute')['PT_DIFF'].mean().reset_index()\n",
    "\n",
    "# Print the result\n",
    "print(average_diff_per_minute)"
   ]
  },
  {
   "cell_type": "code",
   "execution_count": null,
   "id": "9f116c2d-b669-4b2f-b6f2-dd5766170062",
   "metadata": {},
   "outputs": [],
   "source": []
  },
  {
   "cell_type": "code",
   "execution_count": null,
   "id": "879d3637-e2b8-4b60-84f9-24f73d17fbf6",
   "metadata": {},
   "outputs": [],
   "source": []
  }
 ],
 "metadata": {
  "kernelspec": {
   "display_name": "Python 3 (ipykernel)",
   "language": "python",
   "name": "python3"
  },
  "language_info": {
   "codemirror_mode": {
    "name": "ipython",
    "version": 3
   },
   "file_extension": ".py",
   "mimetype": "text/x-python",
   "name": "python",
   "nbconvert_exporter": "python",
   "pygments_lexer": "ipython3",
   "version": "3.10.11"
  }
 },
 "nbformat": 4,
 "nbformat_minor": 5
}
