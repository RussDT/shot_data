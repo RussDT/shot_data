{
 "cells": [
  {
   "cell_type": "code",
   "execution_count": null,
   "id": "86a5d66b-93fb-4cff-9966-2fc0791eb922",
   "metadata": {},
   "outputs": [],
   "source": []
  }
 ],
 "metadata": {
  "kernelspec": {
   "display_name": "",
   "name": ""
  },
  "language_info": {
   "name": ""
  }
 },
 "nbformat": 4,
 "nbformat_minor": 5
}
