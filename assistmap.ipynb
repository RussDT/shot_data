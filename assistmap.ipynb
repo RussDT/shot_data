{
 "cells": [
  {
   "cell_type": "code",
   "execution_count": null,
   "id": "517b0e66-fa03-47ab-9a45-9da18324df49",
   "metadata": {},
   "outputs": [],
   "source": [
    "import pandas as pd\n",
    "def get_table(url):\n",
    "    url\n",
    "    json = requests.get(url,headers = headers).json()\n",
    "    data = json[\"resultSets\"][0][\"rowSet\"]\n",
    "            \n",
    "    columns = json[\"resultSets\"][0][\"headers\"]\n",
    "team_id = \"1610612737\"\n",
    "url_base2=\"https://stats.nba.com/stats/assisttracker?College=&Conference=&Country=&DateFrom=&DateTo=&Division=&DraftPick=&DraftYear=&GameScope=&Height=&LastNGames=&LeagueID=&Location=&Month=&OpponentTeamID=\"+team_id+\"&Outcome=&PORound=&PerMode=&PlayerExperience=&PlayerPosition=&Season=&SeasonSegment=&SeasonType=&StarterBench=&TeamID=&VsConference=&VsDivision=&Weight=\""
   ]
  }
 ],
 "metadata": {
  "kernelspec": {
   "display_name": "Python 3 (ipykernel)",
   "language": "python",
   "name": "python3"
  },
  "language_info": {
   "codemirror_mode": {
    "name": "ipython",
    "version": 3
   },
   "file_extension": ".py",
   "mimetype": "text/x-python",
   "name": "python",
   "nbconvert_exporter": "python",
   "pygments_lexer": "ipython3",
   "version": "3.10.12"
  }
 },
 "nbformat": 4,
 "nbformat_minor": 5
}
