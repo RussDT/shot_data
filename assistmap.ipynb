{
 "cells": [
  {
   "cell_type": "code",
   "execution_count": 9,
   "id": "517b0e66-fa03-47ab-9a45-9da18324df49",
   "metadata": {},
   "outputs": [],
   "source": [
    "import pandas as pd\n",
    "import requests\n",
    "def pull_data(url):\n",
    "    headers = {\n",
    "                                    \"Host\": \"stats.nba.com\",\n",
    "                                    \"User-Agent\": \"Mozilla/5.0 (Windows NT 10.0; Win64; x64; rv:72.0) Gecko/20100101 Firefox/72.0\",\n",
    "                                    \"Accept\": \"application/json, text/plain, */*\",\n",
    "                                    \"Accept-Language\": \"en-US,en;q=0.5\",\n",
    "                                    \"Accept-Encoding\": \"gzip, deflate, br\",\n",
    "\n",
    "                                    \"Connection\": \"keep-alive\",\n",
    "                                    \"Referer\": \"https://stats.nba.com/\"\n",
    "                                }\n",
    "    \n",
    "    json = requests.get(url,headers = headers).json()\n",
    "    print(json)\n",
    "    data = json[\"resultSets\"][0][\"rowSet\"]\n",
    "    columns = json[\"resultSets\"][0][\"headers\"]\n",
    "    df = pd.DataFrame.from_records(data, columns=columns)\n",
    "    return df\n",
    "\n",
    "team_id = \"1610612737\"\n",
    "url_base2=\"https://stats.nba.com/stats/assisttracker?College=&Conference=&Country=&DateFrom=&DateTo=&Division=&DraftPick=&DraftYear=&GameScope=&Height=&LastNGames=&LeagueID=&Location=&Month=&OpponentTeamID=\"+team_id+\"&Outcome=&PORound=&PerMode=&PlayerExperience=&PlayerPosition=&Season=&SeasonSegment=&SeasonType=&StarterBench=&TeamID=&VsConference=&VsDivision=&Weight=\""
   ]
  },
  {
   "cell_type": "code",
   "execution_count": 10,
   "id": "4f5f729b-0a24-4936-94d8-02bd88530eef",
   "metadata": {},
   "outputs": [
    {
     "name": "stdout",
     "output_type": "stream",
     "text": [
      "{'resource': 'assisttracker', 'parameters': {'PerMode': None, 'LeagueID': None, 'Season': None, 'SeasonType': None, 'PORound': None, 'Outcome': None, 'Location': None, 'Month': None, 'SeasonSegment': None, 'DateFrom': None, 'DateTo': None, 'OpponentTeamID': 1610612737, 'VsConference': None, 'VsDivision': None, 'TeamID': None, 'Conference': None, 'Division': None, 'LastNGames': None, 'GameScope': None, 'PlayerExperience': None, 'PlayerPosition': None, 'StarterBench': None, 'DraftYear': None, 'DraftPick': None, 'College': None, 'Country': None, 'Height': None, 'Weight': None}, 'resultSets': [{'name': 'AssistTracker', 'headers': ['ASSISTS'], 'rowSet': [[2271]]}]}\n"
     ]
    },
    {
     "data": {
      "text/html": [
       "<div>\n",
       "<style scoped>\n",
       "    .dataframe tbody tr th:only-of-type {\n",
       "        vertical-align: middle;\n",
       "    }\n",
       "\n",
       "    .dataframe tbody tr th {\n",
       "        vertical-align: top;\n",
       "    }\n",
       "\n",
       "    .dataframe thead th {\n",
       "        text-align: right;\n",
       "    }\n",
       "</style>\n",
       "<table border=\"1\" class=\"dataframe\">\n",
       "  <thead>\n",
       "    <tr style=\"text-align: right;\">\n",
       "      <th></th>\n",
       "      <th>ASSISTS</th>\n",
       "    </tr>\n",
       "  </thead>\n",
       "  <tbody>\n",
       "    <tr>\n",
       "      <th>0</th>\n",
       "      <td>2271</td>\n",
       "    </tr>\n",
       "  </tbody>\n",
       "</table>\n",
       "</div>"
      ],
      "text/plain": [
       "   ASSISTS\n",
       "0     2271"
      ]
     },
     "execution_count": 10,
     "metadata": {},
     "output_type": "execute_result"
    }
   ],
   "source": [
    "df = pull_data(url_base2)\n",
    "df"
   ]
  },
  {
   "cell_type": "code",
   "execution_count": null,
   "id": "41c6c145-1333-4a55-90c9-35a893f45f26",
   "metadata": {},
   "outputs": [],
   "source": []
  }
 ],
 "metadata": {
  "kernelspec": {
   "display_name": "Python 3 (ipykernel)",
   "language": "python",
   "name": "python3"
  },
  "language_info": {
   "codemirror_mode": {
    "name": "ipython",
    "version": 3
   },
   "file_extension": ".py",
   "mimetype": "text/x-python",
   "name": "python",
   "nbconvert_exporter": "python",
   "pygments_lexer": "ipython3",
   "version": "3.10.12"
  }
 },
 "nbformat": 4,
 "nbformat_minor": 5
}
